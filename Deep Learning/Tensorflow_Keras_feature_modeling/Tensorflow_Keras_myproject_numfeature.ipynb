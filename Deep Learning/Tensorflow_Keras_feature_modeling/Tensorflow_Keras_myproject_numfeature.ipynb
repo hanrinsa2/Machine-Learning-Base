{
 "cells": [
  {
   "cell_type": "code",
   "execution_count": 1,
   "metadata": {},
   "outputs": [],
   "source": [
    "import os, shutil\n",
    "\n",
    "base_dir = '정규화원본'\n",
    "\n",
    "\n",
    "train_dir = os.path.join(base_dir, 'train')\n",
    "validation_dir = os.path.join(base_dir, 'validation')\n",
    "test_dir = os.path.join(base_dir, 'test')\n",
    "\n",
    "\n",
    "train_0_dir = os.path.join(train_dir, '0')\n",
    "train_1_dir = os.path.join(train_dir, '1')\n",
    "train_2_dir = os.path.join(train_dir, '2')\n",
    "train_3_dir = os.path.join(train_dir, '3')\n",
    "train_4_dir = os.path.join(train_dir, '4')\n",
    "train_5_dir = os.path.join(train_dir, '5')\n",
    "train_6_dir = os.path.join(train_dir, '6')\n",
    "train_7_dir = os.path.join(train_dir, '7')\n",
    "train_8_dir = os.path.join(train_dir, '8')\n",
    "train_9_dir = os.path.join(train_dir, '9')\n",
    "\n",
    "\n",
    "validation_0_dir = os.path.join(validation_dir, '0')\n",
    "validation_1_dir = os.path.join(validation_dir, '1')\n",
    "validation_2_dir = os.path.join(validation_dir, '2')\n",
    "validation_3_dir = os.path.join(validation_dir, '3')\n",
    "validation_4_dir = os.path.join(validation_dir, '4')\n",
    "validation_5_dir = os.path.join(validation_dir, '5')\n",
    "validation_6_dir = os.path.join(validation_dir, '6')\n",
    "validation_7_dir = os.path.join(validation_dir, '7')\n",
    "validation_8_dir = os.path.join(validation_dir, '8')\n",
    "validation_9_dir = os.path.join(validation_dir, '9')\n",
    "\n",
    "\n",
    "test_0_dir = os.path.join(test_dir, '0')\n",
    "test_1_dir = os.path.join(test_dir, '1')\n",
    "test_2_dir = os.path.join(test_dir, '2')\n",
    "test_3_dir = os.path.join(test_dir, '3')\n",
    "test_4_dir = os.path.join(test_dir, '4')\n",
    "test_5_dir = os.path.join(test_dir, '5')\n",
    "test_6_dir = os.path.join(test_dir, '6')\n",
    "test_7_dir = os.path.join(test_dir, '7')\n",
    "test_8_dir = os.path.join(test_dir, '8')\n",
    "test_9_dir = os.path.join(test_dir, '9')"
   ]
  },
  {
   "cell_type": "code",
   "execution_count": 2,
   "metadata": {},
   "outputs": [
    {
     "name": "stdout",
     "output_type": "stream",
     "text": [
      "훈련용 0 이미지 전체 개수 :  5000\n",
      "검증용 0 이미지 전체 개수 :  1600\n",
      "테스트용 0 이미지 전체 개수 :  2300\n"
     ]
    }
   ],
   "source": [
    "print('훈련용 0 이미지 전체 개수 : ', len(os.listdir(train_0_dir)))\n",
    "\n",
    "print('검증용 0 이미지 전체 개수 : ', len(os.listdir(validation_0_dir)))\n",
    "\n",
    "print('테스트용 0 이미지 전체 개수 : ', len(os.listdir(test_0_dir)))\n"
   ]
  },
  {
   "cell_type": "code",
   "execution_count": 4,
   "metadata": {},
   "outputs": [
    {
     "name": "stderr",
     "output_type": "stream",
     "text": [
      "W1023 14:07:52.930699 19904 deprecation_wrapper.py:119] From C:\\Users\\SH\\Anaconda3\\envs\\AI\\lib\\site-packages\\keras-2.2.5-py3.7.egg\\keras\\backend\\tensorflow_backend.py:149: The name tf.placeholder_with_default is deprecated. Please use tf.compat.v1.placeholder_with_default instead.\n",
      "\n",
      "W1023 14:07:52.942667 19904 deprecation.py:506] From C:\\Users\\SH\\Anaconda3\\envs\\AI\\lib\\site-packages\\keras-2.2.5-py3.7.egg\\keras\\backend\\tensorflow_backend.py:3740: calling dropout (from tensorflow.python.ops.nn_ops) with keep_prob is deprecated and will be removed in a future version.\n",
      "Instructions for updating:\n",
      "Please use `rate` instead of `keep_prob`. Rate should be set to `rate = 1 - keep_prob`.\n"
     ]
    }
   ],
   "source": [
    "from keras import layers\n",
    "from keras import models\n",
    "from keras.layers import Dropout\n",
    "model = models.Sequential()\n",
    "model.add(layers.Conv2D(32,(3,3), activation='relu',\n",
    "                       input_shape=(50,50,3)))\n",
    "#model.add(layers.MaxPooling2D((2,2)))\n",
    "model.add(layers.Conv2D(32,(3,3),activation='relu'))\n",
    "model.add(layers.MaxPooling2D((2,2)))\n",
    "model.add(Dropout(0.25))\n",
    "# model.add(layers.Conv2D(128,(3,3),activation='relu'))\n",
    "# model.add(layers.MaxPooling2D((2,2)))\n",
    "# model.add(layers.Conv2D(128,(3,3),activation='relu'))\n",
    "# model.add(layers.MaxPooling2D((2,2)))\n",
    "model.add(layers.Flatten())\n",
    "model.add(layers.Dense(128,activation='relu'))\n",
    "model.add(layers.Dense(10,activation='softmax'))"
   ]
  },
  {
   "cell_type": "code",
   "execution_count": 5,
   "metadata": {},
   "outputs": [
    {
     "name": "stderr",
     "output_type": "stream",
     "text": [
      "W1023 14:07:59.150588 19904 deprecation_wrapper.py:119] From C:\\Users\\SH\\Anaconda3\\envs\\AI\\lib\\site-packages\\keras-2.2.5-py3.7.egg\\keras\\optimizers.py:793: The name tf.train.Optimizer is deprecated. Please use tf.compat.v1.train.Optimizer instead.\n",
      "\n",
      "W1023 14:07:59.208432 19904 deprecation_wrapper.py:119] From C:\\Users\\SH\\Anaconda3\\envs\\AI\\lib\\site-packages\\keras-2.2.5-py3.7.egg\\keras\\backend\\tensorflow_backend.py:3583: The name tf.log is deprecated. Please use tf.math.log instead.\n",
      "\n"
     ]
    }
   ],
   "source": [
    "from keras import optimizers\n",
    "\n",
    "model.compile(loss='categorical_crossentropy',\n",
    "             optimizer='adam',\n",
    "             metrics=['acc'])\n"
   ]
  },
  {
   "cell_type": "code",
   "execution_count": 6,
   "metadata": {},
   "outputs": [
    {
     "name": "stdout",
     "output_type": "stream",
     "text": [
      "Found 50000 images belonging to 10 classes.\n",
      "Found 16000 images belonging to 10 classes.\n"
     ]
    }
   ],
   "source": [
    "from keras.preprocessing.image import ImageDataGenerator\n",
    "\n",
    "train_datagen = ImageDataGenerator(rescale=1./255)\n",
    "test_datagen = ImageDataGenerator(rescale=1./255)\n",
    "\n",
    "train_generator = train_datagen.flow_from_directory(train_dir, #타깃 디렉터리\n",
    "                                                    target_size=(50,50), #모든 이미지 150X150으로 변경\n",
    "                                                    batch_size=32, #\n",
    "                                                    class_mode='categorical')\n",
    "\n",
    "validation_generator = test_datagen.flow_from_directory(validation_dir, target_size=(50,50),batch_size=32, class_mode='categorical')"
   ]
  },
  {
   "cell_type": "code",
   "execution_count": 7,
   "metadata": {
    "scrolled": false
   },
   "outputs": [
    {
     "name": "stderr",
     "output_type": "stream",
     "text": [
      "W1023 14:10:54.640042 19904 deprecation.py:323] From C:\\Users\\SH\\Anaconda3\\envs\\AI\\lib\\site-packages\\tensorflow\\python\\ops\\math_grad.py:1250: add_dispatch_support.<locals>.wrapper (from tensorflow.python.ops.array_ops) is deprecated and will be removed in a future version.\n",
      "Instructions for updating:\n",
      "Use tf.where in 2.0, which has the same broadcast rule as np.where\n"
     ]
    },
    {
     "name": "stdout",
     "output_type": "stream",
     "text": [
      "Epoch 1/100\n",
      "50/50 [==============================] - 10s 199ms/step - loss: 2.3834 - acc: 0.1244 - val_loss: 2.2848 - val_acc: 0.0800\n",
      "Epoch 2/100\n",
      "50/50 [==============================] - 4s 72ms/step - loss: 2.0646 - acc: 0.3412 - val_loss: 1.8476 - val_acc: 0.3975\n",
      "Epoch 3/100\n",
      "50/50 [==============================] - 4s 73ms/step - loss: 1.3005 - acc: 0.6325 - val_loss: 1.2315 - val_acc: 0.5763\n",
      "Epoch 4/100\n",
      "50/50 [==============================] - 4s 73ms/step - loss: 0.8894 - acc: 0.7256 - val_loss: 1.0766 - val_acc: 0.6775\n",
      "Epoch 5/100\n",
      "50/50 [==============================] - 4s 72ms/step - loss: 0.8717 - acc: 0.7488 - val_loss: 1.0270 - val_acc: 0.6587\n",
      "Epoch 6/100\n",
      "50/50 [==============================] - 4s 72ms/step - loss: 0.6776 - acc: 0.7869 - val_loss: 0.8748 - val_acc: 0.7350\n",
      "Epoch 7/100\n",
      "50/50 [==============================] - 4s 72ms/step - loss: 0.7155 - acc: 0.8037 - val_loss: 0.9742 - val_acc: 0.6837\n",
      "Epoch 8/100\n",
      "50/50 [==============================] - 4s 73ms/step - loss: 0.6211 - acc: 0.8119 - val_loss: 0.8037 - val_acc: 0.7650\n",
      "Epoch 9/100\n",
      "50/50 [==============================] - 4s 73ms/step - loss: 0.5461 - acc: 0.8481 - val_loss: 0.7115 - val_acc: 0.7650\n",
      "Epoch 10/100\n",
      "50/50 [==============================] - 4s 72ms/step - loss: 0.4737 - acc: 0.8644 - val_loss: 0.6439 - val_acc: 0.8050\n",
      "Epoch 11/100\n",
      "50/50 [==============================] - 4s 73ms/step - loss: 0.4219 - acc: 0.8806 - val_loss: 0.6861 - val_acc: 0.7887\n",
      "Epoch 12/100\n",
      "50/50 [==============================] - 4s 72ms/step - loss: 0.3904 - acc: 0.8794 - val_loss: 0.5709 - val_acc: 0.8175\n",
      "Epoch 13/100\n",
      "50/50 [==============================] - 4s 75ms/step - loss: 0.2985 - acc: 0.9137 - val_loss: 0.5565 - val_acc: 0.8225\n",
      "Epoch 14/100\n",
      "50/50 [==============================] - 4s 72ms/step - loss: 0.2252 - acc: 0.9306 - val_loss: 0.4293 - val_acc: 0.8725\n",
      "Epoch 15/100\n",
      "50/50 [==============================] - 4s 72ms/step - loss: 0.2650 - acc: 0.9237 - val_loss: 0.4259 - val_acc: 0.8650\n",
      "Epoch 16/100\n",
      "50/50 [==============================] - 4s 72ms/step - loss: 0.2337 - acc: 0.9344 - val_loss: 0.3804 - val_acc: 0.9000\n",
      "Epoch 17/100\n",
      "50/50 [==============================] - 4s 73ms/step - loss: 0.2491 - acc: 0.9313 - val_loss: 0.4613 - val_acc: 0.8638\n",
      "Epoch 18/100\n",
      "50/50 [==============================] - 4s 72ms/step - loss: 0.5433 - acc: 0.8563 - val_loss: 1.0316 - val_acc: 0.7375\n",
      "Epoch 19/100\n",
      "50/50 [==============================] - 4s 73ms/step - loss: 0.5279 - acc: 0.8631 - val_loss: 0.5068 - val_acc: 0.8512\n",
      "Epoch 20/100\n",
      "50/50 [==============================] - 4s 72ms/step - loss: 0.2828 - acc: 0.9231 - val_loss: 0.4292 - val_acc: 0.8700\n",
      "Epoch 21/100\n",
      "50/50 [==============================] - 4s 70ms/step - loss: 0.2240 - acc: 0.9369 - val_loss: 0.4040 - val_acc: 0.8812\n",
      "Epoch 22/100\n",
      "50/50 [==============================] - 4s 71ms/step - loss: 0.2279 - acc: 0.9269 - val_loss: 0.3614 - val_acc: 0.8925\n",
      "Epoch 23/100\n",
      "50/50 [==============================] - 4s 70ms/step - loss: 0.1940 - acc: 0.9431 - val_loss: 0.3797 - val_acc: 0.8850\n",
      "Epoch 24/100\n",
      "50/50 [==============================] - 4s 70ms/step - loss: 0.1975 - acc: 0.9419 - val_loss: 0.3463 - val_acc: 0.8800\n",
      "Epoch 25/100\n",
      "50/50 [==============================] - 4s 71ms/step - loss: 0.2093 - acc: 0.9475 - val_loss: 0.3527 - val_acc: 0.8875\n",
      "Epoch 26/100\n",
      "50/50 [==============================] - 3s 69ms/step - loss: 0.1912 - acc: 0.9400 - val_loss: 0.4165 - val_acc: 0.8938\n",
      "Epoch 27/100\n",
      "50/50 [==============================] - 4s 71ms/step - loss: 0.1755 - acc: 0.9481 - val_loss: 0.3591 - val_acc: 0.8800\n",
      "Epoch 28/100\n",
      "50/50 [==============================] - 4s 71ms/step - loss: 0.2137 - acc: 0.9437 - val_loss: 0.3141 - val_acc: 0.9038\n",
      "Epoch 29/100\n",
      "50/50 [==============================] - 4s 70ms/step - loss: 0.1691 - acc: 0.9506 - val_loss: 0.4361 - val_acc: 0.8838\n",
      "Epoch 30/100\n",
      "50/50 [==============================] - 4s 71ms/step - loss: 0.2260 - acc: 0.9331 - val_loss: 0.2138 - val_acc: 0.9350\n",
      "Epoch 31/100\n",
      "50/50 [==============================] - 4s 70ms/step - loss: 0.2620 - acc: 0.9206 - val_loss: 0.8511 - val_acc: 0.7163\n",
      "Epoch 32/100\n",
      "50/50 [==============================] - 4s 71ms/step - loss: 2.1975 - acc: 0.3806 - val_loss: 2.2341 - val_acc: 0.1525\n",
      "Epoch 33/100\n",
      "50/50 [==============================] - 4s 70ms/step - loss: 2.0550 - acc: 0.4306 - val_loss: 1.9049 - val_acc: 0.6250\n",
      "Epoch 34/100\n",
      "50/50 [==============================] - 4s 70ms/step - loss: 1.7026 - acc: 0.6012 - val_loss: 2.1348 - val_acc: 0.2700\n",
      "Epoch 35/100\n",
      "50/50 [==============================] - 4s 70ms/step - loss: 1.2146 - acc: 0.6981 - val_loss: 1.1051 - val_acc: 0.7225\n",
      "Epoch 36/100\n",
      "50/50 [==============================] - 4s 71ms/step - loss: 1.0238 - acc: 0.7225 - val_loss: 0.9908 - val_acc: 0.7250\n",
      "Epoch 37/100\n",
      "50/50 [==============================] - 4s 72ms/step - loss: 0.9131 - acc: 0.7362 - val_loss: 0.8662 - val_acc: 0.7262\n",
      "Epoch 38/100\n",
      "50/50 [==============================] - 4s 71ms/step - loss: 0.6335 - acc: 0.8144 - val_loss: 0.7527 - val_acc: 0.7775\n",
      "Epoch 39/100\n",
      "50/50 [==============================] - 4s 70ms/step - loss: 0.7951 - acc: 0.7725 - val_loss: 0.8116 - val_acc: 0.7700\n",
      "Epoch 40/100\n",
      "50/50 [==============================] - 4s 71ms/step - loss: 0.5716 - acc: 0.8381 - val_loss: 0.6441 - val_acc: 0.8075\n",
      "Epoch 41/100\n",
      "50/50 [==============================] - 4s 71ms/step - loss: 0.4933 - acc: 0.8569 - val_loss: 0.6363 - val_acc: 0.8100\n",
      "Epoch 42/100\n",
      "50/50 [==============================] - 4s 71ms/step - loss: 0.4743 - acc: 0.8600 - val_loss: 0.7411 - val_acc: 0.7612\n",
      "Epoch 43/100\n",
      "50/50 [==============================] - 4s 71ms/step - loss: 0.4792 - acc: 0.8531 - val_loss: 0.5802 - val_acc: 0.8175\n",
      "Epoch 44/100\n",
      "50/50 [==============================] - 4s 70ms/step - loss: 0.3712 - acc: 0.8900 - val_loss: 0.5580 - val_acc: 0.8350\n",
      "Epoch 45/100\n",
      "50/50 [==============================] - 4s 71ms/step - loss: 0.3228 - acc: 0.9000 - val_loss: 0.5195 - val_acc: 0.8512\n",
      "Epoch 46/100\n",
      "50/50 [==============================] - 4s 73ms/step - loss: 0.2854 - acc: 0.9119 - val_loss: 0.3893 - val_acc: 0.8988\n",
      "Epoch 47/100\n",
      "50/50 [==============================] - 4s 71ms/step - loss: 0.2739 - acc: 0.9231 - val_loss: 0.3597 - val_acc: 0.8925\n",
      "Epoch 48/100\n",
      "50/50 [==============================] - 4s 72ms/step - loss: 0.2267 - acc: 0.9325 - val_loss: 0.3739 - val_acc: 0.8750\n",
      "Epoch 49/100\n",
      "50/50 [==============================] - 4s 73ms/step - loss: 0.2316 - acc: 0.9212 - val_loss: 0.4105 - val_acc: 0.8838\n",
      "Epoch 50/100\n",
      "50/50 [==============================] - 4s 73ms/step - loss: 0.2528 - acc: 0.9294 - val_loss: 0.3234 - val_acc: 0.8950\n",
      "Epoch 51/100\n",
      "50/50 [==============================] - 4s 73ms/step - loss: 0.2407 - acc: 0.9331 - val_loss: 0.3463 - val_acc: 0.8962\n",
      "Epoch 52/100\n",
      "50/50 [==============================] - 4s 73ms/step - loss: 0.1979 - acc: 0.9356 - val_loss: 0.3460 - val_acc: 0.9000\n",
      "Epoch 53/100\n",
      "50/50 [==============================] - 4s 75ms/step - loss: 0.2197 - acc: 0.9294 - val_loss: 0.3948 - val_acc: 0.8900\n",
      "Epoch 54/100\n",
      "50/50 [==============================] - 4s 71ms/step - loss: 0.2142 - acc: 0.9375 - val_loss: 0.3844 - val_acc: 0.8850\n",
      "Epoch 55/100\n",
      "50/50 [==============================] - 4s 73ms/step - loss: 0.3441 - acc: 0.8912 - val_loss: 0.4785 - val_acc: 0.8625\n",
      "Epoch 56/100\n",
      "50/50 [==============================] - 4s 74ms/step - loss: 0.2515 - acc: 0.9244 - val_loss: 0.3899 - val_acc: 0.8762\n",
      "Epoch 57/100\n",
      "50/50 [==============================] - 4s 72ms/step - loss: 0.1889 - acc: 0.9456 - val_loss: 0.3813 - val_acc: 0.8838\n",
      "Epoch 58/100\n",
      "50/50 [==============================] - 4s 73ms/step - loss: 0.1717 - acc: 0.9475 - val_loss: 0.2963 - val_acc: 0.9125\n",
      "Epoch 59/100\n",
      "50/50 [==============================] - 4s 72ms/step - loss: 0.1994 - acc: 0.9431 - val_loss: 0.2692 - val_acc: 0.9125\n",
      "Epoch 60/100\n",
      "50/50 [==============================] - 4s 73ms/step - loss: 0.1788 - acc: 0.9506 - val_loss: 0.3735 - val_acc: 0.8950\n",
      "Epoch 61/100\n",
      "50/50 [==============================] - 4s 73ms/step - loss: 0.1926 - acc: 0.9456 - val_loss: 0.3333 - val_acc: 0.9050\n",
      "Epoch 62/100\n"
     ]
    },
    {
     "name": "stdout",
     "output_type": "stream",
     "text": [
      "50/50 [==============================] - 4s 72ms/step - loss: 0.1728 - acc: 0.9500 - val_loss: 0.3401 - val_acc: 0.9038\n",
      "Epoch 63/100\n",
      "50/50 [==============================] - 4s 72ms/step - loss: 0.1345 - acc: 0.9613 - val_loss: 0.3625 - val_acc: 0.8900\n",
      "Epoch 64/100\n",
      "50/50 [==============================] - 4s 71ms/step - loss: 0.1356 - acc: 0.9606 - val_loss: 0.2434 - val_acc: 0.9325\n",
      "Epoch 65/100\n",
      "50/50 [==============================] - 4s 72ms/step - loss: 0.1444 - acc: 0.9575 - val_loss: 0.3439 - val_acc: 0.9050\n",
      "Epoch 66/100\n",
      "50/50 [==============================] - 4s 71ms/step - loss: 0.1597 - acc: 0.9544 - val_loss: 0.3403 - val_acc: 0.8912\n",
      "Epoch 67/100\n",
      "50/50 [==============================] - 4s 72ms/step - loss: 0.1086 - acc: 0.9694 - val_loss: 0.3213 - val_acc: 0.9175\n",
      "Epoch 68/100\n",
      "50/50 [==============================] - 4s 71ms/step - loss: 0.1436 - acc: 0.9544 - val_loss: 0.2852 - val_acc: 0.9175\n",
      "Epoch 69/100\n",
      "50/50 [==============================] - 4s 77ms/step - loss: 0.0915 - acc: 0.9719 - val_loss: 0.3167 - val_acc: 0.9163\n",
      "Epoch 70/100\n",
      "50/50 [==============================] - 4s 74ms/step - loss: 0.1335 - acc: 0.9650 - val_loss: 0.2846 - val_acc: 0.9113\n",
      "Epoch 71/100\n",
      "50/50 [==============================] - 4s 72ms/step - loss: 0.1182 - acc: 0.9656 - val_loss: 0.3189 - val_acc: 0.9038\n",
      "Epoch 72/100\n",
      "50/50 [==============================] - 4s 72ms/step - loss: 0.1187 - acc: 0.9587 - val_loss: 0.2716 - val_acc: 0.9213\n",
      "Epoch 73/100\n",
      "50/50 [==============================] - 4s 71ms/step - loss: 0.1095 - acc: 0.9650 - val_loss: 0.3609 - val_acc: 0.8962\n",
      "Epoch 74/100\n",
      "50/50 [==============================] - 4s 72ms/step - loss: 0.0922 - acc: 0.9744 - val_loss: 0.2294 - val_acc: 0.9413\n",
      "Epoch 75/100\n",
      "50/50 [==============================] - 4s 73ms/step - loss: 0.0766 - acc: 0.9725 - val_loss: 0.3468 - val_acc: 0.9012\n",
      "Epoch 76/100\n",
      "50/50 [==============================] - 4s 71ms/step - loss: 0.1529 - acc: 0.9575 - val_loss: 0.2790 - val_acc: 0.9163\n",
      "Epoch 77/100\n",
      "50/50 [==============================] - 4s 72ms/step - loss: 0.1032 - acc: 0.9637 - val_loss: 0.2506 - val_acc: 0.9175\n",
      "Epoch 78/100\n",
      "50/50 [==============================] - 4s 71ms/step - loss: 0.1184 - acc: 0.9669 - val_loss: 0.2991 - val_acc: 0.9213\n",
      "Epoch 79/100\n",
      "50/50 [==============================] - 4s 71ms/step - loss: 0.1507 - acc: 0.9569 - val_loss: 0.2827 - val_acc: 0.9213\n",
      "Epoch 80/100\n",
      "50/50 [==============================] - 4s 71ms/step - loss: 0.1216 - acc: 0.9644 - val_loss: 0.2688 - val_acc: 0.9187\n",
      "Epoch 81/100\n",
      "50/50 [==============================] - 4s 72ms/step - loss: 0.1137 - acc: 0.9650 - val_loss: 0.2666 - val_acc: 0.9325\n",
      "Epoch 82/100\n",
      "50/50 [==============================] - 4s 71ms/step - loss: 0.1241 - acc: 0.9637 - val_loss: 0.2683 - val_acc: 0.9213\n",
      "Epoch 83/100\n",
      "50/50 [==============================] - 4s 71ms/step - loss: 0.0818 - acc: 0.9775 - val_loss: 0.3075 - val_acc: 0.9175\n",
      "Epoch 84/100\n",
      "50/50 [==============================] - 4s 71ms/step - loss: 0.1284 - acc: 0.9613 - val_loss: 0.2524 - val_acc: 0.9263\n",
      "Epoch 85/100\n",
      "50/50 [==============================] - 4s 71ms/step - loss: 0.1202 - acc: 0.9625 - val_loss: 0.2324 - val_acc: 0.9337\n",
      "Epoch 86/100\n",
      "50/50 [==============================] - 4s 71ms/step - loss: 0.0940 - acc: 0.9706 - val_loss: 0.3985 - val_acc: 0.8862\n",
      "Epoch 87/100\n",
      "50/50 [==============================] - 4s 72ms/step - loss: 0.1349 - acc: 0.9625 - val_loss: 0.2607 - val_acc: 0.9175\n",
      "Epoch 88/100\n",
      "50/50 [==============================] - 4s 73ms/step - loss: 0.1175 - acc: 0.9663 - val_loss: 0.3092 - val_acc: 0.9125\n",
      "Epoch 89/100\n",
      "50/50 [==============================] - 4s 71ms/step - loss: 0.1470 - acc: 0.9644 - val_loss: 0.2917 - val_acc: 0.9137\n",
      "Epoch 90/100\n",
      "50/50 [==============================] - 4s 72ms/step - loss: 0.1298 - acc: 0.9575 - val_loss: 0.2776 - val_acc: 0.9287\n",
      "Epoch 91/100\n",
      "50/50 [==============================] - 4s 71ms/step - loss: 0.1336 - acc: 0.9613 - val_loss: 0.2104 - val_acc: 0.9387\n",
      "Epoch 92/100\n",
      "50/50 [==============================] - 4s 72ms/step - loss: 0.1270 - acc: 0.9644 - val_loss: 0.2185 - val_acc: 0.9300\n",
      "Epoch 93/100\n",
      "50/50 [==============================] - 4s 73ms/step - loss: 0.1386 - acc: 0.9675 - val_loss: 0.2621 - val_acc: 0.9075\n",
      "Epoch 94/100\n",
      "50/50 [==============================] - 4s 72ms/step - loss: 0.1108 - acc: 0.9675 - val_loss: 0.2206 - val_acc: 0.9325\n",
      "Epoch 95/100\n",
      "50/50 [==============================] - 4s 71ms/step - loss: 0.0566 - acc: 0.9850 - val_loss: 0.2435 - val_acc: 0.9387\n",
      "Epoch 96/100\n",
      "50/50 [==============================] - 4s 73ms/step - loss: 0.0655 - acc: 0.9819 - val_loss: 0.2508 - val_acc: 0.9325\n",
      "Epoch 97/100\n",
      "50/50 [==============================] - 4s 74ms/step - loss: 0.0851 - acc: 0.9738 - val_loss: 0.2348 - val_acc: 0.9287\n",
      "Epoch 98/100\n",
      "50/50 [==============================] - 4s 73ms/step - loss: 0.0719 - acc: 0.9806 - val_loss: 0.2734 - val_acc: 0.9137\n",
      "Epoch 99/100\n",
      "50/50 [==============================] - 4s 71ms/step - loss: 0.0624 - acc: 0.9813 - val_loss: 0.3075 - val_acc: 0.9113\n",
      "Epoch 100/100\n",
      "50/50 [==============================] - 4s 72ms/step - loss: 0.0587 - acc: 0.9844 - val_loss: 0.2273 - val_acc: 0.9337\n"
     ]
    }
   ],
   "source": [
    "history = model.fit_generator(\n",
    "        train_generator,\n",
    "        steps_per_epoch=50,\n",
    "        epochs=100,\n",
    "        validation_data=validation_generator,\n",
    "        validation_steps=25)"
   ]
  },
  {
   "cell_type": "code",
   "execution_count": 8,
   "metadata": {},
   "outputs": [],
   "source": [
    "model.save('number_feature.h5')"
   ]
  },
  {
   "cell_type": "code",
   "execution_count": 9,
   "metadata": {},
   "outputs": [
    {
     "data": {
      "image/png": "[encoded data removed]",
      "text/plain": [
       "<Figure size 432x288 with 1 Axes>"
      ]
     },
     "metadata": {
      "needs_background": "light"
     },
     "output_type": "display_data"
    }
   ],
   "source": [
    "import matplotlib.pyplot as plt\n",
    "%matplotlib inline\n",
    "acc = history.history['acc']\n",
    "val_acc = history.history['val_acc']\n",
    "loss = history.history['loss']\n",
    "val_loss = history.history['val_loss']\n",
    "\n",
    "epochs = range(1, len(acc) + 1)\n",
    "\n",
    "plt.plot(epochs,loss,'bo',label='Training loss')\n",
    "plt.plot(epochs,val_loss,'b',label='Validation loss')\n",
    "plt.title('Training and validation loss')\n",
    "plt.legend()\n",
    "\n",
    "plt.show()"
   ]
  },
  {
   "cell_type": "code",
   "execution_count": 10,
   "metadata": {},
   "outputs": [
    {
     "data": {
      "image/png": "[encoded data removed]",
      "text/plain": [
       "<Figure size 432x288 with 1 Axes>"
      ]
     },
     "metadata": {
      "needs_background": "light"
     },
     "output_type": "display_data"
    }
   ],
   "source": [
    "acc = history.history['acc']\n",
    "val_acc = history.history['val_acc']\n",
    "loss = history.history['loss']\n",
    "val_loss = history.history['val_loss']\n",
    "\n",
    "epochs = range(1, len(acc) + 1)\n",
    "\n",
    "plt.plot(epochs,acc,'bo',label='Training acc')\n",
    "plt.plot(epochs,val_acc,'b',label='Validation acc')\n",
    "plt.title('Training and validation acc')\n",
    "plt.legend()\n",
    "\n",
    "plt.show()"
   ]
  },
  {
   "cell_type": "code",
   "execution_count": 15,
   "metadata": {},
   "outputs": [
    {
     "name": "stdout",
     "output_type": "stream",
     "text": [
      "[9]\n"
     ]
    },
    {
     "data": {
      "image/png": "[encoded data removed]",
      "text/plain": [
       "<Figure size 432x288 with 1 Axes>"
      ]
     },
     "metadata": {
      "needs_background": "light"
     },
     "output_type": "display_data"
    }
   ],
   "source": [
    "import glob\n",
    "from PIL import Image\n",
    "from keras.preprocessing import image\n",
    "import numpy as np\n",
    "import matplotlib.pyplot as plt\n",
    "%matplotlib inline\n",
    "\n",
    "from keras import backend as K\n",
    "from keras.models import load_model\n",
    "model = load_model('number_feature.h5')\n",
    "img_path='정규화원본/test/0/normalizationSF61527.bmp'\n",
    "img = image.load_img(img_path,target_size=(50,50))\n",
    "plt.imshow(img)\n",
    "\n",
    "x=image.img_to_array(img)\n",
    "x=np.expand_dims(x,axis=0)\n",
    "x=x/255.\n",
    "\n",
    "\n",
    "\n",
    "    \n",
    "prediction =model.predict_classes(x)\n",
    "#prediction =model.predict(x)\n",
    "print(prediction)\n",
    "#np.set_printoptions(formatter={'float': lambda x: \"{0:0.3f}\".format(x)})"
   ]
  },
  {
   "cell_type": "code",
   "execution_count": null,
   "metadata": {},
   "outputs": [],
   "source": [
    "layer_name = 'conv2d_12'\n",
    "size = 64\n",
    "margin = 5\n",
    "\n",
    "results=np.zeros((8*size + 7*margin, 8*size + 7*margin, 3),dtype='uint8')#결과를 담을 빈 이미지 \n",
    "\n",
    "for i in range(8): #행\n",
    "    for j in range(8): #열\n",
    "        filter_img = generate_pattern(layer_name, i+(j*8), size=size) #layer_name에 있는 i+(j*8)번째 필터에 대한 패턴을 생성\n",
    "        \n",
    "        horizontal_start = i*size + i*margin \n",
    "        horizontal_end = horizontal_start + size\n",
    "        vertical_start = j*size + j*margin\n",
    "        vertical_end = vertical_start + size\n",
    "        \n",
    "        results[horizontal_start : horizontal_end, vertical_start : vertical_end, :] = filter_img\n",
    "        \n",
    "plt.figure(figsize=(20, 20))\n",
    "plt.imshow(results)"
   ]
  },
  {
   "cell_type": "code",
   "execution_count": null,
   "metadata": {},
   "outputs": [],
   "source": [
    "#이미지의 어느 부분이 컨브넷의 최종분류 결정에 기여하였는지 이해하는데 유용\n",
    "#클래스 활성화 맵 CAM\n",
    "#특정 출력 클래스에 대해 입력 이미지의 모든 위치를 계산한 2D 점수 그리드 \n",
    "#클래스에 대해 각 위치가 얼마나 중요한지 알려줌\n",
    "#특성맵의 모든 채널 출력에 채널에 대한 클래스의 그래디언트 평균을 곱함\n",
    "#입력이미지가 각 채널을 활성화 하는 정도\n",
    "#클래스에 대한 각 채널의 중요도'\n",
    "#입력 이미지가 클래스를 활성화 하는 정도\n",
    "\n",
    "\n",
    "from keras import backend as K\n",
    "\n",
    "model = load_model('number_recog.h5')\n",
    "\n",
    "model.summary()"
   ]
  },
  {
   "cell_type": "code",
   "execution_count": 45,
   "metadata": {},
   "outputs": [],
   "source": [
    "from keras.preprocessing import image\n",
    "from keras.applications.vgg16 import preprocess_input, decode_predictions\n",
    "import numpy as np\n",
    "\n",
    "img_path = '원본/test/4/원본61301.jpg'\n",
    "\n",
    "img = image.load_img(img_path,target_size =(150,150))#224X224파이썬 이미징 라이브러리 객체로 변환 \n",
    "\n",
    "x = image.img_to_array(img) #(224,224,3) 크기의 넘파이로 변환\n",
    "\n",
    "x = np.expand_dims(x, axis=0)#차원을 추가하여 (1,224,224,3)크기의 배치로 배열을 변환\n",
    "x = preprocess_input(x) #데이터를 전처리함( 채널별 컬러 정규화 수행)"
   ]
  },
  {
   "cell_type": "code",
   "execution_count": 46,
   "metadata": {},
   "outputs": [
    {
     "ename": "ValueError",
     "evalue": "`decode_predictions` expects a batch of predictions (i.e. a 2D array of shape (samples, 1000)). Found array with shape: (1, 10)",
     "output_type": "error",
     "traceback": [
      "\u001b[1;31m---------------------------------------------------------------------------\u001b[0m",
      "\u001b[1;31mValueError\u001b[0m                                Traceback (most recent call last)",
      "\u001b[1;32m<ipython-input-46-0dc68f13e079>\u001b[0m in \u001b[0;36m<module>\u001b[1;34m\u001b[0m\n\u001b[0;32m      1\u001b[0m \u001b[0mpreds\u001b[0m \u001b[1;33m=\u001b[0m \u001b[0mmodel\u001b[0m\u001b[1;33m.\u001b[0m\u001b[0mpredict\u001b[0m\u001b[1;33m(\u001b[0m\u001b[0mx\u001b[0m\u001b[1;33m)\u001b[0m\u001b[1;33m\u001b[0m\u001b[1;33m\u001b[0m\u001b[0m\n\u001b[0;32m      2\u001b[0m \u001b[1;33m\u001b[0m\u001b[0m\n\u001b[1;32m----> 3\u001b[1;33m \u001b[0mprint\u001b[0m\u001b[1;33m(\u001b[0m\u001b[1;34m'Predicted : '\u001b[0m\u001b[1;33m,\u001b[0m \u001b[0mdecode_predictions\u001b[0m\u001b[1;33m(\u001b[0m\u001b[0mpreds\u001b[0m\u001b[1;33m,\u001b[0m \u001b[0mtop\u001b[0m\u001b[1;33m=\u001b[0m\u001b[1;36m3\u001b[0m\u001b[1;33m)\u001b[0m\u001b[1;33m[\u001b[0m\u001b[1;36m0\u001b[0m\u001b[1;33m]\u001b[0m\u001b[1;33m)\u001b[0m\u001b[1;33m\u001b[0m\u001b[1;33m\u001b[0m\u001b[0m\n\u001b[0m\u001b[0;32m      4\u001b[0m \u001b[1;31m#아프리카 코끼리(92.5%확률)\u001b[0m\u001b[1;33m\u001b[0m\u001b[1;33m\u001b[0m\u001b[1;33m\u001b[0m\u001b[0m\n\u001b[0;32m      5\u001b[0m \u001b[1;31m#코끼리(7%확률)\u001b[0m\u001b[1;33m\u001b[0m\u001b[1;33m\u001b[0m\u001b[1;33m\u001b[0m\u001b[0m\n",
      "\u001b[1;32m~\\Anaconda3\\envs\\AI\\lib\\site-packages\\keras-2.2.5-py3.7.egg\\keras\\applications\\__init__.py\u001b[0m in \u001b[0;36mwrapper\u001b[1;34m(*args, **kwargs)\u001b[0m\n\u001b[0;32m     18\u001b[0m         \u001b[0mkwargs\u001b[0m\u001b[1;33m[\u001b[0m\u001b[1;34m'models'\u001b[0m\u001b[1;33m]\u001b[0m \u001b[1;33m=\u001b[0m \u001b[0mmodels\u001b[0m\u001b[1;33m\u001b[0m\u001b[1;33m\u001b[0m\u001b[0m\n\u001b[0;32m     19\u001b[0m         \u001b[0mkwargs\u001b[0m\u001b[1;33m[\u001b[0m\u001b[1;34m'utils'\u001b[0m\u001b[1;33m]\u001b[0m \u001b[1;33m=\u001b[0m \u001b[0mutils\u001b[0m\u001b[1;33m\u001b[0m\u001b[1;33m\u001b[0m\u001b[0m\n\u001b[1;32m---> 20\u001b[1;33m         \u001b[1;32mreturn\u001b[0m \u001b[0mbase_fun\u001b[0m\u001b[1;33m(\u001b[0m\u001b[1;33m*\u001b[0m\u001b[0margs\u001b[0m\u001b[1;33m,\u001b[0m \u001b[1;33m**\u001b[0m\u001b[0mkwargs\u001b[0m\u001b[1;33m)\u001b[0m\u001b[1;33m\u001b[0m\u001b[1;33m\u001b[0m\u001b[0m\n\u001b[0m\u001b[0;32m     21\u001b[0m \u001b[1;33m\u001b[0m\u001b[0m\n\u001b[0;32m     22\u001b[0m     \u001b[1;32mreturn\u001b[0m \u001b[0mwrapper\u001b[0m\u001b[1;33m\u001b[0m\u001b[1;33m\u001b[0m\u001b[0m\n",
      "\u001b[1;32m~\\Anaconda3\\envs\\AI\\lib\\site-packages\\keras-2.2.5-py3.7.egg\\keras\\applications\\vgg16.py\u001b[0m in \u001b[0;36mdecode_predictions\u001b[1;34m(*args, **kwargs)\u001b[0m\n\u001b[0;32m     14\u001b[0m \u001b[1;33m@\u001b[0m\u001b[0mkeras_modules_injection\u001b[0m\u001b[1;33m\u001b[0m\u001b[1;33m\u001b[0m\u001b[0m\n\u001b[0;32m     15\u001b[0m \u001b[1;32mdef\u001b[0m \u001b[0mdecode_predictions\u001b[0m\u001b[1;33m(\u001b[0m\u001b[1;33m*\u001b[0m\u001b[0margs\u001b[0m\u001b[1;33m,\u001b[0m \u001b[1;33m**\u001b[0m\u001b[0mkwargs\u001b[0m\u001b[1;33m)\u001b[0m\u001b[1;33m:\u001b[0m\u001b[1;33m\u001b[0m\u001b[1;33m\u001b[0m\u001b[0m\n\u001b[1;32m---> 16\u001b[1;33m     \u001b[1;32mreturn\u001b[0m \u001b[0mvgg16\u001b[0m\u001b[1;33m.\u001b[0m\u001b[0mdecode_predictions\u001b[0m\u001b[1;33m(\u001b[0m\u001b[1;33m*\u001b[0m\u001b[0margs\u001b[0m\u001b[1;33m,\u001b[0m \u001b[1;33m**\u001b[0m\u001b[0mkwargs\u001b[0m\u001b[1;33m)\u001b[0m\u001b[1;33m\u001b[0m\u001b[1;33m\u001b[0m\u001b[0m\n\u001b[0m\u001b[0;32m     17\u001b[0m \u001b[1;33m\u001b[0m\u001b[0m\n\u001b[0;32m     18\u001b[0m \u001b[1;33m\u001b[0m\u001b[0m\n",
      "\u001b[1;32m~\\Anaconda3\\envs\\AI\\lib\\site-packages\\keras_applications\\imagenet_utils.py\u001b[0m in \u001b[0;36mdecode_predictions\u001b[1;34m(preds, top, **kwargs)\u001b[0m\n\u001b[0;32m    220\u001b[0m                          \u001b[1;34m'a batch of predictions '\u001b[0m\u001b[1;33m\u001b[0m\u001b[1;33m\u001b[0m\u001b[0m\n\u001b[0;32m    221\u001b[0m                          \u001b[1;34m'(i.e. a 2D array of shape (samples, 1000)). '\u001b[0m\u001b[1;33m\u001b[0m\u001b[1;33m\u001b[0m\u001b[0m\n\u001b[1;32m--> 222\u001b[1;33m                          'Found array with shape: ' + str(preds.shape))\n\u001b[0m\u001b[0;32m    223\u001b[0m     \u001b[1;32mif\u001b[0m \u001b[0mCLASS_INDEX\u001b[0m \u001b[1;32mis\u001b[0m \u001b[1;32mNone\u001b[0m\u001b[1;33m:\u001b[0m\u001b[1;33m\u001b[0m\u001b[1;33m\u001b[0m\u001b[0m\n\u001b[0;32m    224\u001b[0m         fpath = keras_utils.get_file(\n",
      "\u001b[1;31mValueError\u001b[0m: `decode_predictions` expects a batch of predictions (i.e. a 2D array of shape (samples, 1000)). Found array with shape: (1, 10)"
     ]
    }
   ],
   "source": [
    "preds = model.predict(x)\n",
    "\n",
    "print('Predicted : ', decode_predictions(preds, top=3)[0])\n",
    "#아프리카 코끼리(92.5%확률)\n",
    "#코끼리(7%확률)\n",
    "#인도코끼리(0.4%확률)"
   ]
  },
  {
   "cell_type": "code",
   "execution_count": null,
   "metadata": {},
   "outputs": [],
   "source": []
  }
 ],
 "metadata": {
  "kernelspec": {
   "display_name": "Python 3",
   "language": "python",
   "name": "python3"
  },
  "language_info": {
   "codemirror_mode": {
    "name": "ipython",
    "version": 3
   },
   "file_extension": ".py",
   "mimetype": "text/x-python",
   "name": "python",
   "nbconvert_exporter": "python",
   "pygments_lexer": "ipython3",
   "version": "3.7.4"
  }
 },
 "nbformat": 4,
 "nbformat_minor": 2
}
