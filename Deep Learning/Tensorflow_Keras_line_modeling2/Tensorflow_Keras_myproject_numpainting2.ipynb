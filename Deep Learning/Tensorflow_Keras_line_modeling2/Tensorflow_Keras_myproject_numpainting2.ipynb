{
 "cells": [
  {
   "cell_type": "code",
   "execution_count": 1,
   "metadata": {},
   "outputs": [],
   "source": [
    "import os, shutil\n",
    "\n",
    "base_dir = 'liner_deep'\n",
    "\n",
    "\n",
    "train_dir = os.path.join(base_dir, 'train')\n",
    "validation_dir = os.path.join(base_dir, 'validation')\n",
    "test_dir = os.path.join(base_dir, 'test')\n",
    "\n",
    "\n",
    "train_0_dir = os.path.join(train_dir, '0')\n",
    "train_1_dir = os.path.join(train_dir, '1')\n",
    "train_2_dir = os.path.join(train_dir, '2')\n",
    "train_3_dir = os.path.join(train_dir, '3')\n",
    "train_4_dir = os.path.join(train_dir, '4')\n",
    "train_5_dir = os.path.join(train_dir, '5')\n",
    "train_6_dir = os.path.join(train_dir, '6')\n",
    "train_7_dir = os.path.join(train_dir, '7')\n",
    "train_8_dir = os.path.join(train_dir, '8')\n",
    "train_9_dir = os.path.join(train_dir, '9')\n",
    "\n",
    "\n",
    "validation_0_dir = os.path.join(validation_dir, '0')\n",
    "validation_1_dir = os.path.join(validation_dir, '1')\n",
    "validation_2_dir = os.path.join(validation_dir, '2')\n",
    "validation_3_dir = os.path.join(validation_dir, '3')\n",
    "validation_4_dir = os.path.join(validation_dir, '4')\n",
    "validation_5_dir = os.path.join(validation_dir, '5')\n",
    "validation_6_dir = os.path.join(validation_dir, '6')\n",
    "validation_7_dir = os.path.join(validation_dir, '7')\n",
    "validation_8_dir = os.path.join(validation_dir, '8')\n",
    "validation_9_dir = os.path.join(validation_dir, '9')\n",
    "\n",
    "\n",
    "test_0_dir = os.path.join(test_dir, '0')\n",
    "test_1_dir = os.path.join(test_dir, '1')\n",
    "test_2_dir = os.path.join(test_dir, '2')\n",
    "test_3_dir = os.path.join(test_dir, '3')\n",
    "test_4_dir = os.path.join(test_dir, '4')\n",
    "test_5_dir = os.path.join(test_dir, '5')\n",
    "test_6_dir = os.path.join(test_dir, '6')\n",
    "test_7_dir = os.path.join(test_dir, '7')\n",
    "test_8_dir = os.path.join(test_dir, '8')\n",
    "test_9_dir = os.path.join(test_dir, '9')"
   ]
  },
  {
   "cell_type": "code",
   "execution_count": 2,
   "metadata": {},
   "outputs": [
    {
     "name": "stdout",
     "output_type": "stream",
     "text": [
      "훈련용 0 이미지 전체 개수 :  5000\n",
      "검증용 0 이미지 전체 개수 :  2000\n",
      "테스트용 0 이미지 전체 개수 :  1600\n"
     ]
    }
   ],
   "source": [
    "print('훈련용 0 이미지 전체 개수 : ', len(os.listdir(train_0_dir)))\n",
    "\n",
    "print('검증용 0 이미지 전체 개수 : ', len(os.listdir(validation_0_dir)))\n",
    "\n",
    "print('테스트용 0 이미지 전체 개수 : ', len(os.listdir(test_0_dir)))\n"
   ]
  },
  {
   "cell_type": "code",
   "execution_count": 3,
   "metadata": {},
   "outputs": [
    {
     "name": "stderr",
     "output_type": "stream",
     "text": [
      "Using TensorFlow backend.\n",
      "WARNING: Logging before flag parsing goes to stderr.\n",
      "W1030 11:48:48.108653  8232 deprecation_wrapper.py:119] From C:\\Users\\SH\\Anaconda3\\envs\\AI\\lib\\site-packages\\keras-2.2.5-py3.7.egg\\keras\\backend\\tensorflow_backend.py:67: The name tf.get_default_graph is deprecated. Please use tf.compat.v1.get_default_graph instead.\n",
      "\n",
      "W1030 11:48:48.136502  8232 deprecation_wrapper.py:119] From C:\\Users\\SH\\Anaconda3\\envs\\AI\\lib\\site-packages\\keras-2.2.5-py3.7.egg\\keras\\backend\\tensorflow_backend.py:548: The name tf.placeholder is deprecated. Please use tf.compat.v1.placeholder instead.\n",
      "\n",
      "W1030 11:48:48.143455  8232 deprecation_wrapper.py:119] From C:\\Users\\SH\\Anaconda3\\envs\\AI\\lib\\site-packages\\keras-2.2.5-py3.7.egg\\keras\\backend\\tensorflow_backend.py:4439: The name tf.random_uniform is deprecated. Please use tf.random.uniform instead.\n",
      "\n",
      "W1030 11:48:48.190327  8232 deprecation_wrapper.py:119] From C:\\Users\\SH\\Anaconda3\\envs\\AI\\lib\\site-packages\\keras-2.2.5-py3.7.egg\\keras\\backend\\tensorflow_backend.py:4278: The name tf.nn.avg_pool is deprecated. Please use tf.nn.avg_pool2d instead.\n",
      "\n",
      "W1030 11:48:48.236206  8232 deprecation_wrapper.py:119] From C:\\Users\\SH\\Anaconda3\\envs\\AI\\lib\\site-packages\\keras-2.2.5-py3.7.egg\\keras\\backend\\tensorflow_backend.py:4274: The name tf.nn.max_pool is deprecated. Please use tf.nn.max_pool2d instead.\n",
      "\n",
      "W1030 11:48:48.344794  8232 deprecation_wrapper.py:119] From C:\\Users\\SH\\Anaconda3\\envs\\AI\\lib\\site-packages\\keras-2.2.5-py3.7.egg\\keras\\backend\\tensorflow_backend.py:149: The name tf.placeholder_with_default is deprecated. Please use tf.compat.v1.placeholder_with_default instead.\n",
      "\n",
      "W1030 11:48:48.364588  8232 deprecation.py:506] From C:\\Users\\SH\\Anaconda3\\envs\\AI\\lib\\site-packages\\keras-2.2.5-py3.7.egg\\keras\\backend\\tensorflow_backend.py:3740: calling dropout (from tensorflow.python.ops.nn_ops) with keep_prob is deprecated and will be removed in a future version.\n",
      "Instructions for updating:\n",
      "Please use `rate` instead of `keep_prob`. Rate should be set to `rate = 1 - keep_prob`.\n"
     ]
    }
   ],
   "source": [
    "from keras import layers\n",
    "from keras import models\n",
    "from keras.layers import Dropout\n",
    "model = models.Sequential()\n",
    "model.add(layers.Conv2D(64,(8,8), activation='relu',\n",
    "                       input_shape=(50,50,3)))\n",
    "model.add(layers.AvgPool2D((2,2),(2,2)))\n",
    "model.add(layers.Conv2D(128,(5,5),activation='relu'))\n",
    "model.add(layers.MaxPooling2D((2,2),(2,2)))\n",
    "model.add(layers.Conv2D(128,(3,3),activation='relu'))\n",
    "\n",
    "\n",
    "model.add(layers.Flatten())\n",
    "model.add(layers.Dense(1024,activation='relu'))\n",
    "model.add(Dropout(0.3))\n",
    "model.add(layers.Dense(512,activation='relu'))\n",
    "model.add(Dropout(0.3))\n",
    "model.add(layers.Dense(128,activation='relu'))\n",
    "model.add(Dropout(0.3))\n",
    "model.add(layers.Dense(10,activation='softmax'))"
   ]
  },
  {
   "cell_type": "code",
   "execution_count": 4,
   "metadata": {},
   "outputs": [
    {
     "name": "stderr",
     "output_type": "stream",
     "text": [
      "W1030 11:49:26.735723  8232 deprecation_wrapper.py:119] From C:\\Users\\SH\\Anaconda3\\envs\\AI\\lib\\site-packages\\keras-2.2.5-py3.7.egg\\keras\\optimizers.py:793: The name tf.train.Optimizer is deprecated. Please use tf.compat.v1.train.Optimizer instead.\n",
      "\n",
      "W1030 11:49:26.804499  8232 deprecation_wrapper.py:119] From C:\\Users\\SH\\Anaconda3\\envs\\AI\\lib\\site-packages\\keras-2.2.5-py3.7.egg\\keras\\backend\\tensorflow_backend.py:3583: The name tf.log is deprecated. Please use tf.math.log instead.\n",
      "\n"
     ]
    }
   ],
   "source": [
    "from keras import optimizers\n",
    "\n",
    "model.compile(loss='categorical_crossentropy',\n",
    "             optimizer='adam',\n",
    "             metrics=['acc'])\n"
   ]
  },
  {
   "cell_type": "code",
   "execution_count": 5,
   "metadata": {},
   "outputs": [
    {
     "name": "stdout",
     "output_type": "stream",
     "text": [
      "Found 50000 images belonging to 10 classes.\n",
      "Found 20000 images belonging to 10 classes.\n"
     ]
    }
   ],
   "source": [
    "from keras.preprocessing.image import ImageDataGenerator\n",
    "\n",
    "train_datagen = ImageDataGenerator(rescale=1./255)\n",
    "test_datagen = ImageDataGenerator(rescale=1./255)\n",
    "\n",
    "train_generator = train_datagen.flow_from_directory(train_dir, #타깃 디렉터리\n",
    "                                                    target_size=(50,50), #모든 이미지 150X150으로 변경\n",
    "                                                    batch_size=32, #\n",
    "                                                    class_mode='categorical')\n",
    "\n",
    "validation_generator = test_datagen.flow_from_directory(validation_dir, target_size=(50,50),batch_size=32, class_mode='categorical')"
   ]
  },
  {
   "cell_type": "code",
   "execution_count": 6,
   "metadata": {
    "scrolled": false
   },
   "outputs": [
    {
     "name": "stderr",
     "output_type": "stream",
     "text": [
      "W1030 11:49:40.236897  8232 deprecation.py:323] From C:\\Users\\SH\\Anaconda3\\envs\\AI\\lib\\site-packages\\tensorflow\\python\\ops\\math_grad.py:1250: add_dispatch_support.<locals>.wrapper (from tensorflow.python.ops.array_ops) is deprecated and will be removed in a future version.\n",
      "Instructions for updating:\n",
      "Use tf.where in 2.0, which has the same broadcast rule as np.where\n"
     ]
    },
    {
     "name": "stdout",
     "output_type": "stream",
     "text": [
      "Epoch 1/100\n",
      "50/50 [==============================] - 13s 256ms/step - loss: 2.3081 - acc: 0.1013 - val_loss: 2.3035 - val_acc: 0.1013\n",
      "Epoch 2/100\n",
      "50/50 [==============================] - 6s 126ms/step - loss: 2.3022 - acc: 0.1188 - val_loss: 2.2975 - val_acc: 0.1737\n",
      "Epoch 3/100\n",
      "50/50 [==============================] - 6s 126ms/step - loss: 2.1055 - acc: 0.2425 - val_loss: 1.7819 - val_acc: 0.4062\n",
      "Epoch 4/100\n",
      "50/50 [==============================] - 6s 126ms/step - loss: 1.7520 - acc: 0.3969 - val_loss: 1.4984 - val_acc: 0.5062\n",
      "Epoch 5/100\n",
      "50/50 [==============================] - 6s 126ms/step - loss: 1.3795 - acc: 0.5363 - val_loss: 1.2866 - val_acc: 0.5700\n",
      "Epoch 6/100\n",
      "50/50 [==============================] - 6s 126ms/step - loss: 1.0579 - acc: 0.6619 - val_loss: 1.0707 - val_acc: 0.6650\n",
      "Epoch 7/100\n",
      "50/50 [==============================] - 6s 126ms/step - loss: 0.8901 - acc: 0.7269 - val_loss: 0.8508 - val_acc: 0.7200\n",
      "Epoch 8/100\n",
      "50/50 [==============================] - 6s 126ms/step - loss: 0.7471 - acc: 0.7756 - val_loss: 0.6561 - val_acc: 0.7812\n",
      "Epoch 9/100\n",
      "50/50 [==============================] - 6s 126ms/step - loss: 0.5986 - acc: 0.8200 - val_loss: 0.5562 - val_acc: 0.8187\n",
      "Epoch 10/100\n",
      "50/50 [==============================] - 6s 127ms/step - loss: 0.5121 - acc: 0.8406 - val_loss: 0.5641 - val_acc: 0.8237\n",
      "Epoch 11/100\n",
      "50/50 [==============================] - 6s 127ms/step - loss: 0.4728 - acc: 0.8650 - val_loss: 0.5174 - val_acc: 0.8462\n",
      "Epoch 12/100\n",
      "50/50 [==============================] - 6s 127ms/step - loss: 0.4130 - acc: 0.8769 - val_loss: 0.4339 - val_acc: 0.8650\n",
      "Epoch 13/100\n",
      "50/50 [==============================] - 6s 127ms/step - loss: 0.3845 - acc: 0.8912 - val_loss: 0.4620 - val_acc: 0.8600\n",
      "Epoch 14/100\n",
      "50/50 [==============================] - 6s 127ms/step - loss: 0.3527 - acc: 0.8944 - val_loss: 0.4866 - val_acc: 0.8588\n",
      "Epoch 15/100\n",
      "50/50 [==============================] - 6s 127ms/step - loss: 0.4019 - acc: 0.8900 - val_loss: 0.3883 - val_acc: 0.8825\n",
      "Epoch 16/100\n",
      "50/50 [==============================] - 6s 128ms/step - loss: 0.3568 - acc: 0.8944 - val_loss: 0.3242 - val_acc: 0.8988\n",
      "Epoch 17/100\n",
      "50/50 [==============================] - 6s 128ms/step - loss: 0.3055 - acc: 0.9119 - val_loss: 0.4065 - val_acc: 0.8775\n",
      "Epoch 18/100\n",
      "50/50 [==============================] - 6s 128ms/step - loss: 0.2926 - acc: 0.9194 - val_loss: 0.3904 - val_acc: 0.8750\n",
      "Epoch 19/100\n",
      "50/50 [==============================] - 6s 128ms/step - loss: 0.2771 - acc: 0.9200 - val_loss: 0.3923 - val_acc: 0.8925\n",
      "Epoch 20/100\n",
      "50/50 [==============================] - 6s 127ms/step - loss: 0.2778 - acc: 0.9200 - val_loss: 0.3636 - val_acc: 0.8800\n",
      "Epoch 21/100\n",
      "50/50 [==============================] - 6s 127ms/step - loss: 0.2616 - acc: 0.9213 - val_loss: 0.2520 - val_acc: 0.9213\n",
      "Epoch 22/100\n",
      "50/50 [==============================] - 6s 127ms/step - loss: 0.2672 - acc: 0.9275 - val_loss: 0.3473 - val_acc: 0.9025\n",
      "Epoch 23/100\n",
      "50/50 [==============================] - 6s 128ms/step - loss: 0.2639 - acc: 0.9250 - val_loss: 0.2549 - val_acc: 0.9200\n",
      "Epoch 24/100\n",
      "50/50 [==============================] - 6s 127ms/step - loss: 0.2405 - acc: 0.9331 - val_loss: 0.4202 - val_acc: 0.8962\n",
      "Epoch 25/100\n",
      "50/50 [==============================] - 6s 124ms/step - loss: 0.2435 - acc: 0.9306 - val_loss: 0.3215 - val_acc: 0.9050\n",
      "Epoch 26/100\n",
      "50/50 [==============================] - 6s 124ms/step - loss: 0.1969 - acc: 0.9437 - val_loss: 0.3583 - val_acc: 0.8900\n",
      "Epoch 27/100\n",
      "50/50 [==============================] - 6s 124ms/step - loss: 0.2289 - acc: 0.9325 - val_loss: 0.2861 - val_acc: 0.9100\n",
      "Epoch 28/100\n",
      "50/50 [==============================] - 6s 125ms/step - loss: 0.2542 - acc: 0.9256 - val_loss: 0.3984 - val_acc: 0.8938\n",
      "Epoch 29/100\n",
      "50/50 [==============================] - 6s 124ms/step - loss: 0.2553 - acc: 0.9338 - val_loss: 0.3031 - val_acc: 0.9225\n",
      "Epoch 30/100\n",
      "50/50 [==============================] - 6s 124ms/step - loss: 0.2139 - acc: 0.9431 - val_loss: 0.2606 - val_acc: 0.9225\n",
      "Epoch 31/100\n",
      "50/50 [==============================] - 6s 128ms/step - loss: 0.2140 - acc: 0.9481 - val_loss: 0.3371 - val_acc: 0.9012\n",
      "Epoch 32/100\n",
      "50/50 [==============================] - 6s 125ms/step - loss: 0.1991 - acc: 0.9450 - val_loss: 0.2520 - val_acc: 0.9225\n",
      "Epoch 33/100\n",
      "50/50 [==============================] - 6s 124ms/step - loss: 0.1879 - acc: 0.9425 - val_loss: 0.2599 - val_acc: 0.9300\n",
      "Epoch 34/100\n",
      "50/50 [==============================] - 6s 124ms/step - loss: 0.1883 - acc: 0.9469 - val_loss: 0.2583 - val_acc: 0.9287\n",
      "Epoch 35/100\n",
      "50/50 [==============================] - 6s 124ms/step - loss: 0.1587 - acc: 0.9519 - val_loss: 0.2800 - val_acc: 0.9113\n",
      "Epoch 36/100\n",
      "50/50 [==============================] - 6s 125ms/step - loss: 0.1790 - acc: 0.9500 - val_loss: 0.2422 - val_acc: 0.9313\n",
      "Epoch 37/100\n",
      "50/50 [==============================] - 6s 124ms/step - loss: 0.1627 - acc: 0.9562 - val_loss: 0.2733 - val_acc: 0.9250\n",
      "Epoch 38/100\n",
      "50/50 [==============================] - 6s 124ms/step - loss: 0.2203 - acc: 0.9344 - val_loss: 0.2803 - val_acc: 0.9263\n",
      "Epoch 39/100\n",
      "50/50 [==============================] - 6s 125ms/step - loss: 0.1625 - acc: 0.9562 - val_loss: 0.3201 - val_acc: 0.9237\n",
      "Epoch 40/100\n",
      "50/50 [==============================] - 6s 124ms/step - loss: 0.1631 - acc: 0.9519 - val_loss: 0.2615 - val_acc: 0.9237\n",
      "Epoch 41/100\n",
      "50/50 [==============================] - 6s 124ms/step - loss: 0.1812 - acc: 0.9494 - val_loss: 0.2721 - val_acc: 0.9225\n",
      "Epoch 42/100\n",
      "50/50 [==============================] - 6s 124ms/step - loss: 0.1667 - acc: 0.9531 - val_loss: 0.2819 - val_acc: 0.9213\n",
      "Epoch 43/100\n",
      "50/50 [==============================] - 6s 125ms/step - loss: 0.1754 - acc: 0.9562 - val_loss: 0.2460 - val_acc: 0.9263\n",
      "Epoch 44/100\n",
      "50/50 [==============================] - 6s 125ms/step - loss: 0.1729 - acc: 0.9494 - val_loss: 0.2916 - val_acc: 0.9150\n",
      "Epoch 45/100\n",
      "50/50 [==============================] - 6s 124ms/step - loss: 0.1573 - acc: 0.9569 - val_loss: 0.2605 - val_acc: 0.9213\n",
      "Epoch 46/100\n",
      "50/50 [==============================] - 6s 125ms/step - loss: 0.1725 - acc: 0.9556 - val_loss: 0.2228 - val_acc: 0.9337\n",
      "Epoch 47/100\n",
      "50/50 [==============================] - 7s 131ms/step - loss: 0.2132 - acc: 0.9431 - val_loss: 0.3018 - val_acc: 0.9150\n",
      "Epoch 48/100\n",
      "50/50 [==============================] - 6s 125ms/step - loss: 0.2096 - acc: 0.9400 - val_loss: 0.3243 - val_acc: 0.9087\n",
      "Epoch 49/100\n",
      "50/50 [==============================] - 6s 125ms/step - loss: 0.1624 - acc: 0.9494 - val_loss: 0.2542 - val_acc: 0.9213\n",
      "Epoch 50/100\n",
      "50/50 [==============================] - 6s 125ms/step - loss: 0.1911 - acc: 0.9494 - val_loss: 0.3858 - val_acc: 0.9012\n",
      "Epoch 51/100\n",
      "50/50 [==============================] - 6s 128ms/step - loss: 0.1447 - acc: 0.9594 - val_loss: 0.2799 - val_acc: 0.9200\n",
      "Epoch 52/100\n",
      "50/50 [==============================] - 6s 125ms/step - loss: 0.1346 - acc: 0.9613 - val_loss: 0.2804 - val_acc: 0.9150\n",
      "Epoch 53/100\n",
      "50/50 [==============================] - 6s 124ms/step - loss: 0.1614 - acc: 0.9519 - val_loss: 0.2382 - val_acc: 0.9400\n",
      "Epoch 54/100\n",
      "50/50 [==============================] - 6s 124ms/step - loss: 0.1393 - acc: 0.9606 - val_loss: 0.2246 - val_acc: 0.9325\n",
      "Epoch 55/100\n",
      "50/50 [==============================] - 6s 124ms/step - loss: 0.1814 - acc: 0.9537 - val_loss: 0.2306 - val_acc: 0.9325\n",
      "Epoch 56/100\n",
      "50/50 [==============================] - 6s 124ms/step - loss: 0.1395 - acc: 0.9556 - val_loss: 0.2707 - val_acc: 0.9263\n",
      "Epoch 57/100\n",
      "50/50 [==============================] - 6s 125ms/step - loss: 0.1346 - acc: 0.9631 - val_loss: 0.2575 - val_acc: 0.9300\n",
      "Epoch 58/100\n",
      "50/50 [==============================] - 6s 126ms/step - loss: 0.1448 - acc: 0.9569 - val_loss: 0.2574 - val_acc: 0.9225\n",
      "Epoch 59/100\n",
      "50/50 [==============================] - 6s 125ms/step - loss: 0.1691 - acc: 0.9562 - val_loss: 0.3234 - val_acc: 0.9150\n",
      "Epoch 60/100\n",
      "50/50 [==============================] - 6s 125ms/step - loss: 0.1713 - acc: 0.9587 - val_loss: 0.2258 - val_acc: 0.9363\n",
      "Epoch 61/100\n",
      "50/50 [==============================] - 6s 124ms/step - loss: 0.1307 - acc: 0.9619 - val_loss: 0.1846 - val_acc: 0.9500\n",
      "Epoch 62/100\n"
     ]
    },
    {
     "name": "stdout",
     "output_type": "stream",
     "text": [
      "50/50 [==============================] - 6s 124ms/step - loss: 0.1384 - acc: 0.9613 - val_loss: 0.2465 - val_acc: 0.9213\n",
      "Epoch 63/100\n",
      "50/50 [==============================] - 6s 125ms/step - loss: 0.1248 - acc: 0.9681 - val_loss: 0.2490 - val_acc: 0.9287\n",
      "Epoch 64/100\n",
      "50/50 [==============================] - 6s 124ms/step - loss: 0.1280 - acc: 0.9650 - val_loss: 0.3254 - val_acc: 0.9263\n",
      "Epoch 65/100\n",
      "50/50 [==============================] - 6s 124ms/step - loss: 0.1208 - acc: 0.9694 - val_loss: 0.1669 - val_acc: 0.9587\n",
      "Epoch 66/100\n",
      "50/50 [==============================] - 6s 124ms/step - loss: 0.1346 - acc: 0.9613 - val_loss: 0.1933 - val_acc: 0.9463\n",
      "Epoch 67/100\n",
      "50/50 [==============================] - 6s 124ms/step - loss: 0.1397 - acc: 0.9613 - val_loss: 0.1831 - val_acc: 0.9513\n",
      "Epoch 68/100\n",
      "50/50 [==============================] - 6s 124ms/step - loss: 0.1242 - acc: 0.9656 - val_loss: 0.2436 - val_acc: 0.9337\n",
      "Epoch 69/100\n",
      "50/50 [==============================] - 6s 125ms/step - loss: 0.1310 - acc: 0.9669 - val_loss: 0.2051 - val_acc: 0.9400\n",
      "Epoch 70/100\n",
      "50/50 [==============================] - 6s 124ms/step - loss: 0.1228 - acc: 0.9637 - val_loss: 0.1734 - val_acc: 0.9413\n",
      "Epoch 71/100\n",
      "50/50 [==============================] - 6s 124ms/step - loss: 0.1225 - acc: 0.9600 - val_loss: 0.2516 - val_acc: 0.9425\n",
      "Epoch 72/100\n",
      "50/50 [==============================] - 6s 124ms/step - loss: 0.1309 - acc: 0.9606 - val_loss: 0.2327 - val_acc: 0.9325\n",
      "Epoch 73/100\n",
      "50/50 [==============================] - 6s 124ms/step - loss: 0.1249 - acc: 0.9606 - val_loss: 0.2657 - val_acc: 0.9375\n",
      "Epoch 74/100\n",
      "50/50 [==============================] - 6s 125ms/step - loss: 0.1532 - acc: 0.9613 - val_loss: 0.2701 - val_acc: 0.9263\n",
      "Epoch 75/100\n",
      "50/50 [==============================] - 6s 124ms/step - loss: 0.1525 - acc: 0.9594 - val_loss: 0.2637 - val_acc: 0.9275\n",
      "Epoch 76/100\n",
      "50/50 [==============================] - 6s 125ms/step - loss: 0.1482 - acc: 0.9575 - val_loss: 0.2266 - val_acc: 0.9263\n",
      "Epoch 77/100\n",
      "50/50 [==============================] - 6s 124ms/step - loss: 0.0944 - acc: 0.9706 - val_loss: 0.2264 - val_acc: 0.9450\n",
      "Epoch 78/100\n",
      "50/50 [==============================] - 6s 124ms/step - loss: 0.1256 - acc: 0.9625 - val_loss: 0.2695 - val_acc: 0.9263\n",
      "Epoch 79/100\n",
      "50/50 [==============================] - 6s 124ms/step - loss: 0.0816 - acc: 0.9712 - val_loss: 0.2774 - val_acc: 0.9237\n",
      "Epoch 80/100\n",
      "50/50 [==============================] - 6s 126ms/step - loss: 0.1535 - acc: 0.9544 - val_loss: 0.1947 - val_acc: 0.9475\n",
      "Epoch 81/100\n",
      "50/50 [==============================] - 6s 127ms/step - loss: 0.1194 - acc: 0.9700 - val_loss: 0.2487 - val_acc: 0.9313\n",
      "Epoch 82/100\n",
      "50/50 [==============================] - 6s 127ms/step - loss: 0.0832 - acc: 0.9719 - val_loss: 0.1802 - val_acc: 0.9475\n",
      "Epoch 83/100\n",
      "50/50 [==============================] - 6s 125ms/step - loss: 0.1180 - acc: 0.9656 - val_loss: 0.2627 - val_acc: 0.9213\n",
      "Epoch 84/100\n",
      "50/50 [==============================] - 6s 124ms/step - loss: 0.1672 - acc: 0.9537 - val_loss: 0.2632 - val_acc: 0.9325\n",
      "Epoch 85/100\n",
      "50/50 [==============================] - 6s 124ms/step - loss: 0.1415 - acc: 0.9606 - val_loss: 0.1959 - val_acc: 0.9437\n",
      "Epoch 86/100\n",
      "50/50 [==============================] - 6s 125ms/step - loss: 0.1088 - acc: 0.9719 - val_loss: 0.2400 - val_acc: 0.9363\n",
      "Epoch 87/100\n",
      "50/50 [==============================] - 6s 125ms/step - loss: 0.0971 - acc: 0.9762 - val_loss: 0.3157 - val_acc: 0.9250\n",
      "Epoch 88/100\n",
      "50/50 [==============================] - 6s 125ms/step - loss: 0.1313 - acc: 0.9669 - val_loss: 0.2496 - val_acc: 0.9313\n",
      "Epoch 89/100\n",
      "50/50 [==============================] - 6s 125ms/step - loss: 0.1091 - acc: 0.9725 - val_loss: 0.2551 - val_acc: 0.9275\n",
      "Epoch 90/100\n",
      "50/50 [==============================] - 6s 126ms/step - loss: 0.1423 - acc: 0.9644 - val_loss: 0.2030 - val_acc: 0.9487\n",
      "Epoch 91/100\n",
      "50/50 [==============================] - 6s 126ms/step - loss: 0.1414 - acc: 0.9631 - val_loss: 0.2601 - val_acc: 0.9187\n",
      "Epoch 92/100\n",
      "50/50 [==============================] - 6s 126ms/step - loss: 0.1191 - acc: 0.9594 - val_loss: 0.2740 - val_acc: 0.9313\n",
      "Epoch 93/100\n",
      "50/50 [==============================] - 6s 126ms/step - loss: 0.0998 - acc: 0.9762 - val_loss: 0.1789 - val_acc: 0.9475\n",
      "Epoch 94/100\n",
      "50/50 [==============================] - 6s 126ms/step - loss: 0.1421 - acc: 0.9600 - val_loss: 0.1399 - val_acc: 0.9587\n",
      "Epoch 95/100\n",
      "50/50 [==============================] - 6s 126ms/step - loss: 0.0998 - acc: 0.9719 - val_loss: 0.3190 - val_acc: 0.9225\n",
      "Epoch 96/100\n",
      "50/50 [==============================] - 6s 126ms/step - loss: 0.0813 - acc: 0.9762 - val_loss: 0.1962 - val_acc: 0.9463\n",
      "Epoch 97/100\n",
      "50/50 [==============================] - 6s 126ms/step - loss: 0.1127 - acc: 0.9663 - val_loss: 0.2097 - val_acc: 0.9425\n",
      "Epoch 98/100\n",
      "50/50 [==============================] - 6s 126ms/step - loss: 0.0776 - acc: 0.9731 - val_loss: 0.1869 - val_acc: 0.9375\n",
      "Epoch 99/100\n",
      "50/50 [==============================] - 6s 127ms/step - loss: 0.0985 - acc: 0.9756 - val_loss: 0.2384 - val_acc: 0.9450\n",
      "Epoch 100/100\n",
      "50/50 [==============================] - 6s 126ms/step - loss: 0.0936 - acc: 0.9769 - val_loss: 0.2089 - val_acc: 0.9463\n"
     ]
    }
   ],
   "source": [
    "history = model.fit_generator(\n",
    "        train_generator,\n",
    "        steps_per_epoch=50,\n",
    "        epochs=100,\n",
    "        validation_data=validation_generator,\n",
    "        validation_steps=25)"
   ]
  },
  {
   "cell_type": "code",
   "execution_count": 7,
   "metadata": {},
   "outputs": [],
   "source": [
    "model.save('number_line2.h5')"
   ]
  },
  {
   "cell_type": "code",
   "execution_count": 8,
   "metadata": {},
   "outputs": [
    {
     "data": {
      "image/png": "[encoded data removed]",
      "text/plain": [
       "<Figure size 432x288 with 1 Axes>"
      ]
     },
     "metadata": {
      "needs_background": "light"
     },
     "output_type": "display_data"
    }
   ],
   "source": [
    "import matplotlib.pyplot as plt\n",
    "%matplotlib inline\n",
    "acc = history.history['acc']\n",
    "val_acc = history.history['val_acc']\n",
    "loss = history.history['loss']\n",
    "val_loss = history.history['val_loss']\n",
    "\n",
    "epochs = range(1, len(acc) + 1)\n",
    "\n",
    "plt.plot(epochs,loss,'bo',label='Training loss')\n",
    "plt.plot(epochs,val_loss,'b',label='Validation loss')\n",
    "plt.title('Training and validation loss')\n",
    "plt.legend()\n",
    "\n",
    "plt.show()"
   ]
  },
  {
   "cell_type": "code",
   "execution_count": 9,
   "metadata": {},
   "outputs": [
    {
     "data": {
      "image/png": "[encoded data removed]",
      "text/plain": [
       "<Figure size 432x288 with 1 Axes>"
      ]
     },
     "metadata": {
      "needs_background": "light"
     },
     "output_type": "display_data"
    }
   ],
   "source": [
    "acc = history.history['acc']\n",
    "val_acc = history.history['val_acc']\n",
    "loss = history.history['loss']\n",
    "val_loss = history.history['val_loss']\n",
    "\n",
    "epochs = range(1, len(acc) + 1)\n",
    "\n",
    "plt.plot(epochs,acc,'bo',label='Training acc')\n",
    "plt.plot(epochs,val_acc,'b',label='Validation acc')\n",
    "plt.title('Training and validation acc')\n",
    "plt.legend()\n",
    "\n",
    "plt.show()"
   ]
  },
  {
   "cell_type": "code",
   "execution_count": 11,
   "metadata": {},
   "outputs": [
    {
     "name": "stdout",
     "output_type": "stream",
     "text": [
      "Found 16000 images belonging to 10 classes.\n"
     ]
    }
   ],
   "source": [
    "import glob\n",
    "from PIL import Image\n",
    "from keras.preprocessing import image\n",
    "import numpy as np\n",
    "import matplotlib.pyplot as plt\n",
    "%matplotlib inline\n",
    "\n",
    "from keras import backend as K\n",
    "from keras.models import load_model\n",
    "model = load_model('number_painting.h5')\n",
    "\n",
    "test_generator = test_datagen.flow_from_directory(test_dir, #타깃 디렉터리\n",
    "                                                    target_size=(50,50), #모든 이미지 150X150으로 변경\n",
    "                                                    batch_size=32, #\n",
    "                                                    class_mode='categorical')\n",
    "filenames = test_generator.filenames\n",
    "nb_samples = len(filenames)\n",
    "\n",
    "predict = model.predict_generator(test_generator,steps = nb_samples)\n",
    "\n",
    "\n",
    "# img_path='정규화원본/test/0/normalizationSF61527.bmp'\n",
    "# img = image.load_img(img_path,target_size=(50,50))\n",
    "# plt.imshow(img)\n",
    "\n",
    "# x=image.img_to_array(img)\n",
    "# x=np.expand_dims(x,axis=0)\n",
    "# x=x/255.\n",
    "\n",
    "\n",
    "\n",
    "    \n",
    "# prediction =model.predict_classes(x)\n",
    "# #prediction =model.predict(x)\n",
    "# print(prediction)\n",
    "#np.set_printoptions(formatter={'float': lambda x: \"{0:0.3f}\".format(x)})"
   ]
  },
  {
   "cell_type": "code",
   "execution_count": 12,
   "metadata": {},
   "outputs": [
    {
     "name": "stdout",
     "output_type": "stream",
     "text": [
      "[[1.4805024e-12 1.1785224e-07 6.3136611e-09 ... 2.8993970e-08\n",
      "  9.0014958e-04 9.9857461e-01]\n",
      " [1.9701421e-20 1.5478572e-13 1.1277125e-08 ... 7.4333890e-14\n",
      "  2.8034918e-13 2.0277668e-09]\n",
      " [2.1695259e-08 1.2088515e-10 9.9999952e-01 ... 3.1641762e-12\n",
      "  8.7501579e-09 9.3021780e-12]\n",
      " ...\n",
      " [1.1762357e-08 6.4647296e-09 9.8120683e-01 ... 5.0785470e-15\n",
      "  1.4821206e-02 1.2623608e-10]\n",
      " [1.9819144e-12 4.4178825e-09 8.0529509e-07 ... 2.5734730e-18\n",
      "  3.7482283e-07 1.5394195e-14]\n",
      " [9.9963963e-01 2.8910181e-05 3.3125063e-04 ... 1.5962215e-07\n",
      "  1.7784911e-08 6.5505856e-12]]\n"
     ]
    }
   ],
   "source": [
    "print(predict)"
   ]
  },
  {
   "cell_type": "code",
   "execution_count": 10,
   "metadata": {},
   "outputs": [
    {
     "name": "stdout",
     "output_type": "stream",
     "text": [
      "Found 16000 images belonging to 10 classes.\n",
      "500/500 [==============================] - 11s 22ms/step\n"
     ]
    }
   ],
   "source": [
    "test_generator = test_datagen.flow_from_directory(test_dir, #타깃 디렉터리\n",
    "                                                    target_size=(50,50), #모든 이미지 150X150으로 변경\n",
    "                                                    batch_size=32, #\n",
    "                                                    class_mode='categorical')\n",
    "score=model.evaluate(test_generator)"
   ]
  },
  {
   "cell_type": "code",
   "execution_count": 11,
   "metadata": {},
   "outputs": [
    {
     "name": "stdout",
     "output_type": "stream",
     "text": [
      "[0.21445373914483934, 0.9445625]\n"
     ]
    }
   ],
   "source": [
    "print(score)"
   ]
  },
  {
   "cell_type": "code",
   "execution_count": null,
   "metadata": {},
   "outputs": [],
   "source": []
  }
 ],
 "metadata": {
  "kernelspec": {
   "display_name": "Python 3",
   "language": "python",
   "name": "python3"
  },
  "language_info": {
   "codemirror_mode": {
    "name": "ipython",
    "version": 3
   },
   "file_extension": ".py",
   "mimetype": "text/x-python",
   "name": "python",
   "nbconvert_exporter": "python",
   "pygments_lexer": "ipython3",
   "version": "3.7.4"
  }
 },
 "nbformat": 4,
 "nbformat_minor": 2
}
