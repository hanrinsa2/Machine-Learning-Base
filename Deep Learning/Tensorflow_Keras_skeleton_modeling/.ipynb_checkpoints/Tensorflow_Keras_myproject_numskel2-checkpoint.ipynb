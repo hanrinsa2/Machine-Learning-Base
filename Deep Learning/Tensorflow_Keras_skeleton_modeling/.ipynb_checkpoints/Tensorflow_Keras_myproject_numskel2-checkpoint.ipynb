{
 "cells": [
  {
   "cell_type": "code",
   "execution_count": 1,
   "metadata": {},
   "outputs": [],
   "source": [
    "import os, shutil\n",
    "\n",
    "base_dir = '세선화원본'\n",
    "\n",
    "\n",
    "train_dir = os.path.join(base_dir, 'train')\n",
    "validation_dir = os.path.join(base_dir, 'validation')\n",
    "test_dir = os.path.join(base_dir, 'test')\n",
    "\n",
    "\n",
    "train_0_dir = os.path.join(train_dir, '0')\n",
    "train_1_dir = os.path.join(train_dir, '1')\n",
    "train_2_dir = os.path.join(train_dir, '2')\n",
    "train_3_dir = os.path.join(train_dir, '3')\n",
    "train_4_dir = os.path.join(train_dir, '4')\n",
    "train_5_dir = os.path.join(train_dir, '5')\n",
    "train_6_dir = os.path.join(train_dir, '6')\n",
    "train_7_dir = os.path.join(train_dir, '7')\n",
    "train_8_dir = os.path.join(train_dir, '8')\n",
    "train_9_dir = os.path.join(train_dir, '9')\n",
    "\n",
    "\n",
    "validation_0_dir = os.path.join(validation_dir, '0')\n",
    "validation_1_dir = os.path.join(validation_dir, '1')\n",
    "validation_2_dir = os.path.join(validation_dir, '2')\n",
    "validation_3_dir = os.path.join(validation_dir, '3')\n",
    "validation_4_dir = os.path.join(validation_dir, '4')\n",
    "validation_5_dir = os.path.join(validation_dir, '5')\n",
    "validation_6_dir = os.path.join(validation_dir, '6')\n",
    "validation_7_dir = os.path.join(validation_dir, '7')\n",
    "validation_8_dir = os.path.join(validation_dir, '8')\n",
    "validation_9_dir = os.path.join(validation_dir, '9')\n",
    "\n",
    "\n",
    "test_0_dir = os.path.join(test_dir, '0')\n",
    "test_1_dir = os.path.join(test_dir, '1')\n",
    "test_2_dir = os.path.join(test_dir, '2')\n",
    "test_3_dir = os.path.join(test_dir, '3')\n",
    "test_4_dir = os.path.join(test_dir, '4')\n",
    "test_5_dir = os.path.join(test_dir, '5')\n",
    "test_6_dir = os.path.join(test_dir, '6')\n",
    "test_7_dir = os.path.join(test_dir, '7')\n",
    "test_8_dir = os.path.join(test_dir, '8')\n",
    "test_9_dir = os.path.join(test_dir, '9')"
   ]
  },
  {
   "cell_type": "code",
   "execution_count": 2,
   "metadata": {},
   "outputs": [
    {
     "name": "stdout",
     "output_type": "stream",
     "text": [
      "훈련용 0 이미지 전체 개수 :  5000\n",
      "검증용 0 이미지 전체 개수 :  2300\n",
      "테스트용 0 이미지 전체 개수 :  1600\n"
     ]
    }
   ],
   "source": [
    "print('훈련용 0 이미지 전체 개수 : ', len(os.listdir(train_0_dir)))\n",
    "\n",
    "print('검증용 0 이미지 전체 개수 : ', len(os.listdir(validation_0_dir)))\n",
    "\n",
    "print('테스트용 0 이미지 전체 개수 : ', len(os.listdir(test_0_dir)))\n"
   ]
  },
  {
   "cell_type": "code",
   "execution_count": 3,
   "metadata": {},
   "outputs": [
    {
     "name": "stderr",
     "output_type": "stream",
     "text": [
      "Using TensorFlow backend.\n",
      "WARNING: Logging before flag parsing goes to stderr.\n",
      "W1024 13:25:48.089860 30572 deprecation_wrapper.py:119] From C:\\Users\\SH\\Anaconda3\\envs\\AI\\lib\\site-packages\\keras-2.2.5-py3.7.egg\\keras\\backend\\tensorflow_backend.py:67: The name tf.get_default_graph is deprecated. Please use tf.compat.v1.get_default_graph instead.\n",
      "\n",
      "W1024 13:25:48.118799 30572 deprecation_wrapper.py:119] From C:\\Users\\SH\\Anaconda3\\envs\\AI\\lib\\site-packages\\keras-2.2.5-py3.7.egg\\keras\\backend\\tensorflow_backend.py:548: The name tf.placeholder is deprecated. Please use tf.compat.v1.placeholder instead.\n",
      "\n",
      "W1024 13:25:48.122790 30572 deprecation_wrapper.py:119] From C:\\Users\\SH\\Anaconda3\\envs\\AI\\lib\\site-packages\\keras-2.2.5-py3.7.egg\\keras\\backend\\tensorflow_backend.py:4439: The name tf.random_uniform is deprecated. Please use tf.random.uniform instead.\n",
      "\n",
      "W1024 13:25:48.155700 30572 deprecation_wrapper.py:119] From C:\\Users\\SH\\Anaconda3\\envs\\AI\\lib\\site-packages\\keras-2.2.5-py3.7.egg\\keras\\backend\\tensorflow_backend.py:4278: The name tf.nn.avg_pool is deprecated. Please use tf.nn.avg_pool2d instead.\n",
      "\n",
      "W1024 13:25:48.198588 30572 deprecation_wrapper.py:119] From C:\\Users\\SH\\Anaconda3\\envs\\AI\\lib\\site-packages\\keras-2.2.5-py3.7.egg\\keras\\backend\\tensorflow_backend.py:4274: The name tf.nn.max_pool is deprecated. Please use tf.nn.max_pool2d instead.\n",
      "\n",
      "W1024 13:25:48.271390 30572 deprecation_wrapper.py:119] From C:\\Users\\SH\\Anaconda3\\envs\\AI\\lib\\site-packages\\keras-2.2.5-py3.7.egg\\keras\\backend\\tensorflow_backend.py:149: The name tf.placeholder_with_default is deprecated. Please use tf.compat.v1.placeholder_with_default instead.\n",
      "\n",
      "W1024 13:25:48.282364 30572 deprecation.py:506] From C:\\Users\\SH\\Anaconda3\\envs\\AI\\lib\\site-packages\\keras-2.2.5-py3.7.egg\\keras\\backend\\tensorflow_backend.py:3740: calling dropout (from tensorflow.python.ops.nn_ops) with keep_prob is deprecated and will be removed in a future version.\n",
      "Instructions for updating:\n",
      "Please use `rate` instead of `keep_prob`. Rate should be set to `rate = 1 - keep_prob`.\n"
     ]
    }
   ],
   "source": [
    "from keras import layers\n",
    "from keras import models\n",
    "from keras.layers import Dropout\n",
    "model = models.Sequential()\n",
    "model.add(layers.Conv2D(64,(8,8), activation='relu',\n",
    "                       input_shape=(50,50,3)))\n",
    "model.add(layers.AvgPool2D((2,2),(2,2)))\n",
    "model.add(layers.Conv2D(128,(5,5),activation='relu'))\n",
    "model.add(layers.MaxPooling2D((2,2),(2,2)))\n",
    "model.add(layers.Conv2D(128,(3,3),activation='relu'))\n",
    "\n",
    "\n",
    "model.add(layers.Flatten())\n",
    "model.add(layers.Dense(1024,activation='relu'))\n",
    "model.add(Dropout(0.3))\n",
    "model.add(layers.Dense(512,activation='relu'))\n",
    "model.add(Dropout(0.3))\n",
    "model.add(layers.Dense(128,activation='relu'))\n",
    "model.add(Dropout(0.3))\n",
    "model.add(layers.Dense(10,activation='softmax'))"
   ]
  },
  {
   "cell_type": "code",
   "execution_count": 4,
   "metadata": {},
   "outputs": [
    {
     "name": "stderr",
     "output_type": "stream",
     "text": [
      "W1024 13:25:53.203003 30572 deprecation_wrapper.py:119] From C:\\Users\\SH\\Anaconda3\\envs\\AI\\lib\\site-packages\\keras-2.2.5-py3.7.egg\\keras\\optimizers.py:793: The name tf.train.Optimizer is deprecated. Please use tf.compat.v1.train.Optimizer instead.\n",
      "\n",
      "W1024 13:25:53.245857 30572 deprecation_wrapper.py:119] From C:\\Users\\SH\\Anaconda3\\envs\\AI\\lib\\site-packages\\keras-2.2.5-py3.7.egg\\keras\\backend\\tensorflow_backend.py:3583: The name tf.log is deprecated. Please use tf.math.log instead.\n",
      "\n"
     ]
    }
   ],
   "source": [
    "from keras import optimizers\n",
    "\n",
    "model.compile(loss='categorical_crossentropy',\n",
    "             optimizer='adam',\n",
    "             metrics=['acc'])\n"
   ]
  },
  {
   "cell_type": "code",
   "execution_count": 5,
   "metadata": {},
   "outputs": [
    {
     "name": "stdout",
     "output_type": "stream",
     "text": [
      "Found 50000 images belonging to 10 classes.\n",
      "Found 23000 images belonging to 10 classes.\n"
     ]
    }
   ],
   "source": [
    "from keras.preprocessing.image import ImageDataGenerator\n",
    "\n",
    "train_datagen = ImageDataGenerator(rescale=1./255)\n",
    "test_datagen = ImageDataGenerator(rescale=1./255)\n",
    "\n",
    "train_generator = train_datagen.flow_from_directory(train_dir, #타깃 디렉터리\n",
    "                                                    target_size=(50,50), #모든 이미지 150X150으로 변경\n",
    "                                                    batch_size=32, #\n",
    "                                                    class_mode='categorical')\n",
    "\n",
    "validation_generator = test_datagen.flow_from_directory(validation_dir, target_size=(50,50),batch_size=32, class_mode='categorical')"
   ]
  },
  {
   "cell_type": "code",
   "execution_count": 6,
   "metadata": {
    "scrolled": false
   },
   "outputs": [
    {
     "name": "stderr",
     "output_type": "stream",
     "text": [
      "W1024 13:26:07.165760 30572 deprecation.py:323] From C:\\Users\\SH\\Anaconda3\\envs\\AI\\lib\\site-packages\\tensorflow\\python\\ops\\math_grad.py:1250: add_dispatch_support.<locals>.wrapper (from tensorflow.python.ops.array_ops) is deprecated and will be removed in a future version.\n",
      "Instructions for updating:\n",
      "Use tf.where in 2.0, which has the same broadcast rule as np.where\n"
     ]
    },
    {
     "name": "stdout",
     "output_type": "stream",
     "text": [
      "Epoch 1/100\n",
      "50/50 [==============================] - 13s 257ms/step - loss: 2.3110 - acc: 0.0956 - val_loss: 2.2878 - val_acc: 0.0838\n",
      "Epoch 2/100\n",
      "50/50 [==============================] - 6s 126ms/step - loss: 2.0724 - acc: 0.2506 - val_loss: 1.6909 - val_acc: 0.4075\n",
      "Epoch 3/100\n",
      "50/50 [==============================] - 6s 126ms/step - loss: 1.5596 - acc: 0.4469 - val_loss: 1.3777 - val_acc: 0.5550\n",
      "Epoch 4/100\n",
      "50/50 [==============================] - 6s 125ms/step - loss: 1.1434 - acc: 0.6075 - val_loss: 1.2068 - val_acc: 0.5787\n",
      "Epoch 5/100\n",
      "50/50 [==============================] - 6s 125ms/step - loss: 1.0077 - acc: 0.6794 - val_loss: 0.9172 - val_acc: 0.7188\n",
      "Epoch 6/100\n",
      "50/50 [==============================] - 6s 126ms/step - loss: 0.7498 - acc: 0.7556 - val_loss: 0.8241 - val_acc: 0.7762\n",
      "Epoch 7/100\n",
      "50/50 [==============================] - 6s 126ms/step - loss: 0.6563 - acc: 0.7987 - val_loss: 0.8680 - val_acc: 0.7625\n",
      "Epoch 8/100\n",
      "50/50 [==============================] - 6s 126ms/step - loss: 0.6013 - acc: 0.8144 - val_loss: 0.6575 - val_acc: 0.8063\n",
      "Epoch 9/100\n",
      "50/50 [==============================] - 6s 126ms/step - loss: 0.5562 - acc: 0.8356 - val_loss: 0.7210 - val_acc: 0.7775\n",
      "Epoch 10/100\n",
      "50/50 [==============================] - 6s 125ms/step - loss: 0.4542 - acc: 0.8606 - val_loss: 0.5644 - val_acc: 0.8375\n",
      "Epoch 11/100\n",
      "50/50 [==============================] - 6s 126ms/step - loss: 0.4376 - acc: 0.8644 - val_loss: 0.5102 - val_acc: 0.8500\n",
      "Epoch 12/100\n",
      "50/50 [==============================] - 6s 125ms/step - loss: 0.4198 - acc: 0.8775 - val_loss: 0.4373 - val_acc: 0.8788\n",
      "Epoch 13/100\n",
      "50/50 [==============================] - 6s 125ms/step - loss: 0.4167 - acc: 0.8738 - val_loss: 0.5282 - val_acc: 0.8350\n",
      "Epoch 14/100\n",
      "50/50 [==============================] - 6s 126ms/step - loss: 0.4012 - acc: 0.8825 - val_loss: 0.4764 - val_acc: 0.8538\n",
      "Epoch 15/100\n",
      "50/50 [==============================] - 6s 126ms/step - loss: 0.3518 - acc: 0.9006 - val_loss: 0.4171 - val_acc: 0.8888\n",
      "Epoch 16/100\n",
      "50/50 [==============================] - 6s 126ms/step - loss: 0.2725 - acc: 0.9188 - val_loss: 0.4384 - val_acc: 0.8712\n",
      "Epoch 17/100\n",
      "50/50 [==============================] - 6s 126ms/step - loss: 0.3196 - acc: 0.9087 - val_loss: 0.4133 - val_acc: 0.8825\n",
      "Epoch 18/100\n",
      "50/50 [==============================] - 6s 130ms/step - loss: 0.3406 - acc: 0.9031 - val_loss: 0.3369 - val_acc: 0.8988\n",
      "Epoch 19/100\n",
      "50/50 [==============================] - 6s 126ms/step - loss: 0.2776 - acc: 0.9250 - val_loss: 0.3384 - val_acc: 0.9062\n",
      "Epoch 20/100\n",
      "50/50 [==============================] - 6s 126ms/step - loss: 0.2322 - acc: 0.9344 - val_loss: 0.3793 - val_acc: 0.8850\n",
      "Epoch 21/100\n",
      "50/50 [==============================] - 6s 126ms/step - loss: 0.2651 - acc: 0.9181 - val_loss: 0.4558 - val_acc: 0.8762\n",
      "Epoch 22/100\n",
      "50/50 [==============================] - 6s 126ms/step - loss: 0.2761 - acc: 0.9156 - val_loss: 0.4108 - val_acc: 0.8712\n",
      "Epoch 23/100\n",
      "50/50 [==============================] - 6s 126ms/step - loss: 0.2412 - acc: 0.9231 - val_loss: 0.3094 - val_acc: 0.9113\n",
      "Epoch 24/100\n",
      "50/50 [==============================] - 6s 125ms/step - loss: 0.2500 - acc: 0.9244 - val_loss: 0.4300 - val_acc: 0.8975\n",
      "Epoch 25/100\n",
      "50/50 [==============================] - 6s 126ms/step - loss: 0.2361 - acc: 0.9263 - val_loss: 0.3188 - val_acc: 0.8975\n",
      "Epoch 26/100\n",
      "50/50 [==============================] - 6s 128ms/step - loss: 0.2121 - acc: 0.9363 - val_loss: 0.3741 - val_acc: 0.8862\n",
      "Epoch 27/100\n",
      "50/50 [==============================] - 6s 127ms/step - loss: 0.2561 - acc: 0.9231 - val_loss: 0.3451 - val_acc: 0.8950\n",
      "Epoch 28/100\n",
      "50/50 [==============================] - 6s 126ms/step - loss: 0.1844 - acc: 0.9519 - val_loss: 0.3104 - val_acc: 0.9087\n",
      "Epoch 29/100\n",
      "50/50 [==============================] - 6s 128ms/step - loss: 0.1847 - acc: 0.9469 - val_loss: 0.4526 - val_acc: 0.8876\n",
      "Epoch 30/100\n",
      "50/50 [==============================] - 6s 126ms/step - loss: 0.2658 - acc: 0.9263 - val_loss: 0.2410 - val_acc: 0.9213\n",
      "Epoch 31/100\n",
      "50/50 [==============================] - 7s 133ms/step - loss: 0.2464 - acc: 0.9306 - val_loss: 0.4141 - val_acc: 0.8988\n",
      "Epoch 32/100\n",
      "50/50 [==============================] - 6s 128ms/step - loss: 0.1832 - acc: 0.9431 - val_loss: 0.3207 - val_acc: 0.9137\n",
      "Epoch 33/100\n",
      "50/50 [==============================] - 6s 126ms/step - loss: 0.1559 - acc: 0.9625 - val_loss: 0.2542 - val_acc: 0.9150\n",
      "Epoch 34/100\n",
      "50/50 [==============================] - 6s 126ms/step - loss: 0.1639 - acc: 0.9531 - val_loss: 0.2618 - val_acc: 0.9225\n",
      "Epoch 35/100\n",
      "50/50 [==============================] - 6s 125ms/step - loss: 0.1668 - acc: 0.9531 - val_loss: 0.2842 - val_acc: 0.9325\n",
      "Epoch 36/100\n",
      "50/50 [==============================] - 6s 126ms/step - loss: 0.2070 - acc: 0.9400 - val_loss: 0.2453 - val_acc: 0.9175\n",
      "Epoch 37/100\n",
      "50/50 [==============================] - 6s 127ms/step - loss: 0.1645 - acc: 0.9537 - val_loss: 0.2996 - val_acc: 0.9062\n",
      "Epoch 38/100\n",
      "50/50 [==============================] - 6s 127ms/step - loss: 0.1857 - acc: 0.9487 - val_loss: 0.2763 - val_acc: 0.9150\n",
      "Epoch 39/100\n",
      "50/50 [==============================] - 6s 126ms/step - loss: 0.1382 - acc: 0.9613 - val_loss: 0.2745 - val_acc: 0.9200\n",
      "Epoch 40/100\n",
      "50/50 [==============================] - 6s 127ms/step - loss: 0.1628 - acc: 0.9587 - val_loss: 0.3275 - val_acc: 0.9200\n",
      "Epoch 41/100\n",
      "50/50 [==============================] - 6s 126ms/step - loss: 0.1941 - acc: 0.9463 - val_loss: 0.2675 - val_acc: 0.9250\n",
      "Epoch 42/100\n",
      "50/50 [==============================] - 6s 126ms/step - loss: 0.1648 - acc: 0.9469 - val_loss: 0.3449 - val_acc: 0.9062\n",
      "Epoch 43/100\n",
      "50/50 [==============================] - 6s 126ms/step - loss: 0.1703 - acc: 0.9500 - val_loss: 0.4063 - val_acc: 0.9012\n",
      "Epoch 44/100\n",
      "50/50 [==============================] - 6s 127ms/step - loss: 0.1604 - acc: 0.9613 - val_loss: 0.2818 - val_acc: 0.9150\n",
      "Epoch 45/100\n",
      "50/50 [==============================] - 6s 127ms/step - loss: 0.1398 - acc: 0.9606 - val_loss: 0.2339 - val_acc: 0.9313\n",
      "Epoch 46/100\n",
      "50/50 [==============================] - 6s 125ms/step - loss: 0.1642 - acc: 0.9581 - val_loss: 0.2234 - val_acc: 0.9400\n",
      "Epoch 47/100\n",
      "50/50 [==============================] - 6s 126ms/step - loss: 0.1302 - acc: 0.9650 - val_loss: 0.2765 - val_acc: 0.9225\n",
      "Epoch 48/100\n",
      "50/50 [==============================] - 6s 126ms/step - loss: 0.1629 - acc: 0.9556 - val_loss: 0.2764 - val_acc: 0.9213\n",
      "Epoch 49/100\n",
      "50/50 [==============================] - 6s 126ms/step - loss: 0.1940 - acc: 0.9444 - val_loss: 0.2893 - val_acc: 0.9187\n",
      "Epoch 50/100\n",
      "50/50 [==============================] - 6s 126ms/step - loss: 0.1586 - acc: 0.9519 - val_loss: 0.2795 - val_acc: 0.9150\n",
      "Epoch 51/100\n",
      "50/50 [==============================] - 6s 126ms/step - loss: 0.1619 - acc: 0.9544 - val_loss: 0.2748 - val_acc: 0.9213\n",
      "Epoch 52/100\n",
      "50/50 [==============================] - 6s 127ms/step - loss: 0.1056 - acc: 0.9663 - val_loss: 0.2576 - val_acc: 0.9237\n",
      "Epoch 53/100\n",
      "50/50 [==============================] - 6s 126ms/step - loss: 0.1317 - acc: 0.9644 - val_loss: 0.2323 - val_acc: 0.9337\n",
      "Epoch 54/100\n",
      "50/50 [==============================] - 6s 127ms/step - loss: 0.1450 - acc: 0.9587 - val_loss: 0.3034 - val_acc: 0.9237\n",
      "Epoch 55/100\n",
      "50/50 [==============================] - 6s 126ms/step - loss: 0.1355 - acc: 0.9587 - val_loss: 0.3364 - val_acc: 0.9100\n",
      "Epoch 56/100\n",
      "50/50 [==============================] - 6s 125ms/step - loss: 0.1656 - acc: 0.9575 - val_loss: 0.2493 - val_acc: 0.9375\n",
      "Epoch 57/100\n",
      "50/50 [==============================] - 6s 126ms/step - loss: 0.1211 - acc: 0.9700 - val_loss: 0.2754 - val_acc: 0.9263\n",
      "Epoch 58/100\n",
      "50/50 [==============================] - 6s 129ms/step - loss: 0.1008 - acc: 0.9725 - val_loss: 0.2708 - val_acc: 0.9268\n",
      "Epoch 59/100\n",
      "50/50 [==============================] - 6s 126ms/step - loss: 0.1347 - acc: 0.9625 - val_loss: 0.2394 - val_acc: 0.9350\n",
      "Epoch 60/100\n",
      "50/50 [==============================] - 6s 126ms/step - loss: 0.1137 - acc: 0.9656 - val_loss: 0.2468 - val_acc: 0.9325\n",
      "Epoch 61/100\n",
      "50/50 [==============================] - 6s 126ms/step - loss: 0.1291 - acc: 0.9669 - val_loss: 0.3005 - val_acc: 0.9225\n",
      "Epoch 62/100\n"
     ]
    },
    {
     "name": "stdout",
     "output_type": "stream",
     "text": [
      "50/50 [==============================] - 6s 126ms/step - loss: 0.1265 - acc: 0.9637 - val_loss: 0.2431 - val_acc: 0.9337\n",
      "Epoch 63/100\n",
      "50/50 [==============================] - 6s 126ms/step - loss: 0.0981 - acc: 0.9775 - val_loss: 0.2937 - val_acc: 0.9225\n",
      "Epoch 64/100\n",
      "50/50 [==============================] - 6s 127ms/step - loss: 0.1272 - acc: 0.9619 - val_loss: 0.2277 - val_acc: 0.9413\n",
      "Epoch 65/100\n",
      "50/50 [==============================] - 6s 126ms/step - loss: 0.0681 - acc: 0.9769 - val_loss: 0.2384 - val_acc: 0.9425\n",
      "Epoch 66/100\n",
      "50/50 [==============================] - 6s 126ms/step - loss: 0.1030 - acc: 0.9700 - val_loss: 0.2434 - val_acc: 0.9387\n",
      "Epoch 67/100\n",
      "50/50 [==============================] - 6s 127ms/step - loss: 0.1311 - acc: 0.9688 - val_loss: 0.3255 - val_acc: 0.9125\n",
      "Epoch 68/100\n",
      "50/50 [==============================] - 6s 127ms/step - loss: 0.0862 - acc: 0.9725 - val_loss: 0.2915 - val_acc: 0.9213\n",
      "Epoch 69/100\n",
      "50/50 [==============================] - 6s 127ms/step - loss: 0.0932 - acc: 0.9744 - val_loss: 0.1841 - val_acc: 0.9525\n",
      "Epoch 70/100\n",
      "50/50 [==============================] - 6s 126ms/step - loss: 0.0977 - acc: 0.9719 - val_loss: 0.2087 - val_acc: 0.9413\n",
      "Epoch 71/100\n",
      "50/50 [==============================] - 6s 127ms/step - loss: 0.1011 - acc: 0.9706 - val_loss: 0.2256 - val_acc: 0.9400\n",
      "Epoch 72/100\n",
      "50/50 [==============================] - 6s 126ms/step - loss: 0.0934 - acc: 0.9725 - val_loss: 0.2378 - val_acc: 0.9387\n",
      "Epoch 73/100\n",
      "50/50 [==============================] - 6s 126ms/step - loss: 0.1294 - acc: 0.9663 - val_loss: 0.2516 - val_acc: 0.9237\n",
      "Epoch 74/100\n",
      "50/50 [==============================] - 6s 128ms/step - loss: 0.0787 - acc: 0.9788 - val_loss: 0.2082 - val_acc: 0.9513\n",
      "Epoch 75/100\n",
      "50/50 [==============================] - 6s 126ms/step - loss: 0.0927 - acc: 0.9706 - val_loss: 0.2078 - val_acc: 0.9450\n",
      "Epoch 76/100\n",
      "50/50 [==============================] - 6s 126ms/step - loss: 0.0848 - acc: 0.9700 - val_loss: 0.2004 - val_acc: 0.9325\n",
      "Epoch 77/100\n",
      "50/50 [==============================] - 6s 127ms/step - loss: 0.1122 - acc: 0.9712 - val_loss: 0.4116 - val_acc: 0.8925\n",
      "Epoch 78/100\n",
      "50/50 [==============================] - 6s 127ms/step - loss: 0.1459 - acc: 0.9625 - val_loss: 0.2431 - val_acc: 0.9387\n",
      "Epoch 79/100\n",
      "50/50 [==============================] - 6s 126ms/step - loss: 0.0964 - acc: 0.9712 - val_loss: 0.3043 - val_acc: 0.9125\n",
      "Epoch 80/100\n",
      "50/50 [==============================] - 6s 126ms/step - loss: 0.1154 - acc: 0.9631 - val_loss: 0.2533 - val_acc: 0.9237\n",
      "Epoch 81/100\n",
      "50/50 [==============================] - 6s 127ms/step - loss: 0.0954 - acc: 0.9725 - val_loss: 0.2058 - val_acc: 0.9413\n",
      "Epoch 82/100\n",
      "50/50 [==============================] - 6s 127ms/step - loss: 0.1196 - acc: 0.9669 - val_loss: 0.2343 - val_acc: 0.9287\n",
      "Epoch 83/100\n",
      "50/50 [==============================] - 6s 126ms/step - loss: 0.0853 - acc: 0.9706 - val_loss: 0.3125 - val_acc: 0.9038\n",
      "Epoch 84/100\n",
      "50/50 [==============================] - 6s 127ms/step - loss: 0.1233 - acc: 0.9694 - val_loss: 0.3303 - val_acc: 0.9187\n",
      "Epoch 85/100\n",
      "50/50 [==============================] - 6s 129ms/step - loss: 0.1063 - acc: 0.9706 - val_loss: 0.3483 - val_acc: 0.9113\n",
      "Epoch 86/100\n",
      "50/50 [==============================] - 6s 127ms/step - loss: 0.1167 - acc: 0.9706 - val_loss: 0.2898 - val_acc: 0.9137\n",
      "Epoch 87/100\n",
      "50/50 [==============================] - 6s 128ms/step - loss: 0.0913 - acc: 0.9744 - val_loss: 0.2384 - val_acc: 0.9369\n",
      "Epoch 88/100\n",
      "50/50 [==============================] - 6s 126ms/step - loss: 0.0734 - acc: 0.9819 - val_loss: 0.1822 - val_acc: 0.9475\n",
      "Epoch 89/100\n",
      "50/50 [==============================] - 6s 127ms/step - loss: 0.1036 - acc: 0.9731 - val_loss: 0.1481 - val_acc: 0.9550\n",
      "Epoch 90/100\n",
      "50/50 [==============================] - 6s 127ms/step - loss: 0.1057 - acc: 0.9712 - val_loss: 0.2569 - val_acc: 0.9313\n",
      "Epoch 91/100\n",
      "50/50 [==============================] - 6s 126ms/step - loss: 0.1401 - acc: 0.9663 - val_loss: 0.2352 - val_acc: 0.9387\n",
      "Epoch 92/100\n",
      "50/50 [==============================] - 6s 127ms/step - loss: 0.1084 - acc: 0.9744 - val_loss: 0.2933 - val_acc: 0.9363\n",
      "Epoch 93/100\n",
      "50/50 [==============================] - 6s 126ms/step - loss: 0.0931 - acc: 0.9687 - val_loss: 0.2234 - val_acc: 0.9325\n",
      "Epoch 94/100\n",
      "50/50 [==============================] - 6s 127ms/step - loss: 0.0637 - acc: 0.9756 - val_loss: 0.2129 - val_acc: 0.9425\n",
      "Epoch 95/100\n",
      "50/50 [==============================] - 6s 127ms/step - loss: 0.0846 - acc: 0.9844 - val_loss: 0.3027 - val_acc: 0.9263\n",
      "Epoch 96/100\n",
      "50/50 [==============================] - 6s 127ms/step - loss: 0.1163 - acc: 0.9681 - val_loss: 0.3325 - val_acc: 0.9263\n",
      "Epoch 97/100\n",
      "50/50 [==============================] - 6s 127ms/step - loss: 0.0765 - acc: 0.9769 - val_loss: 0.2068 - val_acc: 0.9563\n",
      "Epoch 98/100\n",
      "50/50 [==============================] - 6s 127ms/step - loss: 0.0693 - acc: 0.9825 - val_loss: 0.2235 - val_acc: 0.9363\n",
      "Epoch 99/100\n",
      "50/50 [==============================] - 6s 126ms/step - loss: 0.0960 - acc: 0.9731 - val_loss: 0.3731 - val_acc: 0.9263\n",
      "Epoch 100/100\n",
      "50/50 [==============================] - 6s 127ms/step - loss: 0.0860 - acc: 0.9775 - val_loss: 0.1539 - val_acc: 0.9575\n"
     ]
    }
   ],
   "source": [
    "history = model.fit_generator(\n",
    "        train_generator,\n",
    "        steps_per_epoch=50,\n",
    "        epochs=100,\n",
    "        validation_data=validation_generator,\n",
    "        validation_steps=25)"
   ]
  },
  {
   "cell_type": "code",
   "execution_count": 7,
   "metadata": {},
   "outputs": [],
   "source": [
    "model.save('number_skel1.h5')"
   ]
  },
  {
   "cell_type": "code",
   "execution_count": 8,
   "metadata": {},
   "outputs": [
    {
     "data": {
      "image/png": "[encoded data removed]",
      "text/plain": [
       "<Figure size 432x288 with 1 Axes>"
      ]
     },
     "metadata": {
      "needs_background": "light"
     },
     "output_type": "display_data"
    }
   ],
   "source": [
    "import matplotlib.pyplot as plt\n",
    "%matplotlib inline\n",
    "acc = history.history['acc']\n",
    "val_acc = history.history['val_acc']\n",
    "loss = history.history['loss']\n",
    "val_loss = history.history['val_loss']\n",
    "\n",
    "epochs = range(1, len(acc) + 1)\n",
    "\n",
    "plt.plot(epochs,loss,'bo',label='Training loss')\n",
    "plt.plot(epochs,val_loss,'b',label='Validation loss')\n",
    "plt.title('Training and validation loss')\n",
    "plt.legend()\n",
    "\n",
    "plt.show()"
   ]
  },
  {
   "cell_type": "code",
   "execution_count": 9,
   "metadata": {},
   "outputs": [
    {
     "data": {
      "image/png": "[encoded data removed]",
      "text/plain": [
       "<Figure size 432x288 with 1 Axes>"
      ]
     },
     "metadata": {
      "needs_background": "light"
     },
     "output_type": "display_data"
    }
   ],
   "source": [
    "acc = history.history['acc']\n",
    "val_acc = history.history['val_acc']\n",
    "loss = history.history['loss']\n",
    "val_loss = history.history['val_loss']\n",
    "\n",
    "epochs = range(1, len(acc) + 1)\n",
    "\n",
    "plt.plot(epochs,acc,'bo',label='Training acc')\n",
    "plt.plot(epochs,val_acc,'b',label='Validation acc')\n",
    "plt.title('Training and validation acc')\n",
    "plt.legend()\n",
    "\n",
    "plt.show()"
   ]
  },
  {
   "cell_type": "code",
   "execution_count": 11,
   "metadata": {},
   "outputs": [
    {
     "name": "stdout",
     "output_type": "stream",
     "text": [
      "Found 16000 images belonging to 10 classes.\n"
     ]
    }
   ],
   "source": [
    "import glob\n",
    "from PIL import Image\n",
    "from keras.preprocessing import image\n",
    "import numpy as np\n",
    "import matplotlib.pyplot as plt\n",
    "%matplotlib inline\n",
    "\n",
    "from keras import backend as K\n",
    "from keras.models import load_model\n",
    "model = load_model('number_painting.h5')\n",
    "\n",
    "test_generator = test_datagen.flow_from_directory(test_dir, #타깃 디렉터리\n",
    "                                                    target_size=(50,50), #모든 이미지 150X150으로 변경\n",
    "                                                    batch_size=32, #\n",
    "                                                    class_mode='categorical')\n",
    "filenames = test_generator.filenames\n",
    "nb_samples = len(filenames)\n",
    "\n",
    "predict = model.predict_generator(test_generator,steps = nb_samples)\n",
    "\n",
    "\n",
    "# img_path='정규화원본/test/0/normalizationSF61527.bmp'\n",
    "# img = image.load_img(img_path,target_size=(50,50))\n",
    "# plt.imshow(img)\n",
    "\n",
    "# x=image.img_to_array(img)\n",
    "# x=np.expand_dims(x,axis=0)\n",
    "# x=x/255.\n",
    "\n",
    "\n",
    "\n",
    "    \n",
    "# prediction =model.predict_classes(x)\n",
    "# #prediction =model.predict(x)\n",
    "# print(prediction)\n",
    "#np.set_printoptions(formatter={'float': lambda x: \"{0:0.3f}\".format(x)})"
   ]
  },
  {
   "cell_type": "code",
   "execution_count": 12,
   "metadata": {},
   "outputs": [
    {
     "name": "stdout",
     "output_type": "stream",
     "text": [
      "[[1.4805024e-12 1.1785224e-07 6.3136611e-09 ... 2.8993970e-08\n",
      "  9.0014958e-04 9.9857461e-01]\n",
      " [1.9701421e-20 1.5478572e-13 1.1277125e-08 ... 7.4333890e-14\n",
      "  2.8034918e-13 2.0277668e-09]\n",
      " [2.1695259e-08 1.2088515e-10 9.9999952e-01 ... 3.1641762e-12\n",
      "  8.7501579e-09 9.3021780e-12]\n",
      " ...\n",
      " [1.1762357e-08 6.4647296e-09 9.8120683e-01 ... 5.0785470e-15\n",
      "  1.4821206e-02 1.2623608e-10]\n",
      " [1.9819144e-12 4.4178825e-09 8.0529509e-07 ... 2.5734730e-18\n",
      "  3.7482283e-07 1.5394195e-14]\n",
      " [9.9963963e-01 2.8910181e-05 3.3125063e-04 ... 1.5962215e-07\n",
      "  1.7784911e-08 6.5505856e-12]]\n"
     ]
    }
   ],
   "source": [
    "print(predict)"
   ]
  },
  {
   "cell_type": "code",
   "execution_count": 10,
   "metadata": {},
   "outputs": [
    {
     "name": "stdout",
     "output_type": "stream",
     "text": [
      "Found 16000 images belonging to 10 classes.\n",
      "500/500 [==============================] - 18s 36ms/step\n"
     ]
    }
   ],
   "source": [
    "test_generator = test_datagen.flow_from_directory(test_dir, #타깃 디렉터리\n",
    "                                                    target_size=(50,50), #모든 이미지 150X150으로 변경\n",
    "                                                    batch_size=32, #\n",
    "                                                    class_mode='categorical')\n",
    "score=model.evaluate(test_generator)"
   ]
  },
  {
   "cell_type": "code",
   "execution_count": 11,
   "metadata": {},
   "outputs": [
    {
     "name": "stdout",
     "output_type": "stream",
     "text": [
      "[0.15573412295526942, 0.96175]\n"
     ]
    }
   ],
   "source": [
    "print(score)"
   ]
  },
  {
   "cell_type": "code",
   "execution_count": null,
   "metadata": {},
   "outputs": [],
   "source": []
  }
 ],
 "metadata": {
  "kernelspec": {
   "display_name": "Python 3",
   "language": "python",
   "name": "python3"
  },
  "language_info": {
   "codemirror_mode": {
    "name": "ipython",
    "version": 3
   },
   "file_extension": ".py",
   "mimetype": "text/x-python",
   "name": "python",
   "nbconvert_exporter": "python",
   "pygments_lexer": "ipython3",
   "version": "3.7.4"
  }
 },
 "nbformat": 4,
 "nbformat_minor": 2
}
