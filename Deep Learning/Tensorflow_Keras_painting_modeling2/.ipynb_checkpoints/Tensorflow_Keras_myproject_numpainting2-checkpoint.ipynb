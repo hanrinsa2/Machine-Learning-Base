{
 "cells": [
  {
   "cell_type": "code",
   "execution_count": 1,
   "metadata": {},
   "outputs": [],
   "source": [
    "import os, shutil\n",
    "\n",
    "base_dir = '딥러닝원본2'\n",
    "\n",
    "\n",
    "train_dir = os.path.join(base_dir, 'train')\n",
    "validation_dir = os.path.join(base_dir, 'validation')\n",
    "test_dir = os.path.join(base_dir, 'test')\n",
    "\n",
    "\n",
    "train_0_dir = os.path.join(train_dir, '0')\n",
    "train_1_dir = os.path.join(train_dir, '1')\n",
    "train_2_dir = os.path.join(train_dir, '2')\n",
    "train_3_dir = os.path.join(train_dir, '3')\n",
    "train_4_dir = os.path.join(train_dir, '4')\n",
    "train_5_dir = os.path.join(train_dir, '5')\n",
    "train_6_dir = os.path.join(train_dir, '6')\n",
    "train_7_dir = os.path.join(train_dir, '7')\n",
    "train_8_dir = os.path.join(train_dir, '8')\n",
    "train_9_dir = os.path.join(train_dir, '9')\n",
    "\n",
    "\n",
    "validation_0_dir = os.path.join(validation_dir, '0')\n",
    "validation_1_dir = os.path.join(validation_dir, '1')\n",
    "validation_2_dir = os.path.join(validation_dir, '2')\n",
    "validation_3_dir = os.path.join(validation_dir, '3')\n",
    "validation_4_dir = os.path.join(validation_dir, '4')\n",
    "validation_5_dir = os.path.join(validation_dir, '5')\n",
    "validation_6_dir = os.path.join(validation_dir, '6')\n",
    "validation_7_dir = os.path.join(validation_dir, '7')\n",
    "validation_8_dir = os.path.join(validation_dir, '8')\n",
    "validation_9_dir = os.path.join(validation_dir, '9')\n",
    "\n",
    "\n",
    "test_0_dir = os.path.join(test_dir, '0')\n",
    "test_1_dir = os.path.join(test_dir, '1')\n",
    "test_2_dir = os.path.join(test_dir, '2')\n",
    "test_3_dir = os.path.join(test_dir, '3')\n",
    "test_4_dir = os.path.join(test_dir, '4')\n",
    "test_5_dir = os.path.join(test_dir, '5')\n",
    "test_6_dir = os.path.join(test_dir, '6')\n",
    "test_7_dir = os.path.join(test_dir, '7')\n",
    "test_8_dir = os.path.join(test_dir, '8')\n",
    "test_9_dir = os.path.join(test_dir, '9')"
   ]
  },
  {
   "cell_type": "code",
   "execution_count": 2,
   "metadata": {},
   "outputs": [
    {
     "name": "stdout",
     "output_type": "stream",
     "text": [
      "훈련용 0 이미지 전체 개수 :  5000\n",
      "검증용 0 이미지 전체 개수 :  2300\n",
      "테스트용 0 이미지 전체 개수 :  1600\n"
     ]
    }
   ],
   "source": [
    "print('훈련용 0 이미지 전체 개수 : ', len(os.listdir(train_0_dir)))\n",
    "\n",
    "print('검증용 0 이미지 전체 개수 : ', len(os.listdir(validation_0_dir)))\n",
    "\n",
    "print('테스트용 0 이미지 전체 개수 : ', len(os.listdir(test_0_dir)))\n"
   ]
  },
  {
   "cell_type": "code",
   "execution_count": 7,
   "metadata": {},
   "outputs": [],
   "source": [
    "from keras import layers\n",
    "from keras import models\n",
    "from keras.layers import Dropout\n",
    "model = models.Sequential()\n",
    "model.add(layers.Conv2D(64,(8,8), activation='relu',\n",
    "                       input_shape=(50,50,3)))\n",
    "model.add(layers.AvgPool2D((2,2),(2,2)))\n",
    "model.add(layers.Conv2D(128,(5,5),activation='relu'))\n",
    "model.add(layers.MaxPooling2D((2,2),(2,2)))\n",
    "model.add(layers.Conv2D(128,(3,3),activation='relu'))\n",
    "\n",
    "\n",
    "model.add(layers.Flatten())\n",
    "model.add(layers.Dense(1024,activation='relu'))\n",
    "model.add(Dropout(0.3))\n",
    "model.add(layers.Dense(512,activation='relu'))\n",
    "model.add(Dropout(0.3))\n",
    "model.add(layers.Dense(128,activation='relu'))\n",
    "model.add(Dropout(0.3))\n",
    "model.add(layers.Dense(10,activation='softmax'))"
   ]
  },
  {
   "cell_type": "code",
   "execution_count": 8,
   "metadata": {},
   "outputs": [],
   "source": [
    "from keras import optimizers\n",
    "\n",
    "model.compile(loss='categorical_crossentropy',\n",
    "             optimizer='adam',\n",
    "             metrics=['acc'])\n"
   ]
  },
  {
   "cell_type": "code",
   "execution_count": 9,
   "metadata": {},
   "outputs": [
    {
     "name": "stdout",
     "output_type": "stream",
     "text": [
      "Found 50000 images belonging to 10 classes.\n",
      "Found 23000 images belonging to 10 classes.\n"
     ]
    }
   ],
   "source": [
    "from keras.preprocessing.image import ImageDataGenerator\n",
    "\n",
    "train_datagen = ImageDataGenerator(rescale=1./255)\n",
    "test_datagen = ImageDataGenerator(rescale=1./255)\n",
    "\n",
    "train_generator = train_datagen.flow_from_directory(train_dir, #타깃 디렉터리\n",
    "                                                    target_size=(50,50), #모든 이미지 150X150으로 변경\n",
    "                                                    batch_size=32, #\n",
    "                                                    class_mode='categorical')\n",
    "\n",
    "validation_generator = test_datagen.flow_from_directory(validation_dir, target_size=(50,50),batch_size=32, class_mode='categorical')"
   ]
  },
  {
   "cell_type": "code",
   "execution_count": 10,
   "metadata": {
    "scrolled": false
   },
   "outputs": [
    {
     "name": "stdout",
     "output_type": "stream",
     "text": [
      "Epoch 1/100\n",
      "50/50 [==============================] - 8s 164ms/step - loss: 2.0665 - acc: 0.2519 - val_loss: 1.5448 - val_acc: 0.4537\n",
      "Epoch 2/100\n",
      "50/50 [==============================] - 6s 127ms/step - loss: 1.1020 - acc: 0.6456 - val_loss: 0.7982 - val_acc: 0.7612\n",
      "Epoch 3/100\n",
      "50/50 [==============================] - 6s 127ms/step - loss: 0.6029 - acc: 0.8131 - val_loss: 0.8616 - val_acc: 0.7163\n",
      "Epoch 4/100\n",
      "50/50 [==============================] - 6s 126ms/step - loss: 0.4372 - acc: 0.8725 - val_loss: 0.4881 - val_acc: 0.8488\n",
      "Epoch 5/100\n",
      "50/50 [==============================] - 6s 127ms/step - loss: 0.3336 - acc: 0.9087 - val_loss: 0.3595 - val_acc: 0.8888\n",
      "Epoch 6/100\n",
      "50/50 [==============================] - 6s 127ms/step - loss: 0.2632 - acc: 0.9200 - val_loss: 0.3144 - val_acc: 0.9075\n",
      "Epoch 7/100\n",
      "50/50 [==============================] - 6s 127ms/step - loss: 0.2882 - acc: 0.9144 - val_loss: 0.2596 - val_acc: 0.9287\n",
      "Epoch 8/100\n",
      "50/50 [==============================] - 6s 126ms/step - loss: 0.2038 - acc: 0.9375 - val_loss: 0.2438 - val_acc: 0.9387\n",
      "Epoch 9/100\n",
      "50/50 [==============================] - 6s 126ms/step - loss: 0.1595 - acc: 0.9519 - val_loss: 0.2855 - val_acc: 0.9313\n",
      "Epoch 10/100\n",
      "50/50 [==============================] - 6s 127ms/step - loss: 0.2138 - acc: 0.9412 - val_loss: 0.2201 - val_acc: 0.9313\n",
      "Epoch 11/100\n",
      "50/50 [==============================] - 6s 126ms/step - loss: 0.1639 - acc: 0.9487 - val_loss: 0.2955 - val_acc: 0.9187\n",
      "Epoch 12/100\n",
      "50/50 [==============================] - 6s 126ms/step - loss: 0.1710 - acc: 0.9487 - val_loss: 0.2860 - val_acc: 0.9225\n",
      "Epoch 13/100\n",
      "50/50 [==============================] - 6s 127ms/step - loss: 0.1706 - acc: 0.9544 - val_loss: 0.1773 - val_acc: 0.9487\n",
      "Epoch 14/100\n",
      "50/50 [==============================] - 6s 127ms/step - loss: 0.1507 - acc: 0.9587 - val_loss: 0.2060 - val_acc: 0.9400\n",
      "Epoch 15/100\n",
      "50/50 [==============================] - 6s 126ms/step - loss: 0.1385 - acc: 0.9600 - val_loss: 0.1429 - val_acc: 0.9550\n",
      "Epoch 16/100\n",
      "50/50 [==============================] - 6s 126ms/step - loss: 0.0955 - acc: 0.9750 - val_loss: 0.2248 - val_acc: 0.9400\n",
      "Epoch 17/100\n",
      "50/50 [==============================] - 6s 126ms/step - loss: 0.1124 - acc: 0.9694 - val_loss: 0.1659 - val_acc: 0.9450\n",
      "Epoch 18/100\n",
      "50/50 [==============================] - 6s 127ms/step - loss: 0.1527 - acc: 0.9562 - val_loss: 0.2854 - val_acc: 0.9163\n",
      "Epoch 19/100\n",
      "50/50 [==============================] - 6s 127ms/step - loss: 0.1256 - acc: 0.9631 - val_loss: 0.2291 - val_acc: 0.9325\n",
      "Epoch 20/100\n",
      "50/50 [==============================] - 6s 126ms/step - loss: 0.1216 - acc: 0.9637 - val_loss: 0.2828 - val_acc: 0.9125\n",
      "Epoch 21/100\n",
      "50/50 [==============================] - 6s 126ms/step - loss: 0.1147 - acc: 0.9706 - val_loss: 0.2185 - val_acc: 0.9437\n",
      "Epoch 22/100\n",
      "50/50 [==============================] - 6s 127ms/step - loss: 0.0771 - acc: 0.9775 - val_loss: 0.2031 - val_acc: 0.9450\n",
      "Epoch 23/100\n",
      "50/50 [==============================] - 6s 129ms/step - loss: 0.0943 - acc: 0.9756 - val_loss: 0.3070 - val_acc: 0.9300\n",
      "Epoch 24/100\n",
      "50/50 [==============================] - 6s 127ms/step - loss: 0.1021 - acc: 0.9731 - val_loss: 0.2344 - val_acc: 0.9425\n",
      "Epoch 25/100\n",
      "50/50 [==============================] - 6s 126ms/step - loss: 0.0879 - acc: 0.9756 - val_loss: 0.1657 - val_acc: 0.9613\n",
      "Epoch 26/100\n",
      "50/50 [==============================] - 6s 127ms/step - loss: 0.1182 - acc: 0.9688 - val_loss: 0.2473 - val_acc: 0.9350\n",
      "Epoch 27/100\n",
      "50/50 [==============================] - 6s 127ms/step - loss: 0.1093 - acc: 0.9744 - val_loss: 0.2427 - val_acc: 0.9375\n",
      "Epoch 28/100\n",
      "50/50 [==============================] - 6s 127ms/step - loss: 0.1006 - acc: 0.9750 - val_loss: 0.2058 - val_acc: 0.9550\n",
      "Epoch 29/100\n",
      "50/50 [==============================] - 6s 129ms/step - loss: 0.0881 - acc: 0.9794 - val_loss: 0.1763 - val_acc: 0.9558\n",
      "Epoch 30/100\n",
      "50/50 [==============================] - 6s 126ms/step - loss: 0.0887 - acc: 0.9744 - val_loss: 0.1731 - val_acc: 0.9550\n",
      "Epoch 31/100\n",
      "50/50 [==============================] - 6s 127ms/step - loss: 0.0848 - acc: 0.9762 - val_loss: 0.1671 - val_acc: 0.9587\n",
      "Epoch 32/100\n",
      "50/50 [==============================] - 6s 126ms/step - loss: 0.0863 - acc: 0.9775 - val_loss: 0.1358 - val_acc: 0.9613\n",
      "Epoch 33/100\n",
      "50/50 [==============================] - 6s 127ms/step - loss: 0.0633 - acc: 0.9806 - val_loss: 0.1435 - val_acc: 0.9537\n",
      "Epoch 34/100\n",
      "50/50 [==============================] - 6s 126ms/step - loss: 0.0691 - acc: 0.9781 - val_loss: 0.1590 - val_acc: 0.9587\n",
      "Epoch 35/100\n",
      "50/50 [==============================] - 6s 127ms/step - loss: 0.0893 - acc: 0.9775 - val_loss: 0.1736 - val_acc: 0.9625\n",
      "Epoch 36/100\n",
      "50/50 [==============================] - 6s 129ms/step - loss: 0.0583 - acc: 0.9825 - val_loss: 0.1093 - val_acc: 0.9600\n",
      "Epoch 37/100\n",
      "50/50 [==============================] - 6s 128ms/step - loss: 0.0729 - acc: 0.9775 - val_loss: 0.1543 - val_acc: 0.9575\n",
      "Epoch 38/100\n",
      "50/50 [==============================] - 6s 129ms/step - loss: 0.0606 - acc: 0.9831 - val_loss: 0.1841 - val_acc: 0.9525\n",
      "Epoch 39/100\n",
      "50/50 [==============================] - 7s 130ms/step - loss: 0.0527 - acc: 0.9819 - val_loss: 0.1599 - val_acc: 0.9563\n",
      "Epoch 40/100\n",
      "50/50 [==============================] - 6s 129ms/step - loss: 0.0746 - acc: 0.9806 - val_loss: 0.1742 - val_acc: 0.9513\n",
      "Epoch 41/100\n",
      "50/50 [==============================] - 6s 129ms/step - loss: 0.0600 - acc: 0.9875 - val_loss: 0.1367 - val_acc: 0.9563\n",
      "Epoch 42/100\n",
      "50/50 [==============================] - 6s 128ms/step - loss: 0.0671 - acc: 0.9825 - val_loss: 0.1454 - val_acc: 0.9525\n",
      "Epoch 43/100\n",
      "50/50 [==============================] - 6s 127ms/step - loss: 0.0943 - acc: 0.9762 - val_loss: 0.1617 - val_acc: 0.9525\n",
      "Epoch 44/100\n",
      "50/50 [==============================] - 6s 127ms/step - loss: 0.0844 - acc: 0.9775 - val_loss: 0.1884 - val_acc: 0.9587\n",
      "Epoch 45/100\n",
      "50/50 [==============================] - 6s 127ms/step - loss: 0.0797 - acc: 0.9800 - val_loss: 0.1955 - val_acc: 0.9475\n",
      "Epoch 46/100\n",
      "50/50 [==============================] - 6s 127ms/step - loss: 0.0816 - acc: 0.9806 - val_loss: 0.1741 - val_acc: 0.9513\n",
      "Epoch 47/100\n",
      "50/50 [==============================] - 6s 129ms/step - loss: 0.0853 - acc: 0.9744 - val_loss: 0.1658 - val_acc: 0.9613\n",
      "Epoch 48/100\n",
      "50/50 [==============================] - 6s 128ms/step - loss: 0.0876 - acc: 0.9762 - val_loss: 0.1609 - val_acc: 0.9675\n",
      "Epoch 49/100\n",
      "50/50 [==============================] - 6s 128ms/step - loss: 0.0724 - acc: 0.9825 - val_loss: 0.1718 - val_acc: 0.9500\n",
      "Epoch 50/100\n",
      "50/50 [==============================] - 6s 127ms/step - loss: 0.0658 - acc: 0.9850 - val_loss: 0.2107 - val_acc: 0.9475\n",
      "Epoch 51/100\n",
      "50/50 [==============================] - 6s 127ms/step - loss: 0.0579 - acc: 0.9825 - val_loss: 0.2177 - val_acc: 0.9500\n",
      "Epoch 52/100\n",
      "50/50 [==============================] - 6s 129ms/step - loss: 0.1004 - acc: 0.9750 - val_loss: 0.1589 - val_acc: 0.9575\n",
      "Epoch 53/100\n",
      "50/50 [==============================] - 6s 129ms/step - loss: 0.0618 - acc: 0.9831 - val_loss: 0.0990 - val_acc: 0.9725\n",
      "Epoch 54/100\n",
      "50/50 [==============================] - 6s 128ms/step - loss: 0.0457 - acc: 0.9863 - val_loss: 0.2107 - val_acc: 0.9487\n",
      "Epoch 55/100\n",
      "50/50 [==============================] - 6s 128ms/step - loss: 0.0572 - acc: 0.9850 - val_loss: 0.1189 - val_acc: 0.9712\n",
      "Epoch 56/100\n",
      "50/50 [==============================] - 6s 127ms/step - loss: 0.0624 - acc: 0.9869 - val_loss: 0.1141 - val_acc: 0.9712\n",
      "Epoch 57/100\n",
      "50/50 [==============================] - 6s 128ms/step - loss: 0.0784 - acc: 0.9813 - val_loss: 0.1223 - val_acc: 0.9650\n",
      "Epoch 58/100\n",
      "50/50 [==============================] - 6s 129ms/step - loss: 0.0603 - acc: 0.9869 - val_loss: 0.1870 - val_acc: 0.9444\n",
      "Epoch 59/100\n",
      "50/50 [==============================] - 6s 128ms/step - loss: 0.0550 - acc: 0.9825 - val_loss: 0.1087 - val_acc: 0.9637\n",
      "Epoch 60/100\n",
      "50/50 [==============================] - 6s 127ms/step - loss: 0.0620 - acc: 0.9856 - val_loss: 0.1374 - val_acc: 0.9563\n",
      "Epoch 61/100\n",
      "50/50 [==============================] - 6s 127ms/step - loss: 0.0549 - acc: 0.9850 - val_loss: 0.1732 - val_acc: 0.9663\n",
      "Epoch 62/100\n",
      "50/50 [==============================] - 6s 127ms/step - loss: 0.0603 - acc: 0.9844 - val_loss: 0.1773 - val_acc: 0.9675\n",
      "Epoch 63/100\n",
      "50/50 [==============================] - 6s 127ms/step - loss: 0.0322 - acc: 0.9925 - val_loss: 0.2018 - val_acc: 0.9650\n",
      "Epoch 64/100\n",
      "50/50 [==============================] - 6s 128ms/step - loss: 0.0478 - acc: 0.9881 - val_loss: 0.1761 - val_acc: 0.9650\n",
      "Epoch 65/100\n",
      "50/50 [==============================] - 6s 128ms/step - loss: 0.0391 - acc: 0.9906 - val_loss: 0.1782 - val_acc: 0.9587\n",
      "Epoch 66/100\n",
      "50/50 [==============================] - 6s 128ms/step - loss: 0.0764 - acc: 0.9850 - val_loss: 0.1947 - val_acc: 0.9475\n",
      "Epoch 67/100\n",
      "50/50 [==============================] - 6s 128ms/step - loss: 0.0379 - acc: 0.9900 - val_loss: 0.1737 - val_acc: 0.9613\n",
      "Epoch 68/100\n",
      "50/50 [==============================] - 6s 127ms/step - loss: 0.0314 - acc: 0.9919 - val_loss: 0.2408 - val_acc: 0.9437\n",
      "Epoch 69/100\n",
      "50/50 [==============================] - 6s 127ms/step - loss: 0.0684 - acc: 0.9838 - val_loss: 0.2700 - val_acc: 0.9475\n",
      "Epoch 70/100\n",
      "50/50 [==============================] - 6s 129ms/step - loss: 0.1026 - acc: 0.9775 - val_loss: 0.3028 - val_acc: 0.9313\n",
      "Epoch 71/100\n",
      "50/50 [==============================] - 6s 128ms/step - loss: 0.1196 - acc: 0.9688 - val_loss: 0.3471 - val_acc: 0.9300\n",
      "Epoch 72/100\n",
      "50/50 [==============================] - 6s 129ms/step - loss: 0.0639 - acc: 0.9825 - val_loss: 0.2558 - val_acc: 0.9413\n",
      "Epoch 73/100\n",
      "50/50 [==============================] - 6s 128ms/step - loss: 0.1511 - acc: 0.9669 - val_loss: 0.2952 - val_acc: 0.9387\n",
      "Epoch 74/100\n",
      "50/50 [==============================] - 6s 129ms/step - loss: 0.1401 - acc: 0.9706 - val_loss: 0.3618 - val_acc: 0.9275\n",
      "Epoch 75/100\n",
      "50/50 [==============================] - 6s 127ms/step - loss: 0.0648 - acc: 0.9831 - val_loss: 0.1394 - val_acc: 0.9650\n",
      "Epoch 76/100\n",
      "50/50 [==============================] - 6s 128ms/step - loss: 0.0562 - acc: 0.9806 - val_loss: 0.2316 - val_acc: 0.9513\n",
      "Epoch 77/100\n",
      "50/50 [==============================] - 6s 129ms/step - loss: 0.0624 - acc: 0.9831 - val_loss: 0.2161 - val_acc: 0.9525\n",
      "Epoch 78/100\n",
      "50/50 [==============================] - 6s 128ms/step - loss: 0.0952 - acc: 0.9762 - val_loss: 0.1648 - val_acc: 0.9513\n",
      "Epoch 79/100\n",
      "50/50 [==============================] - 6s 129ms/step - loss: 0.0514 - acc: 0.9881 - val_loss: 0.1391 - val_acc: 0.9688\n",
      "Epoch 80/100\n",
      "50/50 [==============================] - 6s 128ms/step - loss: 0.0579 - acc: 0.9875 - val_loss: 0.1995 - val_acc: 0.9537\n",
      "Epoch 81/100\n",
      "50/50 [==============================] - 6s 128ms/step - loss: 0.0705 - acc: 0.9844 - val_loss: 0.1390 - val_acc: 0.9613\n",
      "Epoch 82/100\n",
      "50/50 [==============================] - 6s 128ms/step - loss: 0.0380 - acc: 0.9881 - val_loss: 0.1371 - val_acc: 0.9700\n",
      "Epoch 83/100\n",
      "50/50 [==============================] - 6s 128ms/step - loss: 0.0677 - acc: 0.9862 - val_loss: 0.1310 - val_acc: 0.9625\n",
      "Epoch 84/100\n",
      "50/50 [==============================] - 6s 127ms/step - loss: 0.0481 - acc: 0.9875 - val_loss: 0.1663 - val_acc: 0.9537\n",
      "Epoch 85/100\n",
      "50/50 [==============================] - 6s 130ms/step - loss: 0.0707 - acc: 0.9862 - val_loss: 0.1612 - val_acc: 0.9637\n",
      "Epoch 86/100\n",
      "50/50 [==============================] - 6s 128ms/step - loss: 0.0589 - acc: 0.9856 - val_loss: 0.1392 - val_acc: 0.9663\n",
      "Epoch 87/100\n",
      "50/50 [==============================] - 6s 129ms/step - loss: 0.0465 - acc: 0.9875 - val_loss: 0.1226 - val_acc: 0.9646\n",
      "Epoch 88/100\n",
      "50/50 [==============================] - 6s 127ms/step - loss: 0.0302 - acc: 0.9912 - val_loss: 0.1495 - val_acc: 0.9600\n",
      "Epoch 89/100\n",
      "50/50 [==============================] - 7s 131ms/step - loss: 0.0404 - acc: 0.9900 - val_loss: 0.0969 - val_acc: 0.9762\n",
      "Epoch 90/100\n",
      "50/50 [==============================] - 7s 131ms/step - loss: 0.0254 - acc: 0.9912 - val_loss: 0.1950 - val_acc: 0.9650\n",
      "Epoch 91/100\n",
      "50/50 [==============================] - 6s 128ms/step - loss: 0.0480 - acc: 0.9881 - val_loss: 0.1160 - val_acc: 0.9637\n",
      "Epoch 92/100\n",
      "50/50 [==============================] - 6s 129ms/step - loss: 0.0847 - acc: 0.9819 - val_loss: 0.1582 - val_acc: 0.9625\n",
      "Epoch 93/100\n",
      "50/50 [==============================] - 6s 128ms/step - loss: 0.0370 - acc: 0.9900 - val_loss: 0.1414 - val_acc: 0.9675\n",
      "Epoch 94/100\n",
      "50/50 [==============================] - 6s 130ms/step - loss: 0.0997 - acc: 0.9788 - val_loss: 0.1559 - val_acc: 0.9613\n",
      "Epoch 95/100\n",
      "50/50 [==============================] - 7s 136ms/step - loss: 0.0343 - acc: 0.9881 - val_loss: 0.1912 - val_acc: 0.9513\n",
      "Epoch 96/100\n",
      "50/50 [==============================] - 6s 128ms/step - loss: 0.0246 - acc: 0.9925 - val_loss: 0.1299 - val_acc: 0.9700\n",
      "Epoch 97/100\n",
      "50/50 [==============================] - 6s 127ms/step - loss: 0.0214 - acc: 0.9950 - val_loss: 0.1152 - val_acc: 0.9675\n",
      "Epoch 98/100\n",
      "50/50 [==============================] - 6s 129ms/step - loss: 0.0379 - acc: 0.9894 - val_loss: 0.2502 - val_acc: 0.9350\n",
      "Epoch 99/100\n",
      "50/50 [==============================] - 6s 129ms/step - loss: 0.0537 - acc: 0.9888 - val_loss: 0.1874 - val_acc: 0.9613\n",
      "Epoch 100/100\n",
      "50/50 [==============================] - 7s 130ms/step - loss: 0.0455 - acc: 0.9912 - val_loss: 0.1155 - val_acc: 0.9700\n"
     ]
    }
   ],
   "source": [
    "history = model.fit_generator(\n",
    "        train_generator,\n",
    "        steps_per_epoch=50,\n",
    "        epochs=100,\n",
    "        validation_data=validation_generator,\n",
    "        validation_steps=25)"
   ]
  },
  {
   "cell_type": "code",
   "execution_count": 11,
   "metadata": {},
   "outputs": [],
   "source": [
    "model.save('number_painting2.h5')"
   ]
  },
  {
   "cell_type": "code",
   "execution_count": 12,
   "metadata": {},
   "outputs": [
    {
     "data": {
      "image/png": "[encoded data removed]",
      "text/plain": [
       "<Figure size 432x288 with 1 Axes>"
      ]
     },
     "metadata": {
      "needs_background": "light"
     },
     "output_type": "display_data"
    }
   ],
   "source": [
    "import matplotlib.pyplot as plt\n",
    "%matplotlib inline\n",
    "acc = history.history['acc']\n",
    "val_acc = history.history['val_acc']\n",
    "loss = history.history['loss']\n",
    "val_loss = history.history['val_loss']\n",
    "\n",
    "epochs = range(1, len(acc) + 1)\n",
    "\n",
    "plt.plot(epochs,loss,'bo',label='Training loss')\n",
    "plt.plot(epochs,val_loss,'b',label='Validation loss')\n",
    "plt.title('Training and validation loss')\n",
    "plt.legend()\n",
    "\n",
    "plt.show()"
   ]
  },
  {
   "cell_type": "code",
   "execution_count": 13,
   "metadata": {},
   "outputs": [
    {
     "data": {
      "image/png": "[encoded data removed]",
      "text/plain": [
       "<Figure size 432x288 with 1 Axes>"
      ]
     },
     "metadata": {
      "needs_background": "light"
     },
     "output_type": "display_data"
    }
   ],
   "source": [
    "acc = history.history['acc']\n",
    "val_acc = history.history['val_acc']\n",
    "loss = history.history['loss']\n",
    "val_loss = history.history['val_loss']\n",
    "\n",
    "epochs = range(1, len(acc) + 1)\n",
    "\n",
    "plt.plot(epochs,acc,'bo',label='Training acc')\n",
    "plt.plot(epochs,val_acc,'b',label='Validation acc')\n",
    "plt.title('Training and validation acc')\n",
    "plt.legend()\n",
    "\n",
    "plt.show()"
   ]
  },
  {
   "cell_type": "code",
   "execution_count": 11,
   "metadata": {},
   "outputs": [
    {
     "name": "stdout",
     "output_type": "stream",
     "text": [
      "Found 16000 images belonging to 10 classes.\n"
     ]
    }
   ],
   "source": [
    "import glob\n",
    "from PIL import Image\n",
    "from keras.preprocessing import image\n",
    "import numpy as np\n",
    "import matplotlib.pyplot as plt\n",
    "%matplotlib inline\n",
    "\n",
    "from keras import backend as K\n",
    "from keras.models import load_model\n",
    "model = load_model('number_painting.h5')\n",
    "\n",
    "test_generator = test_datagen.flow_from_directory(test_dir, #타깃 디렉터리\n",
    "                                                    target_size=(50,50), #모든 이미지 150X150으로 변경\n",
    "                                                    batch_size=32, #\n",
    "                                                    class_mode='categorical')\n",
    "filenames = test_generator.filenames\n",
    "nb_samples = len(filenames)\n",
    "\n",
    "predict = model.predict_generator(test_generator,steps = nb_samples)\n",
    "\n",
    "\n",
    "# img_path='정규화원본/test/0/normalizationSF61527.bmp'\n",
    "# img = image.load_img(img_path,target_size=(50,50))\n",
    "# plt.imshow(img)\n",
    "\n",
    "# x=image.img_to_array(img)\n",
    "# x=np.expand_dims(x,axis=0)\n",
    "# x=x/255.\n",
    "\n",
    "\n",
    "\n",
    "    \n",
    "# prediction =model.predict_classes(x)\n",
    "# #prediction =model.predict(x)\n",
    "# print(prediction)\n",
    "#np.set_printoptions(formatter={'float': lambda x: \"{0:0.3f}\".format(x)})"
   ]
  },
  {
   "cell_type": "code",
   "execution_count": 12,
   "metadata": {},
   "outputs": [
    {
     "name": "stdout",
     "output_type": "stream",
     "text": [
      "[[1.4805024e-12 1.1785224e-07 6.3136611e-09 ... 2.8993970e-08\n",
      "  9.0014958e-04 9.9857461e-01]\n",
      " [1.9701421e-20 1.5478572e-13 1.1277125e-08 ... 7.4333890e-14\n",
      "  2.8034918e-13 2.0277668e-09]\n",
      " [2.1695259e-08 1.2088515e-10 9.9999952e-01 ... 3.1641762e-12\n",
      "  8.7501579e-09 9.3021780e-12]\n",
      " ...\n",
      " [1.1762357e-08 6.4647296e-09 9.8120683e-01 ... 5.0785470e-15\n",
      "  1.4821206e-02 1.2623608e-10]\n",
      " [1.9819144e-12 4.4178825e-09 8.0529509e-07 ... 2.5734730e-18\n",
      "  3.7482283e-07 1.5394195e-14]\n",
      " [9.9963963e-01 2.8910181e-05 3.3125063e-04 ... 1.5962215e-07\n",
      "  1.7784911e-08 6.5505856e-12]]\n"
     ]
    }
   ],
   "source": [
    "print(predict)"
   ]
  },
  {
   "cell_type": "code",
   "execution_count": 14,
   "metadata": {},
   "outputs": [
    {
     "name": "stdout",
     "output_type": "stream",
     "text": [
      "Found 16000 images belonging to 10 classes.\n",
      "500/500 [==============================] - 18s 36ms/step\n"
     ]
    }
   ],
   "source": [
    "test_generator = test_datagen.flow_from_directory(test_dir, #타깃 디렉터리\n",
    "                                                    target_size=(50,50), #모든 이미지 150X150으로 변경\n",
    "                                                    batch_size=32, #\n",
    "                                                    class_mode='categorical')\n",
    "score=model.evaluate(test_generator)"
   ]
  },
  {
   "cell_type": "code",
   "execution_count": 15,
   "metadata": {},
   "outputs": [
    {
     "name": "stdout",
     "output_type": "stream",
     "text": [
      "[0.09742885474740615, 0.9795625]\n"
     ]
    }
   ],
   "source": [
    "print(score)"
   ]
  },
  {
   "cell_type": "code",
   "execution_count": null,
   "metadata": {},
   "outputs": [],
   "source": []
  }
 ],
 "metadata": {
  "kernelspec": {
   "display_name": "Python 3",
   "language": "python",
   "name": "python3"
  },
  "language_info": {
   "codemirror_mode": {
    "name": "ipython",
    "version": 3
   },
   "file_extension": ".py",
   "mimetype": "text/x-python",
   "name": "python",
   "nbconvert_exporter": "python",
   "pygments_lexer": "ipython3",
   "version": "3.7.4"
  }
 },
 "nbformat": 4,
 "nbformat_minor": 2
}
