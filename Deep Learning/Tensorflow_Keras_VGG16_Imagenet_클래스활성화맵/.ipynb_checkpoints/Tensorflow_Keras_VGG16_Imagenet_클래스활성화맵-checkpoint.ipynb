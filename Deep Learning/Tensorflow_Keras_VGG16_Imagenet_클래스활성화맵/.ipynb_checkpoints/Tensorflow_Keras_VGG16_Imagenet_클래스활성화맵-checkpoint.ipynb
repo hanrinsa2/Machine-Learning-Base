{
 "cells": [
  {
   "cell_type": "code",
   "execution_count": 1,
   "metadata": {},
   "outputs": [
    {
     "name": "stderr",
     "output_type": "stream",
     "text": [
      "Using TensorFlow backend.\n",
      "WARNING: Logging before flag parsing goes to stderr.\n",
      "W0920 11:28:35.027950 24908 deprecation_wrapper.py:119] From C:\\Users\\SH\\Anaconda3\\envs\\AI\\lib\\site-packages\\keras-2.2.5-py3.7.egg\\keras\\backend\\tensorflow_backend.py:67: The name tf.get_default_graph is deprecated. Please use tf.compat.v1.get_default_graph instead.\n",
      "\n",
      "W0920 11:28:35.057871 24908 deprecation_wrapper.py:119] From C:\\Users\\SH\\Anaconda3\\envs\\AI\\lib\\site-packages\\keras-2.2.5-py3.7.egg\\keras\\backend\\tensorflow_backend.py:548: The name tf.placeholder is deprecated. Please use tf.compat.v1.placeholder instead.\n",
      "\n",
      "W0920 11:28:35.062857 24908 deprecation_wrapper.py:119] From C:\\Users\\SH\\Anaconda3\\envs\\AI\\lib\\site-packages\\keras-2.2.5-py3.7.egg\\keras\\backend\\tensorflow_backend.py:4439: The name tf.random_uniform is deprecated. Please use tf.random.uniform instead.\n",
      "\n",
      "W0920 11:28:35.130675 24908 deprecation_wrapper.py:119] From C:\\Users\\SH\\Anaconda3\\envs\\AI\\lib\\site-packages\\keras-2.2.5-py3.7.egg\\keras\\backend\\tensorflow_backend.py:4274: The name tf.nn.max_pool is deprecated. Please use tf.nn.max_pool2d instead.\n",
      "\n"
     ]
    },
    {
     "name": "stdout",
     "output_type": "stream",
     "text": [
      "Downloading data from https://github.com/fchollet/deep-learning-models/releases/download/v0.1/vgg16_weights_tf_dim_ordering_tf_kernels.h5\n",
      "553467904/553467096 [==============================] - 768s 1us/step\n"
     ]
    },
    {
     "name": "stderr",
     "output_type": "stream",
     "text": [
      "W0920 11:41:25.540922 24908 deprecation_wrapper.py:119] From C:\\Users\\SH\\Anaconda3\\envs\\AI\\lib\\site-packages\\keras-2.2.5-py3.7.egg\\keras\\backend\\tensorflow_backend.py:191: The name tf.get_default_session is deprecated. Please use tf.compat.v1.get_default_session instead.\n",
      "\n",
      "W0920 11:41:25.541921 24908 deprecation_wrapper.py:119] From C:\\Users\\SH\\Anaconda3\\envs\\AI\\lib\\site-packages\\keras-2.2.5-py3.7.egg\\keras\\backend\\tensorflow_backend.py:198: The name tf.ConfigProto is deprecated. Please use tf.compat.v1.ConfigProto instead.\n",
      "\n"
     ]
    }
   ],
   "source": [
    "#이미지의 어느 부분이 컨브넷의 최종분류 결정에 기여하였는지 이해하는데 유용\n",
    "#클래스 활성화 맵 CAM\n",
    "#특정 출력 클래스에 대해 입력 이미지의 모든 위치를 계산한 2D 점수 그리드 \n",
    "#클래스에 대해 각 위치가 얼마나 중요한지 알려줌\n",
    "#특성맵의 모든 채널 출력에 채널에 대한 클래스의 그래디언트 평균을 곱함\n",
    "#입력이미지가 각 채널을 활성화 하는 정도\n",
    "#클래스에 대한 각 채널의 중요도'\n",
    "#입력 이미지가 클래스를 활성화 하는 정도\n",
    "\n",
    "from keras.applications.vgg16 import VGG16\n",
    "\n",
    "model = VGG16(weights='imagenet')"
   ]
  },
  {
   "cell_type": "code",
   "execution_count": 4,
   "metadata": {},
   "outputs": [],
   "source": [
    "model.save('VGG16.h5')"
   ]
  },
  {
   "cell_type": "code",
   "execution_count": 1,
   "metadata": {},
   "outputs": [
    {
     "name": "stderr",
     "output_type": "stream",
     "text": [
      "Using TensorFlow backend.\n",
      "WARNING: Logging before flag parsing goes to stderr.\n",
      "W0920 18:01:04.038536 13532 deprecation_wrapper.py:119] From C:\\Users\\SH\\Anaconda3\\envs\\AI\\lib\\site-packages\\keras-2.2.5-py3.7.egg\\keras\\backend\\tensorflow_backend.py:548: The name tf.placeholder is deprecated. Please use tf.compat.v1.placeholder instead.\n",
      "\n",
      "W0920 18:01:04.065464 13532 deprecation_wrapper.py:119] From C:\\Users\\SH\\Anaconda3\\envs\\AI\\lib\\site-packages\\keras-2.2.5-py3.7.egg\\keras\\backend\\tensorflow_backend.py:4439: The name tf.random_uniform is deprecated. Please use tf.random.uniform instead.\n",
      "\n",
      "W0920 18:01:04.128294 13532 deprecation_wrapper.py:119] From C:\\Users\\SH\\Anaconda3\\envs\\AI\\lib\\site-packages\\keras-2.2.5-py3.7.egg\\keras\\backend\\tensorflow_backend.py:4274: The name tf.nn.max_pool is deprecated. Please use tf.nn.max_pool2d instead.\n",
      "\n",
      "W0920 18:01:08.364959 13532 deprecation_wrapper.py:119] From C:\\Users\\SH\\Anaconda3\\envs\\AI\\lib\\site-packages\\keras-2.2.5-py3.7.egg\\keras\\backend\\tensorflow_backend.py:191: The name tf.get_default_session is deprecated. Please use tf.compat.v1.get_default_session instead.\n",
      "\n",
      "W0920 18:01:08.365957 13532 deprecation_wrapper.py:119] From C:\\Users\\SH\\Anaconda3\\envs\\AI\\lib\\site-packages\\keras-2.2.5-py3.7.egg\\keras\\backend\\tensorflow_backend.py:198: The name tf.ConfigProto is deprecated. Please use tf.compat.v1.ConfigProto instead.\n",
      "\n",
      "W0920 18:01:08.366954 13532 deprecation_wrapper.py:119] From C:\\Users\\SH\\Anaconda3\\envs\\AI\\lib\\site-packages\\keras-2.2.5-py3.7.egg\\keras\\backend\\tensorflow_backend.py:204: The name tf.Session is deprecated. Please use tf.compat.v1.Session instead.\n",
      "\n",
      "C:\\Users\\SH\\Anaconda3\\envs\\AI\\lib\\site-packages\\keras-2.2.5-py3.7.egg\\keras\\engine\\saving.py:310: UserWarning: No training configuration found in save file: the model was *not* compiled. Compile it manually.\n",
      "  warnings.warn('No training configuration found in save file: '\n"
     ]
    }
   ],
   "source": [
    "from keras.models import load_model\n",
    "\n",
    "model = load_model('VGG16.h5')"
   ]
  },
  {
   "cell_type": "code",
   "execution_count": 2,
   "metadata": {},
   "outputs": [],
   "source": [
    "from keras.preprocessing import image\n",
    "from keras.applications.vgg16 import preprocess_input, decode_predictions\n",
    "import numpy as np\n",
    "\n",
    "img_path = 'datasets/creative_commons_elephant.jpg'\n",
    "\n",
    "img = image.load_img(img_path,target_size =(224,224))#224X224파이썬 이미징 라이브러리 객체로 변환 \n",
    "\n",
    "x = image.img_to_array(img) #(224,224,3) 크기의 넘파이로 변환\n",
    "\n",
    "x = np.expand_dims(x, axis=0)#차원을 추가하여 (1,224,224,3)크기의 배치로 배열을 변환\n",
    "x = preprocess_input(x) #데이터를 전처리함( 채널별 컬러 정규화 수행)"
   ]
  },
  {
   "cell_type": "code",
   "execution_count": 3,
   "metadata": {},
   "outputs": [
    {
     "name": "stdout",
     "output_type": "stream",
     "text": [
      "Predicted :  [('n02504458', 'African_elephant', 0.9094213), ('n01871265', 'tusker', 0.08618258), ('n02504013', 'Indian_elephant', 0.0043545924)]\n"
     ]
    }
   ],
   "source": [
    "preds = model.predict(x)\n",
    "\n",
    "print('Predicted : ', decode_predictions(preds, top=3)[0])\n",
    "#아프리카 코끼리(92.5%확률)\n",
    "#코끼리(7%확률)\n",
    "#인도코끼리(0.4%확률)"
   ]
  },
  {
   "cell_type": "code",
   "execution_count": 4,
   "metadata": {},
   "outputs": [
    {
     "name": "stdout",
     "output_type": "stream",
     "text": [
      "Tensor(\"gradients/block5_pool/MaxPool_grad/MaxPoolGrad:0\", shape=(?, 14, 14, 512), dtype=float32)\n",
      "Tensor(\"Mean:0\", shape=(512,), dtype=float32)\n"
     ]
    }
   ],
   "source": [
    "from keras import backend as K\n",
    "\n",
    "african_elephant_output = model.output[:,386] #예측 벡터의 아프리카코끼리 항목\n",
    "\n",
    "last_conv_layer = model.get_layer('block5_conv3') #VGG16의 마지막 합성곱층\n",
    "\n",
    "grads = K.gradients(african_elephant_output, last_conv_layer.output)[0] \n",
    "#block5_conv3층의 특성맵 출력에 대한 아프리카 코끼리 클래스의 그래디언트\n",
    "print(grads)\n",
    "\n",
    "pooled_grads=K.mean(grads, axis=(0,1,2)) #특성맵 채널 별 그래디언트 평균 값이 담긴 (512,) 크기의 벡터 \n",
    "\n",
    "print(pooled_grads)\n",
    "\n",
    "iterate = K.function([model.input], [pooled_grads, last_conv_layer.output[0]]) \n",
    "#샘플 이미지가 주어졌을 때 방금 전 정의한 pooled_grads와 block5_conv3를 출력\n",
    "\n",
    "pooled_grads_value, conv_layer_output_value = iterate([x]) #코끼리 이미지 샘플을 넣어 2개의 넘파이 배열을 얻음\n",
    "\n",
    "for i in range(512):\n",
    "    conv_layer_output_value[:,:,i]*=pooled_grads_value[i]\n",
    "\n",
    "heatmap = np.mean(conv_layer_output_value, axis=-1) #만들어진 특성맵에서 채널 축을 따라 평균한 값이 바로 클래스활성화히트맵\n",
    "\n"
   ]
  },
  {
   "cell_type": "code",
   "execution_count": 5,
   "metadata": {},
   "outputs": [
    {
     "name": "stdout",
     "output_type": "stream",
     "text": [
      "[[ 6.01111196e-07  3.37041143e-07  7.02131501e-07  7.18172771e-07\n",
      "   5.66079052e-07  8.08051936e-09  4.42653914e-10  4.19644209e-07\n",
      "   8.61227875e-07  7.52877554e-07  5.14894850e-07  5.64626873e-07\n",
      "   6.44853003e-07  1.28782301e-06]\n",
      " [ 3.52437752e-07  2.15537579e-08  1.77414634e-07  5.07918401e-08\n",
      "  -1.43058500e-07  3.71407282e-07 -5.13787199e-08 -1.35604751e-07\n",
      "  -1.46344405e-07  5.04511377e-07  6.67011477e-07  5.09362167e-07\n",
      "   4.40862436e-07  4.92570678e-07]\n",
      " [ 9.01168846e-07  4.39842950e-07  3.54811164e-07  2.41866530e-07\n",
      "   3.47370957e-07 -3.44716227e-07  1.85439831e-07  2.28380713e-06\n",
      "   1.17541265e-06  1.95663006e-06  1.29705768e-06  1.44265482e-06\n",
      "   1.10571614e-06  1.29680996e-06]\n",
      " [ 1.17693173e-06  5.46438741e-07  1.99983702e-07  5.09717211e-08\n",
      "   3.65126681e-07  2.23254403e-07  1.28830470e-06  3.04169316e-06\n",
      "   2.10427106e-06  8.32769956e-07  9.00477062e-08  9.58692908e-07\n",
      "   1.60177251e-06  1.99820511e-06]\n",
      " [ 1.12714611e-06  5.55492079e-07  3.46282064e-07  6.64775996e-07\n",
      "   2.42832311e-06  3.31714091e-06  3.75593982e-06  6.07279571e-06\n",
      "   6.81529218e-06  5.16156479e-06  4.08066353e-06  4.02913929e-06\n",
      "   2.42378815e-06  2.70158262e-06]\n",
      " [ 3.00781068e-07  6.17651779e-07  1.46176785e-06  4.75153956e-06\n",
      "   6.68710891e-06  7.25882455e-06  5.93532422e-06  6.00719613e-06\n",
      "   6.20202536e-06  5.80770256e-06  5.02507828e-06  2.98538680e-06\n",
      "   1.76889239e-06  1.84063356e-06]\n",
      " [-1.45114598e-07  5.37195888e-08  1.75656874e-06  1.02641789e-05\n",
      "   1.19656670e-05  8.74156103e-06  3.69289091e-06  3.07964478e-06\n",
      "   3.42908925e-06  2.08991310e-06  1.43256102e-06  1.91942217e-06\n",
      "   1.60344302e-06  1.03907371e-06]\n",
      " [-1.78921340e-07  4.11581340e-07  9.90394369e-07  6.24666609e-06\n",
      "   7.16767681e-06  6.09634890e-06  3.99382043e-06  2.54975294e-06\n",
      "   3.12595830e-06  7.29855572e-07  5.25096425e-07  1.55548059e-06\n",
      "   1.99000851e-06  1.14928014e-06]\n",
      " [-1.77753776e-07 -2.55299511e-07  7.53909575e-08  1.78388711e-06\n",
      "   3.26605095e-06  3.42530575e-06  3.32671198e-06  2.92487925e-06\n",
      "   1.54811892e-06  4.44262412e-07  1.21831988e-07  6.65214088e-07\n",
      "   1.12280452e-06  1.31774675e-06]\n",
      " [-2.19577402e-07 -3.37235690e-07 -1.19364614e-07  6.63652315e-08\n",
      "   1.17719082e-06  2.20247557e-06  2.35928974e-06  1.46189041e-06\n",
      "   3.01923819e-07 -1.08643931e-07 -3.53612762e-07 -3.17774408e-07\n",
      "  -1.95892142e-07 -2.52863458e-07]\n",
      " [-9.26307422e-08 -1.41394878e-07 -3.82612342e-08 -1.99797825e-07\n",
      "  -1.31869029e-07  2.29576713e-07  1.44780728e-07 -1.58761154e-07\n",
      "  -1.49575897e-07 -2.00689016e-07 -3.83988805e-07 -6.28087321e-07\n",
      "  -7.30870170e-07 -1.00540831e-07]\n",
      " [ 4.42997354e-08  4.67856260e-08  2.24577960e-07 -1.07176845e-08\n",
      "  -2.06650640e-07 -3.10304529e-07 -3.37324906e-07 -3.05494467e-07\n",
      "  -3.15657189e-07 -3.37040035e-07 -3.28163622e-07 -3.06753662e-07\n",
      "  -4.32462855e-07  5.12318366e-08]\n",
      " [ 2.08413041e-07  1.36977874e-07  1.21281403e-07  4.07386125e-09\n",
      "  -2.18660574e-08  3.96825754e-08  1.38696350e-07  1.97855712e-07\n",
      "   1.71034259e-07  1.23880568e-07  1.34900120e-07  1.91458653e-07\n",
      "   1.17673189e-07  2.05159722e-07]\n",
      " [-6.97666906e-07 -3.16142717e-07 -2.04194322e-07 -3.77941745e-07\n",
      "  -2.80462984e-07 -8.36039860e-08 -1.41501417e-07 -2.15571205e-07\n",
      "  -1.29385526e-07  3.12947748e-08  6.38400905e-08  6.01956174e-08\n",
      "  -3.73645548e-07 -1.11248241e-07]]\n"
     ]
    },
    {
     "data": {
      "text/plain": [
       "<matplotlib.image.AxesImage at 0x16a9c275548>"
      ]
     },
     "execution_count": 5,
     "metadata": {},
     "output_type": "execute_result"
    },
    {
     "data": {
      "image/png": "[encoded data removed]",
      "text/plain": [
       "<Figure size 288x288 with 1 Axes>"
      ]
     },
     "metadata": {
      "needs_background": "light"
     },
     "output_type": "display_data"
    }
   ],
   "source": [
    "import matplotlib.pyplot as plt\n",
    "%matplotlib inline\n",
    "\n",
    "print(heatmap)\n",
    "heatmap = np.maximum(heatmap, 0)\n",
    "heatmap /= np.max(heatmap)\n",
    "plt.matshow(heatmap)"
   ]
  },
  {
   "cell_type": "code",
   "execution_count": 11,
   "metadata": {},
   "outputs": [],
   "source": [
    "import cv2\n",
    "\n",
    "img = cv2.imread(img_path)\n",
    "\n",
    "heatmap = cv2.resize(heatmap, (img.shape[1],img.shape[0])) #히트맵을 원본이미지 크기에 맞게 변경\n",
    "\n",
    "heatmap = np.uint8(255 * heatmap) #heatmap을 rgb포멧으로 변경\n",
    "heatmap = cv2.applyColorMap(heatmap,cv2.COLORMAP_JET)#히트맵으로 변호나\n",
    "\n",
    "superimposed_img = heatmap * 0.4 + img #히트맵의 강도\n",
    "\n",
    "cv2.imwrite('datasets/elehpant_cam.jpg',superimposed_img)\n",
    "\n",
    "img2 = cv2.imread('datasets/elehpant_cam.jpg')\n",
    "cv2.imshow('hi',img2)\n",
    "cv2.waitKey(0)\n",
    "cv2.destroyAllWindows()"
   ]
  },
  {
   "cell_type": "code",
   "execution_count": null,
   "metadata": {},
   "outputs": [],
   "source": []
  }
 ],
 "metadata": {
  "kernelspec": {
   "display_name": "Python 3",
   "language": "python",
   "name": "python3"
  },
  "language_info": {
   "codemirror_mode": {
    "name": "ipython",
    "version": 3
   },
   "file_extension": ".py",
   "mimetype": "text/x-python",
   "name": "python",
   "nbconvert_exporter": "python",
   "pygments_lexer": "ipython3",
   "version": "3.7.4"
  }
 },
 "nbformat": 4,
 "nbformat_minor": 2
}
