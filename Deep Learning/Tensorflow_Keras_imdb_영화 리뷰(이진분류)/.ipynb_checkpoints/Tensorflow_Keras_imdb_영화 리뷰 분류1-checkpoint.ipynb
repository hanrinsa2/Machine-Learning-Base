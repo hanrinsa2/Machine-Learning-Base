{
 "cells": [
  {
   "cell_type": "code",
   "execution_count": 1,
   "metadata": {},
   "outputs": [
    {
     "name": "stderr",
     "output_type": "stream",
     "text": [
      "Using TensorFlow backend.\n"
     ]
    }
   ],
   "source": [
    "from keras.datasets import imdb\n",
    "\n",
    "(train_data,train_labels), (test_data,test_labels) = imdb.load_data(num_words =10000)\n",
    "#훈련 데이터에서 가장 자주 나타나는 단어 10000개만 사용"
   ]
  },
  {
   "cell_type": "code",
   "execution_count": 2,
   "metadata": {},
   "outputs": [
    {
     "name": "stdout",
     "output_type": "stream",
     "text": [
      "[1, 14, 22, 16, 43, 530, 973, 1622, 1385, 65, 458, 4468, 66, 3941, 4, 173, 36, 256, 5, 25, 100, 43, 838, 112, 50, 670, 2, 9, 35, 480, 284, 5, 150, 4, 172, 112, 167, 2, 336, 385, 39, 4, 172, 4536, 1111, 17, 546, 38, 13, 447, 4, 192, 50, 16, 6, 147, 2025, 19, 14, 22, 4, 1920, 4613, 469, 4, 22, 71, 87, 12, 16, 43, 530, 38, 76, 15, 13, 1247, 4, 22, 17, 515, 17, 12, 16, 626, 18, 2, 5, 62, 386, 12, 8, 316, 8, 106, 5, 4, 2223, 5244, 16, 480, 66, 3785, 33, 4, 130, 12, 16, 38, 619, 5, 25, 124, 51, 36, 135, 48, 25, 1415, 33, 6, 22, 12, 215, 28, 77, 52, 5, 14, 407, 16, 82, 2, 8, 4, 107, 117, 5952, 15, 256, 4, 2, 7, 3766, 5, 723, 36, 71, 43, 530, 476, 26, 400, 317, 46, 7, 4, 2, 1029, 13, 104, 88, 4, 381, 15, 297, 98, 32, 2071, 56, 26, 141, 6, 194, 7486, 18, 4, 226, 22, 21, 134, 476, 26, 480, 5, 144, 30, 5535, 18, 51, 36, 28, 224, 92, 25, 104, 4, 226, 65, 16, 38, 1334, 88, 12, 16, 283, 5, 16, 4472, 113, 103, 32, 15, 16, 5345, 19, 178, 32]\n"
     ]
    }
   ],
   "source": [
    "print(train_data[0]) #train_data[0]문장 중 각 단어들의 해당되는 번호를 나열( 총 10000개의 feature)"
   ]
  },
  {
   "cell_type": "code",
   "execution_count": 3,
   "metadata": {},
   "outputs": [
    {
     "name": "stdout",
     "output_type": "stream",
     "text": [
      "1\n"
     ]
    }
   ],
   "source": [
    "print(train_labels[0]) #긍정"
   ]
  },
  {
   "cell_type": "code",
   "execution_count": 4,
   "metadata": {},
   "outputs": [],
   "source": [
    "word_index = imdb.get_word_index() #단어와 정수 인덱스를 매핑한 딕셔너리\n",
    "reverse_word_index = dict([(value,key) for (key,value) in word_index.items()]) #정수 인덱스와 단어를 매핑하도록 뒤집음\n",
    "decoded_review = ' '.join([reverse_word_index.get(i-3,'?') for i in train_data[0]])#리뷰를 디코딩함 0,1,2는 '패딩','문서시작','사전에없음'을 위한 인덱스로 3을 뺌\n",
    "#https://blog.naver.com/shwotjd14/221531924188\n",
    "#https://blog.naver.com/yisu0407/221508385142\n"
   ]
  },
  {
   "cell_type": "code",
   "execution_count": 5,
   "metadata": {},
   "outputs": [
    {
     "name": "stdout",
     "output_type": "stream",
     "text": [
      "? this film was just brilliant casting location scenery story direction everyone's really suited the part they played and you could just imagine being there robert ? is an amazing actor and now the same being director ? father came from the same scottish island as myself so i loved the fact there was a real connection with this film the witty remarks throughout the film were great it was just brilliant so much that i bought the film as soon as it was released for ? and would recommend it to everyone to watch and the fly fishing was amazing really cried at the end it was so sad and you know what they say if you cry at a film it must have been good and this definitely was also ? to the two little boy's that played the ? of norman and paul they were just brilliant children are often left out of the ? list i think because the stars that play them all grown up are such a big profile for the whole film but these children are amazing and should be praised for what they have done don't you think the whole story was so lovely because it was true and was someone's life after all that was shared with us all\n"
     ]
    }
   ],
   "source": [
    "print(decoded_review)"
   ]
  },
  {
   "cell_type": "code",
   "execution_count": 6,
   "metadata": {},
   "outputs": [],
   "source": [
    "#신경망에는 리스트를 입력 값으로 둘 수 없음 -> 리스트를 텐서로 바꾸는 작업을 해야함\n",
    "#패딩하는 방식과 원-핫 인코딩 방식이 있음\n",
    "\n",
    "#원-핫 인코딩 방식\n",
    "#리스트를 0과 1 벡터로 변환함 \n",
    "# [3,5] => [0, 0, 1, 0, 1, 0, 0, .... ,0] (10000차원벡터)"
   ]
  },
  {
   "cell_type": "code",
   "execution_count": 8,
   "metadata": {},
   "outputs": [
    {
     "name": "stdout",
     "output_type": "stream",
     "text": [
      "25000\n",
      "(25000, 10000)\n",
      "(25000,)\n"
     ]
    }
   ],
   "source": [
    "import numpy as np\n",
    "print(len(train_data)) #25000개의 문장\n",
    "\n",
    "def vectorize_sequences(sequences, dimension=10000):\n",
    "    results=np.zeros((len(sequences),dimension))\n",
    "    \n",
    "    for i, sequence in enumerate(sequences): #각 문장마다 나타나는 문자번호 i번째 문장의 sequence 문자번호를 인덱스로 하여 1로 변경\n",
    "        results[i,sequence]=1.\n",
    "    return results\n",
    "\n",
    "x_train = vectorize_sequences(train_data)# 25000개의 문장데이터를 10000개의 많이 등장하는 단어 필드에 매핑\n",
    "print(x_train.shape)\n",
    "x_test = vectorize_sequences(test_data)\n",
    "\n",
    "y_train = np.asarray(train_labels).astype('float32') #asarray 는 참조본 생성으로 원본이 바뀌면 참조본도 동시에 데이터가 변경됨\n",
    "y_test = np.asarray(test_labels).astype('float32')  #array 는 복사본 생성으로 원본이 바뀌어도 바뀌지 않음\n",
    "print(y_train.shape)"
   ]
  },
  {
   "cell_type": "code",
   "execution_count": 12,
   "metadata": {},
   "outputs": [],
   "source": [
    "from keras import models\n",
    "from keras import layers\n",
    "\n",
    "model = models.Sequential()\n",
    "model.add(layers.Dense(16,activation='relu', input_shape=(10000,)))\n",
    "model.add(layers.Dense(16,activation='relu'))\n",
    "model.add(layers.Dense(1,activation='sigmoid'))"
   ]
  },
  {
   "cell_type": "code",
   "execution_count": 13,
   "metadata": {},
   "outputs": [],
   "source": [
    "model.compile(optimizer='rmsprop',\n",
    "             loss='binary_crossentropy',\n",
    "             metrics=['accuracy'])\n"
   ]
  },
  {
   "cell_type": "code",
   "execution_count": 16,
   "metadata": {},
   "outputs": [],
   "source": [
    "x_val = x_train[:10000] #검증 데이터\n",
    "partial_x_train= x_train[10000:]\n",
    "y_val = y_train[:10000]\n",
    "partial_y_train= y_train[10000:]\n"
   ]
  },
  {
   "cell_type": "code",
   "execution_count": 17,
   "metadata": {},
   "outputs": [
    {
     "name": "stderr",
     "output_type": "stream",
     "text": [
      "W0903 14:34:15.325883  8212 deprecation_wrapper.py:119] From C:\\Users\\SH\\Anaconda3\\envs\\AI\\lib\\site-packages\\keras-2.2.5-py3.7.egg\\keras\\backend\\tensorflow_backend.py:1040: The name tf.assign_add is deprecated. Please use tf.compat.v1.assign_add instead.\n",
      "\n"
     ]
    },
    {
     "name": "stdout",
     "output_type": "stream",
     "text": [
      "Train on 15000 samples, validate on 10000 samples\n",
      "Epoch 1/20\n",
      "15000/15000 [==============================] - 389s 26ms/step - loss: 0.5263 - acc: 0.7912 - val_loss: 0.4043 - val_acc: 0.8646\n",
      "Epoch 2/20\n",
      "15000/15000 [==============================] - 4s 247us/step - loss: 0.3191 - acc: 0.9018 - val_loss: 0.3117 - val_acc: 0.8861\n",
      "Epoch 3/20\n",
      "15000/15000 [==============================] - 4s 263us/step - loss: 0.2324 - acc: 0.9237 - val_loss: 0.2944 - val_acc: 0.8805\n",
      "Epoch 4/20\n",
      "15000/15000 [==============================] - 4s 281us/step - loss: 0.1839 - acc: 0.9399 - val_loss: 0.2816 - val_acc: 0.8864\n",
      "Epoch 5/20\n",
      "15000/15000 [==============================] - 4s 263us/step - loss: 0.1478 - acc: 0.9531 - val_loss: 0.2822 - val_acc: 0.8891\n",
      "Epoch 6/20\n",
      "15000/15000 [==============================] - 4s 252us/step - loss: 0.1223 - acc: 0.9621 - val_loss: 0.2894 - val_acc: 0.8862\n",
      "Epoch 7/20\n",
      "15000/15000 [==============================] - 4s 239us/step - loss: 0.1033 - acc: 0.9691 - val_loss: 0.3048 - val_acc: 0.8847\n",
      "Epoch 8/20\n",
      "15000/15000 [==============================] - 4s 237us/step - loss: 0.0812 - acc: 0.9784 - val_loss: 0.3324 - val_acc: 0.8794\n",
      "Epoch 9/20\n",
      "15000/15000 [==============================] - 3s 227us/step - loss: 0.0695 - acc: 0.9803 - val_loss: 0.3456 - val_acc: 0.8813\n",
      "Epoch 10/20\n",
      "15000/15000 [==============================] - 3s 226us/step - loss: 0.0538 - acc: 0.9871 - val_loss: 0.3747 - val_acc: 0.8770\n",
      "Epoch 11/20\n",
      "15000/15000 [==============================] - 3s 225us/step - loss: 0.0454 - acc: 0.9895 - val_loss: 0.3985 - val_acc: 0.8768\n",
      "Epoch 12/20\n",
      "15000/15000 [==============================] - 4s 236us/step - loss: 0.0356 - acc: 0.9921 - val_loss: 0.4255 - val_acc: 0.8763\n",
      "Epoch 13/20\n",
      "15000/15000 [==============================] - 3s 229us/step - loss: 0.0272 - acc: 0.9951 - val_loss: 0.4641 - val_acc: 0.8734\n",
      "Epoch 14/20\n",
      "15000/15000 [==============================] - 3s 227us/step - loss: 0.0217 - acc: 0.9960 - val_loss: 0.4919 - val_acc: 0.8743\n",
      "Epoch 15/20\n",
      "15000/15000 [==============================] - 3s 227us/step - loss: 0.0166 - acc: 0.9972 - val_loss: 0.5193 - val_acc: 0.8705\n",
      "Epoch 16/20\n",
      "15000/15000 [==============================] - 4s 234us/step - loss: 0.0144 - acc: 0.9969 - val_loss: 0.5481 - val_acc: 0.8710\n",
      "Epoch 17/20\n",
      "15000/15000 [==============================] - 4s 235us/step - loss: 0.0071 - acc: 0.9997 - val_loss: 0.5987 - val_acc: 0.8628\n",
      "Epoch 18/20\n",
      "15000/15000 [==============================] - 3s 229us/step - loss: 0.0107 - acc: 0.9981 - val_loss: 0.6050 - val_acc: 0.8690\n",
      "Epoch 19/20\n",
      "15000/15000 [==============================] - 3s 230us/step - loss: 0.0039 - acc: 0.9999 - val_loss: 0.6346 - val_acc: 0.8686\n",
      "Epoch 20/20\n",
      "15000/15000 [==============================] - 3s 226us/step - loss: 0.0065 - acc: 0.9989 - val_loss: 0.6626 - val_acc: 0.8683\n"
     ]
    }
   ],
   "source": [
    "history = model.fit(partial_x_train,\n",
    "                   partial_y_train,\n",
    "                   epochs=20,\n",
    "                   batch_size=512,\n",
    "                   validation_data=(x_val,y_val)) #training set 내에서 검증함"
   ]
  },
  {
   "cell_type": "code",
   "execution_count": 19,
   "metadata": {},
   "outputs": [
    {
     "data": {
      "image/png": "[encoded data removed]",
      "text/plain": [
       "<Figure size 432x288 with 1 Axes>"
      ]
     },
     "metadata": {
      "needs_background": "light"
     },
     "output_type": "display_data"
    }
   ],
   "source": [
    "import matplotlib.pyplot as plt\n",
    "%matplotlib inline\n",
    "history_dict = history.history\n",
    "loss = history_dict['loss']\n",
    "val_loss = history_dict['val_loss']\n",
    "\n",
    "epochs = range(1, len(loss)+1)\n",
    "\n",
    "plt.plot(epochs, loss, 'bo', label='Training loss')\n",
    "plt.plot(epochs, val_loss, 'b', label='Validation loss')\n",
    "plt.title('Training and validation loss')\n",
    "plt.xlabel('Epochs')\n",
    "plt.ylabel('Loss')\n",
    "plt.legend()\n",
    "plt.show()\n"
   ]
  },
  {
   "cell_type": "code",
   "execution_count": 21,
   "metadata": {},
   "outputs": [
    {
     "data": {
      "image/png": "[encoded data removed]",
      "text/plain": [
       "<Figure size 432x288 with 1 Axes>"
      ]
     },
     "metadata": {
      "needs_background": "light"
     },
     "output_type": "display_data"
    }
   ],
   "source": [
    "plt.clf() #그래프 초기화\n",
    "acc = history_dict['acc']\n",
    "val_acc=history_dict['val_acc']\n",
    "\n",
    "plt.plot(epochs, acc, 'bo', label='Training acc')\n",
    "plt.plot(epochs, val_acc, 'b', label='Validation acc')\n",
    "plt.title('Training and validation acc')\n",
    "plt.xlabel('Epochs')\n",
    "plt.ylabel('acc')\n",
    "plt.legend()\n",
    "plt.show()\n"
   ]
  },
  {
   "cell_type": "code",
   "execution_count": 22,
   "metadata": {},
   "outputs": [
    {
     "name": "stdout",
     "output_type": "stream",
     "text": [
      "Epoch 1/4\n",
      "25000/25000 [==============================] - 6s 259us/step - loss: 0.4727 - acc: 0.8121\n",
      "Epoch 2/4\n",
      "25000/25000 [==============================] - 4s 146us/step - loss: 0.2713 - acc: 0.9075\n",
      "Epoch 3/4\n",
      "25000/25000 [==============================] - 4s 145us/step - loss: 0.2058 - acc: 0.9268\n",
      "Epoch 4/4\n",
      "25000/25000 [==============================] - 4s 144us/step - loss: 0.1701 - acc: 0.9405\n",
      "25000/25000 [==============================] - 12s 498us/step\n"
     ]
    }
   ],
   "source": [
    "model= models.Sequential()\n",
    "model.add(layers.Dense(16, activation='relu',input_shape=(10000,)))\n",
    "model.add(layers.Dense(16, activation='relu'))\n",
    "model.add(layers.Dense(1, activation='sigmoid'))\n",
    "\n",
    "model.compile(optimizer='rmsprop',\n",
    "             loss='binary_crossentropy',\n",
    "             metrics=['accuracy'])\n",
    "\n",
    "model.fit(x_train, y_train, epochs=4, batch_size=512)\n",
    "results = model.evaluate(x_test, y_test) #test set을 가지고 예측 정도를 봄\n"
   ]
  },
  {
   "cell_type": "code",
   "execution_count": 24,
   "metadata": {},
   "outputs": [
    {
     "data": {
      "text/plain": [
       "[0.3058762985038757, 0.87664]"
      ]
     },
     "execution_count": 24,
     "metadata": {},
     "output_type": "execute_result"
    }
   ],
   "source": [
    "results"
   ]
  },
  {
   "cell_type": "code",
   "execution_count": 27,
   "metadata": {},
   "outputs": [
    {
     "data": {
      "text/plain": [
       "array([[0.16312188],\n",
       "       [0.999825  ],\n",
       "       [0.6248227 ],\n",
       "       ...,\n",
       "       [0.10368243],\n",
       "       [0.06348917],\n",
       "       [0.43510166]], dtype=float32)"
      ]
     },
     "execution_count": 27,
     "metadata": {},
     "output_type": "execute_result"
    }
   ],
   "source": [
    "model.predict(x_test)"
   ]
  },
  {
   "cell_type": "code",
   "execution_count": null,
   "metadata": {},
   "outputs": [],
   "source": []
  }
 ],
 "metadata": {
  "kernelspec": {
   "display_name": "Python 3",
   "language": "python",
   "name": "python3"
  },
  "language_info": {
   "codemirror_mode": {
    "name": "ipython",
    "version": 3
   },
   "file_extension": ".py",
   "mimetype": "text/x-python",
   "name": "python",
   "nbconvert_exporter": "python",
   "pygments_lexer": "ipython3",
   "version": "3.7.4"
  }
 },
 "nbformat": 4,
 "nbformat_minor": 2
}
