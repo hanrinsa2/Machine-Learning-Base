{
 "cells": [
  {
   "cell_type": "code",
   "execution_count": 3,
   "metadata": {},
   "outputs": [],
   "source": [
    "import os, shutil\n",
    "\n",
    "base_dir = '딥러닝원본2'\n",
    "\n",
    "\n",
    "train_dir = os.path.join(base_dir, 'train')\n",
    "validation_dir = os.path.join(base_dir, 'validation')\n",
    "test_dir = os.path.join(base_dir, 'test')\n",
    "\n",
    "\n",
    "train_0_dir = os.path.join(train_dir, '0')\n",
    "train_1_dir = os.path.join(train_dir, '1')\n",
    "train_2_dir = os.path.join(train_dir, '2')\n",
    "train_3_dir = os.path.join(train_dir, '3')\n",
    "train_4_dir = os.path.join(train_dir, '4')\n",
    "train_5_dir = os.path.join(train_dir, '5')\n",
    "train_6_dir = os.path.join(train_dir, '6')\n",
    "train_7_dir = os.path.join(train_dir, '7')\n",
    "train_8_dir = os.path.join(train_dir, '8')\n",
    "train_9_dir = os.path.join(train_dir, '9')\n",
    "\n",
    "\n",
    "validation_0_dir = os.path.join(validation_dir, '0')\n",
    "validation_1_dir = os.path.join(validation_dir, '1')\n",
    "validation_2_dir = os.path.join(validation_dir, '2')\n",
    "validation_3_dir = os.path.join(validation_dir, '3')\n",
    "validation_4_dir = os.path.join(validation_dir, '4')\n",
    "validation_5_dir = os.path.join(validation_dir, '5')\n",
    "validation_6_dir = os.path.join(validation_dir, '6')\n",
    "validation_7_dir = os.path.join(validation_dir, '7')\n",
    "validation_8_dir = os.path.join(validation_dir, '8')\n",
    "validation_9_dir = os.path.join(validation_dir, '9')\n",
    "\n",
    "\n",
    "test_0_dir = os.path.join(test_dir, '0')\n",
    "test_1_dir = os.path.join(test_dir, '1')\n",
    "test_2_dir = os.path.join(test_dir, '2')\n",
    "test_3_dir = os.path.join(test_dir, '3')\n",
    "test_4_dir = os.path.join(test_dir, '4')\n",
    "test_5_dir = os.path.join(test_dir, '5')\n",
    "test_6_dir = os.path.join(test_dir, '6')\n",
    "test_7_dir = os.path.join(test_dir, '7')\n",
    "test_8_dir = os.path.join(test_dir, '8')\n",
    "test_9_dir = os.path.join(test_dir, '9')"
   ]
  },
  {
   "cell_type": "code",
   "execution_count": 4,
   "metadata": {},
   "outputs": [
    {
     "name": "stdout",
     "output_type": "stream",
     "text": [
      "훈련용 0 이미지 전체 개수 :  5000\n",
      "검증용 0 이미지 전체 개수 :  2300\n",
      "테스트용 0 이미지 전체 개수 :  1600\n"
     ]
    }
   ],
   "source": [
    "print('훈련용 0 이미지 전체 개수 : ', len(os.listdir(train_0_dir)))\n",
    "\n",
    "print('검증용 0 이미지 전체 개수 : ', len(os.listdir(validation_0_dir)))\n",
    "\n",
    "print('테스트용 0 이미지 전체 개수 : ', len(os.listdir(test_0_dir)))\n"
   ]
  },
  {
   "cell_type": "code",
   "execution_count": 5,
   "metadata": {},
   "outputs": [],
   "source": [
    "from keras import layers\n",
    "from keras import models\n",
    "from keras.layers import Dropout\n",
    "model = models.Sequential()\n",
    "model.add(layers.Conv2D(64,(8,8), activation='relu',\n",
    "                       input_shape=(50,50,3)))\n",
    "model.add(layers.MaxPooling2D((2,2),(2,2)))\n",
    "model.add(layers.Conv2D(128,(5,5),activation='relu'))\n",
    "model.add(layers.MaxPooling2D((2,2),(2,2)))\n",
    "model.add(layers.Conv2D(256,(3,3),activation='relu'))\n",
    "model.add(layers.MaxPooling2D((2,2),(2,2)))\n",
    "\n",
    "model.add(layers.Flatten())\n",
    "model.add(layers.Dense(1024,activation='relu'))\n",
    "model.add(Dropout(0.3))\n",
    "model.add(layers.Dense(512,activation='relu'))\n",
    "model.add(Dropout(0.3))\n",
    "model.add(layers.Dense(128,activation='relu'))\n",
    "model.add(Dropout(0.3))\n",
    "model.add(layers.Dense(10,activation='softmax'))"
   ]
  },
  {
   "cell_type": "code",
   "execution_count": 6,
   "metadata": {},
   "outputs": [],
   "source": [
    "from keras import optimizers\n",
    "\n",
    "model.compile(loss='categorical_crossentropy',\n",
    "             optimizer='adam',\n",
    "             metrics=['acc'])\n"
   ]
  },
  {
   "cell_type": "code",
   "execution_count": 7,
   "metadata": {},
   "outputs": [
    {
     "name": "stdout",
     "output_type": "stream",
     "text": [
      "Found 50000 images belonging to 10 classes.\n",
      "Found 23000 images belonging to 10 classes.\n"
     ]
    }
   ],
   "source": [
    "from keras.preprocessing.image import ImageDataGenerator\n",
    "\n",
    "train_datagen = ImageDataGenerator(rescale=1./255, rotation_range=45, shear_range=0.15)\n",
    "test_datagen = ImageDataGenerator(rescale=1./255)\n",
    "\n",
    "train_generator = train_datagen.flow_from_directory(train_dir, #타깃 디렉터리\n",
    "                                                    target_size=(50,50), #모든 이미지 150X150으로 변경\n",
    "                                                    batch_size=32, #\n",
    "                                                    class_mode='categorical')\n",
    "\n",
    "validation_generator = test_datagen.flow_from_directory(validation_dir, target_size=(50,50),batch_size=32, class_mode='categorical')"
   ]
  },
  {
   "cell_type": "code",
   "execution_count": 8,
   "metadata": {
    "scrolled": false
   },
   "outputs": [
    {
     "name": "stderr",
     "output_type": "stream",
     "text": [
      "W1024 15:15:09.334159 25344 deprecation.py:323] From C:\\Users\\SH\\Anaconda3\\envs\\AI\\lib\\site-packages\\tensorflow\\python\\ops\\math_grad.py:1250: add_dispatch_support.<locals>.wrapper (from tensorflow.python.ops.array_ops) is deprecated and will be removed in a future version.\n",
      "Instructions for updating:\n",
      "Use tf.where in 2.0, which has the same broadcast rule as np.where\n"
     ]
    },
    {
     "name": "stdout",
     "output_type": "stream",
     "text": [
      "Epoch 1/100\n",
      "100/100 [==============================] - 18s 179ms/step - loss: 2.0342 - acc: 0.2759 - val_loss: 1.1478 - val_acc: 0.6525\n",
      "Epoch 2/100\n",
      "100/100 [==============================] - 10s 100ms/step - loss: 1.0474 - acc: 0.6634 - val_loss: 0.6497 - val_acc: 0.7925\n",
      "Epoch 3/100\n",
      "100/100 [==============================] - 10s 100ms/step - loss: 0.6087 - acc: 0.8050 - val_loss: 0.5074 - val_acc: 0.8387\n",
      "Epoch 4/100\n",
      "100/100 [==============================] - 10s 100ms/step - loss: 0.4754 - acc: 0.8550 - val_loss: 0.5071 - val_acc: 0.8600\n",
      "Epoch 5/100\n",
      "100/100 [==============================] - 10s 100ms/step - loss: 0.4149 - acc: 0.8766 - val_loss: 0.3416 - val_acc: 0.8888\n",
      "Epoch 6/100\n",
      "100/100 [==============================] - 10s 100ms/step - loss: 0.3693 - acc: 0.8834 - val_loss: 0.3184 - val_acc: 0.9175\n",
      "Epoch 7/100\n",
      "100/100 [==============================] - 10s 100ms/step - loss: 0.3206 - acc: 0.9106 - val_loss: 0.4209 - val_acc: 0.8775\n",
      "Epoch 8/100\n",
      "100/100 [==============================] - 10s 100ms/step - loss: 0.2675 - acc: 0.9175 - val_loss: 0.2314 - val_acc: 0.9263\n",
      "Epoch 9/100\n",
      "100/100 [==============================] - 10s 100ms/step - loss: 0.2753 - acc: 0.9259 - val_loss: 0.2769 - val_acc: 0.9325\n",
      "Epoch 10/100\n",
      "100/100 [==============================] - 10s 102ms/step - loss: 0.2852 - acc: 0.9147 - val_loss: 0.2011 - val_acc: 0.9387\n",
      "Epoch 11/100\n",
      "100/100 [==============================] - 10s 100ms/step - loss: 0.1848 - acc: 0.9450 - val_loss: 0.1953 - val_acc: 0.9375\n",
      "Epoch 12/100\n",
      "100/100 [==============================] - 10s 100ms/step - loss: 0.2048 - acc: 0.9406 - val_loss: 0.1841 - val_acc: 0.9487\n",
      "Epoch 13/100\n",
      "100/100 [==============================] - 10s 100ms/step - loss: 0.2002 - acc: 0.9484 - val_loss: 0.1878 - val_acc: 0.9463\n",
      "Epoch 14/100\n",
      "100/100 [==============================] - 10s 100ms/step - loss: 0.1875 - acc: 0.9469 - val_loss: 0.2723 - val_acc: 0.9187\n",
      "Epoch 15/100\n",
      "100/100 [==============================] - 10s 101ms/step - loss: 0.1733 - acc: 0.9478 - val_loss: 0.1972 - val_acc: 0.9437\n",
      "Epoch 16/100\n",
      "100/100 [==============================] - 10s 101ms/step - loss: 0.1635 - acc: 0.9519 - val_loss: 0.2289 - val_acc: 0.9413\n",
      "Epoch 17/100\n",
      "100/100 [==============================] - 10s 100ms/step - loss: 0.1606 - acc: 0.9531 - val_loss: 0.2743 - val_acc: 0.9313\n",
      "Epoch 18/100\n",
      "100/100 [==============================] - 10s 100ms/step - loss: 0.1524 - acc: 0.9572 - val_loss: 0.1691 - val_acc: 0.9500\n",
      "Epoch 19/100\n",
      "100/100 [==============================] - 10s 100ms/step - loss: 0.1496 - acc: 0.9537 - val_loss: 0.1899 - val_acc: 0.9375\n",
      "Epoch 20/100\n",
      "100/100 [==============================] - 10s 100ms/step - loss: 0.1399 - acc: 0.9569 - val_loss: 0.1393 - val_acc: 0.9500\n",
      "Epoch 21/100\n",
      "100/100 [==============================] - 10s 100ms/step - loss: 0.1681 - acc: 0.9516 - val_loss: 0.2293 - val_acc: 0.9300\n",
      "Epoch 22/100\n",
      "100/100 [==============================] - 10s 100ms/step - loss: 0.2058 - acc: 0.9400 - val_loss: 0.1897 - val_acc: 0.9437\n",
      "Epoch 23/100\n",
      "100/100 [==============================] - 10s 100ms/step - loss: 0.1752 - acc: 0.9503 - val_loss: 0.2033 - val_acc: 0.9313\n",
      "Epoch 24/100\n",
      "100/100 [==============================] - 10s 101ms/step - loss: 0.1817 - acc: 0.9522 - val_loss: 0.1909 - val_acc: 0.9375\n",
      "Epoch 25/100\n",
      "100/100 [==============================] - 10s 101ms/step - loss: 0.1427 - acc: 0.9622 - val_loss: 0.1453 - val_acc: 0.9475\n",
      "Epoch 26/100\n",
      "100/100 [==============================] - 10s 101ms/step - loss: 0.1365 - acc: 0.9641 - val_loss: 0.1928 - val_acc: 0.9400\n",
      "Epoch 27/100\n",
      "100/100 [==============================] - 10s 100ms/step - loss: 0.1448 - acc: 0.9600 - val_loss: 0.2469 - val_acc: 0.9337\n",
      "Epoch 28/100\n",
      "100/100 [==============================] - 10s 100ms/step - loss: 0.1458 - acc: 0.9572 - val_loss: 0.1493 - val_acc: 0.9525\n",
      "Epoch 29/100\n",
      "100/100 [==============================] - 10s 102ms/step - loss: 0.1251 - acc: 0.9644 - val_loss: 0.1084 - val_acc: 0.9722\n",
      "Epoch 30/100\n",
      "100/100 [==============================] - 10s 101ms/step - loss: 0.1296 - acc: 0.9622 - val_loss: 0.1595 - val_acc: 0.9513\n",
      "Epoch 31/100\n",
      "100/100 [==============================] - 10s 100ms/step - loss: 0.1375 - acc: 0.9572 - val_loss: 0.1980 - val_acc: 0.9475\n",
      "Epoch 32/100\n",
      "100/100 [==============================] - 10s 101ms/step - loss: 0.1200 - acc: 0.9669 - val_loss: 0.2373 - val_acc: 0.9350\n",
      "Epoch 33/100\n",
      "100/100 [==============================] - 10s 100ms/step - loss: 0.1200 - acc: 0.9669 - val_loss: 0.2104 - val_acc: 0.9387\n",
      "Epoch 34/100\n",
      "100/100 [==============================] - 10s 100ms/step - loss: 0.1186 - acc: 0.9688 - val_loss: 0.1332 - val_acc: 0.9675\n",
      "Epoch 35/100\n",
      "100/100 [==============================] - 10s 101ms/step - loss: 0.1090 - acc: 0.9697 - val_loss: 0.1809 - val_acc: 0.9500\n",
      "Epoch 36/100\n",
      "100/100 [==============================] - 10s 101ms/step - loss: 0.1066 - acc: 0.9691 - val_loss: 0.1281 - val_acc: 0.9600\n",
      "Epoch 37/100\n",
      "100/100 [==============================] - 10s 101ms/step - loss: 0.1400 - acc: 0.9609 - val_loss: 0.1587 - val_acc: 0.9563\n",
      "Epoch 38/100\n",
      "100/100 [==============================] - 10s 101ms/step - loss: 0.1088 - acc: 0.9697 - val_loss: 0.1970 - val_acc: 0.9550\n",
      "Epoch 39/100\n",
      "100/100 [==============================] - 10s 100ms/step - loss: 0.1058 - acc: 0.9687 - val_loss: 0.1627 - val_acc: 0.9563\n",
      "Epoch 40/100\n",
      "100/100 [==============================] - 10s 100ms/step - loss: 0.1249 - acc: 0.9653 - val_loss: 0.1199 - val_acc: 0.9663\n",
      "Epoch 41/100\n",
      "100/100 [==============================] - 10s 101ms/step - loss: 0.1216 - acc: 0.9634 - val_loss: 0.1753 - val_acc: 0.9575\n",
      "Epoch 42/100\n",
      "100/100 [==============================] - 10s 101ms/step - loss: 0.1504 - acc: 0.9625 - val_loss: 0.1833 - val_acc: 0.9463\n",
      "Epoch 43/100\n",
      "100/100 [==============================] - 10s 101ms/step - loss: 0.1117 - acc: 0.9719 - val_loss: 0.1205 - val_acc: 0.9600\n",
      "Epoch 44/100\n",
      "100/100 [==============================] - 10s 101ms/step - loss: 0.1167 - acc: 0.9734 - val_loss: 0.1555 - val_acc: 0.9575\n",
      "Epoch 45/100\n",
      "100/100 [==============================] - 10s 101ms/step - loss: 0.1227 - acc: 0.9659 - val_loss: 0.1998 - val_acc: 0.9350\n",
      "Epoch 46/100\n",
      "100/100 [==============================] - 10s 101ms/step - loss: 0.1224 - acc: 0.9666 - val_loss: 0.1935 - val_acc: 0.9575\n",
      "Epoch 47/100\n",
      "100/100 [==============================] - 10s 101ms/step - loss: 0.1100 - acc: 0.9716 - val_loss: 0.1616 - val_acc: 0.9563\n",
      "Epoch 48/100\n",
      "100/100 [==============================] - 10s 101ms/step - loss: 0.0856 - acc: 0.9769 - val_loss: 0.1432 - val_acc: 0.9637\n",
      "Epoch 49/100\n",
      "100/100 [==============================] - 10s 101ms/step - loss: 0.1014 - acc: 0.9731 - val_loss: 0.1642 - val_acc: 0.9525\n",
      "Epoch 50/100\n",
      "100/100 [==============================] - 10s 101ms/step - loss: 0.0917 - acc: 0.9744 - val_loss: 0.1794 - val_acc: 0.9487\n",
      "Epoch 51/100\n",
      "100/100 [==============================] - 10s 100ms/step - loss: 0.1007 - acc: 0.9700 - val_loss: 0.1769 - val_acc: 0.9575\n",
      "Epoch 52/100\n",
      "100/100 [==============================] - 10s 103ms/step - loss: 0.1259 - acc: 0.9681 - val_loss: 0.1794 - val_acc: 0.9525\n",
      "Epoch 53/100\n",
      "100/100 [==============================] - 11s 107ms/step - loss: 0.1016 - acc: 0.9712 - val_loss: 0.1482 - val_acc: 0.9537\n",
      "Epoch 54/100\n",
      "100/100 [==============================] - 10s 101ms/step - loss: 0.1056 - acc: 0.9709 - val_loss: 0.3509 - val_acc: 0.8888\n",
      "Epoch 55/100\n",
      "100/100 [==============================] - 10s 101ms/step - loss: 0.1029 - acc: 0.9716 - val_loss: 0.1954 - val_acc: 0.9463\n",
      "Epoch 56/100\n",
      "100/100 [==============================] - 10s 101ms/step - loss: 0.1164 - acc: 0.9697 - val_loss: 0.1237 - val_acc: 0.9613\n",
      "Epoch 57/100\n",
      "100/100 [==============================] - 10s 101ms/step - loss: 0.1064 - acc: 0.9719 - val_loss: 0.1725 - val_acc: 0.9463\n",
      "Epoch 58/100\n",
      "100/100 [==============================] - 10s 102ms/step - loss: 0.0875 - acc: 0.9731 - val_loss: 0.2176 - val_acc: 0.9596\n",
      "Epoch 59/100\n",
      "100/100 [==============================] - 10s 101ms/step - loss: 0.1208 - acc: 0.9678 - val_loss: 0.2029 - val_acc: 0.9575\n",
      "Epoch 60/100\n"
     ]
    },
    {
     "name": "stdout",
     "output_type": "stream",
     "text": [
      "100/100 [==============================] - 10s 101ms/step - loss: 0.1105 - acc: 0.9722 - val_loss: 0.1276 - val_acc: 0.9663\n",
      "Epoch 61/100\n",
      "100/100 [==============================] - 10s 101ms/step - loss: 0.1257 - acc: 0.9678 - val_loss: 0.1334 - val_acc: 0.9587\n",
      "Epoch 62/100\n",
      "100/100 [==============================] - 10s 100ms/step - loss: 0.1029 - acc: 0.9706 - val_loss: 0.1433 - val_acc: 0.9513\n",
      "Epoch 63/100\n",
      "100/100 [==============================] - 10s 101ms/step - loss: 0.1065 - acc: 0.9709 - val_loss: 0.1941 - val_acc: 0.9450\n",
      "Epoch 64/100\n",
      "100/100 [==============================] - 10s 100ms/step - loss: 0.1071 - acc: 0.9734 - val_loss: 0.1451 - val_acc: 0.9575\n",
      "Epoch 65/100\n",
      "100/100 [==============================] - 10s 101ms/step - loss: 0.0995 - acc: 0.9734 - val_loss: 0.1456 - val_acc: 0.9537\n",
      "Epoch 66/100\n",
      "100/100 [==============================] - 10s 100ms/step - loss: 0.0618 - acc: 0.9828 - val_loss: 0.1296 - val_acc: 0.9650\n",
      "Epoch 67/100\n",
      "100/100 [==============================] - 10s 100ms/step - loss: 0.1076 - acc: 0.9703 - val_loss: 0.1569 - val_acc: 0.9600\n",
      "Epoch 68/100\n",
      "100/100 [==============================] - 10s 101ms/step - loss: 0.0949 - acc: 0.9738 - val_loss: 0.1192 - val_acc: 0.9663\n",
      "Epoch 69/100\n",
      "100/100 [==============================] - 10s 101ms/step - loss: 0.0823 - acc: 0.9734 - val_loss: 0.0821 - val_acc: 0.9738\n",
      "Epoch 70/100\n",
      "100/100 [==============================] - 10s 101ms/step - loss: 0.0884 - acc: 0.9781 - val_loss: 0.1747 - val_acc: 0.9500\n",
      "Epoch 71/100\n",
      "100/100 [==============================] - 10s 101ms/step - loss: 0.0770 - acc: 0.9794 - val_loss: 0.1275 - val_acc: 0.9650\n",
      "Epoch 72/100\n",
      "100/100 [==============================] - 10s 101ms/step - loss: 0.0833 - acc: 0.9769 - val_loss: 0.1376 - val_acc: 0.9600\n",
      "Epoch 73/100\n",
      "100/100 [==============================] - 10s 100ms/step - loss: 0.0780 - acc: 0.9759 - val_loss: 0.1064 - val_acc: 0.9712\n",
      "Epoch 74/100\n",
      "100/100 [==============================] - 10s 101ms/step - loss: 0.0943 - acc: 0.9762 - val_loss: 0.2587 - val_acc: 0.9513\n",
      "Epoch 75/100\n",
      "100/100 [==============================] - 10s 101ms/step - loss: 0.1381 - acc: 0.9631 - val_loss: 0.1771 - val_acc: 0.9437\n",
      "Epoch 76/100\n",
      "100/100 [==============================] - 10s 100ms/step - loss: 0.1116 - acc: 0.9669 - val_loss: 0.1500 - val_acc: 0.9675\n",
      "Epoch 77/100\n",
      "100/100 [==============================] - 10s 101ms/step - loss: 0.0969 - acc: 0.9762 - val_loss: 0.1535 - val_acc: 0.9675\n",
      "Epoch 78/100\n",
      "100/100 [==============================] - 10s 101ms/step - loss: 0.0915 - acc: 0.9762 - val_loss: 0.1150 - val_acc: 0.9650\n",
      "Epoch 79/100\n",
      "100/100 [==============================] - 10s 100ms/step - loss: 0.0710 - acc: 0.9813 - val_loss: 0.1840 - val_acc: 0.9688\n",
      "Epoch 80/100\n",
      "100/100 [==============================] - 10s 100ms/step - loss: 0.0835 - acc: 0.9775 - val_loss: 0.0780 - val_acc: 0.9738\n",
      "Epoch 81/100\n",
      "100/100 [==============================] - 10s 101ms/step - loss: 0.0891 - acc: 0.9759 - val_loss: 0.1400 - val_acc: 0.9688\n",
      "Epoch 82/100\n",
      "100/100 [==============================] - 10s 101ms/step - loss: 0.0740 - acc: 0.9769 - val_loss: 0.1292 - val_acc: 0.9613\n",
      "Epoch 83/100\n",
      "100/100 [==============================] - 10s 101ms/step - loss: 0.0665 - acc: 0.9838 - val_loss: 0.1313 - val_acc: 0.9750\n",
      "Epoch 84/100\n",
      "100/100 [==============================] - 10s 101ms/step - loss: 0.0857 - acc: 0.9772 - val_loss: 0.1695 - val_acc: 0.9625\n",
      "Epoch 85/100\n",
      "100/100 [==============================] - 10s 101ms/step - loss: 0.0746 - acc: 0.9834 - val_loss: 0.1325 - val_acc: 0.9637\n",
      "Epoch 86/100\n",
      "100/100 [==============================] - 10s 101ms/step - loss: 0.0759 - acc: 0.9819 - val_loss: 0.1692 - val_acc: 0.9625\n",
      "Epoch 87/100\n",
      "100/100 [==============================] - 10s 101ms/step - loss: 0.0951 - acc: 0.9753 - val_loss: 0.1558 - val_acc: 0.9596\n",
      "Epoch 88/100\n",
      "100/100 [==============================] - 10s 100ms/step - loss: 0.0858 - acc: 0.9772 - val_loss: 0.1420 - val_acc: 0.9663\n",
      "Epoch 89/100\n",
      "100/100 [==============================] - 10s 101ms/step - loss: 0.0910 - acc: 0.9769 - val_loss: 0.1467 - val_acc: 0.9587\n",
      "Epoch 90/100\n",
      "100/100 [==============================] - 10s 101ms/step - loss: 0.1034 - acc: 0.9741 - val_loss: 0.1855 - val_acc: 0.9525\n",
      "Epoch 91/100\n",
      "100/100 [==============================] - 10s 101ms/step - loss: 0.0765 - acc: 0.9772 - val_loss: 0.1938 - val_acc: 0.9550\n",
      "Epoch 92/100\n",
      "100/100 [==============================] - 10s 101ms/step - loss: 0.0917 - acc: 0.9797 - val_loss: 0.1743 - val_acc: 0.9650\n",
      "Epoch 93/100\n",
      "100/100 [==============================] - 10s 101ms/step - loss: 0.0750 - acc: 0.9772 - val_loss: 0.1705 - val_acc: 0.9550\n",
      "Epoch 94/100\n",
      "100/100 [==============================] - 10s 101ms/step - loss: 0.0943 - acc: 0.9734 - val_loss: 0.1260 - val_acc: 0.9613\n",
      "Epoch 95/100\n",
      "100/100 [==============================] - 10s 101ms/step - loss: 0.0893 - acc: 0.9769 - val_loss: 0.1194 - val_acc: 0.9650\n",
      "Epoch 96/100\n",
      "100/100 [==============================] - 10s 102ms/step - loss: 0.0733 - acc: 0.9825 - val_loss: 0.1257 - val_acc: 0.9725\n",
      "Epoch 97/100\n",
      "100/100 [==============================] - 10s 103ms/step - loss: 0.0711 - acc: 0.9803 - val_loss: 0.1518 - val_acc: 0.9675\n",
      "Epoch 98/100\n",
      "100/100 [==============================] - 10s 101ms/step - loss: 0.0798 - acc: 0.9766 - val_loss: 0.1114 - val_acc: 0.9675\n",
      "Epoch 99/100\n",
      "100/100 [==============================] - 10s 102ms/step - loss: 0.0912 - acc: 0.9744 - val_loss: 0.2658 - val_acc: 0.9600\n",
      "Epoch 100/100\n",
      "100/100 [==============================] - 10s 100ms/step - loss: 0.1022 - acc: 0.9759 - val_loss: 0.1198 - val_acc: 0.9613\n"
     ]
    }
   ],
   "source": [
    "history = model.fit_generator(\n",
    "        train_generator,\n",
    "        steps_per_epoch=100,\n",
    "        epochs=100,\n",
    "        validation_data=validation_generator,\n",
    "        validation_steps=25)"
   ]
  },
  {
   "cell_type": "code",
   "execution_count": 9,
   "metadata": {},
   "outputs": [],
   "source": [
    "model.save('number_painting4.h5')"
   ]
  },
  {
   "cell_type": "code",
   "execution_count": 10,
   "metadata": {},
   "outputs": [
    {
     "data": {
      "image/png": "[encoded data removed]",
      "text/plain": [
       "<Figure size 432x288 with 1 Axes>"
      ]
     },
     "metadata": {
      "needs_background": "light"
     },
     "output_type": "display_data"
    }
   ],
   "source": [
    "import matplotlib.pyplot as plt\n",
    "%matplotlib inline\n",
    "acc = history.history['acc']\n",
    "val_acc = history.history['val_acc']\n",
    "loss = history.history['loss']\n",
    "val_loss = history.history['val_loss']\n",
    "\n",
    "epochs = range(1, len(acc) + 1)\n",
    "\n",
    "plt.plot(epochs,loss,'bo',label='Training loss')\n",
    "plt.plot(epochs,val_loss,'b',label='Validation loss')\n",
    "plt.title('Training and validation loss')\n",
    "plt.legend()\n",
    "\n",
    "plt.show()"
   ]
  },
  {
   "cell_type": "code",
   "execution_count": 11,
   "metadata": {},
   "outputs": [
    {
     "data": {
      "image/png": "[encoded data removed]",
      "text/plain": [
       "<Figure size 432x288 with 1 Axes>"
      ]
     },
     "metadata": {
      "needs_background": "light"
     },
     "output_type": "display_data"
    }
   ],
   "source": [
    "acc = history.history['acc']\n",
    "val_acc = history.history['val_acc']\n",
    "loss = history.history['loss']\n",
    "val_loss = history.history['val_loss']\n",
    "\n",
    "epochs = range(1, len(acc) + 1)\n",
    "\n",
    "plt.plot(epochs,acc,'bo',label='Training acc')\n",
    "plt.plot(epochs,val_acc,'b',label='Validation acc')\n",
    "plt.title('Training and validation acc')\n",
    "plt.legend()\n",
    "\n",
    "plt.show()"
   ]
  },
  {
   "cell_type": "code",
   "execution_count": 11,
   "metadata": {},
   "outputs": [
    {
     "name": "stdout",
     "output_type": "stream",
     "text": [
      "Found 16000 images belonging to 10 classes.\n"
     ]
    }
   ],
   "source": [
    "import glob\n",
    "from PIL import Image\n",
    "from keras.preprocessing import image\n",
    "import numpy as np\n",
    "import matplotlib.pyplot as plt\n",
    "%matplotlib inline\n",
    "\n",
    "from keras import backend as K\n",
    "from keras.models import load_model\n",
    "model = load_model('number_painting.h5')\n",
    "\n",
    "test_generator = test_datagen.flow_from_directory(test_dir, #타깃 디렉터리\n",
    "                                                    target_size=(50,50), #모든 이미지 150X150으로 변경\n",
    "                                                    batch_size=32, #\n",
    "                                                    class_mode='categorical')\n",
    "filenames = test_generator.filenames\n",
    "nb_samples = len(filenames)\n",
    "\n",
    "predict = model.predict_generator(test_generator,steps = nb_samples)\n",
    "\n",
    "\n",
    "# img_path='정규화원본/test/0/normalizationSF61527.bmp'\n",
    "# img = image.load_img(img_path,target_size=(50,50))\n",
    "# plt.imshow(img)\n",
    "\n",
    "# x=image.img_to_array(img)\n",
    "# x=np.expand_dims(x,axis=0)\n",
    "# x=x/255.\n",
    "\n",
    "\n",
    "\n",
    "    \n",
    "# prediction =model.predict_classes(x)\n",
    "# #prediction =model.predict(x)\n",
    "# print(prediction)\n",
    "#np.set_printoptions(formatter={'float': lambda x: \"{0:0.3f}\".format(x)})"
   ]
  },
  {
   "cell_type": "code",
   "execution_count": 12,
   "metadata": {},
   "outputs": [
    {
     "name": "stdout",
     "output_type": "stream",
     "text": [
      "[[1.4805024e-12 1.1785224e-07 6.3136611e-09 ... 2.8993970e-08\n",
      "  9.0014958e-04 9.9857461e-01]\n",
      " [1.9701421e-20 1.5478572e-13 1.1277125e-08 ... 7.4333890e-14\n",
      "  2.8034918e-13 2.0277668e-09]\n",
      " [2.1695259e-08 1.2088515e-10 9.9999952e-01 ... 3.1641762e-12\n",
      "  8.7501579e-09 9.3021780e-12]\n",
      " ...\n",
      " [1.1762357e-08 6.4647296e-09 9.8120683e-01 ... 5.0785470e-15\n",
      "  1.4821206e-02 1.2623608e-10]\n",
      " [1.9819144e-12 4.4178825e-09 8.0529509e-07 ... 2.5734730e-18\n",
      "  3.7482283e-07 1.5394195e-14]\n",
      " [9.9963963e-01 2.8910181e-05 3.3125063e-04 ... 1.5962215e-07\n",
      "  1.7784911e-08 6.5505856e-12]]\n"
     ]
    }
   ],
   "source": [
    "print(predict)"
   ]
  },
  {
   "cell_type": "code",
   "execution_count": 12,
   "metadata": {},
   "outputs": [
    {
     "name": "stdout",
     "output_type": "stream",
     "text": [
      "Found 16000 images belonging to 10 classes.\n",
      "500/500 [==============================] - 11s 21ms/step\n"
     ]
    }
   ],
   "source": [
    "test_generator = test_datagen.flow_from_directory(test_dir, #타깃 디렉터리\n",
    "                                                    target_size=(50,50), #모든 이미지 150X150으로 변경\n",
    "                                                    batch_size=32, #\n",
    "                                                    class_mode='categorical')\n",
    "score=model.evaluate(test_generator)"
   ]
  },
  {
   "cell_type": "code",
   "execution_count": 13,
   "metadata": {},
   "outputs": [
    {
     "name": "stdout",
     "output_type": "stream",
     "text": [
      "[0.07861526195899023, 0.979]\n"
     ]
    }
   ],
   "source": [
    "print(score)"
   ]
  },
  {
   "cell_type": "code",
   "execution_count": null,
   "metadata": {},
   "outputs": [],
   "source": []
  }
 ],
 "metadata": {
  "kernelspec": {
   "display_name": "Python 3",
   "language": "python",
   "name": "python3"
  },
  "language_info": {
   "codemirror_mode": {
    "name": "ipython",
    "version": 3
   },
   "file_extension": ".py",
   "mimetype": "text/x-python",
   "name": "python",
   "nbconvert_exporter": "python",
   "pygments_lexer": "ipython3",
   "version": "3.7.4"
  }
 },
 "nbformat": 4,
 "nbformat_minor": 2
}
