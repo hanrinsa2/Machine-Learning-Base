{
 "cells": [
  {
   "cell_type": "code",
   "execution_count": 1,
   "metadata": {},
   "outputs": [],
   "source": [
    "import os, shutil\n",
    "\n",
    "base_dir = '딥러닝원본2'\n",
    "\n",
    "\n",
    "train_dir = os.path.join(base_dir, 'train')\n",
    "validation_dir = os.path.join(base_dir, 'validation')\n",
    "test_dir = os.path.join(base_dir, 'test')\n",
    "\n",
    "\n",
    "train_0_dir = os.path.join(train_dir, '0')\n",
    "train_1_dir = os.path.join(train_dir, '1')\n",
    "train_2_dir = os.path.join(train_dir, '2')\n",
    "train_3_dir = os.path.join(train_dir, '3')\n",
    "train_4_dir = os.path.join(train_dir, '4')\n",
    "train_5_dir = os.path.join(train_dir, '5')\n",
    "train_6_dir = os.path.join(train_dir, '6')\n",
    "train_7_dir = os.path.join(train_dir, '7')\n",
    "train_8_dir = os.path.join(train_dir, '8')\n",
    "train_9_dir = os.path.join(train_dir, '9')\n",
    "\n",
    "\n",
    "validation_0_dir = os.path.join(validation_dir, '0')\n",
    "validation_1_dir = os.path.join(validation_dir, '1')\n",
    "validation_2_dir = os.path.join(validation_dir, '2')\n",
    "validation_3_dir = os.path.join(validation_dir, '3')\n",
    "validation_4_dir = os.path.join(validation_dir, '4')\n",
    "validation_5_dir = os.path.join(validation_dir, '5')\n",
    "validation_6_dir = os.path.join(validation_dir, '6')\n",
    "validation_7_dir = os.path.join(validation_dir, '7')\n",
    "validation_8_dir = os.path.join(validation_dir, '8')\n",
    "validation_9_dir = os.path.join(validation_dir, '9')\n",
    "\n",
    "\n",
    "test_0_dir = os.path.join(test_dir, '0')\n",
    "test_1_dir = os.path.join(test_dir, '1')\n",
    "test_2_dir = os.path.join(test_dir, '2')\n",
    "test_3_dir = os.path.join(test_dir, '3')\n",
    "test_4_dir = os.path.join(test_dir, '4')\n",
    "test_5_dir = os.path.join(test_dir, '5')\n",
    "test_6_dir = os.path.join(test_dir, '6')\n",
    "test_7_dir = os.path.join(test_dir, '7')\n",
    "test_8_dir = os.path.join(test_dir, '8')\n",
    "test_9_dir = os.path.join(test_dir, '9')"
   ]
  },
  {
   "cell_type": "code",
   "execution_count": 2,
   "metadata": {},
   "outputs": [
    {
     "name": "stdout",
     "output_type": "stream",
     "text": [
      "훈련용 0 이미지 전체 개수 :  5000\n",
      "검증용 0 이미지 전체 개수 :  2300\n",
      "테스트용 0 이미지 전체 개수 :  1600\n"
     ]
    }
   ],
   "source": [
    "print('훈련용 0 이미지 전체 개수 : ', len(os.listdir(train_0_dir)))\n",
    "\n",
    "print('검증용 0 이미지 전체 개수 : ', len(os.listdir(validation_0_dir)))\n",
    "\n",
    "print('테스트용 0 이미지 전체 개수 : ', len(os.listdir(test_0_dir)))\n"
   ]
  },
  {
   "cell_type": "code",
   "execution_count": 2,
   "metadata": {},
   "outputs": [
    {
     "ename": "ModuleNotFoundError",
     "evalue": "No module named 'keras'",
     "output_type": "error",
     "traceback": [
      "\u001b[1;31m---------------------------------------------------------------------------\u001b[0m",
      "\u001b[1;31mModuleNotFoundError\u001b[0m                       Traceback (most recent call last)",
      "\u001b[1;32m<ipython-input-2-ed0af6580773>\u001b[0m in \u001b[0;36m<module>\u001b[1;34m\u001b[0m\n\u001b[1;32m----> 1\u001b[1;33m \u001b[1;32mfrom\u001b[0m \u001b[0mkeras\u001b[0m \u001b[1;32mimport\u001b[0m \u001b[0mlayers\u001b[0m\u001b[1;33m\u001b[0m\u001b[1;33m\u001b[0m\u001b[0m\n\u001b[0m\u001b[0;32m      2\u001b[0m \u001b[1;32mfrom\u001b[0m \u001b[0mkeras\u001b[0m \u001b[1;32mimport\u001b[0m \u001b[0mmodels\u001b[0m\u001b[1;33m\u001b[0m\u001b[1;33m\u001b[0m\u001b[0m\n\u001b[0;32m      3\u001b[0m \u001b[1;32mfrom\u001b[0m \u001b[0mkeras\u001b[0m\u001b[1;33m.\u001b[0m\u001b[0mlayers\u001b[0m \u001b[1;32mimport\u001b[0m \u001b[0mDropout\u001b[0m\u001b[1;33m\u001b[0m\u001b[1;33m\u001b[0m\u001b[0m\n\u001b[0;32m      4\u001b[0m \u001b[0mmodel\u001b[0m \u001b[1;33m=\u001b[0m \u001b[0mmodels\u001b[0m\u001b[1;33m.\u001b[0m\u001b[0mSequential\u001b[0m\u001b[1;33m(\u001b[0m\u001b[1;33m)\u001b[0m\u001b[1;33m\u001b[0m\u001b[1;33m\u001b[0m\u001b[0m\n\u001b[0;32m      5\u001b[0m model.add(layers.Conv2D(32,(3,3), activation='relu',\n",
      "\u001b[1;31mModuleNotFoundError\u001b[0m: No module named 'keras'"
     ]
    }
   ],
   "source": [
    "from keras import layers\n",
    "from keras import models\n",
    "from keras.layers import Dropout\n",
    "model = models.Sequential()\n",
    "model.add(layers.Conv2D(32,(3,3), activation='relu',\n",
    "                       input_shape=(50,50,3)))\n",
    "#model.add(layers.MaxPooling2D((2,2)))\n",
    "model.add(layers.Conv2D(32,(3,3),activation='relu'))\n",
    "model.add(layers.MaxPooling2D((2,2)))\n",
    "model.add(Dropout(0.25))\n",
    "# model.add(layers.Conv2D(128,(3,3),activation='relu'))\n",
    "# model.add(layers.MaxPooling2D((2,2)))\n",
    "# model.add(layers.Conv2D(128,(3,3),activation='relu'))\n",
    "# model.add(layers.MaxPooling2D((2,2)))\n",
    "model.add(layers.Flatten())\n",
    "model.add(layers.Dense(128,activation='relu'))\n",
    "model.add(layers.Dense(10,activation='softmax'))"
   ]
  },
  {
   "cell_type": "code",
   "execution_count": 5,
   "metadata": {},
   "outputs": [
    {
     "name": "stderr",
     "output_type": "stream",
     "text": [
      "W1023 15:03:11.504092   276 deprecation_wrapper.py:119] From C:\\Users\\SH\\Anaconda3\\envs\\AI\\lib\\site-packages\\keras-2.2.5-py3.7.egg\\keras\\optimizers.py:793: The name tf.train.Optimizer is deprecated. Please use tf.compat.v1.train.Optimizer instead.\n",
      "\n",
      "W1023 15:03:11.554957   276 deprecation_wrapper.py:119] From C:\\Users\\SH\\Anaconda3\\envs\\AI\\lib\\site-packages\\keras-2.2.5-py3.7.egg\\keras\\backend\\tensorflow_backend.py:3583: The name tf.log is deprecated. Please use tf.math.log instead.\n",
      "\n"
     ]
    }
   ],
   "source": [
    "from keras import optimizers\n",
    "\n",
    "model.compile(loss='categorical_crossentropy',\n",
    "             optimizer='adam',\n",
    "             metrics=['acc'])\n"
   ]
  },
  {
   "cell_type": "code",
   "execution_count": 6,
   "metadata": {},
   "outputs": [
    {
     "name": "stdout",
     "output_type": "stream",
     "text": [
      "Found 50000 images belonging to 10 classes.\n",
      "Found 23000 images belonging to 10 classes.\n"
     ]
    }
   ],
   "source": [
    "from keras.preprocessing.image import ImageDataGenerator\n",
    "\n",
    "train_datagen = ImageDataGenerator(rescale=1./255)\n",
    "test_datagen = ImageDataGenerator(rescale=1./255)\n",
    "\n",
    "train_generator = train_datagen.flow_from_directory(train_dir, #타깃 디렉터리\n",
    "                                                    target_size=(50,50), #모든 이미지 150X150으로 변경\n",
    "                                                    batch_size=32, #\n",
    "                                                    class_mode='categorical')\n",
    "\n",
    "validation_generator = test_datagen.flow_from_directory(validation_dir, target_size=(50,50),batch_size=32, class_mode='categorical')"
   ]
  },
  {
   "cell_type": "code",
   "execution_count": 7,
   "metadata": {
    "scrolled": false
   },
   "outputs": [
    {
     "name": "stderr",
     "output_type": "stream",
     "text": [
      "W1023 15:03:41.010589   276 deprecation.py:323] From C:\\Users\\SH\\Anaconda3\\envs\\AI\\lib\\site-packages\\tensorflow\\python\\ops\\math_grad.py:1250: add_dispatch_support.<locals>.wrapper (from tensorflow.python.ops.array_ops) is deprecated and will be removed in a future version.\n",
      "Instructions for updating:\n",
      "Use tf.where in 2.0, which has the same broadcast rule as np.where\n"
     ]
    },
    {
     "name": "stdout",
     "output_type": "stream",
     "text": [
      "Epoch 1/100\n",
      "50/50 [==============================] - 9s 185ms/step - loss: 1.0699 - acc: 0.6744 - val_loss: 0.6959 - val_acc: 0.7825\n",
      "Epoch 2/100\n",
      "50/50 [==============================] - 4s 73ms/step - loss: 0.4144 - acc: 0.8756 - val_loss: 0.5736 - val_acc: 0.8287\n",
      "Epoch 3/100\n",
      "50/50 [==============================] - 4s 72ms/step - loss: 0.3143 - acc: 0.9163 - val_loss: 0.4302 - val_acc: 0.8600\n",
      "Epoch 4/100\n",
      "50/50 [==============================] - 4s 75ms/step - loss: 0.2504 - acc: 0.9287 - val_loss: 0.3505 - val_acc: 0.8975\n",
      "Epoch 5/100\n",
      "50/50 [==============================] - 4s 75ms/step - loss: 0.1986 - acc: 0.9469 - val_loss: 0.3296 - val_acc: 0.8925\n",
      "Epoch 6/100\n",
      "50/50 [==============================] - 4s 81ms/step - loss: 0.1668 - acc: 0.9450 - val_loss: 0.2836 - val_acc: 0.9137\n",
      "Epoch 7/100\n",
      "50/50 [==============================] - 4s 79ms/step - loss: 0.1282 - acc: 0.9606 - val_loss: 0.2405 - val_acc: 0.9225\n",
      "Epoch 8/100\n",
      "50/50 [==============================] - 4s 78ms/step - loss: 0.1141 - acc: 0.9706 - val_loss: 0.2183 - val_acc: 0.9287\n",
      "Epoch 9/100\n",
      "50/50 [==============================] - 4s 73ms/step - loss: 0.1147 - acc: 0.9644 - val_loss: 0.2367 - val_acc: 0.9387\n",
      "Epoch 10/100\n",
      "50/50 [==============================] - 4s 73ms/step - loss: 0.1225 - acc: 0.9613 - val_loss: 0.2648 - val_acc: 0.9187\n",
      "Epoch 11/100\n",
      "50/50 [==============================] - 4s 73ms/step - loss: 0.1357 - acc: 0.9537 - val_loss: 0.2116 - val_acc: 0.9325\n",
      "Epoch 12/100\n",
      "50/50 [==============================] - 4s 72ms/step - loss: 0.0720 - acc: 0.9750 - val_loss: 0.2185 - val_acc: 0.9337\n",
      "Epoch 13/100\n",
      "50/50 [==============================] - 4s 72ms/step - loss: 0.0895 - acc: 0.9744 - val_loss: 0.2245 - val_acc: 0.9337\n",
      "Epoch 14/100\n",
      "50/50 [==============================] - 4s 73ms/step - loss: 0.0737 - acc: 0.9750 - val_loss: 0.2400 - val_acc: 0.9237\n",
      "Epoch 15/100\n",
      "50/50 [==============================] - 4s 73ms/step - loss: 0.0920 - acc: 0.9725 - val_loss: 0.1938 - val_acc: 0.9463\n",
      "Epoch 16/100\n",
      "50/50 [==============================] - 4s 74ms/step - loss: 0.0674 - acc: 0.9750 - val_loss: 0.1603 - val_acc: 0.9513\n",
      "Epoch 17/100\n",
      "50/50 [==============================] - 4s 73ms/step - loss: 0.0815 - acc: 0.9769 - val_loss: 0.2331 - val_acc: 0.9350\n",
      "Epoch 18/100\n",
      "50/50 [==============================] - 4s 73ms/step - loss: 0.0707 - acc: 0.9756 - val_loss: 0.2391 - val_acc: 0.9313\n",
      "Epoch 19/100\n",
      "50/50 [==============================] - 4s 75ms/step - loss: 0.0628 - acc: 0.9813 - val_loss: 0.2429 - val_acc: 0.9300\n",
      "Epoch 20/100\n",
      "50/50 [==============================] - 4s 74ms/step - loss: 0.0638 - acc: 0.9800 - val_loss: 0.1282 - val_acc: 0.9587\n",
      "Epoch 21/100\n",
      "50/50 [==============================] - 4s 72ms/step - loss: 0.0747 - acc: 0.9781 - val_loss: 0.1464 - val_acc: 0.9575\n",
      "Epoch 22/100\n",
      "50/50 [==============================] - 4s 80ms/step - loss: 0.0640 - acc: 0.9800 - val_loss: 0.1678 - val_acc: 0.9463\n",
      "Epoch 23/100\n",
      "50/50 [==============================] - 4s 76ms/step - loss: 0.0706 - acc: 0.9813 - val_loss: 0.1496 - val_acc: 0.9463\n",
      "Epoch 24/100\n",
      "50/50 [==============================] - 4s 73ms/step - loss: 0.0592 - acc: 0.9819 - val_loss: 0.1749 - val_acc: 0.9525\n",
      "Epoch 25/100\n",
      "50/50 [==============================] - 4s 76ms/step - loss: 0.0494 - acc: 0.9862 - val_loss: 0.1487 - val_acc: 0.9437\n",
      "Epoch 26/100\n",
      "50/50 [==============================] - 4s 75ms/step - loss: 0.0445 - acc: 0.9837 - val_loss: 0.1608 - val_acc: 0.9425\n",
      "Epoch 27/100\n",
      "50/50 [==============================] - 4s 74ms/step - loss: 0.0544 - acc: 0.9806 - val_loss: 0.2006 - val_acc: 0.9425\n",
      "Epoch 28/100\n",
      "50/50 [==============================] - 4s 73ms/step - loss: 0.0702 - acc: 0.9781 - val_loss: 0.1952 - val_acc: 0.9463\n",
      "Epoch 29/100\n",
      "50/50 [==============================] - 4s 73ms/step - loss: 0.0687 - acc: 0.9794 - val_loss: 0.1930 - val_acc: 0.9381\n",
      "Epoch 30/100\n",
      "50/50 [==============================] - 4s 72ms/step - loss: 0.0536 - acc: 0.9825 - val_loss: 0.1930 - val_acc: 0.9437\n",
      "Epoch 31/100\n",
      "50/50 [==============================] - 4s 73ms/step - loss: 0.0364 - acc: 0.9925 - val_loss: 0.1601 - val_acc: 0.9475\n",
      "Epoch 32/100\n",
      "50/50 [==============================] - 4s 72ms/step - loss: 0.0404 - acc: 0.9900 - val_loss: 0.1688 - val_acc: 0.9537\n",
      "Epoch 33/100\n",
      "50/50 [==============================] - 4s 72ms/step - loss: 0.0187 - acc: 0.9944 - val_loss: 0.1177 - val_acc: 0.9637\n",
      "Epoch 34/100\n",
      "50/50 [==============================] - 4s 71ms/step - loss: 0.0237 - acc: 0.9931 - val_loss: 0.1887 - val_acc: 0.9413\n",
      "Epoch 35/100\n",
      "50/50 [==============================] - 4s 72ms/step - loss: 0.0233 - acc: 0.9938 - val_loss: 0.1373 - val_acc: 0.9650\n",
      "Epoch 36/100\n",
      "50/50 [==============================] - 4s 72ms/step - loss: 0.0341 - acc: 0.9906 - val_loss: 0.1348 - val_acc: 0.9525\n",
      "Epoch 37/100\n",
      "50/50 [==============================] - 4s 73ms/step - loss: 0.0390 - acc: 0.9888 - val_loss: 0.2036 - val_acc: 0.9363\n",
      "Epoch 38/100\n",
      "50/50 [==============================] - 4s 71ms/step - loss: 0.0257 - acc: 0.9919 - val_loss: 0.1452 - val_acc: 0.9575\n",
      "Epoch 39/100\n",
      "50/50 [==============================] - 4s 71ms/step - loss: 0.0250 - acc: 0.9894 - val_loss: 0.2142 - val_acc: 0.9450\n",
      "Epoch 40/100\n",
      "50/50 [==============================] - 4s 73ms/step - loss: 0.0329 - acc: 0.9944 - val_loss: 0.2005 - val_acc: 0.9487\n",
      "Epoch 41/100\n",
      "50/50 [==============================] - 4s 72ms/step - loss: 0.0354 - acc: 0.9881 - val_loss: 0.1820 - val_acc: 0.9487\n",
      "Epoch 42/100\n",
      "50/50 [==============================] - 4s 72ms/step - loss: 0.0233 - acc: 0.9919 - val_loss: 0.1830 - val_acc: 0.9475\n",
      "Epoch 43/100\n",
      "50/50 [==============================] - 4s 72ms/step - loss: 0.0362 - acc: 0.9906 - val_loss: 0.1366 - val_acc: 0.9663\n",
      "Epoch 44/100\n",
      "50/50 [==============================] - 4s 72ms/step - loss: 0.0484 - acc: 0.9844 - val_loss: 0.1659 - val_acc: 0.9500\n",
      "Epoch 45/100\n",
      "50/50 [==============================] - 4s 73ms/step - loss: 0.0328 - acc: 0.9906 - val_loss: 0.1617 - val_acc: 0.9475\n",
      "Epoch 46/100\n",
      "50/50 [==============================] - 4s 73ms/step - loss: 0.0390 - acc: 0.9850 - val_loss: 0.1978 - val_acc: 0.9437\n",
      "Epoch 47/100\n",
      "50/50 [==============================] - 4s 71ms/step - loss: 0.0298 - acc: 0.9919 - val_loss: 0.1374 - val_acc: 0.9525\n",
      "Epoch 48/100\n",
      "50/50 [==============================] - 4s 71ms/step - loss: 0.0272 - acc: 0.9931 - val_loss: 0.1071 - val_acc: 0.9625\n",
      "Epoch 49/100\n",
      "50/50 [==============================] - 4s 72ms/step - loss: 0.0194 - acc: 0.9956 - val_loss: 0.2222 - val_acc: 0.9400\n",
      "Epoch 50/100\n",
      "50/50 [==============================] - 4s 72ms/step - loss: 0.0247 - acc: 0.9925 - val_loss: 0.2017 - val_acc: 0.9400\n",
      "Epoch 51/100\n",
      "50/50 [==============================] - 4s 72ms/step - loss: 0.0149 - acc: 0.9963 - val_loss: 0.1722 - val_acc: 0.9563\n",
      "Epoch 52/100\n",
      "50/50 [==============================] - 4s 74ms/step - loss: 0.0287 - acc: 0.9906 - val_loss: 0.1554 - val_acc: 0.9525\n",
      "Epoch 53/100\n",
      "50/50 [==============================] - 4s 73ms/step - loss: 0.0186 - acc: 0.9944 - val_loss: 0.1373 - val_acc: 0.9587\n",
      "Epoch 54/100\n",
      "50/50 [==============================] - 4s 79ms/step - loss: 0.0199 - acc: 0.9912 - val_loss: 0.1469 - val_acc: 0.9525\n",
      "Epoch 55/100\n",
      "50/50 [==============================] - 4s 73ms/step - loss: 0.0308 - acc: 0.9900 - val_loss: 0.2471 - val_acc: 0.9487\n",
      "Epoch 56/100\n",
      "50/50 [==============================] - 4s 71ms/step - loss: 0.0293 - acc: 0.9912 - val_loss: 0.1897 - val_acc: 0.9537\n",
      "Epoch 57/100\n",
      "50/50 [==============================] - 4s 71ms/step - loss: 0.0277 - acc: 0.9919 - val_loss: 0.2175 - val_acc: 0.9413\n",
      "Epoch 58/100\n",
      "50/50 [==============================] - 4s 74ms/step - loss: 0.0342 - acc: 0.9875 - val_loss: 0.2306 - val_acc: 0.9255\n",
      "Epoch 59/100\n",
      "50/50 [==============================] - 4s 72ms/step - loss: 0.0248 - acc: 0.9931 - val_loss: 0.1615 - val_acc: 0.9575\n",
      "Epoch 60/100\n",
      "50/50 [==============================] - 4s 72ms/step - loss: 0.0153 - acc: 0.9950 - val_loss: 0.2101 - val_acc: 0.9437\n",
      "Epoch 61/100\n",
      "50/50 [==============================] - 4s 72ms/step - loss: 0.0323 - acc: 0.9900 - val_loss: 0.1548 - val_acc: 0.9587\n",
      "Epoch 62/100\n",
      "50/50 [==============================] - 4s 71ms/step - loss: 0.0470 - acc: 0.9875 - val_loss: 0.1875 - val_acc: 0.9413\n",
      "Epoch 63/100\n",
      "50/50 [==============================] - 4s 72ms/step - loss: 0.0208 - acc: 0.9931 - val_loss: 0.1295 - val_acc: 0.9675\n",
      "Epoch 64/100\n",
      "50/50 [==============================] - 4s 71ms/step - loss: 0.0085 - acc: 0.9975 - val_loss: 0.1034 - val_acc: 0.9663\n",
      "Epoch 65/100\n",
      "50/50 [==============================] - 4s 72ms/step - loss: 0.0138 - acc: 0.9969 - val_loss: 0.1598 - val_acc: 0.9550\n",
      "Epoch 66/100\n",
      "50/50 [==============================] - 4s 71ms/step - loss: 0.0124 - acc: 0.9956 - val_loss: 0.1551 - val_acc: 0.9537\n",
      "Epoch 67/100\n",
      "50/50 [==============================] - 4s 72ms/step - loss: 0.0068 - acc: 0.9975 - val_loss: 0.2020 - val_acc: 0.9475\n",
      "Epoch 68/100\n",
      "50/50 [==============================] - 4s 71ms/step - loss: 0.0166 - acc: 0.9944 - val_loss: 0.2705 - val_acc: 0.9437\n",
      "Epoch 69/100\n",
      "50/50 [==============================] - 4s 72ms/step - loss: 0.0144 - acc: 0.9938 - val_loss: 0.1318 - val_acc: 0.9738\n",
      "Epoch 70/100\n",
      "50/50 [==============================] - 4s 71ms/step - loss: 0.0329 - acc: 0.9912 - val_loss: 0.1120 - val_acc: 0.9663\n",
      "Epoch 71/100\n",
      "50/50 [==============================] - 4s 71ms/step - loss: 0.0149 - acc: 0.9944 - val_loss: 0.1598 - val_acc: 0.9625\n",
      "Epoch 72/100\n",
      "50/50 [==============================] - 4s 71ms/step - loss: 0.0256 - acc: 0.9912 - val_loss: 0.1497 - val_acc: 0.9563\n",
      "Epoch 73/100\n",
      "50/50 [==============================] - 4s 72ms/step - loss: 0.0267 - acc: 0.9906 - val_loss: 0.2456 - val_acc: 0.9437\n",
      "Epoch 74/100\n",
      "50/50 [==============================] - 4s 71ms/step - loss: 0.0187 - acc: 0.9944 - val_loss: 0.1758 - val_acc: 0.9537\n",
      "Epoch 75/100\n",
      "50/50 [==============================] - 4s 73ms/step - loss: 0.0154 - acc: 0.9931 - val_loss: 0.1477 - val_acc: 0.9587\n",
      "Epoch 76/100\n",
      "50/50 [==============================] - 4s 73ms/step - loss: 0.0149 - acc: 0.9950 - val_loss: 0.2410 - val_acc: 0.9450\n",
      "Epoch 77/100\n",
      "50/50 [==============================] - 4s 74ms/step - loss: 0.0242 - acc: 0.9931 - val_loss: 0.1659 - val_acc: 0.9575\n",
      "Epoch 78/100\n",
      "50/50 [==============================] - 4s 72ms/step - loss: 0.0163 - acc: 0.9938 - val_loss: 0.2082 - val_acc: 0.9525\n",
      "Epoch 79/100\n",
      "50/50 [==============================] - 4s 72ms/step - loss: 0.0221 - acc: 0.9944 - val_loss: 0.1320 - val_acc: 0.9688\n",
      "Epoch 80/100\n",
      "50/50 [==============================] - 4s 73ms/step - loss: 0.0149 - acc: 0.9956 - val_loss: 0.1784 - val_acc: 0.9550\n",
      "Epoch 81/100\n",
      "50/50 [==============================] - 4s 73ms/step - loss: 0.0068 - acc: 0.9963 - val_loss: 0.1436 - val_acc: 0.9663\n",
      "Epoch 82/100\n",
      "50/50 [==============================] - 4s 72ms/step - loss: 0.0165 - acc: 0.9925 - val_loss: 0.3003 - val_acc: 0.9375\n",
      "Epoch 83/100\n",
      "50/50 [==============================] - 4s 71ms/step - loss: 0.0063 - acc: 0.9988 - val_loss: 0.1713 - val_acc: 0.9637\n",
      "Epoch 84/100\n",
      "50/50 [==============================] - 4s 71ms/step - loss: 0.0140 - acc: 0.9950 - val_loss: 0.2645 - val_acc: 0.9387\n",
      "Epoch 85/100\n",
      "50/50 [==============================] - 4s 73ms/step - loss: 0.0208 - acc: 0.9944 - val_loss: 0.1654 - val_acc: 0.9587\n",
      "Epoch 86/100\n",
      "50/50 [==============================] - 4s 73ms/step - loss: 0.0157 - acc: 0.9950 - val_loss: 0.1137 - val_acc: 0.9788\n",
      "Epoch 87/100\n",
      "50/50 [==============================] - 4s 75ms/step - loss: 0.0214 - acc: 0.9925 - val_loss: 0.2082 - val_acc: 0.9533\n",
      "Epoch 88/100\n",
      "50/50 [==============================] - 4s 72ms/step - loss: 0.0063 - acc: 0.9975 - val_loss: 0.1674 - val_acc: 0.9600\n",
      "Epoch 89/100\n",
      "50/50 [==============================] - 4s 71ms/step - loss: 0.0236 - acc: 0.9906 - val_loss: 0.1294 - val_acc: 0.9625\n",
      "Epoch 90/100\n",
      "50/50 [==============================] - 4s 72ms/step - loss: 0.0150 - acc: 0.9950 - val_loss: 0.2481 - val_acc: 0.9450\n",
      "Epoch 91/100\n",
      "50/50 [==============================] - 4s 72ms/step - loss: 0.0118 - acc: 0.9963 - val_loss: 0.2741 - val_acc: 0.9413\n",
      "Epoch 92/100\n",
      "50/50 [==============================] - 4s 72ms/step - loss: 0.0263 - acc: 0.9900 - val_loss: 0.1812 - val_acc: 0.9550\n",
      "Epoch 93/100\n",
      "50/50 [==============================] - 4s 72ms/step - loss: 0.0192 - acc: 0.9931 - val_loss: 0.1410 - val_acc: 0.9563\n",
      "Epoch 94/100\n",
      "50/50 [==============================] - 4s 72ms/step - loss: 0.0197 - acc: 0.9944 - val_loss: 0.1999 - val_acc: 0.9575\n",
      "Epoch 95/100\n",
      "50/50 [==============================] - 4s 71ms/step - loss: 0.0077 - acc: 0.9969 - val_loss: 0.1188 - val_acc: 0.9725\n",
      "Epoch 96/100\n",
      "50/50 [==============================] - 4s 73ms/step - loss: 0.0178 - acc: 0.9938 - val_loss: 0.1950 - val_acc: 0.9500\n",
      "Epoch 97/100\n",
      "50/50 [==============================] - 4s 71ms/step - loss: 0.0078 - acc: 0.9963 - val_loss: 0.1498 - val_acc: 0.9688\n",
      "Epoch 98/100\n",
      "50/50 [==============================] - 4s 72ms/step - loss: 0.0203 - acc: 0.9950 - val_loss: 0.1358 - val_acc: 0.9587\n",
      "Epoch 99/100\n",
      "50/50 [==============================] - 4s 71ms/step - loss: 0.0194 - acc: 0.9950 - val_loss: 0.1682 - val_acc: 0.9637\n",
      "Epoch 100/100\n",
      "50/50 [==============================] - 4s 73ms/step - loss: 0.0093 - acc: 0.9981 - val_loss: 0.1885 - val_acc: 0.9513\n"
     ]
    }
   ],
   "source": [
    "history = model.fit_generator(\n",
    "        train_generator,\n",
    "        steps_per_epoch=50,\n",
    "        epochs=100,\n",
    "        validation_data=validation_generator,\n",
    "        validation_steps=25)"
   ]
  },
  {
   "cell_type": "code",
   "execution_count": 8,
   "metadata": {},
   "outputs": [],
   "source": [
    "model.save('number_painting.h5')"
   ]
  },
  {
   "cell_type": "code",
   "execution_count": 9,
   "metadata": {},
   "outputs": [
    {
     "data": {
      "image/png": "[encoded data removed]",
      "text/plain": [
       "<Figure size 432x288 with 1 Axes>"
      ]
     },
     "metadata": {
      "needs_background": "light"
     },
     "output_type": "display_data"
    }
   ],
   "source": [
    "import matplotlib.pyplot as plt\n",
    "%matplotlib inline\n",
    "acc = history.history['acc']\n",
    "val_acc = history.history['val_acc']\n",
    "loss = history.history['loss']\n",
    "val_loss = history.history['val_loss']\n",
    "\n",
    "epochs = range(1, len(acc) + 1)\n",
    "\n",
    "plt.plot(epochs,loss,'bo',label='Training loss')\n",
    "plt.plot(epochs,val_loss,'b',label='Validation loss')\n",
    "plt.title('Training and validation loss')\n",
    "plt.legend()\n",
    "\n",
    "plt.show()"
   ]
  },
  {
   "cell_type": "code",
   "execution_count": 10,
   "metadata": {},
   "outputs": [
    {
     "data": {
      "image/png": "[encoded data removed]",
      "text/plain": [
       "<Figure size 432x288 with 1 Axes>"
      ]
     },
     "metadata": {
      "needs_background": "light"
     },
     "output_type": "display_data"
    }
   ],
   "source": [
    "acc = history.history['acc']\n",
    "val_acc = history.history['val_acc']\n",
    "loss = history.history['loss']\n",
    "val_loss = history.history['val_loss']\n",
    "\n",
    "epochs = range(1, len(acc) + 1)\n",
    "\n",
    "plt.plot(epochs,acc,'bo',label='Training acc')\n",
    "plt.plot(epochs,val_acc,'b',label='Validation acc')\n",
    "plt.title('Training and validation acc')\n",
    "plt.legend()\n",
    "\n",
    "plt.show()"
   ]
  },
  {
   "cell_type": "code",
   "execution_count": 11,
   "metadata": {},
   "outputs": [
    {
     "name": "stdout",
     "output_type": "stream",
     "text": [
      "Found 16000 images belonging to 10 classes.\n"
     ]
    }
   ],
   "source": [
    "import glob\n",
    "from PIL import Image\n",
    "from keras.preprocessing import image\n",
    "import numpy as np\n",
    "import matplotlib.pyplot as plt\n",
    "%matplotlib inline\n",
    "\n",
    "from keras import backend as K\n",
    "from keras.models import load_model\n",
    "model = load_model('number_painting.h5')\n",
    "\n",
    "test_generator = test_datagen.flow_from_directory(test_dir, #타깃 디렉터리\n",
    "                                                    target_size=(50,50), #모든 이미지 150X150으로 변경\n",
    "                                                    batch_size=32, #\n",
    "                                                    class_mode='categorical')\n",
    "filenames = test_generator.filenames\n",
    "nb_samples = len(filenames)\n",
    "\n",
    "predict = model.predict_generator(test_generator,steps = nb_samples)\n",
    "\n",
    "\n",
    "# img_path='정규화원본/test/0/normalizationSF61527.bmp'\n",
    "# img = image.load_img(img_path,target_size=(50,50))\n",
    "# plt.imshow(img)\n",
    "\n",
    "# x=image.img_to_array(img)\n",
    "# x=np.expand_dims(x,axis=0)\n",
    "# x=x/255.\n",
    "\n",
    "\n",
    "\n",
    "    \n",
    "# prediction =model.predict_classes(x)\n",
    "# #prediction =model.predict(x)\n",
    "# print(prediction)\n",
    "#np.set_printoptions(formatter={'float': lambda x: \"{0:0.3f}\".format(x)})"
   ]
  },
  {
   "cell_type": "code",
   "execution_count": 12,
   "metadata": {},
   "outputs": [
    {
     "name": "stdout",
     "output_type": "stream",
     "text": [
      "[[1.4805024e-12 1.1785224e-07 6.3136611e-09 ... 2.8993970e-08\n",
      "  9.0014958e-04 9.9857461e-01]\n",
      " [1.9701421e-20 1.5478572e-13 1.1277125e-08 ... 7.4333890e-14\n",
      "  2.8034918e-13 2.0277668e-09]\n",
      " [2.1695259e-08 1.2088515e-10 9.9999952e-01 ... 3.1641762e-12\n",
      "  8.7501579e-09 9.3021780e-12]\n",
      " ...\n",
      " [1.1762357e-08 6.4647296e-09 9.8120683e-01 ... 5.0785470e-15\n",
      "  1.4821206e-02 1.2623608e-10]\n",
      " [1.9819144e-12 4.4178825e-09 8.0529509e-07 ... 2.5734730e-18\n",
      "  3.7482283e-07 1.5394195e-14]\n",
      " [9.9963963e-01 2.8910181e-05 3.3125063e-04 ... 1.5962215e-07\n",
      "  1.7784911e-08 6.5505856e-12]]\n"
     ]
    }
   ],
   "source": [
    "print(predict)"
   ]
  },
  {
   "cell_type": "code",
   "execution_count": 13,
   "metadata": {},
   "outputs": [
    {
     "name": "stdout",
     "output_type": "stream",
     "text": [
      "500/500 [==============================] - 12s 24ms/step\n"
     ]
    }
   ],
   "source": [
    "score=model.evaluate(test_generator)"
   ]
  },
  {
   "cell_type": "code",
   "execution_count": 14,
   "metadata": {},
   "outputs": [
    {
     "name": "stdout",
     "output_type": "stream",
     "text": [
      "[0.14171418624627405, 0.963375]\n"
     ]
    }
   ],
   "source": [
    "print(score)"
   ]
  },
  {
   "cell_type": "code",
   "execution_count": null,
   "metadata": {},
   "outputs": [],
   "source": []
  }
 ],
 "metadata": {
  "kernelspec": {
   "display_name": "Python 3",
   "language": "python",
   "name": "python3"
  },
  "language_info": {
   "codemirror_mode": {
    "name": "ipython",
    "version": 3
   },
   "file_extension": ".py",
   "mimetype": "text/x-python",
   "name": "python",
   "nbconvert_exporter": "python",
   "pygments_lexer": "ipython3",
   "version": "3.6.9"
  }
 },
 "nbformat": 4,
 "nbformat_minor": 2
}
