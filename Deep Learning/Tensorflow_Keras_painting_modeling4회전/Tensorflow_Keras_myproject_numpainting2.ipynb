{
 "cells": [
  {
   "cell_type": "code",
   "execution_count": 1,
   "metadata": {},
   "outputs": [],
   "source": [
    "import os, shutil\n",
    "\n",
    "base_dir = '딥러닝원본2'\n",
    "\n",
    "\n",
    "train_dir = os.path.join(base_dir, 'train')\n",
    "validation_dir = os.path.join(base_dir, 'validation')\n",
    "test_dir = os.path.join(base_dir, 'test')\n",
    "\n",
    "\n",
    "train_0_dir = os.path.join(train_dir, '0')\n",
    "train_1_dir = os.path.join(train_dir, '1')\n",
    "train_2_dir = os.path.join(train_dir, '2')\n",
    "train_3_dir = os.path.join(train_dir, '3')\n",
    "train_4_dir = os.path.join(train_dir, '4')\n",
    "train_5_dir = os.path.join(train_dir, '5')\n",
    "train_6_dir = os.path.join(train_dir, '6')\n",
    "train_7_dir = os.path.join(train_dir, '7')\n",
    "train_8_dir = os.path.join(train_dir, '8')\n",
    "train_9_dir = os.path.join(train_dir, '9')\n",
    "\n",
    "\n",
    "validation_0_dir = os.path.join(validation_dir, '0')\n",
    "validation_1_dir = os.path.join(validation_dir, '1')\n",
    "validation_2_dir = os.path.join(validation_dir, '2')\n",
    "validation_3_dir = os.path.join(validation_dir, '3')\n",
    "validation_4_dir = os.path.join(validation_dir, '4')\n",
    "validation_5_dir = os.path.join(validation_dir, '5')\n",
    "validation_6_dir = os.path.join(validation_dir, '6')\n",
    "validation_7_dir = os.path.join(validation_dir, '7')\n",
    "validation_8_dir = os.path.join(validation_dir, '8')\n",
    "validation_9_dir = os.path.join(validation_dir, '9')\n",
    "\n",
    "\n",
    "test_0_dir = os.path.join(test_dir, '0')\n",
    "test_1_dir = os.path.join(test_dir, '1')\n",
    "test_2_dir = os.path.join(test_dir, '2')\n",
    "test_3_dir = os.path.join(test_dir, '3')\n",
    "test_4_dir = os.path.join(test_dir, '4')\n",
    "test_5_dir = os.path.join(test_dir, '5')\n",
    "test_6_dir = os.path.join(test_dir, '6')\n",
    "test_7_dir = os.path.join(test_dir, '7')\n",
    "test_8_dir = os.path.join(test_dir, '8')\n",
    "test_9_dir = os.path.join(test_dir, '9')"
   ]
  },
  {
   "cell_type": "code",
   "execution_count": 2,
   "metadata": {},
   "outputs": [
    {
     "name": "stdout",
     "output_type": "stream",
     "text": [
      "훈련용 0 이미지 전체 개수 :  5000\n",
      "검증용 0 이미지 전체 개수 :  2300\n",
      "테스트용 0 이미지 전체 개수 :  1600\n"
     ]
    }
   ],
   "source": [
    "print('훈련용 0 이미지 전체 개수 : ', len(os.listdir(train_0_dir)))\n",
    "\n",
    "print('검증용 0 이미지 전체 개수 : ', len(os.listdir(validation_0_dir)))\n",
    "\n",
    "print('테스트용 0 이미지 전체 개수 : ', len(os.listdir(test_0_dir)))\n"
   ]
  },
  {
   "cell_type": "code",
   "execution_count": 3,
   "metadata": {},
   "outputs": [
    {
     "name": "stderr",
     "output_type": "stream",
     "text": [
      "Using TensorFlow backend.\n",
      "WARNING: Logging before flag parsing goes to stderr.\n",
      "W1024 14:52:22.976136 29520 deprecation_wrapper.py:119] From C:\\Users\\SH\\Anaconda3\\envs\\AI\\lib\\site-packages\\keras-2.2.5-py3.7.egg\\keras\\backend\\tensorflow_backend.py:67: The name tf.get_default_graph is deprecated. Please use tf.compat.v1.get_default_graph instead.\n",
      "\n",
      "W1024 14:52:22.998077 29520 deprecation_wrapper.py:119] From C:\\Users\\SH\\Anaconda3\\envs\\AI\\lib\\site-packages\\keras-2.2.5-py3.7.egg\\keras\\backend\\tensorflow_backend.py:548: The name tf.placeholder is deprecated. Please use tf.compat.v1.placeholder instead.\n",
      "\n",
      "W1024 14:52:23.004073 29520 deprecation_wrapper.py:119] From C:\\Users\\SH\\Anaconda3\\envs\\AI\\lib\\site-packages\\keras-2.2.5-py3.7.egg\\keras\\backend\\tensorflow_backend.py:4439: The name tf.random_uniform is deprecated. Please use tf.random.uniform instead.\n",
      "\n",
      "W1024 14:52:23.032984 29520 deprecation_wrapper.py:119] From C:\\Users\\SH\\Anaconda3\\envs\\AI\\lib\\site-packages\\keras-2.2.5-py3.7.egg\\keras\\backend\\tensorflow_backend.py:4278: The name tf.nn.avg_pool is deprecated. Please use tf.nn.avg_pool2d instead.\n",
      "\n",
      "W1024 14:52:23.070883 29520 deprecation_wrapper.py:119] From C:\\Users\\SH\\Anaconda3\\envs\\AI\\lib\\site-packages\\keras-2.2.5-py3.7.egg\\keras\\backend\\tensorflow_backend.py:4274: The name tf.nn.max_pool is deprecated. Please use tf.nn.max_pool2d instead.\n",
      "\n",
      "W1024 14:52:23.140729 29520 deprecation_wrapper.py:119] From C:\\Users\\SH\\Anaconda3\\envs\\AI\\lib\\site-packages\\keras-2.2.5-py3.7.egg\\keras\\backend\\tensorflow_backend.py:149: The name tf.placeholder_with_default is deprecated. Please use tf.compat.v1.placeholder_with_default instead.\n",
      "\n",
      "W1024 14:52:23.156869 29520 deprecation.py:506] From C:\\Users\\SH\\Anaconda3\\envs\\AI\\lib\\site-packages\\keras-2.2.5-py3.7.egg\\keras\\backend\\tensorflow_backend.py:3740: calling dropout (from tensorflow.python.ops.nn_ops) with keep_prob is deprecated and will be removed in a future version.\n",
      "Instructions for updating:\n",
      "Please use `rate` instead of `keep_prob`. Rate should be set to `rate = 1 - keep_prob`.\n"
     ]
    }
   ],
   "source": [
    "from keras import layers\n",
    "from keras import models\n",
    "from keras.layers import Dropout\n",
    "model = models.Sequential()\n",
    "model.add(layers.Conv2D(64,(8,8), activation='relu',\n",
    "                       input_shape=(50,50,3)))\n",
    "model.add(layers.AvgPool2D((2,2),(2,2)))\n",
    "model.add(layers.Conv2D(128,(5,5),activation='relu'))\n",
    "model.add(layers.MaxPooling2D((2,2),(2,2)))\n",
    "model.add(layers.Conv2D(128,(3,3),activation='relu'))\n",
    "\n",
    "\n",
    "model.add(layers.Flatten())\n",
    "model.add(layers.Dense(1024,activation='relu'))\n",
    "model.add(Dropout(0.3))\n",
    "model.add(layers.Dense(512,activation='relu'))\n",
    "model.add(Dropout(0.3))\n",
    "model.add(layers.Dense(128,activation='relu'))\n",
    "model.add(Dropout(0.3))\n",
    "model.add(layers.Dense(10,activation='softmax'))"
   ]
  },
  {
   "cell_type": "code",
   "execution_count": 4,
   "metadata": {},
   "outputs": [
    {
     "name": "stderr",
     "output_type": "stream",
     "text": [
      "W1024 14:52:23.303269 29520 deprecation_wrapper.py:119] From C:\\Users\\SH\\Anaconda3\\envs\\AI\\lib\\site-packages\\keras-2.2.5-py3.7.egg\\keras\\optimizers.py:793: The name tf.train.Optimizer is deprecated. Please use tf.compat.v1.train.Optimizer instead.\n",
      "\n",
      "W1024 14:52:23.359122 29520 deprecation_wrapper.py:119] From C:\\Users\\SH\\Anaconda3\\envs\\AI\\lib\\site-packages\\keras-2.2.5-py3.7.egg\\keras\\backend\\tensorflow_backend.py:3583: The name tf.log is deprecated. Please use tf.math.log instead.\n",
      "\n"
     ]
    }
   ],
   "source": [
    "from keras import optimizers\n",
    "\n",
    "model.compile(loss='categorical_crossentropy',\n",
    "             optimizer='adam',\n",
    "             metrics=['acc'])\n"
   ]
  },
  {
   "cell_type": "code",
   "execution_count": 5,
   "metadata": {},
   "outputs": [
    {
     "name": "stdout",
     "output_type": "stream",
     "text": [
      "Found 50000 images belonging to 10 classes.\n",
      "Found 23000 images belonging to 10 classes.\n"
     ]
    }
   ],
   "source": [
    "from keras.preprocessing.image import ImageDataGenerator\n",
    "\n",
    "train_datagen = ImageDataGenerator(rescale=1./255, rotation_range=30)\n",
    "test_datagen = ImageDataGenerator(rescale=1./255)\n",
    "\n",
    "train_generator = train_datagen.flow_from_directory(train_dir, #타깃 디렉터리\n",
    "                                                    target_size=(50,50), #모든 이미지 150X150으로 변경\n",
    "                                                    batch_size=32, #\n",
    "                                                    class_mode='categorical')\n",
    "\n",
    "validation_generator = test_datagen.flow_from_directory(validation_dir, target_size=(50,50),batch_size=32, class_mode='categorical')"
   ]
  },
  {
   "cell_type": "code",
   "execution_count": 6,
   "metadata": {
    "scrolled": false
   },
   "outputs": [
    {
     "name": "stderr",
     "output_type": "stream",
     "text": [
      "W1024 14:54:38.030752 29520 deprecation.py:323] From C:\\Users\\SH\\Anaconda3\\envs\\AI\\lib\\site-packages\\tensorflow\\python\\ops\\math_grad.py:1250: add_dispatch_support.<locals>.wrapper (from tensorflow.python.ops.array_ops) is deprecated and will be removed in a future version.\n",
      "Instructions for updating:\n",
      "Use tf.where in 2.0, which has the same broadcast rule as np.where\n"
     ]
    },
    {
     "name": "stdout",
     "output_type": "stream",
     "text": [
      "Epoch 1/100\n",
      "50/50 [==============================] - 19s 387ms/step - loss: 2.2096 - acc: 0.1806 - val_loss: 1.7373 - val_acc: 0.4275\n",
      "Epoch 2/100\n",
      "50/50 [==============================] - 12s 236ms/step - loss: 1.5370 - acc: 0.4844 - val_loss: 1.0978 - val_acc: 0.6775\n",
      "Epoch 3/100\n",
      "50/50 [==============================] - 12s 233ms/step - loss: 1.0401 - acc: 0.6694 - val_loss: 0.7405 - val_acc: 0.7762\n",
      "Epoch 4/100\n",
      "50/50 [==============================] - 12s 242ms/step - loss: 0.8274 - acc: 0.7394 - val_loss: 0.5522 - val_acc: 0.8387\n",
      "Epoch 5/100\n",
      "50/50 [==============================] - 12s 230ms/step - loss: 0.5862 - acc: 0.8144 - val_loss: 0.5719 - val_acc: 0.8313\n",
      "Epoch 6/100\n",
      "50/50 [==============================] - 12s 248ms/step - loss: 0.5070 - acc: 0.8319 - val_loss: 0.4266 - val_acc: 0.8775\n",
      "Epoch 7/100\n",
      "50/50 [==============================] - 12s 234ms/step - loss: 0.4163 - acc: 0.8787 - val_loss: 0.3811 - val_acc: 0.8925\n",
      "Epoch 8/100\n",
      "50/50 [==============================] - 12s 231ms/step - loss: 0.4444 - acc: 0.8644 - val_loss: 0.3528 - val_acc: 0.8975\n",
      "Epoch 9/100\n",
      "50/50 [==============================] - 11s 228ms/step - loss: 0.3580 - acc: 0.8869 - val_loss: 0.3456 - val_acc: 0.8900\n",
      "Epoch 10/100\n",
      "50/50 [==============================] - 11s 229ms/step - loss: 0.3502 - acc: 0.8950 - val_loss: 0.2521 - val_acc: 0.9287\n",
      "Epoch 11/100\n",
      "50/50 [==============================] - 11s 228ms/step - loss: 0.2367 - acc: 0.9306 - val_loss: 0.2550 - val_acc: 0.9263\n",
      "Epoch 12/100\n",
      "50/50 [==============================] - 11s 229ms/step - loss: 0.2948 - acc: 0.9156 - val_loss: 0.3221 - val_acc: 0.9150\n",
      "Epoch 13/100\n",
      "50/50 [==============================] - 12s 239ms/step - loss: 0.3029 - acc: 0.9250 - val_loss: 0.3110 - val_acc: 0.9050\n",
      "Epoch 14/100\n",
      "50/50 [==============================] - 12s 239ms/step - loss: 0.2445 - acc: 0.9287 - val_loss: 0.2038 - val_acc: 0.9425\n",
      "Epoch 15/100\n",
      "50/50 [==============================] - 12s 243ms/step - loss: 0.2509 - acc: 0.9294 - val_loss: 0.1997 - val_acc: 0.9450\n",
      "Epoch 16/100\n",
      "50/50 [==============================] - 12s 248ms/step - loss: 0.2580 - acc: 0.9275 - val_loss: 0.2008 - val_acc: 0.9437\n",
      "Epoch 17/100\n",
      "50/50 [==============================] - 12s 233ms/step - loss: 0.1989 - acc: 0.9406 - val_loss: 0.1561 - val_acc: 0.9500\n",
      "Epoch 18/100\n",
      "50/50 [==============================] - 12s 231ms/step - loss: 0.2194 - acc: 0.9344 - val_loss: 0.2548 - val_acc: 0.9287\n",
      "Epoch 19/100\n",
      "50/50 [==============================] - 12s 242ms/step - loss: 0.2333 - acc: 0.9263 - val_loss: 0.2287 - val_acc: 0.9325\n",
      "Epoch 20/100\n",
      "50/50 [==============================] - 11s 228ms/step - loss: 0.2070 - acc: 0.9412 - val_loss: 0.1968 - val_acc: 0.9425\n",
      "Epoch 21/100\n",
      "50/50 [==============================] - 12s 232ms/step - loss: 0.2016 - acc: 0.9419 - val_loss: 0.1993 - val_acc: 0.9375\n",
      "Epoch 22/100\n",
      "50/50 [==============================] - 11s 230ms/step - loss: 0.1911 - acc: 0.9462 - val_loss: 0.1796 - val_acc: 0.9613\n",
      "Epoch 23/100\n",
      "50/50 [==============================] - 11s 229ms/step - loss: 0.1927 - acc: 0.9463 - val_loss: 0.2055 - val_acc: 0.9400\n",
      "Epoch 24/100\n",
      "50/50 [==============================] - 12s 234ms/step - loss: 0.1651 - acc: 0.9481 - val_loss: 0.2640 - val_acc: 0.9325\n",
      "Epoch 25/100\n",
      "50/50 [==============================] - 12s 230ms/step - loss: 0.1861 - acc: 0.9456 - val_loss: 0.1218 - val_acc: 0.9600\n",
      "Epoch 26/100\n",
      "50/50 [==============================] - 12s 233ms/step - loss: 0.1632 - acc: 0.9537 - val_loss: 0.2141 - val_acc: 0.9387\n",
      "Epoch 27/100\n",
      "50/50 [==============================] - 12s 232ms/step - loss: 0.1762 - acc: 0.9506 - val_loss: 0.1791 - val_acc: 0.9550\n",
      "Epoch 28/100\n",
      "50/50 [==============================] - 12s 238ms/step - loss: 0.1599 - acc: 0.9531 - val_loss: 0.1876 - val_acc: 0.9413\n",
      "Epoch 29/100\n",
      "50/50 [==============================] - 11s 215ms/step - loss: 0.1467 - acc: 0.9575 - val_loss: 0.2025 - val_acc: 0.9520\n",
      "Epoch 30/100\n",
      "50/50 [==============================] - 10s 193ms/step - loss: 0.1487 - acc: 0.9594 - val_loss: 0.2995 - val_acc: 0.9325\n",
      "Epoch 31/100\n",
      "50/50 [==============================] - 11s 218ms/step - loss: 0.1804 - acc: 0.9531 - val_loss: 0.1645 - val_acc: 0.9537\n",
      "Epoch 32/100\n",
      "50/50 [==============================] - 7s 146ms/step - loss: 0.1756 - acc: 0.9469 - val_loss: 0.1562 - val_acc: 0.9563\n",
      "Epoch 33/100\n",
      "50/50 [==============================] - 6s 126ms/step - loss: 0.1624 - acc: 0.9556 - val_loss: 0.1378 - val_acc: 0.9563\n",
      "Epoch 34/100\n",
      "50/50 [==============================] - 6s 126ms/step - loss: 0.1465 - acc: 0.9587 - val_loss: 0.1659 - val_acc: 0.9500\n",
      "Epoch 35/100\n",
      "50/50 [==============================] - 6s 126ms/step - loss: 0.1772 - acc: 0.9494 - val_loss: 0.2238 - val_acc: 0.9275\n",
      "Epoch 36/100\n",
      "50/50 [==============================] - 6s 126ms/step - loss: 0.1389 - acc: 0.9575 - val_loss: 0.1379 - val_acc: 0.9650\n",
      "Epoch 37/100\n",
      "50/50 [==============================] - 6s 125ms/step - loss: 0.1235 - acc: 0.9694 - val_loss: 0.1405 - val_acc: 0.9537\n",
      "Epoch 38/100\n",
      "50/50 [==============================] - 6s 126ms/step - loss: 0.1558 - acc: 0.9587 - val_loss: 0.1325 - val_acc: 0.9600\n",
      "Epoch 39/100\n",
      "50/50 [==============================] - 6s 126ms/step - loss: 0.1146 - acc: 0.9675 - val_loss: 0.1608 - val_acc: 0.9550\n",
      "Epoch 40/100\n",
      "50/50 [==============================] - 6s 126ms/step - loss: 0.1292 - acc: 0.9625 - val_loss: 0.1563 - val_acc: 0.9550\n",
      "Epoch 41/100\n",
      "50/50 [==============================] - 6s 126ms/step - loss: 0.1458 - acc: 0.9631 - val_loss: 0.1274 - val_acc: 0.9625\n",
      "Epoch 42/100\n",
      "50/50 [==============================] - 6s 126ms/step - loss: 0.1423 - acc: 0.9613 - val_loss: 0.1331 - val_acc: 0.9575\n",
      "Epoch 43/100\n",
      "50/50 [==============================] - 6s 125ms/step - loss: 0.1611 - acc: 0.9538 - val_loss: 0.1592 - val_acc: 0.9500\n",
      "Epoch 44/100\n",
      "50/50 [==============================] - 6s 126ms/step - loss: 0.1018 - acc: 0.9719 - val_loss: 0.1389 - val_acc: 0.9587\n",
      "Epoch 45/100\n",
      "50/50 [==============================] - 6s 126ms/step - loss: 0.1146 - acc: 0.9688 - val_loss: 0.1326 - val_acc: 0.9625\n",
      "Epoch 46/100\n",
      "50/50 [==============================] - 6s 126ms/step - loss: 0.1357 - acc: 0.9631 - val_loss: 0.1958 - val_acc: 0.9437\n",
      "Epoch 47/100\n",
      "50/50 [==============================] - 6s 127ms/step - loss: 0.1330 - acc: 0.9544 - val_loss: 0.1646 - val_acc: 0.9463\n",
      "Epoch 48/100\n",
      "50/50 [==============================] - 6s 126ms/step - loss: 0.1495 - acc: 0.9613 - val_loss: 0.2504 - val_acc: 0.9237\n",
      "Epoch 49/100\n",
      "50/50 [==============================] - 6s 126ms/step - loss: 0.1133 - acc: 0.9675 - val_loss: 0.2024 - val_acc: 0.9475\n",
      "Epoch 50/100\n",
      "50/50 [==============================] - 6s 126ms/step - loss: 0.1090 - acc: 0.9700 - val_loss: 0.1636 - val_acc: 0.9600\n",
      "Epoch 51/100\n",
      "50/50 [==============================] - 6s 126ms/step - loss: 0.1218 - acc: 0.9675 - val_loss: 0.1849 - val_acc: 0.9537\n",
      "Epoch 52/100\n",
      "50/50 [==============================] - 6s 126ms/step - loss: 0.1166 - acc: 0.9656 - val_loss: 0.1246 - val_acc: 0.9613\n",
      "Epoch 53/100\n",
      "50/50 [==============================] - 6s 126ms/step - loss: 0.1200 - acc: 0.9637 - val_loss: 0.1702 - val_acc: 0.9563\n",
      "Epoch 54/100\n",
      "50/50 [==============================] - 6s 126ms/step - loss: 0.1001 - acc: 0.9712 - val_loss: 0.1725 - val_acc: 0.9513\n",
      "Epoch 55/100\n",
      "50/50 [==============================] - 6s 126ms/step - loss: 0.1462 - acc: 0.9619 - val_loss: 0.2518 - val_acc: 0.9263\n",
      "Epoch 56/100\n",
      "50/50 [==============================] - 6s 126ms/step - loss: 0.1813 - acc: 0.9463 - val_loss: 0.2151 - val_acc: 0.9400\n",
      "Epoch 57/100\n",
      "50/50 [==============================] - 6s 126ms/step - loss: 0.1515 - acc: 0.9575 - val_loss: 0.1655 - val_acc: 0.9600\n",
      "Epoch 58/100\n",
      "50/50 [==============================] - 6s 126ms/step - loss: 0.1432 - acc: 0.9562 - val_loss: 0.1828 - val_acc: 0.9470\n",
      "Epoch 59/100\n",
      "50/50 [==============================] - 6s 126ms/step - loss: 0.1285 - acc: 0.9650 - val_loss: 0.1827 - val_acc: 0.9513\n",
      "Epoch 60/100\n",
      "50/50 [==============================] - 6s 126ms/step - loss: 0.1703 - acc: 0.9562 - val_loss: 0.1547 - val_acc: 0.9550\n",
      "Epoch 61/100\n",
      "50/50 [==============================] - 6s 126ms/step - loss: 0.1022 - acc: 0.9719 - val_loss: 0.1064 - val_acc: 0.9663\n"
     ]
    },
    {
     "name": "stdout",
     "output_type": "stream",
     "text": [
      "Epoch 62/100\n",
      "50/50 [==============================] - 6s 126ms/step - loss: 0.1181 - acc: 0.9663 - val_loss: 0.1222 - val_acc: 0.9650\n",
      "Epoch 63/100\n",
      "50/50 [==============================] - 6s 125ms/step - loss: 0.0984 - acc: 0.9769 - val_loss: 0.2024 - val_acc: 0.9475\n",
      "Epoch 64/100\n",
      "50/50 [==============================] - 6s 126ms/step - loss: 0.1043 - acc: 0.9738 - val_loss: 0.1831 - val_acc: 0.9575\n",
      "Epoch 65/100\n",
      "50/50 [==============================] - 6s 126ms/step - loss: 0.0974 - acc: 0.9712 - val_loss: 0.1422 - val_acc: 0.9625\n",
      "Epoch 66/100\n",
      "50/50 [==============================] - 6s 127ms/step - loss: 0.0711 - acc: 0.9806 - val_loss: 0.0895 - val_acc: 0.9738\n",
      "Epoch 67/100\n",
      "50/50 [==============================] - 6s 126ms/step - loss: 0.1157 - acc: 0.9694 - val_loss: 0.1014 - val_acc: 0.9700\n",
      "Epoch 68/100\n",
      "50/50 [==============================] - 6s 126ms/step - loss: 0.1099 - acc: 0.9694 - val_loss: 0.1573 - val_acc: 0.9563\n",
      "Epoch 69/100\n",
      "50/50 [==============================] - 6s 127ms/step - loss: 0.1277 - acc: 0.9650 - val_loss: 0.1238 - val_acc: 0.9625\n",
      "Epoch 70/100\n",
      "50/50 [==============================] - 6s 128ms/step - loss: 0.0947 - acc: 0.9769 - val_loss: 0.1627 - val_acc: 0.9537\n",
      "Epoch 71/100\n",
      "50/50 [==============================] - 6s 126ms/step - loss: 0.1308 - acc: 0.9663 - val_loss: 0.0992 - val_acc: 0.9725\n",
      "Epoch 72/100\n",
      "50/50 [==============================] - 6s 126ms/step - loss: 0.0932 - acc: 0.9669 - val_loss: 0.1038 - val_acc: 0.9688\n",
      "Epoch 73/100\n",
      "50/50 [==============================] - 6s 127ms/step - loss: 0.0911 - acc: 0.9756 - val_loss: 0.1040 - val_acc: 0.9700\n",
      "Epoch 74/100\n",
      "50/50 [==============================] - 6s 126ms/step - loss: 0.0974 - acc: 0.9756 - val_loss: 0.1248 - val_acc: 0.9563\n",
      "Epoch 75/100\n",
      "50/50 [==============================] - 6s 126ms/step - loss: 0.1086 - acc: 0.9731 - val_loss: 0.1321 - val_acc: 0.9663\n",
      "Epoch 76/100\n",
      "50/50 [==============================] - 6s 126ms/step - loss: 0.0766 - acc: 0.9788 - val_loss: 0.1859 - val_acc: 0.9425\n",
      "Epoch 77/100\n",
      "50/50 [==============================] - 6s 126ms/step - loss: 0.1364 - acc: 0.9606 - val_loss: 0.1697 - val_acc: 0.9525\n",
      "Epoch 78/100\n",
      "50/50 [==============================] - 6s 126ms/step - loss: 0.1049 - acc: 0.9762 - val_loss: 0.1296 - val_acc: 0.9600\n",
      "Epoch 79/100\n",
      "50/50 [==============================] - 6s 126ms/step - loss: 0.0996 - acc: 0.9738 - val_loss: 0.0974 - val_acc: 0.9712\n",
      "Epoch 80/100\n",
      "50/50 [==============================] - 6s 126ms/step - loss: 0.0765 - acc: 0.9788 - val_loss: 0.0906 - val_acc: 0.9725\n",
      "Epoch 81/100\n",
      "50/50 [==============================] - 6s 126ms/step - loss: 0.1232 - acc: 0.9700 - val_loss: 0.2603 - val_acc: 0.9263\n",
      "Epoch 82/100\n",
      "50/50 [==============================] - 6s 127ms/step - loss: 0.1072 - acc: 0.9719 - val_loss: 0.1863 - val_acc: 0.9550\n",
      "Epoch 83/100\n",
      "50/50 [==============================] - 6s 128ms/step - loss: 0.0878 - acc: 0.9837 - val_loss: 0.1025 - val_acc: 0.9663\n",
      "Epoch 84/100\n",
      "50/50 [==============================] - 6s 126ms/step - loss: 0.0808 - acc: 0.9788 - val_loss: 0.1966 - val_acc: 0.9550\n",
      "Epoch 85/100\n",
      "50/50 [==============================] - 6s 127ms/step - loss: 0.0857 - acc: 0.9781 - val_loss: 0.2533 - val_acc: 0.9400\n",
      "Epoch 86/100\n",
      "50/50 [==============================] - 6s 126ms/step - loss: 0.0938 - acc: 0.9788 - val_loss: 0.1518 - val_acc: 0.9600\n",
      "Epoch 87/100\n",
      "50/50 [==============================] - 6s 128ms/step - loss: 0.1075 - acc: 0.9725 - val_loss: 0.1448 - val_acc: 0.9621\n",
      "Epoch 88/100\n",
      "50/50 [==============================] - 6s 126ms/step - loss: 0.0895 - acc: 0.9762 - val_loss: 0.1432 - val_acc: 0.9587\n",
      "Epoch 89/100\n",
      "50/50 [==============================] - 6s 127ms/step - loss: 0.1123 - acc: 0.9663 - val_loss: 0.0860 - val_acc: 0.9762\n",
      "Epoch 90/100\n",
      "50/50 [==============================] - 6s 126ms/step - loss: 0.1014 - acc: 0.9706 - val_loss: 0.1488 - val_acc: 0.9613\n",
      "Epoch 91/100\n",
      "50/50 [==============================] - 6s 126ms/step - loss: 0.1138 - acc: 0.9719 - val_loss: 0.1837 - val_acc: 0.9525\n",
      "Epoch 92/100\n",
      "50/50 [==============================] - 6s 126ms/step - loss: 0.0970 - acc: 0.9712 - val_loss: 0.1774 - val_acc: 0.9500\n",
      "Epoch 93/100\n",
      "50/50 [==============================] - 6s 126ms/step - loss: 0.1195 - acc: 0.9663 - val_loss: 0.1147 - val_acc: 0.9637\n",
      "Epoch 94/100\n",
      "50/50 [==============================] - 6s 126ms/step - loss: 0.0803 - acc: 0.9819 - val_loss: 0.1459 - val_acc: 0.9663\n",
      "Epoch 95/100\n",
      "50/50 [==============================] - 6s 127ms/step - loss: 0.1312 - acc: 0.9681 - val_loss: 0.2600 - val_acc: 0.9475\n",
      "Epoch 96/100\n",
      "50/50 [==============================] - 6s 127ms/step - loss: 0.1104 - acc: 0.9731 - val_loss: 0.1942 - val_acc: 0.9513\n",
      "Epoch 97/100\n",
      "50/50 [==============================] - 6s 127ms/step - loss: 0.1187 - acc: 0.9675 - val_loss: 0.1032 - val_acc: 0.9613\n",
      "Epoch 98/100\n",
      "50/50 [==============================] - 6s 126ms/step - loss: 0.0897 - acc: 0.9756 - val_loss: 0.1796 - val_acc: 0.9575\n",
      "Epoch 99/100\n",
      "50/50 [==============================] - 6s 126ms/step - loss: 0.0724 - acc: 0.9794 - val_loss: 0.2117 - val_acc: 0.9487\n",
      "Epoch 100/100\n",
      "50/50 [==============================] - 6s 126ms/step - loss: 0.0718 - acc: 0.9788 - val_loss: 0.1772 - val_acc: 0.9587\n"
     ]
    }
   ],
   "source": [
    "history = model.fit_generator(\n",
    "        train_generator,\n",
    "        steps_per_epoch=50,\n",
    "        epochs=100,\n",
    "        validation_data=validation_generator,\n",
    "        validation_steps=25)"
   ]
  },
  {
   "cell_type": "code",
   "execution_count": 7,
   "metadata": {},
   "outputs": [],
   "source": [
    "model.save('number_painting4.h5')"
   ]
  },
  {
   "cell_type": "code",
   "execution_count": 8,
   "metadata": {},
   "outputs": [
    {
     "data": {
      "image/png": "[encoded data removed]",
      "text/plain": [
       "<Figure size 432x288 with 1 Axes>"
      ]
     },
     "metadata": {
      "needs_background": "light"
     },
     "output_type": "display_data"
    }
   ],
   "source": [
    "import matplotlib.pyplot as plt\n",
    "%matplotlib inline\n",
    "acc = history.history['acc']\n",
    "val_acc = history.history['val_acc']\n",
    "loss = history.history['loss']\n",
    "val_loss = history.history['val_loss']\n",
    "\n",
    "epochs = range(1, len(acc) + 1)\n",
    "\n",
    "plt.plot(epochs,loss,'bo',label='Training loss')\n",
    "plt.plot(epochs,val_loss,'b',label='Validation loss')\n",
    "plt.title('Training and validation loss')\n",
    "plt.legend()\n",
    "\n",
    "plt.show()"
   ]
  },
  {
   "cell_type": "code",
   "execution_count": 9,
   "metadata": {},
   "outputs": [
    {
     "data": {
      "image/png": "[encoded data removed]",
      "text/plain": [
       "<Figure size 432x288 with 1 Axes>"
      ]
     },
     "metadata": {
      "needs_background": "light"
     },
     "output_type": "display_data"
    }
   ],
   "source": [
    "acc = history.history['acc']\n",
    "val_acc = history.history['val_acc']\n",
    "loss = history.history['loss']\n",
    "val_loss = history.history['val_loss']\n",
    "\n",
    "epochs = range(1, len(acc) + 1)\n",
    "\n",
    "plt.plot(epochs,acc,'bo',label='Training acc')\n",
    "plt.plot(epochs,val_acc,'b',label='Validation acc')\n",
    "plt.title('Training and validation acc')\n",
    "plt.legend()\n",
    "\n",
    "plt.show()"
   ]
  },
  {
   "cell_type": "code",
   "execution_count": 11,
   "metadata": {},
   "outputs": [
    {
     "name": "stdout",
     "output_type": "stream",
     "text": [
      "Found 16000 images belonging to 10 classes.\n"
     ]
    }
   ],
   "source": [
    "import glob\n",
    "from PIL import Image\n",
    "from keras.preprocessing import image\n",
    "import numpy as np\n",
    "import matplotlib.pyplot as plt\n",
    "%matplotlib inline\n",
    "\n",
    "from keras import backend as K\n",
    "from keras.models import load_model\n",
    "model = load_model('number_painting.h5')\n",
    "\n",
    "test_generator = test_datagen.flow_from_directory(test_dir, #타깃 디렉터리\n",
    "                                                    target_size=(50,50), #모든 이미지 150X150으로 변경\n",
    "                                                    batch_size=32, #\n",
    "                                                    class_mode='categorical')\n",
    "filenames = test_generator.filenames\n",
    "nb_samples = len(filenames)\n",
    "\n",
    "predict = model.predict_generator(test_generator,steps = nb_samples)\n",
    "\n",
    "\n",
    "# img_path='정규화원본/test/0/normalizationSF61527.bmp'\n",
    "# img = image.load_img(img_path,target_size=(50,50))\n",
    "# plt.imshow(img)\n",
    "\n",
    "# x=image.img_to_array(img)\n",
    "# x=np.expand_dims(x,axis=0)\n",
    "# x=x/255.\n",
    "\n",
    "\n",
    "\n",
    "    \n",
    "# prediction =model.predict_classes(x)\n",
    "# #prediction =model.predict(x)\n",
    "# print(prediction)\n",
    "#np.set_printoptions(formatter={'float': lambda x: \"{0:0.3f}\".format(x)})"
   ]
  },
  {
   "cell_type": "code",
   "execution_count": 12,
   "metadata": {},
   "outputs": [
    {
     "name": "stdout",
     "output_type": "stream",
     "text": [
      "[[1.4805024e-12 1.1785224e-07 6.3136611e-09 ... 2.8993970e-08\n",
      "  9.0014958e-04 9.9857461e-01]\n",
      " [1.9701421e-20 1.5478572e-13 1.1277125e-08 ... 7.4333890e-14\n",
      "  2.8034918e-13 2.0277668e-09]\n",
      " [2.1695259e-08 1.2088515e-10 9.9999952e-01 ... 3.1641762e-12\n",
      "  8.7501579e-09 9.3021780e-12]\n",
      " ...\n",
      " [1.1762357e-08 6.4647296e-09 9.8120683e-01 ... 5.0785470e-15\n",
      "  1.4821206e-02 1.2623608e-10]\n",
      " [1.9819144e-12 4.4178825e-09 8.0529509e-07 ... 2.5734730e-18\n",
      "  3.7482283e-07 1.5394195e-14]\n",
      " [9.9963963e-01 2.8910181e-05 3.3125063e-04 ... 1.5962215e-07\n",
      "  1.7784911e-08 6.5505856e-12]]\n"
     ]
    }
   ],
   "source": [
    "print(predict)"
   ]
  },
  {
   "cell_type": "code",
   "execution_count": 10,
   "metadata": {},
   "outputs": [
    {
     "name": "stdout",
     "output_type": "stream",
     "text": [
      "Found 16000 images belonging to 10 classes.\n",
      "500/500 [==============================] - 87s 174ms/step\n"
     ]
    }
   ],
   "source": [
    "test_generator = test_datagen.flow_from_directory(test_dir, #타깃 디렉터리\n",
    "                                                    target_size=(50,50), #모든 이미지 150X150으로 변경\n",
    "                                                    batch_size=32, #\n",
    "                                                    class_mode='categorical')\n",
    "score=model.evaluate(test_generator)"
   ]
  },
  {
   "cell_type": "code",
   "execution_count": 12,
   "metadata": {},
   "outputs": [
    {
     "name": "stdout",
     "output_type": "stream",
     "text": [
      "[0.05658546785881481, 0.9853125]\n"
     ]
    }
   ],
   "source": [
    "print(score)"
   ]
  },
  {
   "cell_type": "code",
   "execution_count": null,
   "metadata": {},
   "outputs": [],
   "source": []
  }
 ],
 "metadata": {
  "kernelspec": {
   "display_name": "Python 3",
   "language": "python",
   "name": "python3"
  },
  "language_info": {
   "codemirror_mode": {
    "name": "ipython",
    "version": 3
   },
   "file_extension": ".py",
   "mimetype": "text/x-python",
   "name": "python",
   "nbconvert_exporter": "python",
   "pygments_lexer": "ipython3",
   "version": "3.7.4"
  }
 },
 "nbformat": 4,
 "nbformat_minor": 2
}
