{
 "cells": [
  {
   "cell_type": "code",
   "execution_count": 1,
   "metadata": {},
   "outputs": [],
   "source": [
    "import os, shutil\n",
    "\n",
    "base_dir = '세선화원본'\n",
    "\n",
    "\n",
    "train_dir = os.path.join(base_dir, 'train')\n",
    "validation_dir = os.path.join(base_dir, 'validation')\n",
    "test_dir = os.path.join(base_dir, 'test')\n",
    "\n",
    "\n",
    "train_0_dir = os.path.join(train_dir, '0')\n",
    "train_1_dir = os.path.join(train_dir, '1')\n",
    "train_2_dir = os.path.join(train_dir, '2')\n",
    "train_3_dir = os.path.join(train_dir, '3')\n",
    "train_4_dir = os.path.join(train_dir, '4')\n",
    "train_5_dir = os.path.join(train_dir, '5')\n",
    "train_6_dir = os.path.join(train_dir, '6')\n",
    "train_7_dir = os.path.join(train_dir, '7')\n",
    "train_8_dir = os.path.join(train_dir, '8')\n",
    "train_9_dir = os.path.join(train_dir, '9')\n",
    "\n",
    "\n",
    "validation_0_dir = os.path.join(validation_dir, '0')\n",
    "validation_1_dir = os.path.join(validation_dir, '1')\n",
    "validation_2_dir = os.path.join(validation_dir, '2')\n",
    "validation_3_dir = os.path.join(validation_dir, '3')\n",
    "validation_4_dir = os.path.join(validation_dir, '4')\n",
    "validation_5_dir = os.path.join(validation_dir, '5')\n",
    "validation_6_dir = os.path.join(validation_dir, '6')\n",
    "validation_7_dir = os.path.join(validation_dir, '7')\n",
    "validation_8_dir = os.path.join(validation_dir, '8')\n",
    "validation_9_dir = os.path.join(validation_dir, '9')\n",
    "\n",
    "\n",
    "test_0_dir = os.path.join(test_dir, '0')\n",
    "test_1_dir = os.path.join(test_dir, '1')\n",
    "test_2_dir = os.path.join(test_dir, '2')\n",
    "test_3_dir = os.path.join(test_dir, '3')\n",
    "test_4_dir = os.path.join(test_dir, '4')\n",
    "test_5_dir = os.path.join(test_dir, '5')\n",
    "test_6_dir = os.path.join(test_dir, '6')\n",
    "test_7_dir = os.path.join(test_dir, '7')\n",
    "test_8_dir = os.path.join(test_dir, '8')\n",
    "test_9_dir = os.path.join(test_dir, '9')"
   ]
  },
  {
   "cell_type": "code",
   "execution_count": 2,
   "metadata": {},
   "outputs": [
    {
     "name": "stdout",
     "output_type": "stream",
     "text": [
      "훈련용 0 이미지 전체 개수 :  5000\n",
      "검증용 0 이미지 전체 개수 :  2300\n",
      "테스트용 0 이미지 전체 개수 :  1600\n"
     ]
    }
   ],
   "source": [
    "print('훈련용 0 이미지 전체 개수 : ', len(os.listdir(train_0_dir)))\n",
    "\n",
    "print('검증용 0 이미지 전체 개수 : ', len(os.listdir(validation_0_dir)))\n",
    "\n",
    "print('테스트용 0 이미지 전체 개수 : ', len(os.listdir(test_0_dir)))\n"
   ]
  },
  {
   "cell_type": "code",
   "execution_count": 7,
   "metadata": {},
   "outputs": [],
   "source": [
    "from keras import layers\n",
    "from keras import models\n",
    "from keras.layers import Dropout\n",
    "model = models.Sequential()\n",
    "model.add(layers.Conv2D(64,(6,6), activation='relu',\n",
    "                       input_shape=(50,50,3)))\n",
    "\n",
    "model.add(layers.Conv2D(64,(3,3),activation='relu'))\n",
    "model.add(layers.MaxPooling2D((2,2)))\n",
    "model.add(layers.Flatten())\n",
    "model.add(layers.Dense(128,activation='relu'))\n",
    "model.add(Dropout(0.3))\n",
    "model.add(layers.Dense(10,activation='softmax'))"
   ]
  },
  {
   "cell_type": "code",
   "execution_count": 8,
   "metadata": {},
   "outputs": [],
   "source": [
    "from keras import optimizers\n",
    "\n",
    "model.compile(loss='categorical_crossentropy',\n",
    "             optimizer='adam',\n",
    "             metrics=['acc'])\n"
   ]
  },
  {
   "cell_type": "code",
   "execution_count": 9,
   "metadata": {},
   "outputs": [
    {
     "name": "stdout",
     "output_type": "stream",
     "text": [
      "Found 50000 images belonging to 10 classes.\n",
      "Found 23000 images belonging to 10 classes.\n"
     ]
    }
   ],
   "source": [
    "from keras.preprocessing.image import ImageDataGenerator\n",
    "\n",
    "train_datagen = ImageDataGenerator(rescale=1./255)\n",
    "test_datagen = ImageDataGenerator(rescale=1./255)\n",
    "\n",
    "train_generator = train_datagen.flow_from_directory(train_dir, #타깃 디렉터리\n",
    "                                                    target_size=(50,50), #모든 이미지 150X150으로 변경\n",
    "                                                    batch_size=32, #\n",
    "                                                    class_mode='categorical')\n",
    "\n",
    "validation_generator = test_datagen.flow_from_directory(validation_dir, target_size=(50,50),batch_size=32, class_mode='categorical')"
   ]
  },
  {
   "cell_type": "code",
   "execution_count": 10,
   "metadata": {
    "scrolled": false
   },
   "outputs": [
    {
     "name": "stdout",
     "output_type": "stream",
     "text": [
      "Epoch 1/100\n",
      "100/100 [==============================] - 25s 252ms/step - loss: 1.1567 - acc: 0.6231 - val_loss: 0.8022 - val_acc: 0.7588\n",
      "Epoch 2/100\n",
      "100/100 [==============================] - 22s 221ms/step - loss: 0.5892 - acc: 0.8178 - val_loss: 0.6781 - val_acc: 0.7906\n",
      "Epoch 3/100\n",
      "100/100 [==============================] - 23s 229ms/step - loss: 0.4010 - acc: 0.8806 - val_loss: 0.4466 - val_acc: 0.8894\n",
      "Epoch 4/100\n",
      "100/100 [==============================] - 22s 220ms/step - loss: 0.3573 - acc: 0.8950 - val_loss: 0.3913 - val_acc: 0.8900\n",
      "Epoch 5/100\n",
      "100/100 [==============================] - 22s 221ms/step - loss: 0.2510 - acc: 0.9209 - val_loss: 0.2749 - val_acc: 0.9175\n",
      "Epoch 6/100\n",
      "100/100 [==============================] - 22s 220ms/step - loss: 0.2359 - acc: 0.9303 - val_loss: 0.3519 - val_acc: 0.9031\n",
      "Epoch 7/100\n",
      "100/100 [==============================] - 22s 224ms/step - loss: 0.2042 - acc: 0.9347 - val_loss: 0.3258 - val_acc: 0.9050\n",
      "Epoch 8/100\n",
      "100/100 [==============================] - 24s 242ms/step - loss: 0.1815 - acc: 0.9425 - val_loss: 0.2808 - val_acc: 0.9181\n",
      "Epoch 9/100\n",
      "100/100 [==============================] - 25s 248ms/step - loss: 0.1910 - acc: 0.9450 - val_loss: 0.2732 - val_acc: 0.9225\n",
      "Epoch 10/100\n",
      "100/100 [==============================] - 25s 250ms/step - loss: 0.1684 - acc: 0.9519 - val_loss: 0.2544 - val_acc: 0.9225\n",
      "Epoch 11/100\n",
      "100/100 [==============================] - 25s 254ms/step - loss: 0.1448 - acc: 0.9562 - val_loss: 0.2415 - val_acc: 0.9287\n",
      "Epoch 12/100\n",
      "100/100 [==============================] - 22s 221ms/step - loss: 0.1458 - acc: 0.9547 - val_loss: 0.2339 - val_acc: 0.9237\n",
      "Epoch 13/100\n",
      "100/100 [==============================] - 23s 225ms/step - loss: 0.1167 - acc: 0.9650 - val_loss: 0.1696 - val_acc: 0.9444\n",
      "Epoch 14/100\n",
      "100/100 [==============================] - 23s 227ms/step - loss: 0.1212 - acc: 0.9666 - val_loss: 0.2393 - val_acc: 0.9300\n",
      "Epoch 15/100\n",
      "100/100 [==============================] - 21s 213ms/step - loss: 0.1191 - acc: 0.9653 - val_loss: 0.1807 - val_acc: 0.9454\n",
      "Epoch 16/100\n",
      "100/100 [==============================] - 17s 168ms/step - loss: 0.1054 - acc: 0.9697 - val_loss: 0.1777 - val_acc: 0.9475\n",
      "Epoch 17/100\n",
      "100/100 [==============================] - 11s 113ms/step - loss: 0.0695 - acc: 0.9753 - val_loss: 0.2258 - val_acc: 0.9344\n",
      "Epoch 18/100\n",
      "100/100 [==============================] - 11s 114ms/step - loss: 0.1000 - acc: 0.9694 - val_loss: 0.2050 - val_acc: 0.9437\n",
      "Epoch 19/100\n",
      "100/100 [==============================] - 11s 114ms/step - loss: 0.0732 - acc: 0.9784 - val_loss: 0.1592 - val_acc: 0.9531\n",
      "Epoch 20/100\n",
      "100/100 [==============================] - 12s 116ms/step - loss: 0.0919 - acc: 0.9741 - val_loss: 0.2103 - val_acc: 0.9394\n",
      "Epoch 21/100\n",
      "100/100 [==============================] - 12s 117ms/step - loss: 0.0908 - acc: 0.9700 - val_loss: 0.2297 - val_acc: 0.9450\n",
      "Epoch 22/100\n",
      "100/100 [==============================] - 12s 116ms/step - loss: 0.0927 - acc: 0.9716 - val_loss: 0.1949 - val_acc: 0.9500\n",
      "Epoch 23/100\n",
      "100/100 [==============================] - 12s 115ms/step - loss: 0.0953 - acc: 0.9766 - val_loss: 0.2253 - val_acc: 0.9450\n",
      "Epoch 24/100\n",
      "100/100 [==============================] - 12s 115ms/step - loss: 0.0642 - acc: 0.9806 - val_loss: 0.1699 - val_acc: 0.9569\n",
      "Epoch 25/100\n",
      "100/100 [==============================] - 12s 115ms/step - loss: 0.0863 - acc: 0.9762 - val_loss: 0.2042 - val_acc: 0.9450\n",
      "Epoch 26/100\n",
      "100/100 [==============================] - 12s 116ms/step - loss: 0.1045 - acc: 0.9666 - val_loss: 0.1754 - val_acc: 0.9463\n",
      "Epoch 27/100\n",
      "100/100 [==============================] - 12s 115ms/step - loss: 0.0734 - acc: 0.9784 - val_loss: 0.1902 - val_acc: 0.9444\n",
      "Epoch 28/100\n",
      "100/100 [==============================] - 12s 115ms/step - loss: 0.0749 - acc: 0.9756 - val_loss: 0.2355 - val_acc: 0.9394\n",
      "Epoch 29/100\n",
      "100/100 [==============================] - 12s 118ms/step - loss: 0.0857 - acc: 0.9741 - val_loss: 0.1744 - val_acc: 0.9567\n",
      "Epoch 30/100\n",
      "100/100 [==============================] - 12s 115ms/step - loss: 0.0880 - acc: 0.9719 - val_loss: 0.2005 - val_acc: 0.9375\n",
      "Epoch 31/100\n",
      "100/100 [==============================] - 12s 115ms/step - loss: 0.0702 - acc: 0.9803 - val_loss: 0.1834 - val_acc: 0.9413\n",
      "Epoch 32/100\n",
      "100/100 [==============================] - 11s 114ms/step - loss: 0.0625 - acc: 0.9803 - val_loss: 0.1819 - val_acc: 0.9563\n",
      "Epoch 33/100\n",
      "100/100 [==============================] - 11s 114ms/step - loss: 0.0460 - acc: 0.9847 - val_loss: 0.2157 - val_acc: 0.9494\n",
      "Epoch 34/100\n",
      "100/100 [==============================] - 11s 114ms/step - loss: 0.0396 - acc: 0.9850 - val_loss: 0.2035 - val_acc: 0.9506\n",
      "Epoch 35/100\n",
      "100/100 [==============================] - 11s 115ms/step - loss: 0.0423 - acc: 0.9872 - val_loss: 0.1994 - val_acc: 0.9513\n",
      "Epoch 36/100\n",
      "100/100 [==============================] - 11s 114ms/step - loss: 0.0551 - acc: 0.9844 - val_loss: 0.2207 - val_acc: 0.9381\n",
      "Epoch 37/100\n",
      "100/100 [==============================] - 11s 114ms/step - loss: 0.0506 - acc: 0.9841 - val_loss: 0.2232 - val_acc: 0.9425\n",
      "Epoch 38/100\n",
      "100/100 [==============================] - 11s 114ms/step - loss: 0.0628 - acc: 0.9816 - val_loss: 0.1784 - val_acc: 0.9494\n",
      "Epoch 39/100\n",
      "100/100 [==============================] - 11s 114ms/step - loss: 0.0476 - acc: 0.9850 - val_loss: 0.2623 - val_acc: 0.9344\n",
      "Epoch 40/100\n",
      "100/100 [==============================] - 11s 113ms/step - loss: 0.0664 - acc: 0.9787 - val_loss: 0.1961 - val_acc: 0.9456\n",
      "Epoch 41/100\n",
      "100/100 [==============================] - 11s 114ms/step - loss: 0.0618 - acc: 0.9809 - val_loss: 0.2277 - val_acc: 0.9375\n",
      "Epoch 42/100\n",
      "100/100 [==============================] - 11s 114ms/step - loss: 0.0541 - acc: 0.9809 - val_loss: 0.2539 - val_acc: 0.9350\n",
      "Epoch 43/100\n",
      "100/100 [==============================] - 11s 114ms/step - loss: 0.0443 - acc: 0.9831 - val_loss: 0.2197 - val_acc: 0.9481\n",
      "Epoch 44/100\n",
      "100/100 [==============================] - 12s 115ms/step - loss: 0.0585 - acc: 0.9819 - val_loss: 0.1907 - val_acc: 0.9460\n",
      "Epoch 45/100\n",
      "100/100 [==============================] - 11s 114ms/step - loss: 0.0618 - acc: 0.9822 - val_loss: 0.1937 - val_acc: 0.9456\n",
      "Epoch 46/100\n",
      "100/100 [==============================] - 11s 114ms/step - loss: 0.0614 - acc: 0.9803 - val_loss: 0.2532 - val_acc: 0.9237\n",
      "Epoch 47/100\n",
      "100/100 [==============================] - 11s 114ms/step - loss: 0.0469 - acc: 0.9859 - val_loss: 0.1835 - val_acc: 0.9506\n",
      "Epoch 48/100\n",
      "100/100 [==============================] - 11s 114ms/step - loss: 0.0346 - acc: 0.9903 - val_loss: 0.1975 - val_acc: 0.9506\n",
      "Epoch 49/100\n",
      "100/100 [==============================] - 11s 114ms/step - loss: 0.0419 - acc: 0.9862 - val_loss: 0.2394 - val_acc: 0.9487\n",
      "Epoch 50/100\n",
      "100/100 [==============================] - 11s 114ms/step - loss: 0.0340 - acc: 0.9878 - val_loss: 0.2323 - val_acc: 0.9456\n",
      "Epoch 51/100\n",
      "100/100 [==============================] - 11s 114ms/step - loss: 0.0387 - acc: 0.9881 - val_loss: 0.1940 - val_acc: 0.9537\n",
      "Epoch 52/100\n",
      "100/100 [==============================] - 11s 114ms/step - loss: 0.0412 - acc: 0.9878 - val_loss: 0.2321 - val_acc: 0.9481\n",
      "Epoch 53/100\n",
      "100/100 [==============================] - 11s 114ms/step - loss: 0.0427 - acc: 0.9862 - val_loss: 0.2238 - val_acc: 0.9425\n",
      "Epoch 54/100\n",
      "100/100 [==============================] - 11s 114ms/step - loss: 0.0288 - acc: 0.9894 - val_loss: 0.1841 - val_acc: 0.9600\n",
      "Epoch 55/100\n",
      "100/100 [==============================] - 11s 114ms/step - loss: 0.0361 - acc: 0.9872 - val_loss: 0.2050 - val_acc: 0.9450\n",
      "Epoch 56/100\n",
      "100/100 [==============================] - 11s 114ms/step - loss: 0.0339 - acc: 0.9875 - val_loss: 0.1314 - val_acc: 0.9631\n",
      "Epoch 57/100\n",
      "100/100 [==============================] - 11s 114ms/step - loss: 0.0365 - acc: 0.9862 - val_loss: 0.2102 - val_acc: 0.9456\n",
      "Epoch 58/100\n",
      "100/100 [==============================] - 12s 117ms/step - loss: 0.0391 - acc: 0.9894 - val_loss: 0.1932 - val_acc: 0.9592\n",
      "Epoch 59/100\n",
      "100/100 [==============================] - 11s 115ms/step - loss: 0.0334 - acc: 0.9906 - val_loss: 0.1805 - val_acc: 0.9544\n",
      "Epoch 60/100\n",
      "100/100 [==============================] - 11s 115ms/step - loss: 0.0390 - acc: 0.9884 - val_loss: 0.2311 - val_acc: 0.9469\n"
     ]
    },
    {
     "name": "stdout",
     "output_type": "stream",
     "text": [
      "Epoch 61/100\n",
      "100/100 [==============================] - 11s 115ms/step - loss: 0.0315 - acc: 0.9884 - val_loss: 0.2045 - val_acc: 0.9525\n",
      "Epoch 62/100\n",
      "100/100 [==============================] - 11s 115ms/step - loss: 0.0413 - acc: 0.9856 - val_loss: 0.2305 - val_acc: 0.9525\n",
      "Epoch 63/100\n",
      "100/100 [==============================] - 11s 115ms/step - loss: 0.0388 - acc: 0.9872 - val_loss: 0.2117 - val_acc: 0.9556\n",
      "Epoch 64/100\n",
      "100/100 [==============================] - 12s 115ms/step - loss: 0.0291 - acc: 0.9903 - val_loss: 0.2582 - val_acc: 0.9475\n",
      "Epoch 65/100\n",
      "100/100 [==============================] - 11s 115ms/step - loss: 0.0260 - acc: 0.9919 - val_loss: 0.1829 - val_acc: 0.9556\n",
      "Epoch 66/100\n",
      "100/100 [==============================] - 11s 115ms/step - loss: 0.0249 - acc: 0.9909 - val_loss: 0.3127 - val_acc: 0.9350\n",
      "Epoch 67/100\n",
      "100/100 [==============================] - 12s 116ms/step - loss: 0.0365 - acc: 0.9897 - val_loss: 0.2218 - val_acc: 0.9444\n",
      "Epoch 68/100\n",
      "100/100 [==============================] - 12s 115ms/step - loss: 0.0289 - acc: 0.9919 - val_loss: 0.2049 - val_acc: 0.9550\n",
      "Epoch 69/100\n",
      "100/100 [==============================] - 11s 115ms/step - loss: 0.0236 - acc: 0.9925 - val_loss: 0.2032 - val_acc: 0.9519\n",
      "Epoch 70/100\n",
      "100/100 [==============================] - 12s 115ms/step - loss: 0.0298 - acc: 0.9909 - val_loss: 0.2336 - val_acc: 0.9550\n",
      "Epoch 71/100\n",
      "100/100 [==============================] - 11s 115ms/step - loss: 0.0357 - acc: 0.9897 - val_loss: 0.2137 - val_acc: 0.9456\n",
      "Epoch 72/100\n",
      "100/100 [==============================] - 12s 115ms/step - loss: 0.0361 - acc: 0.9875 - val_loss: 0.2981 - val_acc: 0.9428\n",
      "Epoch 73/100\n",
      "100/100 [==============================] - 11s 114ms/step - loss: 0.0283 - acc: 0.9897 - val_loss: 0.1942 - val_acc: 0.9619\n",
      "Epoch 74/100\n",
      "100/100 [==============================] - 11s 114ms/step - loss: 0.0231 - acc: 0.9916 - val_loss: 0.2015 - val_acc: 0.9613\n",
      "Epoch 75/100\n",
      "100/100 [==============================] - 11s 114ms/step - loss: 0.0264 - acc: 0.9909 - val_loss: 0.3055 - val_acc: 0.9463\n",
      "Epoch 76/100\n",
      "100/100 [==============================] - 11s 114ms/step - loss: 0.0584 - acc: 0.9838 - val_loss: 0.3019 - val_acc: 0.9344\n",
      "Epoch 77/100\n",
      "100/100 [==============================] - 11s 114ms/step - loss: 0.0508 - acc: 0.9831 - val_loss: 0.2616 - val_acc: 0.9481\n",
      "Epoch 78/100\n",
      "100/100 [==============================] - 11s 114ms/step - loss: 0.0859 - acc: 0.9731 - val_loss: 0.3452 - val_acc: 0.9269\n",
      "Epoch 79/100\n",
      "100/100 [==============================] - 11s 114ms/step - loss: 0.0521 - acc: 0.9869 - val_loss: 0.3234 - val_acc: 0.9444\n",
      "Epoch 80/100\n",
      "100/100 [==============================] - 11s 114ms/step - loss: 0.0336 - acc: 0.9887 - val_loss: 0.2437 - val_acc: 0.9544\n",
      "Epoch 81/100\n",
      "100/100 [==============================] - 11s 114ms/step - loss: 0.0215 - acc: 0.9934 - val_loss: 0.1827 - val_acc: 0.9544\n",
      "Epoch 82/100\n",
      "100/100 [==============================] - 11s 114ms/step - loss: 0.0242 - acc: 0.9906 - val_loss: 0.2033 - val_acc: 0.9531\n",
      "Epoch 83/100\n",
      "100/100 [==============================] - 11s 114ms/step - loss: 0.0260 - acc: 0.9931 - val_loss: 0.2782 - val_acc: 0.9463\n",
      "Epoch 84/100\n",
      "100/100 [==============================] - 11s 114ms/step - loss: 0.0220 - acc: 0.9922 - val_loss: 0.2871 - val_acc: 0.9469\n",
      "Epoch 85/100\n",
      "100/100 [==============================] - 11s 114ms/step - loss: 0.0231 - acc: 0.9928 - val_loss: 0.2707 - val_acc: 0.9456\n",
      "Epoch 86/100\n",
      "100/100 [==============================] - 11s 115ms/step - loss: 0.0209 - acc: 0.9950 - val_loss: 0.2343 - val_acc: 0.9519\n",
      "Epoch 87/100\n",
      "100/100 [==============================] - 12s 116ms/step - loss: 0.0243 - acc: 0.9912 - val_loss: 0.2367 - val_acc: 0.9573\n",
      "Epoch 88/100\n",
      "100/100 [==============================] - 11s 115ms/step - loss: 0.0228 - acc: 0.9903 - val_loss: 0.1974 - val_acc: 0.9544\n",
      "Epoch 89/100\n",
      "100/100 [==============================] - 12s 116ms/step - loss: 0.0307 - acc: 0.9909 - val_loss: 0.2532 - val_acc: 0.9481\n",
      "Epoch 90/100\n",
      "100/100 [==============================] - 11s 115ms/step - loss: 0.0338 - acc: 0.9897 - val_loss: 0.2330 - val_acc: 0.9431\n",
      "Epoch 91/100\n",
      "100/100 [==============================] - 11s 115ms/step - loss: 0.0142 - acc: 0.9944 - val_loss: 0.2224 - val_acc: 0.9550\n",
      "Epoch 92/100\n",
      "100/100 [==============================] - 11s 115ms/step - loss: 0.0316 - acc: 0.9906 - val_loss: 0.2205 - val_acc: 0.9569\n",
      "Epoch 93/100\n",
      "100/100 [==============================] - 11s 115ms/step - loss: 0.0176 - acc: 0.9938 - val_loss: 0.2686 - val_acc: 0.9481\n",
      "Epoch 94/100\n",
      "100/100 [==============================] - 12s 116ms/step - loss: 0.0239 - acc: 0.9922 - val_loss: 0.2285 - val_acc: 0.9531\n",
      "Epoch 95/100\n",
      "100/100 [==============================] - 11s 114ms/step - loss: 0.0159 - acc: 0.9947 - val_loss: 0.2758 - val_acc: 0.9519\n",
      "Epoch 96/100\n",
      "100/100 [==============================] - 11s 115ms/step - loss: 0.0154 - acc: 0.9956 - val_loss: 0.2030 - val_acc: 0.9606\n",
      "Epoch 97/100\n",
      "100/100 [==============================] - 11s 115ms/step - loss: 0.0106 - acc: 0.9959 - val_loss: 0.2864 - val_acc: 0.9450\n",
      "Epoch 98/100\n",
      "100/100 [==============================] - 11s 115ms/step - loss: 0.0160 - acc: 0.9941 - val_loss: 0.2143 - val_acc: 0.9587\n",
      "Epoch 99/100\n",
      "100/100 [==============================] - 11s 115ms/step - loss: 0.0154 - acc: 0.9947 - val_loss: 0.2908 - val_acc: 0.9500\n",
      "Epoch 100/100\n",
      "100/100 [==============================] - 11s 115ms/step - loss: 0.0331 - acc: 0.9922 - val_loss: 0.1792 - val_acc: 0.9619\n"
     ]
    }
   ],
   "source": [
    "history = model.fit_generator(\n",
    "        train_generator,\n",
    "        steps_per_epoch=100,\n",
    "        epochs=100,\n",
    "        validation_data=validation_generator,\n",
    "        validation_steps=50)"
   ]
  },
  {
   "cell_type": "code",
   "execution_count": 11,
   "metadata": {},
   "outputs": [],
   "source": [
    "model.save('number_skel2.h5')"
   ]
  },
  {
   "cell_type": "code",
   "execution_count": 12,
   "metadata": {},
   "outputs": [
    {
     "data": {
      "image/png": "[encoded data removed]",
      "text/plain": [
       "<Figure size 432x288 with 1 Axes>"
      ]
     },
     "metadata": {
      "needs_background": "light"
     },
     "output_type": "display_data"
    }
   ],
   "source": [
    "import matplotlib.pyplot as plt\n",
    "%matplotlib inline\n",
    "acc = history.history['acc']\n",
    "val_acc = history.history['val_acc']\n",
    "loss = history.history['loss']\n",
    "val_loss = history.history['val_loss']\n",
    "\n",
    "epochs = range(1, len(acc) + 1)\n",
    "\n",
    "plt.plot(epochs,loss,'bo',label='Training loss')\n",
    "plt.plot(epochs,val_loss,'b',label='Validation loss')\n",
    "plt.title('Training and validation loss')\n",
    "plt.legend()\n",
    "\n",
    "plt.show()"
   ]
  },
  {
   "cell_type": "code",
   "execution_count": 13,
   "metadata": {},
   "outputs": [
    {
     "data": {
      "image/png": "[encoded data removed]",
      "text/plain": [
       "<Figure size 432x288 with 1 Axes>"
      ]
     },
     "metadata": {
      "needs_background": "light"
     },
     "output_type": "display_data"
    }
   ],
   "source": [
    "acc = history.history['acc']\n",
    "val_acc = history.history['val_acc']\n",
    "loss = history.history['loss']\n",
    "val_loss = history.history['val_loss']\n",
    "\n",
    "epochs = range(1, len(acc) + 1)\n",
    "\n",
    "plt.plot(epochs,acc,'bo',label='Training acc')\n",
    "plt.plot(epochs,val_acc,'b',label='Validation acc')\n",
    "plt.title('Training and validation acc')\n",
    "plt.legend()\n",
    "\n",
    "plt.show()"
   ]
  },
  {
   "cell_type": "code",
   "execution_count": 11,
   "metadata": {},
   "outputs": [
    {
     "name": "stdout",
     "output_type": "stream",
     "text": [
      "Found 16000 images belonging to 10 classes.\n"
     ]
    }
   ],
   "source": [
    "import glob\n",
    "from PIL import Image\n",
    "from keras.preprocessing import image\n",
    "import numpy as np\n",
    "import matplotlib.pyplot as plt\n",
    "%matplotlib inline\n",
    "\n",
    "from keras import backend as K\n",
    "from keras.models import load_model\n",
    "model = load_model('number_painting.h5')\n",
    "\n",
    "test_generator = test_datagen.flow_from_directory(test_dir, #타깃 디렉터리\n",
    "                                                    target_size=(50,50), #모든 이미지 150X150으로 변경\n",
    "                                                    batch_size=32, #\n",
    "                                                    class_mode='categorical')\n",
    "filenames = test_generator.filenames\n",
    "nb_samples = len(filenames)\n",
    "\n",
    "predict = model.predict_generator(test_generator,steps = nb_samples)\n",
    "\n",
    "\n",
    "# img_path='정규화원본/test/0/normalizationSF61527.bmp'\n",
    "# img = image.load_img(img_path,target_size=(50,50))\n",
    "# plt.imshow(img)\n",
    "\n",
    "# x=image.img_to_array(img)\n",
    "# x=np.expand_dims(x,axis=0)\n",
    "# x=x/255.\n",
    "\n",
    "\n",
    "\n",
    "    \n",
    "# prediction =model.predict_classes(x)\n",
    "# #prediction =model.predict(x)\n",
    "# print(prediction)\n",
    "#np.set_printoptions(formatter={'float': lambda x: \"{0:0.3f}\".format(x)})"
   ]
  },
  {
   "cell_type": "code",
   "execution_count": 12,
   "metadata": {},
   "outputs": [
    {
     "name": "stdout",
     "output_type": "stream",
     "text": [
      "[[1.4805024e-12 1.1785224e-07 6.3136611e-09 ... 2.8993970e-08\n",
      "  9.0014958e-04 9.9857461e-01]\n",
      " [1.9701421e-20 1.5478572e-13 1.1277125e-08 ... 7.4333890e-14\n",
      "  2.8034918e-13 2.0277668e-09]\n",
      " [2.1695259e-08 1.2088515e-10 9.9999952e-01 ... 3.1641762e-12\n",
      "  8.7501579e-09 9.3021780e-12]\n",
      " ...\n",
      " [1.1762357e-08 6.4647296e-09 9.8120683e-01 ... 5.0785470e-15\n",
      "  1.4821206e-02 1.2623608e-10]\n",
      " [1.9819144e-12 4.4178825e-09 8.0529509e-07 ... 2.5734730e-18\n",
      "  3.7482283e-07 1.5394195e-14]\n",
      " [9.9963963e-01 2.8910181e-05 3.3125063e-04 ... 1.5962215e-07\n",
      "  1.7784911e-08 6.5505856e-12]]\n"
     ]
    }
   ],
   "source": [
    "print(predict)"
   ]
  },
  {
   "cell_type": "code",
   "execution_count": 14,
   "metadata": {},
   "outputs": [
    {
     "name": "stdout",
     "output_type": "stream",
     "text": [
      "Found 16000 images belonging to 10 classes.\n",
      "500/500 [==============================] - 85s 169ms/step\n"
     ]
    }
   ],
   "source": [
    "test_generator = test_datagen.flow_from_directory(test_dir, #타깃 디렉터리\n",
    "                                                    target_size=(50,50), #모든 이미지 150X150으로 변경\n",
    "                                                    batch_size=32, #\n",
    "                                                    class_mode='categorical')\n",
    "score=model.evaluate(test_generator)"
   ]
  },
  {
   "cell_type": "code",
   "execution_count": 15,
   "metadata": {},
   "outputs": [
    {
     "name": "stdout",
     "output_type": "stream",
     "text": [
      "[0.15757417926716788, 0.9645]\n"
     ]
    }
   ],
   "source": [
    "print(score)"
   ]
  },
  {
   "cell_type": "code",
   "execution_count": null,
   "metadata": {},
   "outputs": [],
   "source": []
  }
 ],
 "metadata": {
  "kernelspec": {
   "display_name": "Python 3",
   "language": "python",
   "name": "python3"
  },
  "language_info": {
   "codemirror_mode": {
    "name": "ipython",
    "version": 3
   },
   "file_extension": ".py",
   "mimetype": "text/x-python",
   "name": "python",
   "nbconvert_exporter": "python",
   "pygments_lexer": "ipython3",
   "version": "3.7.4"
  }
 },
 "nbformat": 4,
 "nbformat_minor": 2
}
