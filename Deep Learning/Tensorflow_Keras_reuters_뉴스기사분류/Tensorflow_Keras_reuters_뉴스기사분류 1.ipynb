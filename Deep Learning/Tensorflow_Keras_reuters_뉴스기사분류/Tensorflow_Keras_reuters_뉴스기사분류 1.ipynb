{
 "cells": [
  {
   "cell_type": "code",
   "execution_count": 1,
   "metadata": {},
   "outputs": [
    {
     "name": "stderr",
     "output_type": "stream",
     "text": [
      "Using TensorFlow backend.\n"
     ]
    }
   ],
   "source": [
    "from keras.datasets import reuters\n",
    "\n",
    "(train_data,train_labels), (test_data,test_labels) = reuters.load_data(num_words=10000) # training set과 test set으로 나눔\n",
    "#가장 자주 등장하는 단어 1만개"
   ]
  },
  {
   "cell_type": "code",
   "execution_count": 2,
   "metadata": {},
   "outputs": [],
   "source": [
    "import numpy as np\n",
    "\n",
    "def vectorize_sequences(sequences, dimension=10000): #이거도 원핫 인코딩에 해당\n",
    "    results = np.zeros((len(sequences), dimension))\n",
    "    for i, sequence in enumerate(sequences):\n",
    "        results[i,sequence] = 1.\n",
    "    return results\n",
    "\n",
    "x_train = vectorize_sequences(train_data) # x_train 에 해당하는 부분을 원핫인코딩\n",
    "x_test = vectorize_sequences(test_data) #x_test 에 해당하는 부분을 원핫 인코딩"
   ]
  },
  {
   "cell_type": "code",
   "execution_count": 3,
   "metadata": {},
   "outputs": [],
   "source": [
    "from keras.utils.np_utils import to_categorical\n",
    "\n",
    "one_hot_train_labels = to_categorical(train_labels)# 원핫 인코딩으로 만들어줌 y_train 해당\n",
    "one_hot_test_labels = to_categorical(test_labels) # y_test 해당"
   ]
  },
  {
   "cell_type": "code",
   "execution_count": 4,
   "metadata": {},
   "outputs": [
    {
     "name": "stderr",
     "output_type": "stream",
     "text": [
      "WARNING: Logging before flag parsing goes to stderr.\n",
      "W0904 10:14:26.822494 12492 deprecation_wrapper.py:119] From C:\\Users\\SH\\Anaconda3\\envs\\AI\\lib\\site-packages\\keras-2.2.5-py3.7.egg\\keras\\backend\\tensorflow_backend.py:67: The name tf.get_default_graph is deprecated. Please use tf.compat.v1.get_default_graph instead.\n",
      "\n",
      "W0904 10:14:26.844432 12492 deprecation_wrapper.py:119] From C:\\Users\\SH\\Anaconda3\\envs\\AI\\lib\\site-packages\\keras-2.2.5-py3.7.egg\\keras\\backend\\tensorflow_backend.py:548: The name tf.placeholder is deprecated. Please use tf.compat.v1.placeholder instead.\n",
      "\n",
      "W0904 10:14:26.852423 12492 deprecation_wrapper.py:119] From C:\\Users\\SH\\Anaconda3\\envs\\AI\\lib\\site-packages\\keras-2.2.5-py3.7.egg\\keras\\backend\\tensorflow_backend.py:4439: The name tf.random_uniform is deprecated. Please use tf.random.uniform instead.\n",
      "\n"
     ]
    }
   ],
   "source": [
    "from keras import models\n",
    "from keras import layers\n",
    "\n",
    "model = models.Sequential()# 모델 층 생성\n",
    "model.add(layers.Dense(64, activation='relu', input_shape=(10000,)))#총 10000개의 특징이 들어 갈 예정(데이터의 갯수가 아님)\n",
    "model.add(layers.Dense(64, activation='relu'))\n",
    "model.add(layers.Dense(46, activation='softmax'))"
   ]
  },
  {
   "cell_type": "code",
   "execution_count": 5,
   "metadata": {},
   "outputs": [
    {
     "name": "stderr",
     "output_type": "stream",
     "text": [
      "W0904 10:14:26.935189 12492 deprecation_wrapper.py:119] From C:\\Users\\SH\\Anaconda3\\envs\\AI\\lib\\site-packages\\keras-2.2.5-py3.7.egg\\keras\\optimizers.py:793: The name tf.train.Optimizer is deprecated. Please use tf.compat.v1.train.Optimizer instead.\n",
      "\n",
      "W0904 10:14:26.980098 12492 deprecation_wrapper.py:119] From C:\\Users\\SH\\Anaconda3\\envs\\AI\\lib\\site-packages\\keras-2.2.5-py3.7.egg\\keras\\backend\\tensorflow_backend.py:3583: The name tf.log is deprecated. Please use tf.math.log instead.\n",
      "\n"
     ]
    }
   ],
   "source": [
    "model.compile(optimizer='rmsprop',\n",
    "             loss='categorical_crossentropy',\n",
    "              #두 확률 분포 사이의 거리를 측정 (네트워크가 출력한 확률 분포와 진짜 레이블의 분포 사이 거리)\n",
    "             metrics=['accuracy'])"
   ]
  },
  {
   "cell_type": "code",
   "execution_count": 6,
   "metadata": {},
   "outputs": [],
   "source": [
    "x_val = x_train[:1000] #검증을 위해 데이터셋을 검증용 데이터와 훈련용 데이터로 나눔\n",
    "partial_x_train = x_train[1000:]\n",
    "\n",
    "y_val = one_hot_train_labels[:1000]\n",
    "partial_y_train = one_hot_train_labels[1000:]"
   ]
  },
  {
   "cell_type": "code",
   "execution_count": 7,
   "metadata": {},
   "outputs": [
    {
     "name": "stderr",
     "output_type": "stream",
     "text": [
      "W0904 10:14:27.223460 12492 deprecation.py:323] From C:\\Users\\SH\\Anaconda3\\envs\\AI\\lib\\site-packages\\tensorflow\\python\\ops\\math_grad.py:1250: add_dispatch_support.<locals>.wrapper (from tensorflow.python.ops.array_ops) is deprecated and will be removed in a future version.\n",
      "Instructions for updating:\n",
      "Use tf.where in 2.0, which has the same broadcast rule as np.where\n",
      "W0904 10:14:27.320596 12492 deprecation_wrapper.py:119] From C:\\Users\\SH\\Anaconda3\\envs\\AI\\lib\\site-packages\\keras-2.2.5-py3.7.egg\\keras\\backend\\tensorflow_backend.py:1040: The name tf.assign_add is deprecated. Please use tf.compat.v1.assign_add instead.\n",
      "\n"
     ]
    },
    {
     "name": "stdout",
     "output_type": "stream",
     "text": [
      "Train on 7982 samples, validate on 1000 samples\n",
      "Epoch 1/20\n",
      "7982/7982 [==============================] - 6s 701us/step - loss: 2.7431 - acc: 0.4986 - val_loss: 1.7651 - val_acc: 0.6490\n",
      "Epoch 2/20\n",
      "7982/7982 [==============================] - 1s 176us/step - loss: 1.4218 - acc: 0.7085 - val_loss: 1.2863 - val_acc: 0.7240\n",
      "Epoch 3/20\n",
      "7982/7982 [==============================] - 1s 173us/step - loss: 1.0330 - acc: 0.7806 - val_loss: 1.1233 - val_acc: 0.7620\n",
      "Epoch 4/20\n",
      "7982/7982 [==============================] - 1s 171us/step - loss: 0.8185 - acc: 0.8294 - val_loss: 1.0160 - val_acc: 0.7810\n",
      "Epoch 5/20\n",
      "7982/7982 [==============================] - 1s 171us/step - loss: 0.6629 - acc: 0.8631 - val_loss: 0.9587 - val_acc: 0.7980\n",
      "Epoch 6/20\n",
      "7982/7982 [==============================] - 1s 172us/step - loss: 0.5302 - acc: 0.8925 - val_loss: 0.9200 - val_acc: 0.8120\n",
      "Epoch 7/20\n",
      "7982/7982 [==============================] - 1s 170us/step - loss: 0.4351 - acc: 0.9144 - val_loss: 0.9073 - val_acc: 0.8080\n",
      "Epoch 8/20\n",
      "7982/7982 [==============================] - 1s 171us/step - loss: 0.3586 - acc: 0.9270 - val_loss: 0.9056 - val_acc: 0.8160\n",
      "Epoch 9/20\n",
      "7982/7982 [==============================] - 1s 169us/step - loss: 0.2938 - acc: 0.9374 - val_loss: 0.9026 - val_acc: 0.8170\n",
      "Epoch 10/20\n",
      "7982/7982 [==============================] - 1s 174us/step - loss: 0.2541 - acc: 0.9430 - val_loss: 0.8791 - val_acc: 0.8260\n",
      "Epoch 11/20\n",
      "7982/7982 [==============================] - 1s 170us/step - loss: 0.2170 - acc: 0.9481 - val_loss: 0.9225 - val_acc: 0.8240\n",
      "Epoch 12/20\n",
      "7982/7982 [==============================] - 1s 175us/step - loss: 0.1897 - acc: 0.9540 - val_loss: 0.9097 - val_acc: 0.8250\n",
      "Epoch 13/20\n",
      "7982/7982 [==============================] - 1s 169us/step - loss: 0.1704 - acc: 0.9534 - val_loss: 0.9867 - val_acc: 0.8110\n",
      "Epoch 14/20\n",
      "7982/7982 [==============================] - 1s 170us/step - loss: 0.1554 - acc: 0.9538 - val_loss: 1.0030 - val_acc: 0.8010\n",
      "Epoch 15/20\n",
      "7982/7982 [==============================] - 1s 169us/step - loss: 0.1531 - acc: 0.9535 - val_loss: 0.9784 - val_acc: 0.8140\n",
      "Epoch 16/20\n",
      "7982/7982 [==============================] - 1s 167us/step - loss: 0.1361 - acc: 0.9540 - val_loss: 0.9778 - val_acc: 0.8120\n",
      "Epoch 17/20\n",
      "7982/7982 [==============================] - 1s 171us/step - loss: 0.1309 - acc: 0.9564 - val_loss: 0.9876 - val_acc: 0.8090\n",
      "Epoch 18/20\n",
      "7982/7982 [==============================] - 1s 168us/step - loss: 0.1242 - acc: 0.9575 - val_loss: 1.0181 - val_acc: 0.8060\n",
      "Epoch 19/20\n",
      "7982/7982 [==============================] - 1s 170us/step - loss: 0.1170 - acc: 0.9588 - val_loss: 1.0267 - val_acc: 0.7990\n",
      "Epoch 20/20\n",
      "7982/7982 [==============================] - 1s 169us/step - loss: 0.1181 - acc: 0.9567 - val_loss: 1.0451 - val_acc: 0.8050\n"
     ]
    }
   ],
   "source": [
    "history = model.fit(partial_x_train, #훈련용 데이터로 모델에 적용\n",
    "                   partial_y_train,\n",
    "                   epochs=20, #20회 반복\n",
    "                   batch_size=512, #한번 들어가는 데이터 셋 크기가 512개씩\n",
    "                   validation_data=(x_val,y_val)) #검증은 검증용 데이터를 사용하여 함"
   ]
  },
  {
   "cell_type": "code",
   "execution_count": 9,
   "metadata": {},
   "outputs": [
    {
     "data": {
      "image/png": "[encoded data removed]",
      "text/plain": [
       "<Figure size 432x288 with 1 Axes>"
      ]
     },
     "metadata": {
      "needs_background": "light"
     },
     "output_type": "display_data"
    }
   ],
   "source": [
    "import matplotlib.pyplot as plt\n",
    "%matplotlib inline\n",
    "loss = history.history['loss']\n",
    "val_loss = history.history['val_loss']\n",
    "\n",
    "epochs = range(1, len(loss)+1)\n",
    "\n",
    "plt.plot(epochs, loss, 'bo', label='Training loss') #훈련용 loss 값\n",
    "plt.plot(epochs, val_loss, 'b', label='Validation loss') #검증용 loss 값\n",
    "\n",
    "plt.title('Training and validation loss')\n",
    "plt.xlabel('Epochs')\n",
    "plt.ylabel('Loss')\n",
    "plt.legend()\n",
    "\n",
    "plt.show()"
   ]
  },
  {
   "cell_type": "code",
   "execution_count": 15,
   "metadata": {},
   "outputs": [
    {
     "data": {
      "image/png": "[encoded data removed]",
      "text/plain": [
       "<Figure size 432x288 with 1 Axes>"
      ]
     },
     "metadata": {
      "needs_background": "light"
     },
     "output_type": "display_data"
    }
   ],
   "source": [
    "plt.clf()\n",
    "\n",
    "acc = history.history['acc']\n",
    "val_acc = history.history['val_acc']\n",
    "\n",
    "plt.plot(epochs, acc, 'bo', label='Training acc')\n",
    "plt.plot(epochs, val_acc, 'b', label='Validation acc')\n",
    "plt.title('Training and Validation acc')\n",
    "plt.xlabel('Epochs')\n",
    "plt.ylabel('Accuracy')\n",
    "plt.legend()\n",
    "plt.show()\n",
    "# 9epochs 쯤에서 과대적합이 진행되는 것을 볼 수 있음"
   ]
  },
  {
   "cell_type": "code",
   "execution_count": 16,
   "metadata": {},
   "outputs": [
    {
     "name": "stdout",
     "output_type": "stream",
     "text": [
      "Train on 7982 samples, validate on 1000 samples\n",
      "Epoch 1/9\n",
      "7982/7982 [==============================] - 2s 212us/step - loss: 2.5960 - acc: 0.4861 - val_loss: 1.7372 - val_acc: 0.6600\n",
      "Epoch 2/9\n",
      "7982/7982 [==============================] - 1s 171us/step - loss: 1.4319 - acc: 0.6997 - val_loss: 1.3088 - val_acc: 0.7130\n",
      "Epoch 3/9\n",
      "7982/7982 [==============================] - 1s 168us/step - loss: 1.0833 - acc: 0.7608 - val_loss: 1.1293 - val_acc: 0.7520\n",
      "Epoch 4/9\n",
      "7982/7982 [==============================] - 1s 169us/step - loss: 0.8639 - acc: 0.8106 - val_loss: 1.0333 - val_acc: 0.7680\n",
      "Epoch 5/9\n",
      "7982/7982 [==============================] - 1s 179us/step - loss: 0.6888 - acc: 0.8488 - val_loss: 0.9830 - val_acc: 0.7920\n",
      "Epoch 6/9\n",
      "7982/7982 [==============================] - 1s 172us/step - loss: 0.5562 - acc: 0.8849 - val_loss: 0.9174 - val_acc: 0.8090\n",
      "Epoch 7/9\n",
      "7982/7982 [==============================] - 1s 171us/step - loss: 0.4455 - acc: 0.9083 - val_loss: 0.8969 - val_acc: 0.8140\n",
      "Epoch 8/9\n",
      "7982/7982 [==============================] - 1s 168us/step - loss: 0.3587 - acc: 0.9255 - val_loss: 0.8773 - val_acc: 0.8260\n",
      "Epoch 9/9\n",
      "7982/7982 [==============================] - 1s 171us/step - loss: 0.2978 - acc: 0.9351 - val_loss: 0.9460 - val_acc: 0.8000\n",
      "2246/2246 [==============================] - 1s 237us/step\n"
     ]
    }
   ],
   "source": [
    "model = models.Sequential()# 모델 층 생성\n",
    "model.add(layers.Dense(64, activation='relu', input_shape=(10000,)))#총 10000개의 특징이 들어 갈 예정(데이터의 갯수가 아님)\n",
    "model.add(layers.Dense(64, activation='relu'))\n",
    "model.add(layers.Dense(46, activation='softmax'))\n",
    "\n",
    "model.compile(optimizer='rmsprop',\n",
    "             loss='categorical_crossentropy',\n",
    "              #두 확률 분포 사이의 거리를 측정 (네트워크가 출력한 확률 분포와 진짜 레이블의 분포 사이 거리)\n",
    "             metrics=['accuracy'])\n",
    "\n",
    "model.fit(partial_x_train, #훈련용 데이터로 모델에 적용\n",
    "        partial_y_train,\n",
    "        epochs=9, #9회 반복 , 20회는 너무 과함\n",
    "        batch_size=512, #한번 들어가는 데이터 셋 크기가 512개씩\n",
    "        validation_data=(x_val,y_val)) #검증은 검증용 데이터를 사용하여 함\n",
    "\n",
    "results = model.evaluate(x_test, one_hot_test_labels)"
   ]
  },
  {
   "cell_type": "code",
   "execution_count": 17,
   "metadata": {},
   "outputs": [
    {
     "data": {
      "text/plain": [
       "[1.040987428340759, 0.7689225289934146]"
      ]
     },
     "execution_count": 17,
     "metadata": {},
     "output_type": "execute_result"
    }
   ],
   "source": [
    "results"
   ]
  },
  {
   "cell_type": "code",
   "execution_count": 18,
   "metadata": {},
   "outputs": [
    {
     "name": "stdout",
     "output_type": "stream",
     "text": [
      "[False False False ... False False False]\n"
     ]
    },
    {
     "data": {
      "text/plain": [
       "0.18388245770258238"
      ]
     },
     "execution_count": 18,
     "metadata": {},
     "output_type": "execute_result"
    }
   ],
   "source": [
    "import copy\n",
    "\n",
    "test_labels_copy = copy.copy(test_labels)\n",
    "np.random.shuffle(test_labels_copy)\n",
    "hits_array = np.array(test_labels)==np.array(test_labels_copy)\n",
    "print(hits_array)\n",
    "float(np.sum(hits_array)) / len(test_labels)#섞어서 그대로인 부분의 확률"
   ]
  },
  {
   "cell_type": "code",
   "execution_count": 21,
   "metadata": {},
   "outputs": [],
   "source": [
    "predictions = model.predict(x_test)"
   ]
  },
  {
   "cell_type": "code",
   "execution_count": 27,
   "metadata": {},
   "outputs": [
    {
     "name": "stdout",
     "output_type": "stream",
     "text": [
      "3\n",
      "(2246, 46)\n",
      "0.9999999\n",
      "1.0000001\n",
      "[4.3419291e-06 6.6993257e-06 2.3398679e-08 9.8428702e-01 1.4351179e-02\n",
      " 1.2157368e-06 6.7509613e-06 8.7570124e-06 2.5329026e-04 4.4363300e-05\n",
      " 2.6466355e-06 2.0623817e-04 1.2333207e-05 7.4814066e-05 2.9434711e-06\n",
      " 5.7334648e-07 5.5965003e-05 3.1047311e-05 3.4872399e-05 2.7974083e-05\n",
      " 2.0207527e-04 5.9975273e-06 6.0269036e-07 3.0289577e-05 1.5604417e-06\n",
      " 3.1642203e-06 3.7980094e-08 4.3392465e-06 3.6777129e-07 9.4910365e-06\n",
      " 1.6577023e-05 6.6832609e-07 3.4401182e-06 6.0988128e-07 4.7451744e-05\n",
      " 1.5474430e-05 1.2308093e-04 2.7168560e-06 4.6934598e-08 6.7531997e-05\n",
      " 2.5792142e-06 1.1498823e-06 4.9153670e-07 4.6144170e-05 8.9642475e-07\n",
      " 7.1441235e-08]\n"
     ]
    }
   ],
   "source": [
    "print(np.argmax(predictions[0]))\n",
    "print(predictions.shape)# 2246개의 뉴스기사에 대한 46개(데이터갯수)의 토픽(클래스)에 대한 확률 분포\n",
    "print(np.sum(predictions[0]))\n",
    "print(np.sum(predictions[1]))\n",
    "print(predictions[0])"
   ]
  },
  {
   "cell_type": "code",
   "execution_count": 28,
   "metadata": {},
   "outputs": [
    {
     "name": "stdout",
     "output_type": "stream",
     "text": [
      "Train on 7982 samples, validate on 1000 samples\n",
      "Epoch 1/20\n",
      "7982/7982 [==============================] - 3s 334us/step - loss: 3.5757 - acc: 0.0197 - val_loss: 3.3554 - val_acc: 0.0380\n",
      "Epoch 2/20\n",
      "7982/7982 [==============================] - 1s 174us/step - loss: 3.1989 - acc: 0.0948 - val_loss: 3.0495 - val_acc: 0.1730\n",
      "Epoch 3/20\n",
      "7982/7982 [==============================] - 1s 170us/step - loss: 2.8575 - acc: 0.2379 - val_loss: 2.7202 - val_acc: 0.4770\n",
      "Epoch 4/20\n",
      "7982/7982 [==============================] - 1s 172us/step - loss: 2.4784 - acc: 0.5307 - val_loss: 2.3585 - val_acc: 0.5380\n",
      "Epoch 5/20\n",
      "7982/7982 [==============================] - 1s 171us/step - loss: 2.1036 - acc: 0.5599 - val_loss: 2.0493 - val_acc: 0.5600\n",
      "Epoch 6/20\n",
      "7982/7982 [==============================] - 1s 169us/step - loss: 1.8150 - acc: 0.5717 - val_loss: 1.8461 - val_acc: 0.5590\n",
      "Epoch 7/20\n",
      "7982/7982 [==============================] - 1s 172us/step - loss: 1.6280 - acc: 0.5732 - val_loss: 1.7283 - val_acc: 0.5600\n",
      "Epoch 8/20\n",
      "7982/7982 [==============================] - 1s 169us/step - loss: 1.5064 - acc: 0.5738 - val_loss: 1.6574 - val_acc: 0.5640\n",
      "Epoch 9/20\n",
      "7982/7982 [==============================] - 1s 175us/step - loss: 1.4154 - acc: 0.5763 - val_loss: 1.6216 - val_acc: 0.5590\n",
      "Epoch 10/20\n",
      "7982/7982 [==============================] - 1s 176us/step - loss: 1.3408 - acc: 0.5821 - val_loss: 1.5934 - val_acc: 0.5780\n",
      "Epoch 11/20\n",
      "7982/7982 [==============================] - 1s 167us/step - loss: 1.2722 - acc: 0.6406 - val_loss: 1.5509 - val_acc: 0.6150\n",
      "Epoch 12/20\n",
      "7982/7982 [==============================] - 1s 171us/step - loss: 1.2098 - acc: 0.6572 - val_loss: 1.5214 - val_acc: 0.6300\n",
      "Epoch 13/20\n",
      "7982/7982 [==============================] - 1s 168us/step - loss: 1.1519 - acc: 0.6662 - val_loss: 1.5138 - val_acc: 0.6300\n",
      "Epoch 14/20\n",
      "7982/7982 [==============================] - 1s 170us/step - loss: 1.0986 - acc: 0.6710 - val_loss: 1.5106 - val_acc: 0.6310\n",
      "Epoch 15/20\n",
      "7982/7982 [==============================] - 1s 169us/step - loss: 1.0513 - acc: 0.6874 - val_loss: 1.4929 - val_acc: 0.6430\n",
      "Epoch 16/20\n",
      "7982/7982 [==============================] - 1s 168us/step - loss: 1.0105 - acc: 0.7155 - val_loss: 1.5102 - val_acc: 0.6470\n",
      "Epoch 17/20\n",
      "7982/7982 [==============================] - 1s 174us/step - loss: 0.9771 - acc: 0.7246 - val_loss: 1.5188 - val_acc: 0.6500\n",
      "Epoch 18/20\n",
      "7982/7982 [==============================] - 1s 171us/step - loss: 0.9489 - acc: 0.7360 - val_loss: 1.5293 - val_acc: 0.6520\n",
      "Epoch 19/20\n",
      "7982/7982 [==============================] - 1s 171us/step - loss: 0.9219 - acc: 0.7434 - val_loss: 1.5237 - val_acc: 0.6590\n",
      "Epoch 20/20\n",
      "7982/7982 [==============================] - 1s 168us/step - loss: 0.8996 - acc: 0.7494 - val_loss: 1.5523 - val_acc: 0.6630\n",
      "2246/2246 [==============================] - 0s 213us/step\n"
     ]
    }
   ],
   "source": [
    "model = models.Sequential()# 모델 층 생성\n",
    "model.add(layers.Dense(64, activation='relu', input_shape=(10000,)))#총 10000개의 특징이 들어 갈 예정(데이터의 갯수가 아님)\n",
    "model.add(layers.Dense(4, activation='relu'))\n",
    "model.add(layers.Dense(46, activation='softmax'))\n",
    "\n",
    "model.compile(optimizer='rmsprop',\n",
    "             loss='categorical_crossentropy',\n",
    "              #두 확률 분포 사이의 거리를 측정 (네트워크가 출력한 확률 분포와 진짜 레이블의 분포 사이 거리)\n",
    "             metrics=['accuracy'])\n",
    "\n",
    "model.fit(partial_x_train, #훈련용 데이터로 모델에 적용\n",
    "        partial_y_train,\n",
    "        epochs=20, #9회 반복 , 20회는 너무 과함\n",
    "        batch_size=512, #한번 들어가는 데이터 셋 크기가 512개씩\n",
    "        validation_data=(x_val,y_val)) #검증은 검증용 데이터를 사용하여 함\n",
    "\n",
    "results = model.evaluate(x_test, one_hot_test_labels)"
   ]
  },
  {
   "cell_type": "code",
   "execution_count": 29,
   "metadata": {},
   "outputs": [
    {
     "data": {
      "text/plain": [
       "[1.60132905296842, 0.6331255565449688]"
      ]
     },
     "execution_count": 29,
     "metadata": {},
     "output_type": "execute_result"
    }
   ],
   "source": [
    "results"
   ]
  },
  {
   "cell_type": "code",
   "execution_count": null,
   "metadata": {},
   "outputs": [],
   "source": [
    "#은닉층에서 출력층의 노드가 48인데 은닉층을 4로 하여 손실이 많이 일어남 이로써 정확도가 떨어지는걸 볼 수 있음\n",
    "#즉 은닉층의 노드 수는 출력층보다 많은 것이 기본적이론( 너무적어도 안된다는 말)\n",
    "#병목현상이 일어나지 않게 하기위함"
   ]
  }
 ],
 "metadata": {
  "kernelspec": {
   "display_name": "Python 3",
   "language": "python",
   "name": "python3"
  },
  "language_info": {
   "codemirror_mode": {
    "name": "ipython",
    "version": 3
   },
   "file_extension": ".py",
   "mimetype": "text/x-python",
   "name": "python",
   "nbconvert_exporter": "python",
   "pygments_lexer": "ipython3",
   "version": "3.7.4"
  }
 },
 "nbformat": 4,
 "nbformat_minor": 2
}
