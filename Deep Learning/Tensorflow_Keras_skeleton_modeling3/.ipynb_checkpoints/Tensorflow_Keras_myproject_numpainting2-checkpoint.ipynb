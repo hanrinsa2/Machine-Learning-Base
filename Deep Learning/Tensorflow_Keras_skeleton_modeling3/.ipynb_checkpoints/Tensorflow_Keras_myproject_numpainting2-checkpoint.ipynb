{
 "cells": [
  {
   "cell_type": "code",
   "execution_count": 1,
   "metadata": {},
   "outputs": [],
   "source": [
    "import os, shutil\n",
    "\n",
    "base_dir = '세선화원본'\n",
    "\n",
    "\n",
    "train_dir = os.path.join(base_dir, 'train')\n",
    "validation_dir = os.path.join(base_dir, 'validation')\n",
    "test_dir = os.path.join(base_dir, 'test')\n",
    "\n",
    "\n",
    "train_0_dir = os.path.join(train_dir, '0')\n",
    "train_1_dir = os.path.join(train_dir, '1')\n",
    "train_2_dir = os.path.join(train_dir, '2')\n",
    "train_3_dir = os.path.join(train_dir, '3')\n",
    "train_4_dir = os.path.join(train_dir, '4')\n",
    "train_5_dir = os.path.join(train_dir, '5')\n",
    "train_6_dir = os.path.join(train_dir, '6')\n",
    "train_7_dir = os.path.join(train_dir, '7')\n",
    "train_8_dir = os.path.join(train_dir, '8')\n",
    "train_9_dir = os.path.join(train_dir, '9')\n",
    "\n",
    "\n",
    "validation_0_dir = os.path.join(validation_dir, '0')\n",
    "validation_1_dir = os.path.join(validation_dir, '1')\n",
    "validation_2_dir = os.path.join(validation_dir, '2')\n",
    "validation_3_dir = os.path.join(validation_dir, '3')\n",
    "validation_4_dir = os.path.join(validation_dir, '4')\n",
    "validation_5_dir = os.path.join(validation_dir, '5')\n",
    "validation_6_dir = os.path.join(validation_dir, '6')\n",
    "validation_7_dir = os.path.join(validation_dir, '7')\n",
    "validation_8_dir = os.path.join(validation_dir, '8')\n",
    "validation_9_dir = os.path.join(validation_dir, '9')\n",
    "\n",
    "\n",
    "test_0_dir = os.path.join(test_dir, '0')\n",
    "test_1_dir = os.path.join(test_dir, '1')\n",
    "test_2_dir = os.path.join(test_dir, '2')\n",
    "test_3_dir = os.path.join(test_dir, '3')\n",
    "test_4_dir = os.path.join(test_dir, '4')\n",
    "test_5_dir = os.path.join(test_dir, '5')\n",
    "test_6_dir = os.path.join(test_dir, '6')\n",
    "test_7_dir = os.path.join(test_dir, '7')\n",
    "test_8_dir = os.path.join(test_dir, '8')\n",
    "test_9_dir = os.path.join(test_dir, '9')"
   ]
  },
  {
   "cell_type": "code",
   "execution_count": 2,
   "metadata": {},
   "outputs": [
    {
     "name": "stdout",
     "output_type": "stream",
     "text": [
      "훈련용 0 이미지 전체 개수 :  5000\n",
      "검증용 0 이미지 전체 개수 :  2300\n",
      "테스트용 0 이미지 전체 개수 :  1600\n"
     ]
    }
   ],
   "source": [
    "print('훈련용 0 이미지 전체 개수 : ', len(os.listdir(train_0_dir)))\n",
    "\n",
    "print('검증용 0 이미지 전체 개수 : ', len(os.listdir(validation_0_dir)))\n",
    "\n",
    "print('테스트용 0 이미지 전체 개수 : ', len(os.listdir(test_0_dir)))\n"
   ]
  },
  {
   "cell_type": "code",
   "execution_count": 3,
   "metadata": {},
   "outputs": [
    {
     "name": "stderr",
     "output_type": "stream",
     "text": [
      "Using TensorFlow backend.\n",
      "WARNING: Logging before flag parsing goes to stderr.\n",
      "W1024 15:38:04.446381 29884 deprecation_wrapper.py:119] From C:\\Users\\SH\\Anaconda3\\envs\\AI\\lib\\site-packages\\keras-2.2.5-py3.7.egg\\keras\\backend\\tensorflow_backend.py:67: The name tf.get_default_graph is deprecated. Please use tf.compat.v1.get_default_graph instead.\n",
      "\n",
      "W1024 15:38:04.475234 29884 deprecation_wrapper.py:119] From C:\\Users\\SH\\Anaconda3\\envs\\AI\\lib\\site-packages\\keras-2.2.5-py3.7.egg\\keras\\backend\\tensorflow_backend.py:548: The name tf.placeholder is deprecated. Please use tf.compat.v1.placeholder instead.\n",
      "\n",
      "W1024 15:38:04.478227 29884 deprecation_wrapper.py:119] From C:\\Users\\SH\\Anaconda3\\envs\\AI\\lib\\site-packages\\keras-2.2.5-py3.7.egg\\keras\\backend\\tensorflow_backend.py:4439: The name tf.random_uniform is deprecated. Please use tf.random.uniform instead.\n",
      "\n",
      "W1024 15:38:04.512136 29884 deprecation_wrapper.py:119] From C:\\Users\\SH\\Anaconda3\\envs\\AI\\lib\\site-packages\\keras-2.2.5-py3.7.egg\\keras\\backend\\tensorflow_backend.py:4274: The name tf.nn.max_pool is deprecated. Please use tf.nn.max_pool2d instead.\n",
      "\n",
      "W1024 15:38:04.602937 29884 deprecation_wrapper.py:119] From C:\\Users\\SH\\Anaconda3\\envs\\AI\\lib\\site-packages\\keras-2.2.5-py3.7.egg\\keras\\backend\\tensorflow_backend.py:149: The name tf.placeholder_with_default is deprecated. Please use tf.compat.v1.placeholder_with_default instead.\n",
      "\n",
      "W1024 15:38:04.628291 29884 deprecation.py:506] From C:\\Users\\SH\\Anaconda3\\envs\\AI\\lib\\site-packages\\keras-2.2.5-py3.7.egg\\keras\\backend\\tensorflow_backend.py:3740: calling dropout (from tensorflow.python.ops.nn_ops) with keep_prob is deprecated and will be removed in a future version.\n",
      "Instructions for updating:\n",
      "Please use `rate` instead of `keep_prob`. Rate should be set to `rate = 1 - keep_prob`.\n"
     ]
    }
   ],
   "source": [
    "from keras import layers\n",
    "from keras import models\n",
    "from keras.layers import Dropout\n",
    "model = models.Sequential()\n",
    "model.add(layers.Conv2D(64,(8,8), activation='relu',\n",
    "                       input_shape=(50,50,3)))\n",
    "model.add(layers.MaxPooling2D((2,2),(2,2)))\n",
    "model.add(layers.Conv2D(128,(5,5),activation='relu'))\n",
    "model.add(layers.MaxPooling2D((2,2),(2,2)))\n",
    "model.add(layers.Conv2D(256,(3,3),activation='relu'))\n",
    "model.add(layers.MaxPooling2D((2,2),(2,2)))\n",
    "\n",
    "model.add(layers.Flatten())\n",
    "model.add(layers.Dense(1024,activation='relu'))\n",
    "model.add(Dropout(0.3))\n",
    "model.add(layers.Dense(512,activation='relu'))\n",
    "model.add(Dropout(0.3))\n",
    "model.add(layers.Dense(128,activation='relu'))\n",
    "model.add(Dropout(0.3))\n",
    "model.add(layers.Dense(10,activation='softmax'))"
   ]
  },
  {
   "cell_type": "code",
   "execution_count": 4,
   "metadata": {},
   "outputs": [
    {
     "name": "stderr",
     "output_type": "stream",
     "text": [
      "W1024 15:38:06.774136 29884 deprecation_wrapper.py:119] From C:\\Users\\SH\\Anaconda3\\envs\\AI\\lib\\site-packages\\keras-2.2.5-py3.7.egg\\keras\\optimizers.py:793: The name tf.train.Optimizer is deprecated. Please use tf.compat.v1.train.Optimizer instead.\n",
      "\n",
      "W1024 15:38:06.823999 29884 deprecation_wrapper.py:119] From C:\\Users\\SH\\Anaconda3\\envs\\AI\\lib\\site-packages\\keras-2.2.5-py3.7.egg\\keras\\backend\\tensorflow_backend.py:3583: The name tf.log is deprecated. Please use tf.math.log instead.\n",
      "\n"
     ]
    }
   ],
   "source": [
    "from keras import optimizers\n",
    "\n",
    "model.compile(loss='categorical_crossentropy',\n",
    "             optimizer='adam',\n",
    "             metrics=['acc'])\n"
   ]
  },
  {
   "cell_type": "code",
   "execution_count": 5,
   "metadata": {},
   "outputs": [
    {
     "name": "stdout",
     "output_type": "stream",
     "text": [
      "Found 50000 images belonging to 10 classes.\n",
      "Found 23000 images belonging to 10 classes.\n"
     ]
    }
   ],
   "source": [
    "from keras.preprocessing.image import ImageDataGenerator\n",
    "\n",
    "train_datagen = ImageDataGenerator(rescale=1./255, rotation_range=45, shear_range=0.05)\n",
    "test_datagen = ImageDataGenerator(rescale=1./255)\n",
    "\n",
    "train_generator = train_datagen.flow_from_directory(train_dir, #타깃 디렉터리\n",
    "                                                    target_size=(50,50), #모든 이미지 150X150으로 변경\n",
    "                                                    batch_size=32, #\n",
    "                                                    class_mode='categorical')\n",
    "\n",
    "validation_generator = test_datagen.flow_from_directory(validation_dir, target_size=(50,50),batch_size=32, class_mode='categorical')"
   ]
  },
  {
   "cell_type": "code",
   "execution_count": 6,
   "metadata": {
    "scrolled": false
   },
   "outputs": [
    {
     "name": "stderr",
     "output_type": "stream",
     "text": [
      "W1024 15:38:41.043483 29884 deprecation.py:323] From C:\\Users\\SH\\Anaconda3\\envs\\AI\\lib\\site-packages\\tensorflow\\python\\ops\\math_grad.py:1250: add_dispatch_support.<locals>.wrapper (from tensorflow.python.ops.array_ops) is deprecated and will be removed in a future version.\n",
      "Instructions for updating:\n",
      "Use tf.where in 2.0, which has the same broadcast rule as np.where\n"
     ]
    },
    {
     "name": "stdout",
     "output_type": "stream",
     "text": [
      "Epoch 1/100\n",
      "100/100 [==============================] - 16s 155ms/step - loss: 2.3005 - acc: 0.1003 - val_loss: 2.3631 - val_acc: 0.1187\n",
      "Epoch 2/100\n",
      "100/100 [==============================] - 10s 100ms/step - loss: 2.0384 - acc: 0.2512 - val_loss: 1.5416 - val_acc: 0.4888\n",
      "Epoch 3/100\n",
      "100/100 [==============================] - 10s 100ms/step - loss: 1.4177 - acc: 0.5156 - val_loss: 0.9967 - val_acc: 0.6800\n",
      "Epoch 4/100\n",
      "100/100 [==============================] - 10s 100ms/step - loss: 1.0504 - acc: 0.6519 - val_loss: 0.8366 - val_acc: 0.7588\n",
      "Epoch 5/100\n",
      "100/100 [==============================] - 10s 100ms/step - loss: 0.7799 - acc: 0.7603 - val_loss: 0.6467 - val_acc: 0.8150\n",
      "Epoch 6/100\n",
      "100/100 [==============================] - 10s 101ms/step - loss: 0.6318 - acc: 0.8019 - val_loss: 0.5399 - val_acc: 0.8425\n",
      "Epoch 7/100\n",
      "100/100 [==============================] - 10s 101ms/step - loss: 0.5817 - acc: 0.8153 - val_loss: 0.5341 - val_acc: 0.8500\n",
      "Epoch 8/100\n",
      "100/100 [==============================] - 10s 102ms/step - loss: 0.5174 - acc: 0.8350 - val_loss: 0.4914 - val_acc: 0.8562\n",
      "Epoch 9/100\n",
      "100/100 [==============================] - 10s 101ms/step - loss: 0.4801 - acc: 0.8528 - val_loss: 0.4198 - val_acc: 0.8862\n",
      "Epoch 10/100\n",
      "100/100 [==============================] - 10s 101ms/step - loss: 0.4763 - acc: 0.8494 - val_loss: 0.4376 - val_acc: 0.8625\n",
      "Epoch 11/100\n",
      "100/100 [==============================] - 10s 100ms/step - loss: 0.4199 - acc: 0.8691 - val_loss: 0.5082 - val_acc: 0.8512\n",
      "Epoch 12/100\n",
      "100/100 [==============================] - 10s 100ms/step - loss: 0.4127 - acc: 0.8753 - val_loss: 0.3840 - val_acc: 0.8975\n",
      "Epoch 13/100\n",
      "100/100 [==============================] - 10s 100ms/step - loss: 0.4071 - acc: 0.8688 - val_loss: 0.4001 - val_acc: 0.8950\n",
      "Epoch 14/100\n",
      "100/100 [==============================] - 10s 101ms/step - loss: 0.3567 - acc: 0.8894 - val_loss: 0.3536 - val_acc: 0.8838\n",
      "Epoch 15/100\n",
      "100/100 [==============================] - 10s 100ms/step - loss: 0.3616 - acc: 0.8894 - val_loss: 0.3125 - val_acc: 0.9075\n",
      "Epoch 16/100\n",
      "100/100 [==============================] - 10s 102ms/step - loss: 0.3419 - acc: 0.8934 - val_loss: 0.4536 - val_acc: 0.8562\n",
      "Epoch 17/100\n",
      "100/100 [==============================] - 10s 101ms/step - loss: 0.3160 - acc: 0.9072 - val_loss: 0.3484 - val_acc: 0.9137\n",
      "Epoch 18/100\n",
      "100/100 [==============================] - 10s 101ms/step - loss: 0.3214 - acc: 0.8969 - val_loss: 0.4027 - val_acc: 0.8900\n",
      "Epoch 19/100\n",
      "100/100 [==============================] - 10s 105ms/step - loss: 0.3131 - acc: 0.9116 - val_loss: 0.3716 - val_acc: 0.9000\n",
      "Epoch 20/100\n",
      "100/100 [==============================] - 10s 101ms/step - loss: 0.3274 - acc: 0.9059 - val_loss: 0.3387 - val_acc: 0.8988\n",
      "Epoch 21/100\n",
      "100/100 [==============================] - 10s 101ms/step - loss: 0.2973 - acc: 0.9094 - val_loss: 0.3715 - val_acc: 0.8850\n",
      "Epoch 22/100\n",
      "100/100 [==============================] - 10s 101ms/step - loss: 0.3174 - acc: 0.8991 - val_loss: 0.2931 - val_acc: 0.9012\n",
      "Epoch 23/100\n",
      "100/100 [==============================] - 10s 101ms/step - loss: 0.2493 - acc: 0.9244 - val_loss: 0.2200 - val_acc: 0.9325\n",
      "Epoch 24/100\n",
      "100/100 [==============================] - 10s 102ms/step - loss: 0.2775 - acc: 0.9100 - val_loss: 0.3270 - val_acc: 0.9075\n",
      "Epoch 25/100\n",
      "100/100 [==============================] - 10s 101ms/step - loss: 0.2772 - acc: 0.9209 - val_loss: 0.3055 - val_acc: 0.9163\n",
      "Epoch 26/100\n",
      "100/100 [==============================] - 10s 102ms/step - loss: 0.2659 - acc: 0.9219 - val_loss: 0.3241 - val_acc: 0.9062\n",
      "Epoch 27/100\n",
      "100/100 [==============================] - 10s 102ms/step - loss: 0.2647 - acc: 0.9237 - val_loss: 0.3176 - val_acc: 0.9062\n",
      "Epoch 28/100\n",
      "100/100 [==============================] - 10s 103ms/step - loss: 0.2666 - acc: 0.9278 - val_loss: 0.3156 - val_acc: 0.8950\n",
      "Epoch 29/100\n",
      "100/100 [==============================] - 10s 103ms/step - loss: 0.2422 - acc: 0.9247 - val_loss: 0.3111 - val_acc: 0.9053\n",
      "Epoch 30/100\n",
      "100/100 [==============================] - 10s 101ms/step - loss: 0.2423 - acc: 0.9269 - val_loss: 0.2439 - val_acc: 0.9313\n",
      "Epoch 31/100\n",
      "100/100 [==============================] - 10s 102ms/step - loss: 0.2491 - acc: 0.9291 - val_loss: 0.3470 - val_acc: 0.9038\n",
      "Epoch 32/100\n",
      "100/100 [==============================] - 10s 102ms/step - loss: 0.2479 - acc: 0.9253 - val_loss: 0.3067 - val_acc: 0.9137\n",
      "Epoch 33/100\n",
      "100/100 [==============================] - 10s 102ms/step - loss: 0.2267 - acc: 0.9331 - val_loss: 0.3680 - val_acc: 0.9125\n",
      "Epoch 34/100\n",
      "100/100 [==============================] - 10s 102ms/step - loss: 0.2502 - acc: 0.9228 - val_loss: 0.3352 - val_acc: 0.9137\n",
      "Epoch 35/100\n",
      "100/100 [==============================] - 10s 100ms/step - loss: 0.2248 - acc: 0.9356 - val_loss: 0.3381 - val_acc: 0.9113\n",
      "Epoch 36/100\n",
      "100/100 [==============================] - 10s 100ms/step - loss: 0.2222 - acc: 0.9322 - val_loss: 0.3229 - val_acc: 0.9000\n",
      "Epoch 37/100\n",
      "100/100 [==============================] - 10s 101ms/step - loss: 0.1901 - acc: 0.9400 - val_loss: 0.2605 - val_acc: 0.9325\n",
      "Epoch 38/100\n",
      "100/100 [==============================] - 10s 102ms/step - loss: 0.2433 - acc: 0.9225 - val_loss: 0.2654 - val_acc: 0.9250\n",
      "Epoch 39/100\n",
      "100/100 [==============================] - 10s 101ms/step - loss: 0.2401 - acc: 0.9281 - val_loss: 0.2735 - val_acc: 0.9213\n",
      "Epoch 40/100\n",
      "100/100 [==============================] - 10s 101ms/step - loss: 0.2049 - acc: 0.9384 - val_loss: 0.2491 - val_acc: 0.9350\n",
      "Epoch 41/100\n",
      "100/100 [==============================] - 10s 101ms/step - loss: 0.2291 - acc: 0.9363 - val_loss: 0.2405 - val_acc: 0.9275\n",
      "Epoch 42/100\n",
      "100/100 [==============================] - 10s 101ms/step - loss: 0.1815 - acc: 0.9456 - val_loss: 0.2825 - val_acc: 0.9150\n",
      "Epoch 43/100\n",
      "100/100 [==============================] - 10s 101ms/step - loss: 0.2466 - acc: 0.9228 - val_loss: 0.3129 - val_acc: 0.9100\n",
      "Epoch 44/100\n",
      "100/100 [==============================] - 10s 101ms/step - loss: 0.1961 - acc: 0.9444 - val_loss: 0.2718 - val_acc: 0.9213\n",
      "Epoch 45/100\n",
      "100/100 [==============================] - 10s 101ms/step - loss: 0.2136 - acc: 0.9378 - val_loss: 0.2852 - val_acc: 0.9050\n",
      "Epoch 46/100\n",
      "100/100 [==============================] - 10s 101ms/step - loss: 0.2016 - acc: 0.9422 - val_loss: 0.2562 - val_acc: 0.9213\n",
      "Epoch 47/100\n",
      "100/100 [==============================] - 10s 101ms/step - loss: 0.2061 - acc: 0.9431 - val_loss: 0.3101 - val_acc: 0.9025\n",
      "Epoch 48/100\n",
      "100/100 [==============================] - 10s 100ms/step - loss: 0.1839 - acc: 0.9434 - val_loss: 0.2438 - val_acc: 0.9213\n",
      "Epoch 49/100\n",
      "100/100 [==============================] - 10s 100ms/step - loss: 0.1634 - acc: 0.9506 - val_loss: 0.2698 - val_acc: 0.9225\n",
      "Epoch 50/100\n",
      "100/100 [==============================] - 10s 101ms/step - loss: 0.1756 - acc: 0.9419 - val_loss: 0.2966 - val_acc: 0.9250\n",
      "Epoch 51/100\n",
      "100/100 [==============================] - 10s 100ms/step - loss: 0.2242 - acc: 0.9353 - val_loss: 0.2868 - val_acc: 0.9287\n",
      "Epoch 52/100\n",
      "100/100 [==============================] - 10s 101ms/step - loss: 0.1971 - acc: 0.9409 - val_loss: 0.3616 - val_acc: 0.9087\n",
      "Epoch 53/100\n",
      "100/100 [==============================] - 10s 101ms/step - loss: 0.1692 - acc: 0.9522 - val_loss: 0.3626 - val_acc: 0.9087\n",
      "Epoch 54/100\n",
      "100/100 [==============================] - 10s 101ms/step - loss: 0.1822 - acc: 0.9459 - val_loss: 0.2789 - val_acc: 0.9363\n",
      "Epoch 55/100\n",
      "100/100 [==============================] - 10s 101ms/step - loss: 0.2015 - acc: 0.9425 - val_loss: 0.2370 - val_acc: 0.9337\n",
      "Epoch 56/100\n",
      "100/100 [==============================] - 10s 101ms/step - loss: 0.1743 - acc: 0.9463 - val_loss: 0.3038 - val_acc: 0.9250\n",
      "Epoch 57/100\n",
      "100/100 [==============================] - 10s 102ms/step - loss: 0.2015 - acc: 0.9441 - val_loss: 0.2564 - val_acc: 0.9263\n",
      "Epoch 58/100\n",
      "100/100 [==============================] - 10s 103ms/step - loss: 0.2025 - acc: 0.9447 - val_loss: 0.2370 - val_acc: 0.9318\n",
      "Epoch 59/100\n",
      "100/100 [==============================] - 10s 104ms/step - loss: 0.2118 - acc: 0.9422 - val_loss: 0.2124 - val_acc: 0.9337\n",
      "Epoch 60/100\n",
      "100/100 [==============================] - 10s 104ms/step - loss: 0.1672 - acc: 0.9534 - val_loss: 0.2119 - val_acc: 0.9325\n"
     ]
    },
    {
     "name": "stdout",
     "output_type": "stream",
     "text": [
      "Epoch 61/100\n",
      "100/100 [==============================] - 10s 101ms/step - loss: 0.1837 - acc: 0.9472 - val_loss: 0.2797 - val_acc: 0.9200\n",
      "Epoch 62/100\n",
      "100/100 [==============================] - 10s 101ms/step - loss: 0.1880 - acc: 0.9456 - val_loss: 0.2468 - val_acc: 0.9325\n",
      "Epoch 63/100\n",
      "100/100 [==============================] - 10s 101ms/step - loss: 0.2010 - acc: 0.9406 - val_loss: 0.2655 - val_acc: 0.9263\n",
      "Epoch 64/100\n",
      "100/100 [==============================] - 10s 101ms/step - loss: 0.1784 - acc: 0.9481 - val_loss: 0.2625 - val_acc: 0.9150\n",
      "Epoch 65/100\n",
      "100/100 [==============================] - 10s 101ms/step - loss: 0.1836 - acc: 0.9450 - val_loss: 0.2750 - val_acc: 0.9163\n",
      "Epoch 66/100\n",
      "100/100 [==============================] - 10s 101ms/step - loss: 0.1873 - acc: 0.9463 - val_loss: 0.2449 - val_acc: 0.9250\n",
      "Epoch 67/100\n",
      "100/100 [==============================] - 10s 101ms/step - loss: 0.1728 - acc: 0.9516 - val_loss: 0.2584 - val_acc: 0.9325\n",
      "Epoch 68/100\n",
      "100/100 [==============================] - 10s 102ms/step - loss: 0.1967 - acc: 0.9469 - val_loss: 0.3014 - val_acc: 0.9213\n",
      "Epoch 69/100\n",
      "100/100 [==============================] - 10s 101ms/step - loss: 0.1737 - acc: 0.9528 - val_loss: 0.2174 - val_acc: 0.9463\n",
      "Epoch 70/100\n",
      "100/100 [==============================] - 10s 101ms/step - loss: 0.1706 - acc: 0.9472 - val_loss: 0.2304 - val_acc: 0.9313s - \n",
      "Epoch 71/100\n",
      "100/100 [==============================] - 10s 100ms/step - loss: 0.1951 - acc: 0.9441 - val_loss: 0.2460 - val_acc: 0.9400\n",
      "Epoch 72/100\n",
      "100/100 [==============================] - 10s 100ms/step - loss: 0.1865 - acc: 0.9503 - val_loss: 0.3626 - val_acc: 0.9062\n",
      "Epoch 73/100\n",
      "100/100 [==============================] - 10s 100ms/step - loss: 0.1777 - acc: 0.9472 - val_loss: 0.2173 - val_acc: 0.9387\n",
      "Epoch 74/100\n",
      "100/100 [==============================] - 10s 100ms/step - loss: 0.1870 - acc: 0.9484 - val_loss: 0.2322 - val_acc: 0.9437\n",
      "Epoch 75/100\n",
      "100/100 [==============================] - 10s 100ms/step - loss: 0.1581 - acc: 0.9525 - val_loss: 0.1922 - val_acc: 0.9413\n",
      "Epoch 76/100\n",
      "100/100 [==============================] - 10s 101ms/step - loss: 0.1752 - acc: 0.9481 - val_loss: 0.2100 - val_acc: 0.9487\n",
      "Epoch 77/100\n",
      "100/100 [==============================] - 10s 101ms/step - loss: 0.1653 - acc: 0.9516 - val_loss: 0.2116 - val_acc: 0.9325\n",
      "Epoch 78/100\n",
      "100/100 [==============================] - 10s 100ms/step - loss: 0.1633 - acc: 0.9491 - val_loss: 0.2647 - val_acc: 0.9363\n",
      "Epoch 79/100\n",
      "100/100 [==============================] - 10s 101ms/step - loss: 0.1504 - acc: 0.9591 - val_loss: 0.3101 - val_acc: 0.9287\n",
      "Epoch 80/100\n",
      "100/100 [==============================] - 10s 100ms/step - loss: 0.1468 - acc: 0.9572 - val_loss: 0.2755 - val_acc: 0.9187\n",
      "Epoch 81/100\n",
      "100/100 [==============================] - 10s 100ms/step - loss: 0.1723 - acc: 0.9556 - val_loss: 0.2404 - val_acc: 0.9450\n",
      "Epoch 82/100\n",
      "100/100 [==============================] - 10s 100ms/step - loss: 0.1861 - acc: 0.9478 - val_loss: 0.1908 - val_acc: 0.9537\n",
      "Epoch 83/100\n",
      "100/100 [==============================] - 10s 101ms/step - loss: 0.1728 - acc: 0.9494 - val_loss: 0.2600 - val_acc: 0.9363\n",
      "Epoch 84/100\n",
      "100/100 [==============================] - 10s 101ms/step - loss: 0.1731 - acc: 0.9522 - val_loss: 0.1965 - val_acc: 0.9363\n",
      "Epoch 85/100\n",
      "100/100 [==============================] - 10s 101ms/step - loss: 0.1609 - acc: 0.9525 - val_loss: 0.1940 - val_acc: 0.9387\n",
      "Epoch 86/100\n",
      "100/100 [==============================] - 10s 100ms/step - loss: 0.1489 - acc: 0.9575 - val_loss: 0.2219 - val_acc: 0.9350\n",
      "Epoch 87/100\n",
      "100/100 [==============================] - 10s 102ms/step - loss: 0.1651 - acc: 0.9559 - val_loss: 0.2289 - val_acc: 0.9419\n",
      "Epoch 88/100\n",
      "100/100 [==============================] - 10s 100ms/step - loss: 0.1462 - acc: 0.9591 - val_loss: 0.1407 - val_acc: 0.9450\n",
      "Epoch 89/100\n",
      "100/100 [==============================] - 10s 101ms/step - loss: 0.1573 - acc: 0.9544 - val_loss: 0.1999 - val_acc: 0.9400\n",
      "Epoch 90/100\n",
      "100/100 [==============================] - 10s 100ms/step - loss: 0.1635 - acc: 0.9509 - val_loss: 0.2227 - val_acc: 0.9400\n",
      "Epoch 91/100\n",
      "100/100 [==============================] - 10s 100ms/step - loss: 0.1899 - acc: 0.9444 - val_loss: 0.2140 - val_acc: 0.9400\n",
      "Epoch 92/100\n",
      "100/100 [==============================] - 10s 100ms/step - loss: 0.1429 - acc: 0.9616 - val_loss: 0.3115 - val_acc: 0.9325\n",
      "Epoch 93/100\n",
      "100/100 [==============================] - 10s 100ms/step - loss: 0.1592 - acc: 0.9537 - val_loss: 0.1996 - val_acc: 0.9400\n",
      "Epoch 94/100\n",
      "100/100 [==============================] - 10s 101ms/step - loss: 0.1450 - acc: 0.9613 - val_loss: 0.2652 - val_acc: 0.9363\n",
      "Epoch 95/100\n",
      "100/100 [==============================] - 10s 101ms/step - loss: 0.1601 - acc: 0.9497 - val_loss: 0.2410 - val_acc: 0.9225\n",
      "Epoch 96/100\n",
      "100/100 [==============================] - 10s 100ms/step - loss: 0.1531 - acc: 0.9541 - val_loss: 0.2967 - val_acc: 0.9300\n",
      "Epoch 97/100\n",
      "100/100 [==============================] - 10s 103ms/step - loss: 0.1458 - acc: 0.9616 - val_loss: 0.1697 - val_acc: 0.9450\n",
      "Epoch 98/100\n",
      "100/100 [==============================] - 10s 102ms/step - loss: 0.1385 - acc: 0.9606 - val_loss: 0.1823 - val_acc: 0.9463\n",
      "Epoch 99/100\n",
      "100/100 [==============================] - 10s 102ms/step - loss: 0.1450 - acc: 0.9572 - val_loss: 0.2709 - val_acc: 0.9287\n",
      "Epoch 100/100\n",
      "100/100 [==============================] - 10s 101ms/step - loss: 0.1606 - acc: 0.9541 - val_loss: 0.1926 - val_acc: 0.9425\n"
     ]
    }
   ],
   "source": [
    "history = model.fit_generator(\n",
    "        train_generator,\n",
    "        steps_per_epoch=100,\n",
    "        epochs=100,\n",
    "        validation_data=validation_generator,\n",
    "        validation_steps=25)"
   ]
  },
  {
   "cell_type": "code",
   "execution_count": 7,
   "metadata": {},
   "outputs": [],
   "source": [
    "model.save('number_skel5.h5')"
   ]
  },
  {
   "cell_type": "code",
   "execution_count": 8,
   "metadata": {},
   "outputs": [
    {
     "data": {
      "image/png": "[encoded data removed]",
      "text/plain": [
       "<Figure size 432x288 with 1 Axes>"
      ]
     },
     "metadata": {
      "needs_background": "light"
     },
     "output_type": "display_data"
    }
   ],
   "source": [
    "import matplotlib.pyplot as plt\n",
    "%matplotlib inline\n",
    "acc = history.history['acc']\n",
    "val_acc = history.history['val_acc']\n",
    "loss = history.history['loss']\n",
    "val_loss = history.history['val_loss']\n",
    "\n",
    "epochs = range(1, len(acc) + 1)\n",
    "\n",
    "plt.plot(epochs,loss,'bo',label='Training loss')\n",
    "plt.plot(epochs,val_loss,'b',label='Validation loss')\n",
    "plt.title('Training and validation loss')\n",
    "plt.legend()\n",
    "\n",
    "plt.show()"
   ]
  },
  {
   "cell_type": "code",
   "execution_count": 9,
   "metadata": {},
   "outputs": [
    {
     "data": {
      "image/png": "[encoded data removed]",
      "text/plain": [
       "<Figure size 432x288 with 1 Axes>"
      ]
     },
     "metadata": {
      "needs_background": "light"
     },
     "output_type": "display_data"
    }
   ],
   "source": [
    "acc = history.history['acc']\n",
    "val_acc = history.history['val_acc']\n",
    "loss = history.history['loss']\n",
    "val_loss = history.history['val_loss']\n",
    "\n",
    "epochs = range(1, len(acc) + 1)\n",
    "\n",
    "plt.plot(epochs,acc,'bo',label='Training acc')\n",
    "plt.plot(epochs,val_acc,'b',label='Validation acc')\n",
    "plt.title('Training and validation acc')\n",
    "plt.legend()\n",
    "\n",
    "plt.show()"
   ]
  },
  {
   "cell_type": "code",
   "execution_count": 11,
   "metadata": {},
   "outputs": [
    {
     "name": "stdout",
     "output_type": "stream",
     "text": [
      "Found 16000 images belonging to 10 classes.\n"
     ]
    }
   ],
   "source": [
    "import glob\n",
    "from PIL import Image\n",
    "from keras.preprocessing import image\n",
    "import numpy as np\n",
    "import matplotlib.pyplot as plt\n",
    "%matplotlib inline\n",
    "\n",
    "from keras import backend as K\n",
    "from keras.models import load_model\n",
    "model = load_model('number_painting.h5')\n",
    "\n",
    "test_generator = test_datagen.flow_from_directory(test_dir, #타깃 디렉터리\n",
    "                                                    target_size=(50,50), #모든 이미지 150X150으로 변경\n",
    "                                                    batch_size=32, #\n",
    "                                                    class_mode='categorical')\n",
    "filenames = test_generator.filenames\n",
    "nb_samples = len(filenames)\n",
    "\n",
    "predict = model.predict_generator(test_generator,steps = nb_samples)\n",
    "\n",
    "\n",
    "# img_path='정규화원본/test/0/normalizationSF61527.bmp'\n",
    "# img = image.load_img(img_path,target_size=(50,50))\n",
    "# plt.imshow(img)\n",
    "\n",
    "# x=image.img_to_array(img)\n",
    "# x=np.expand_dims(x,axis=0)\n",
    "# x=x/255.\n",
    "\n",
    "\n",
    "\n",
    "    \n",
    "# prediction =model.predict_classes(x)\n",
    "# #prediction =model.predict(x)\n",
    "# print(prediction)\n",
    "#np.set_printoptions(formatter={'float': lambda x: \"{0:0.3f}\".format(x)})"
   ]
  },
  {
   "cell_type": "code",
   "execution_count": 12,
   "metadata": {},
   "outputs": [
    {
     "name": "stdout",
     "output_type": "stream",
     "text": [
      "[[1.4805024e-12 1.1785224e-07 6.3136611e-09 ... 2.8993970e-08\n",
      "  9.0014958e-04 9.9857461e-01]\n",
      " [1.9701421e-20 1.5478572e-13 1.1277125e-08 ... 7.4333890e-14\n",
      "  2.8034918e-13 2.0277668e-09]\n",
      " [2.1695259e-08 1.2088515e-10 9.9999952e-01 ... 3.1641762e-12\n",
      "  8.7501579e-09 9.3021780e-12]\n",
      " ...\n",
      " [1.1762357e-08 6.4647296e-09 9.8120683e-01 ... 5.0785470e-15\n",
      "  1.4821206e-02 1.2623608e-10]\n",
      " [1.9819144e-12 4.4178825e-09 8.0529509e-07 ... 2.5734730e-18\n",
      "  3.7482283e-07 1.5394195e-14]\n",
      " [9.9963963e-01 2.8910181e-05 3.3125063e-04 ... 1.5962215e-07\n",
      "  1.7784911e-08 6.5505856e-12]]\n"
     ]
    }
   ],
   "source": [
    "print(predict)"
   ]
  },
  {
   "cell_type": "code",
   "execution_count": 10,
   "metadata": {},
   "outputs": [
    {
     "name": "stdout",
     "output_type": "stream",
     "text": [
      "Found 16000 images belonging to 10 classes.\n",
      "500/500 [==============================] - 18s 35ms/step\n"
     ]
    }
   ],
   "source": [
    "test_generator = test_datagen.flow_from_directory(test_dir, #타깃 디렉터리\n",
    "                                                    target_size=(50,50), #모든 이미지 150X150으로 변경\n",
    "                                                    batch_size=32, #\n",
    "                                                    class_mode='categorical')\n",
    "score=model.evaluate(test_generator)"
   ]
  },
  {
   "cell_type": "code",
   "execution_count": 11,
   "metadata": {},
   "outputs": [
    {
     "name": "stdout",
     "output_type": "stream",
     "text": [
      "[0.11951460363931256, 0.96625]\n"
     ]
    }
   ],
   "source": [
    "print(score)"
   ]
  },
  {
   "cell_type": "code",
   "execution_count": null,
   "metadata": {},
   "outputs": [],
   "source": []
  }
 ],
 "metadata": {
  "kernelspec": {
   "display_name": "Python 3",
   "language": "python",
   "name": "python3"
  },
  "language_info": {
   "codemirror_mode": {
    "name": "ipython",
    "version": 3
   },
   "file_extension": ".py",
   "mimetype": "text/x-python",
   "name": "python",
   "nbconvert_exporter": "python",
   "pygments_lexer": "ipython3",
   "version": "3.7.4"
  }
 },
 "nbformat": 4,
 "nbformat_minor": 2
}
