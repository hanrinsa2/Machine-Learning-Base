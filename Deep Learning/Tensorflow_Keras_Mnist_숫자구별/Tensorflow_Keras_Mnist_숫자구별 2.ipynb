{
 "cells": [
  {
   "cell_type": "code",
   "execution_count": 1,
   "metadata": {},
   "outputs": [
    {
     "name": "stderr",
     "output_type": "stream",
     "text": [
      "Using TensorFlow backend.\n"
     ]
    },
    {
     "name": "stdout",
     "output_type": "stream",
     "text": [
      "3\n",
      "(60000, 28, 28)\n",
      "uint8\n"
     ]
    }
   ],
   "source": [
    "from keras.datasets import mnist\n",
    "(train_images, tain_labels), (test_images, test_labels) = mnist.load_data()\n",
    "print(train_images.ndim)\n",
    "\n",
    "print(train_images.shape)\n",
    "print(train_images.dtype)"
   ]
  },
  {
   "cell_type": "code",
   "execution_count": 3,
   "metadata": {},
   "outputs": [
    {
     "data": {
      "image/png": "[encoded data removed]",
      "text/plain": [
       "<Figure size 432x288 with 1 Axes>"
      ]
     },
     "metadata": {
      "needs_background": "light"
     },
     "output_type": "display_data"
    }
   ],
   "source": [
    "digit =train_images[4]\n",
    "\n",
    "import matplotlib.pyplot as plt\n",
    "%matplotlib inline\n",
    "\n",
    "plt.imshow(digit, cmap=plt.cm.binary) #color map의 표시 방법 종류\n",
    "plt.show()"
   ]
  },
  {
   "cell_type": "code",
   "execution_count": 4,
   "metadata": {},
   "outputs": [
    {
     "name": "stdout",
     "output_type": "stream",
     "text": [
      "(90, 28, 28)\n"
     ]
    }
   ],
   "source": [
    "my_slice =train_images[10:100]\n",
    "print(my_slice.shape)"
   ]
  },
  {
   "cell_type": "code",
   "execution_count": 5,
   "metadata": {},
   "outputs": [
    {
     "data": {
      "text/plain": [
       "(90, 28, 28)"
      ]
     },
     "execution_count": 5,
     "metadata": {},
     "output_type": "execute_result"
    }
   ],
   "source": [
    "my_slice = train_images[10:100,:,:]\n",
    "my_slice.shape"
   ]
  },
  {
   "cell_type": "code",
   "execution_count": 6,
   "metadata": {},
   "outputs": [
    {
     "data": {
      "text/plain": [
       "(90, 28, 28)"
      ]
     },
     "execution_count": 6,
     "metadata": {},
     "output_type": "execute_result"
    }
   ],
   "source": [
    "my_slice=train_images[10:100,0:28,0:28]\n",
    "my_slice.shape"
   ]
  },
  {
   "cell_type": "code",
   "execution_count": 7,
   "metadata": {},
   "outputs": [
    {
     "data": {
      "image/png": "[encoded data removed]",
      "text/plain": [
       "<Figure size 432x288 with 1 Axes>"
      ]
     },
     "metadata": {
      "needs_background": "light"
     },
     "output_type": "display_data"
    }
   ],
   "source": [
    "my_slice=test_images[4,14:,14:]\n",
    "\n",
    "plt.imshow(my_slice, cmap=plt.cm.binary) #color map의 표시 방법 종류\n",
    "plt.show()"
   ]
  },
  {
   "cell_type": "code",
   "execution_count": 8,
   "metadata": {},
   "outputs": [
    {
     "data": {
      "image/png": "[encoded data removed]",
      "text/plain": [
       "<Figure size 432x288 with 1 Axes>"
      ]
     },
     "metadata": {
      "needs_background": "light"
     },
     "output_type": "display_data"
    }
   ],
   "source": [
    "my_slice=test_images[4,7:-7,7:-7] #첫 인덱스는 항상 sample 의 번호, 그외 인덱스 데이터정보\n",
    "\n",
    "plt.imshow(my_slice, cmap=plt.cm.binary) #color map의 표시 방법 종류\n",
    "plt.show()"
   ]
  },
  {
   "cell_type": "code",
   "execution_count": 9,
   "metadata": {},
   "outputs": [],
   "source": [
    "#batch_size가 128일경우\n",
    "\n",
    "#batch =train_images[:128]\n",
    "#batch =train_images[128:256]\n",
    "\n",
    "#batch =train_images[128*n:128(n+1)]\n",
    "\n",
    "#벡터 데이터 : (samples, features) 크기의 2D 텐서\n",
    "#사람나이, 우편번호, 소득으로 구성된 통계 데이터, 10만명일 경우 (100000,3) 크기의 텐서데이터\n",
    "\n",
    "#시계열 데이터 또는 시퀀스 데이터 : (samples, timesteps,features) 크기의 3D 텐서\n",
    "#주식가격에서 1분마다 현재주식가격, 지난1분동안에 최고가격과 최소가격 저장, 하루동안의 거래량이 390분이고 250일 치 데이터일경우\n",
    "#(250, 390, 3) 크기의 3D 텐서데이터\n",
    "\n",
    "#이미지 : (samples, height, width, channels) 또는 (samples, channels, height, width) 크기의 4D 텐서\n",
    "#높이, 너비, 컬러 채널 250개의 이미지 256X256크기의 흑백이미지(1), 컬러일경우(3)\n",
    "#(250,256,256,1) =>구글 텐서플로 머신러닝 프레임워크\n",
    "#(250,1,256,256) =>씨아노\n",
    "\n",
    "#동영상 : (samples, frames, height, width, channels) 또는 (samples, frames, channels, height, width) 크기의 5D 텐서\n",
    "#프레임연속, 높이, 너비, 컬러 채널 144X256크기의 유튜브 240프레임의 4개 컬러비디오\n",
    "#(4, 240, 144, 256, 3) =>106168320개의 값을 float32로 저장하면 405MB지만 보통 비디오는 float32로 저장하지않기에 훨씬 용량이 적고 높은 압축률로(MPEG포맷)으로저장\n"
   ]
  },
  {
   "cell_type": "code",
   "execution_count": 10,
   "metadata": {},
   "outputs": [],
   "source": [
    "#keras.layers.Dense(512,activation='relu') dense 층을 쌓아 신경망을 만듬\n",
    "#output = relu(dot(W, input) + b) 입력 텐서와 W(가중치) 텐서간의 점곱(dot)의 결과와 벡터 b사이의 덧셈을 렐루에 넣어 계산"
   ]
  },
  {
   "cell_type": "code",
   "execution_count": 11,
   "metadata": {},
   "outputs": [],
   "source": [
    "#확률적 경사하강법 : 오차함수의 그래디언트의 반대 방향(양수면 음수쪽으로)으로 이동하면 손실이 조금 감소(전역적으로 봤을 때 그래디언트가 0이되는 곳이 가장 작은곳이 효율좋음)\n",
    "\n",
    "#입력 -> 층(가중치) ->예측값-> 실제값과 비교하는 손실함수 -> 손실 점수-> 옵티마이저를 통해 가중치 업데이트\n",
    "\n",
    "#"
   ]
  },
  {
   "cell_type": "code",
   "execution_count": 20,
   "metadata": {},
   "outputs": [],
   "source": [
    "from keras import models\n",
    "from keras import layers\n",
    "\n",
    "#Sequential 클래스로 할경우\n",
    "model = models.Sequential()\n",
    "model.add(layers.Dense(32, activation='relu', input_shape=(784,)))\n",
    "model.add(layers.Dense(10,activation='softmax'))\n",
    "\n",
    "#함수형 API 로 할 경우\n",
    "#input_tensor =layers.Input(shape=(784,))\n",
    "#x = layers.Dense(32, activation = 'relu')(input_tensor)\n",
    "#output_tensor = layers.Dense(10, activation = 'softmax')(x)\n",
    "\n",
    "#model = models.Model(inputs=input_tensor, outputs=output_tensor)\n"
   ]
  },
  {
   "cell_type": "code",
   "execution_count": 21,
   "metadata": {},
   "outputs": [],
   "source": [
    "from keras import optimizers\n",
    "\n",
    "model.compile(optimizer = optimizers.RMSprop(lr=0.001), loss='mse', metrics=['accuracy'])\n",
    "\n"
   ]
  },
  {
   "cell_type": "code",
   "execution_count": 22,
   "metadata": {},
   "outputs": [],
   "source": [
    "\n",
    "#model.fit(input_tensor, target_tensor, batch_size=128, epochs=10)\n",
    "\n"
   ]
  },
  {
   "cell_type": "code",
   "execution_count": null,
   "metadata": {},
   "outputs": [],
   "source": []
  }
 ],
 "metadata": {
  "kernelspec": {
   "display_name": "Python 3",
   "language": "python",
   "name": "python3"
  },
  "language_info": {
   "codemirror_mode": {
    "name": "ipython",
    "version": 3
   },
   "file_extension": ".py",
   "mimetype": "text/x-python",
   "name": "python",
   "nbconvert_exporter": "python",
   "pygments_lexer": "ipython3",
   "version": "3.7.4"
  }
 },
 "nbformat": 4,
 "nbformat_minor": 2
}
