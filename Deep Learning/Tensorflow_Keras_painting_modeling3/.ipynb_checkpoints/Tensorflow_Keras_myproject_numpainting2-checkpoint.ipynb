{
 "cells": [
  {
   "cell_type": "code",
   "execution_count": 1,
   "metadata": {},
   "outputs": [],
   "source": [
    "import os, shutil\n",
    "\n",
    "base_dir = '딥러닝원본2'\n",
    "\n",
    "\n",
    "train_dir = os.path.join(base_dir, 'train')\n",
    "validation_dir = os.path.join(base_dir, 'validation')\n",
    "test_dir = os.path.join(base_dir, 'test')\n",
    "\n",
    "\n",
    "train_0_dir = os.path.join(train_dir, '0')\n",
    "train_1_dir = os.path.join(train_dir, '1')\n",
    "train_2_dir = os.path.join(train_dir, '2')\n",
    "train_3_dir = os.path.join(train_dir, '3')\n",
    "train_4_dir = os.path.join(train_dir, '4')\n",
    "train_5_dir = os.path.join(train_dir, '5')\n",
    "train_6_dir = os.path.join(train_dir, '6')\n",
    "train_7_dir = os.path.join(train_dir, '7')\n",
    "train_8_dir = os.path.join(train_dir, '8')\n",
    "train_9_dir = os.path.join(train_dir, '9')\n",
    "\n",
    "\n",
    "validation_0_dir = os.path.join(validation_dir, '0')\n",
    "validation_1_dir = os.path.join(validation_dir, '1')\n",
    "validation_2_dir = os.path.join(validation_dir, '2')\n",
    "validation_3_dir = os.path.join(validation_dir, '3')\n",
    "validation_4_dir = os.path.join(validation_dir, '4')\n",
    "validation_5_dir = os.path.join(validation_dir, '5')\n",
    "validation_6_dir = os.path.join(validation_dir, '6')\n",
    "validation_7_dir = os.path.join(validation_dir, '7')\n",
    "validation_8_dir = os.path.join(validation_dir, '8')\n",
    "validation_9_dir = os.path.join(validation_dir, '9')\n",
    "\n",
    "\n",
    "test_0_dir = os.path.join(test_dir, '0')\n",
    "test_1_dir = os.path.join(test_dir, '1')\n",
    "test_2_dir = os.path.join(test_dir, '2')\n",
    "test_3_dir = os.path.join(test_dir, '3')\n",
    "test_4_dir = os.path.join(test_dir, '4')\n",
    "test_5_dir = os.path.join(test_dir, '5')\n",
    "test_6_dir = os.path.join(test_dir, '6')\n",
    "test_7_dir = os.path.join(test_dir, '7')\n",
    "test_8_dir = os.path.join(test_dir, '8')\n",
    "test_9_dir = os.path.join(test_dir, '9')"
   ]
  },
  {
   "cell_type": "code",
   "execution_count": 2,
   "metadata": {},
   "outputs": [
    {
     "name": "stdout",
     "output_type": "stream",
     "text": [
      "훈련용 0 이미지 전체 개수 :  5000\n",
      "검증용 0 이미지 전체 개수 :  2300\n",
      "테스트용 0 이미지 전체 개수 :  1600\n"
     ]
    }
   ],
   "source": [
    "print('훈련용 0 이미지 전체 개수 : ', len(os.listdir(train_0_dir)))\n",
    "\n",
    "print('검증용 0 이미지 전체 개수 : ', len(os.listdir(validation_0_dir)))\n",
    "\n",
    "print('테스트용 0 이미지 전체 개수 : ', len(os.listdir(test_0_dir)))\n"
   ]
  },
  {
   "cell_type": "code",
   "execution_count": 8,
   "metadata": {},
   "outputs": [],
   "source": [
    "from keras import layers\n",
    "from keras import models\n",
    "from keras.layers import Dropout\n",
    "model = models.Sequential()\n",
    "model.add(layers.Conv2D(64,(3,3), activation='relu',\n",
    "                       input_shape=(70,70,3)))\n",
    "model.add(layers.Conv2D(128,(3,3),activation='relu'))\n",
    "model.add(layers.MaxPooling2D((2,2),(2,2)))\n",
    "model.add(layers.Conv2D(128,(3,3),activation='relu'))\n",
    "model.add(layers.MaxPooling2D((2,2)))\n",
    "model.add(layers.Conv2D(128,(3,3),activation='relu'))\n",
    "model.add(layers.MaxPooling2D((2,2)))\n",
    "\n",
    "model.add(layers.Flatten())\n",
    "model.add(layers.Dense(1024,activation='relu'))\n",
    "model.add(Dropout(0.3))\n",
    "model.add(layers.Dense(512,activation='relu'))\n",
    "model.add(Dropout(0.3))\n",
    "model.add(layers.Dense(128,activation='relu'))\n",
    "model.add(Dropout(0.3))\n",
    "model.add(layers.Dense(10,activation='softmax'))"
   ]
  },
  {
   "cell_type": "code",
   "execution_count": 9,
   "metadata": {},
   "outputs": [],
   "source": [
    "from keras import optimizers\n",
    "\n",
    "model.compile(loss='categorical_crossentropy',\n",
    "             optimizer='adam',\n",
    "             metrics=['acc'])\n"
   ]
  },
  {
   "cell_type": "code",
   "execution_count": 10,
   "metadata": {},
   "outputs": [
    {
     "name": "stdout",
     "output_type": "stream",
     "text": [
      "Found 50000 images belonging to 10 classes.\n",
      "Found 23000 images belonging to 10 classes.\n"
     ]
    }
   ],
   "source": [
    "from keras.preprocessing.image import ImageDataGenerator\n",
    "\n",
    "train_datagen = ImageDataGenerator(rescale=1./255)\n",
    "test_datagen = ImageDataGenerator(rescale=1./255)\n",
    "\n",
    "train_generator = train_datagen.flow_from_directory(train_dir, #타깃 디렉터리\n",
    "                                                    target_size=(70,70), #모든 이미지 150X150으로 변경\n",
    "                                                    batch_size=64, #\n",
    "                                                    class_mode='categorical')\n",
    "\n",
    "validation_generator = test_datagen.flow_from_directory(validation_dir, target_size=(70,70),batch_size=64, class_mode='categorical')"
   ]
  },
  {
   "cell_type": "code",
   "execution_count": 11,
   "metadata": {
    "scrolled": false
   },
   "outputs": [
    {
     "name": "stdout",
     "output_type": "stream",
     "text": [
      "Epoch 1/100\n",
      "50/50 [==============================] - 44s 882ms/step - loss: 1.6280 - acc: 0.4312 - val_loss: 0.7498 - val_acc: 0.7719\n",
      "Epoch 2/100\n",
      "50/50 [==============================] - 39s 783ms/step - loss: 0.5064 - acc: 0.8531 - val_loss: 0.3356 - val_acc: 0.8962\n",
      "Epoch 3/100\n",
      "50/50 [==============================] - 39s 780ms/step - loss: 0.2799 - acc: 0.9166 - val_loss: 0.3249 - val_acc: 0.8934\n",
      "Epoch 4/100\n",
      "50/50 [==============================] - 39s 780ms/step - loss: 0.2015 - acc: 0.9441 - val_loss: 0.2388 - val_acc: 0.9284\n",
      "Epoch 5/100\n",
      "50/50 [==============================] - 40s 796ms/step - loss: 0.1624 - acc: 0.9503 - val_loss: 0.1878 - val_acc: 0.9406\n",
      "Epoch 6/100\n",
      "50/50 [==============================] - 39s 780ms/step - loss: 0.1427 - acc: 0.9578 - val_loss: 0.1779 - val_acc: 0.9494\n",
      "Epoch 7/100\n",
      "50/50 [==============================] - 39s 780ms/step - loss: 0.1132 - acc: 0.9688 - val_loss: 0.2393 - val_acc: 0.9334\n",
      "Epoch 8/100\n",
      "50/50 [==============================] - 40s 791ms/step - loss: 0.1211 - acc: 0.9656 - val_loss: 0.1633 - val_acc: 0.9500\n",
      "Epoch 9/100\n",
      "50/50 [==============================] - 39s 783ms/step - loss: 0.1138 - acc: 0.9672 - val_loss: 0.1713 - val_acc: 0.9459\n",
      "Epoch 10/100\n",
      "50/50 [==============================] - 39s 782ms/step - loss: 0.0673 - acc: 0.9769 - val_loss: 0.1599 - val_acc: 0.9506\n",
      "Epoch 11/100\n",
      "50/50 [==============================] - 39s 782ms/step - loss: 0.1021 - acc: 0.9703 - val_loss: 0.1682 - val_acc: 0.9566\n",
      "Epoch 12/100\n",
      "50/50 [==============================] - 39s 782ms/step - loss: 0.1032 - acc: 0.9712 - val_loss: 0.1346 - val_acc: 0.9644\n",
      "Epoch 13/100\n",
      "50/50 [==============================] - 39s 784ms/step - loss: 0.0589 - acc: 0.9819 - val_loss: 0.1767 - val_acc: 0.9519\n",
      "Epoch 14/100\n",
      "50/50 [==============================] - 39s 782ms/step - loss: 0.0789 - acc: 0.9741 - val_loss: 0.1565 - val_acc: 0.9522\n",
      "Epoch 15/100\n",
      "50/50 [==============================] - 39s 779ms/step - loss: 0.0899 - acc: 0.9738 - val_loss: 0.1139 - val_acc: 0.9680\n",
      "Epoch 16/100\n",
      "50/50 [==============================] - 39s 779ms/step - loss: 0.0700 - acc: 0.9806 - val_loss: 0.1077 - val_acc: 0.9653\n",
      "Epoch 17/100\n",
      "50/50 [==============================] - 39s 782ms/step - loss: 0.0479 - acc: 0.9844 - val_loss: 0.1273 - val_acc: 0.9622\n",
      "Epoch 18/100\n",
      "50/50 [==============================] - 39s 781ms/step - loss: 0.0513 - acc: 0.9847 - val_loss: 0.1649 - val_acc: 0.9566\n",
      "Epoch 19/100\n",
      "50/50 [==============================] - 39s 772ms/step - loss: 0.0555 - acc: 0.9841 - val_loss: 0.1220 - val_acc: 0.9647\n",
      "Epoch 20/100\n",
      "50/50 [==============================] - 39s 781ms/step - loss: 0.0536 - acc: 0.9853 - val_loss: 0.1015 - val_acc: 0.9694\n",
      "Epoch 21/100\n",
      "50/50 [==============================] - 39s 780ms/step - loss: 0.0464 - acc: 0.9866 - val_loss: 0.1876 - val_acc: 0.9572\n",
      "Epoch 22/100\n",
      "50/50 [==============================] - 39s 780ms/step - loss: 0.0436 - acc: 0.9872 - val_loss: 0.1549 - val_acc: 0.9608\n",
      "Epoch 23/100\n",
      "50/50 [==============================] - 39s 781ms/step - loss: 0.0522 - acc: 0.9841 - val_loss: 0.1416 - val_acc: 0.9628\n",
      "Epoch 24/100\n",
      "50/50 [==============================] - 39s 780ms/step - loss: 0.0548 - acc: 0.9834 - val_loss: 0.1433 - val_acc: 0.9556\n",
      "Epoch 25/100\n",
      "50/50 [==============================] - 39s 783ms/step - loss: 0.0515 - acc: 0.9850 - val_loss: 0.1192 - val_acc: 0.9644\n",
      "Epoch 26/100\n",
      "50/50 [==============================] - 39s 784ms/step - loss: 0.0348 - acc: 0.9906 - val_loss: 0.1394 - val_acc: 0.9637\n",
      "Epoch 27/100\n",
      "50/50 [==============================] - 39s 783ms/step - loss: 0.0506 - acc: 0.9853 - val_loss: 0.1104 - val_acc: 0.9672\n",
      "Epoch 28/100\n",
      "50/50 [==============================] - 39s 784ms/step - loss: 0.0348 - acc: 0.9906 - val_loss: 0.1037 - val_acc: 0.9697\n",
      "Epoch 29/100\n",
      "50/50 [==============================] - 39s 783ms/step - loss: 0.0317 - acc: 0.9891 - val_loss: 0.1536 - val_acc: 0.9684\n",
      "Epoch 30/100\n",
      "50/50 [==============================] - 39s 783ms/step - loss: 0.0542 - acc: 0.9862 - val_loss: 0.1205 - val_acc: 0.9656\n",
      "Epoch 31/100\n",
      "50/50 [==============================] - 39s 782ms/step - loss: 0.0410 - acc: 0.9881 - val_loss: 0.1237 - val_acc: 0.9634\n",
      "Epoch 32/100\n",
      "50/50 [==============================] - 39s 782ms/step - loss: 0.0294 - acc: 0.9891 - val_loss: 0.1416 - val_acc: 0.9703\n",
      "Epoch 33/100\n",
      "50/50 [==============================] - 39s 783ms/step - loss: 0.0354 - acc: 0.9891 - val_loss: 0.1155 - val_acc: 0.9681\n",
      "Epoch 34/100\n",
      "50/50 [==============================] - 39s 785ms/step - loss: 0.0246 - acc: 0.9931 - val_loss: 0.1902 - val_acc: 0.9522\n",
      "Epoch 35/100\n",
      "50/50 [==============================] - 39s 784ms/step - loss: 0.0377 - acc: 0.9894 - val_loss: 0.1851 - val_acc: 0.9534\n",
      "Epoch 36/100\n",
      "50/50 [==============================] - 39s 783ms/step - loss: 0.0438 - acc: 0.9869 - val_loss: 0.1444 - val_acc: 0.9623\n",
      "Epoch 37/100\n",
      "50/50 [==============================] - 39s 777ms/step - loss: 0.0396 - acc: 0.9897 - val_loss: 0.1246 - val_acc: 0.9650\n",
      "Epoch 38/100\n",
      "50/50 [==============================] - 39s 783ms/step - loss: 0.0373 - acc: 0.9900 - val_loss: 0.1496 - val_acc: 0.9628\n",
      "Epoch 39/100\n",
      "50/50 [==============================] - 39s 782ms/step - loss: 0.0437 - acc: 0.9884 - val_loss: 0.1373 - val_acc: 0.9647\n",
      "Epoch 40/100\n",
      "50/50 [==============================] - 39s 782ms/step - loss: 0.0397 - acc: 0.9916 - val_loss: 0.1599 - val_acc: 0.9603\n",
      "Epoch 41/100\n",
      "50/50 [==============================] - 39s 782ms/step - loss: 0.0309 - acc: 0.9916 - val_loss: 0.1787 - val_acc: 0.9559\n",
      "Epoch 42/100\n",
      "50/50 [==============================] - 39s 783ms/step - loss: 0.0302 - acc: 0.9903 - val_loss: 0.1158 - val_acc: 0.9725\n",
      "Epoch 43/100\n",
      "50/50 [==============================] - 39s 783ms/step - loss: 0.0369 - acc: 0.9900 - val_loss: 0.1824 - val_acc: 0.9469\n",
      "Epoch 44/100\n",
      "50/50 [==============================] - 39s 781ms/step - loss: 0.0417 - acc: 0.9888 - val_loss: 0.1107 - val_acc: 0.9687\n",
      "Epoch 45/100\n",
      "50/50 [==============================] - 39s 787ms/step - loss: 0.0356 - acc: 0.9888 - val_loss: 0.1392 - val_acc: 0.9647\n",
      "Epoch 46/100\n",
      "50/50 [==============================] - 39s 784ms/step - loss: 0.0280 - acc: 0.9934 - val_loss: 0.1115 - val_acc: 0.9728\n",
      "Epoch 47/100\n",
      "50/50 [==============================] - 39s 782ms/step - loss: 0.0312 - acc: 0.9928 - val_loss: 0.1474 - val_acc: 0.9650\n",
      "Epoch 48/100\n",
      "50/50 [==============================] - 39s 783ms/step - loss: 0.0317 - acc: 0.9912 - val_loss: 0.1161 - val_acc: 0.9734\n",
      "Epoch 49/100\n",
      "50/50 [==============================] - 39s 785ms/step - loss: 0.0203 - acc: 0.9931 - val_loss: 0.1569 - val_acc: 0.9647\n",
      "Epoch 50/100\n",
      "50/50 [==============================] - 39s 782ms/step - loss: 0.0255 - acc: 0.9931 - val_loss: 0.1776 - val_acc: 0.9553\n",
      "Epoch 51/100\n",
      "50/50 [==============================] - 39s 781ms/step - loss: 0.0341 - acc: 0.9912 - val_loss: 0.1128 - val_acc: 0.9703\n",
      "Epoch 52/100\n",
      "50/50 [==============================] - 39s 784ms/step - loss: 0.0284 - acc: 0.9934 - val_loss: 0.1403 - val_acc: 0.9637\n",
      "Epoch 53/100\n",
      "50/50 [==============================] - 39s 786ms/step - loss: 0.0247 - acc: 0.9912 - val_loss: 0.2294 - val_acc: 0.9469\n",
      "Epoch 54/100\n",
      "50/50 [==============================] - 39s 785ms/step - loss: 0.0410 - acc: 0.9897 - val_loss: 0.1312 - val_acc: 0.9700\n",
      "Epoch 55/100\n",
      "50/50 [==============================] - 39s 783ms/step - loss: 0.0174 - acc: 0.9941 - val_loss: 0.1769 - val_acc: 0.9647\n",
      "Epoch 56/100\n",
      "50/50 [==============================] - 39s 782ms/step - loss: 0.0318 - acc: 0.9919 - val_loss: 0.1105 - val_acc: 0.9728\n",
      "Epoch 57/100\n",
      "50/50 [==============================] - 39s 780ms/step - loss: 0.0178 - acc: 0.9944 - val_loss: 0.1242 - val_acc: 0.9659\n",
      "Epoch 58/100\n",
      "50/50 [==============================] - 39s 779ms/step - loss: 0.0291 - acc: 0.9916 - val_loss: 0.1923 - val_acc: 0.9551\n",
      "Epoch 59/100\n",
      "50/50 [==============================] - 39s 781ms/step - loss: 0.0374 - acc: 0.9888 - val_loss: 0.1289 - val_acc: 0.9644\n",
      "Epoch 60/100\n",
      "50/50 [==============================] - 39s 782ms/step - loss: 0.0457 - acc: 0.9875 - val_loss: 0.1132 - val_acc: 0.9694\n",
      "Epoch 61/100\n",
      "50/50 [==============================] - 39s 783ms/step - loss: 0.0345 - acc: 0.9891 - val_loss: 0.1111 - val_acc: 0.9722\n"
     ]
    },
    {
     "name": "stdout",
     "output_type": "stream",
     "text": [
      "Epoch 62/100\n",
      "50/50 [==============================] - 39s 777ms/step - loss: 0.0233 - acc: 0.9947 - val_loss: 0.1272 - val_acc: 0.9722\n",
      "Epoch 63/100\n",
      "50/50 [==============================] - 39s 783ms/step - loss: 0.0232 - acc: 0.9922 - val_loss: 0.0942 - val_acc: 0.9741\n",
      "Epoch 64/100\n",
      "50/50 [==============================] - 39s 784ms/step - loss: 0.0233 - acc: 0.9934 - val_loss: 0.1257 - val_acc: 0.9716\n",
      "Epoch 65/100\n",
      "50/50 [==============================] - 39s 773ms/step - loss: 0.0153 - acc: 0.9966 - val_loss: 0.1579 - val_acc: 0.9671\n",
      "Epoch 66/100\n",
      "50/50 [==============================] - 39s 785ms/step - loss: 0.0145 - acc: 0.9950 - val_loss: 0.1546 - val_acc: 0.9688\n",
      "Epoch 67/100\n",
      "50/50 [==============================] - 39s 786ms/step - loss: 0.0192 - acc: 0.9953 - val_loss: 0.1190 - val_acc: 0.9747\n",
      "Epoch 68/100\n",
      "50/50 [==============================] - 39s 785ms/step - loss: 0.0324 - acc: 0.9916 - val_loss: 0.1387 - val_acc: 0.9644\n",
      "Epoch 69/100\n",
      "50/50 [==============================] - 39s 785ms/step - loss: 0.0344 - acc: 0.9900 - val_loss: 0.1424 - val_acc: 0.9669\n",
      "Epoch 70/100\n",
      "50/50 [==============================] - 39s 784ms/step - loss: 0.0263 - acc: 0.9928 - val_loss: 0.1200 - val_acc: 0.9734\n",
      "Epoch 71/100\n",
      "50/50 [==============================] - 39s 782ms/step - loss: 0.0238 - acc: 0.9938 - val_loss: 0.1563 - val_acc: 0.9653\n",
      "Epoch 72/100\n",
      "50/50 [==============================] - 39s 780ms/step - loss: 0.0219 - acc: 0.9938 - val_loss: 0.1373 - val_acc: 0.9690\n",
      "Epoch 73/100\n",
      "50/50 [==============================] - 39s 779ms/step - loss: 0.0187 - acc: 0.9934 - val_loss: 0.1395 - val_acc: 0.9700\n",
      "Epoch 74/100\n",
      "50/50 [==============================] - 39s 780ms/step - loss: 0.0286 - acc: 0.9916 - val_loss: 0.1353 - val_acc: 0.9637\n",
      "Epoch 75/100\n",
      "50/50 [==============================] - 39s 780ms/step - loss: 0.0320 - acc: 0.9916 - val_loss: 0.1150 - val_acc: 0.9678\n",
      "Epoch 76/100\n",
      "50/50 [==============================] - 39s 781ms/step - loss: 0.0272 - acc: 0.9947 - val_loss: 0.1258 - val_acc: 0.9716\n",
      "Epoch 77/100\n",
      "50/50 [==============================] - 39s 785ms/step - loss: 0.0181 - acc: 0.9950 - val_loss: 0.1508 - val_acc: 0.9688\n",
      "Epoch 78/100\n",
      "50/50 [==============================] - 42s 831ms/step - loss: 0.0251 - acc: 0.9912 - val_loss: 0.1242 - val_acc: 0.9672\n",
      "Epoch 79/100\n",
      "50/50 [==============================] - 44s 878ms/step - loss: 0.0265 - acc: 0.9931 - val_loss: 0.1386 - val_acc: 0.9706\n",
      "Epoch 80/100\n",
      "50/50 [==============================] - 44s 879ms/step - loss: 0.0113 - acc: 0.9963 - val_loss: 0.1335 - val_acc: 0.9693\n",
      "Epoch 81/100\n",
      "50/50 [==============================] - 44s 878ms/step - loss: 0.0104 - acc: 0.9978 - val_loss: 0.1186 - val_acc: 0.9712\n",
      "Epoch 82/100\n",
      "50/50 [==============================] - 41s 811ms/step - loss: 0.0338 - acc: 0.9912 - val_loss: 0.1426 - val_acc: 0.9666\n",
      "Epoch 83/100\n",
      "50/50 [==============================] - 39s 785ms/step - loss: 0.0199 - acc: 0.9953 - val_loss: 0.0962 - val_acc: 0.9762\n",
      "Epoch 84/100\n",
      "50/50 [==============================] - 39s 783ms/step - loss: 0.0107 - acc: 0.9966 - val_loss: 0.1228 - val_acc: 0.9719\n",
      "Epoch 85/100\n",
      "50/50 [==============================] - 39s 782ms/step - loss: 0.0140 - acc: 0.9956 - val_loss: 0.1623 - val_acc: 0.9628\n",
      "Epoch 86/100\n",
      "50/50 [==============================] - 39s 782ms/step - loss: 0.0170 - acc: 0.9947 - val_loss: 0.1442 - val_acc: 0.9672\n",
      "Epoch 87/100\n",
      "50/50 [==============================] - 39s 781ms/step - loss: 0.0071 - acc: 0.9981 - val_loss: 0.1649 - val_acc: 0.9687\n",
      "Epoch 88/100\n",
      "50/50 [==============================] - 39s 782ms/step - loss: 0.0329 - acc: 0.9928 - val_loss: 0.2080 - val_acc: 0.9566\n",
      "Epoch 89/100\n",
      "50/50 [==============================] - 39s 786ms/step - loss: 0.0171 - acc: 0.9947 - val_loss: 0.1508 - val_acc: 0.9659\n",
      "Epoch 90/100\n",
      "50/50 [==============================] - 39s 781ms/step - loss: 0.0141 - acc: 0.9963 - val_loss: 0.1114 - val_acc: 0.9772\n",
      "Epoch 91/100\n",
      "50/50 [==============================] - 39s 783ms/step - loss: 0.0199 - acc: 0.9963 - val_loss: 0.1126 - val_acc: 0.9716\n",
      "Epoch 92/100\n",
      "50/50 [==============================] - 39s 783ms/step - loss: 0.0197 - acc: 0.9944 - val_loss: 0.1182 - val_acc: 0.9738\n",
      "Epoch 93/100\n",
      "50/50 [==============================] - 39s 783ms/step - loss: 0.0156 - acc: 0.9950 - val_loss: 0.1160 - val_acc: 0.9712\n",
      "Epoch 94/100\n",
      "50/50 [==============================] - 39s 782ms/step - loss: 0.0214 - acc: 0.9938 - val_loss: 0.1309 - val_acc: 0.9699\n",
      "Epoch 95/100\n",
      "50/50 [==============================] - 39s 784ms/step - loss: 0.0073 - acc: 0.9978 - val_loss: 0.1588 - val_acc: 0.9678\n",
      "Epoch 96/100\n",
      "50/50 [==============================] - 39s 784ms/step - loss: 0.0114 - acc: 0.9959 - val_loss: 0.1708 - val_acc: 0.9684\n",
      "Epoch 97/100\n",
      "50/50 [==============================] - 39s 784ms/step - loss: 0.0262 - acc: 0.9922 - val_loss: 0.1337 - val_acc: 0.9712\n",
      "Epoch 98/100\n",
      "50/50 [==============================] - 39s 784ms/step - loss: 0.0172 - acc: 0.9953 - val_loss: 0.1215 - val_acc: 0.9691\n",
      "Epoch 99/100\n",
      "50/50 [==============================] - 39s 785ms/step - loss: 0.0124 - acc: 0.9969 - val_loss: 0.1396 - val_acc: 0.9709\n",
      "Epoch 100/100\n",
      "50/50 [==============================] - 39s 784ms/step - loss: 0.0263 - acc: 0.9947 - val_loss: 0.1490 - val_acc: 0.9644\n"
     ]
    }
   ],
   "source": [
    "history = model.fit_generator(\n",
    "        train_generator,\n",
    "        steps_per_epoch=50,\n",
    "        epochs=100,\n",
    "        validation_data=validation_generator,\n",
    "        validation_steps=50)"
   ]
  },
  {
   "cell_type": "code",
   "execution_count": 13,
   "metadata": {},
   "outputs": [],
   "source": [
    "model.save('number_painting3.h5')"
   ]
  },
  {
   "cell_type": "code",
   "execution_count": 14,
   "metadata": {},
   "outputs": [
    {
     "data": {
      "image/png": "[encoded data removed]",
      "text/plain": [
       "<Figure size 432x288 with 1 Axes>"
      ]
     },
     "metadata": {
      "needs_background": "light"
     },
     "output_type": "display_data"
    }
   ],
   "source": [
    "import matplotlib.pyplot as plt\n",
    "%matplotlib inline\n",
    "acc = history.history['acc']\n",
    "val_acc = history.history['val_acc']\n",
    "loss = history.history['loss']\n",
    "val_loss = history.history['val_loss']\n",
    "\n",
    "epochs = range(1, len(acc) + 1)\n",
    "\n",
    "plt.plot(epochs,loss,'bo',label='Training loss')\n",
    "plt.plot(epochs,val_loss,'b',label='Validation loss')\n",
    "plt.title('Training and validation loss')\n",
    "plt.legend()\n",
    "\n",
    "plt.show()"
   ]
  },
  {
   "cell_type": "code",
   "execution_count": 15,
   "metadata": {},
   "outputs": [
    {
     "data": {
      "image/png": "[encoded data removed]",
      "text/plain": [
       "<Figure size 432x288 with 1 Axes>"
      ]
     },
     "metadata": {
      "needs_background": "light"
     },
     "output_type": "display_data"
    }
   ],
   "source": [
    "acc = history.history['acc']\n",
    "val_acc = history.history['val_acc']\n",
    "loss = history.history['loss']\n",
    "val_loss = history.history['val_loss']\n",
    "\n",
    "epochs = range(1, len(acc) + 1)\n",
    "\n",
    "plt.plot(epochs,acc,'bo',label='Training acc')\n",
    "plt.plot(epochs,val_acc,'b',label='Validation acc')\n",
    "plt.title('Training and validation acc')\n",
    "plt.legend()\n",
    "\n",
    "plt.show()"
   ]
  },
  {
   "cell_type": "code",
   "execution_count": 16,
   "metadata": {},
   "outputs": [
    {
     "ename": "OSError",
     "evalue": "Unable to open file (unable to open file: name = 'number_painting.h5', errno = 2, error message = 'No such file or directory', flags = 0, o_flags = 0)",
     "output_type": "error",
     "traceback": [
      "\u001b[1;31m---------------------------------------------------------------------------\u001b[0m",
      "\u001b[1;31mOSError\u001b[0m                                   Traceback (most recent call last)",
      "\u001b[1;32m<ipython-input-16-a7585574dcc6>\u001b[0m in \u001b[0;36m<module>\u001b[1;34m\u001b[0m\n\u001b[0;32m      8\u001b[0m \u001b[1;32mfrom\u001b[0m \u001b[0mkeras\u001b[0m \u001b[1;32mimport\u001b[0m \u001b[0mbackend\u001b[0m \u001b[1;32mas\u001b[0m \u001b[0mK\u001b[0m\u001b[1;33m\u001b[0m\u001b[1;33m\u001b[0m\u001b[0m\n\u001b[0;32m      9\u001b[0m \u001b[1;32mfrom\u001b[0m \u001b[0mkeras\u001b[0m\u001b[1;33m.\u001b[0m\u001b[0mmodels\u001b[0m \u001b[1;32mimport\u001b[0m \u001b[0mload_model\u001b[0m\u001b[1;33m\u001b[0m\u001b[1;33m\u001b[0m\u001b[0m\n\u001b[1;32m---> 10\u001b[1;33m \u001b[0mmodel\u001b[0m \u001b[1;33m=\u001b[0m \u001b[0mload_model\u001b[0m\u001b[1;33m(\u001b[0m\u001b[1;34m'number_painting.h5'\u001b[0m\u001b[1;33m)\u001b[0m\u001b[1;33m\u001b[0m\u001b[1;33m\u001b[0m\u001b[0m\n\u001b[0m\u001b[0;32m     11\u001b[0m \u001b[1;33m\u001b[0m\u001b[0m\n\u001b[0;32m     12\u001b[0m test_generator = test_datagen.flow_from_directory(test_dir, #타깃 디렉터리\n",
      "\u001b[1;32m~\\Anaconda3\\envs\\AI\\lib\\site-packages\\keras-2.2.5-py3.7.egg\\keras\\engine\\saving.py\u001b[0m in \u001b[0;36mload_wrapper\u001b[1;34m(*args, **kwargs)\u001b[0m\n\u001b[0;32m    456\u001b[0m                 \u001b[0mos\u001b[0m\u001b[1;33m.\u001b[0m\u001b[0mremove\u001b[0m\u001b[1;33m(\u001b[0m\u001b[0mtmp_filepath\u001b[0m\u001b[1;33m)\u001b[0m\u001b[1;33m\u001b[0m\u001b[1;33m\u001b[0m\u001b[0m\n\u001b[0;32m    457\u001b[0m             \u001b[1;32mreturn\u001b[0m \u001b[0mres\u001b[0m\u001b[1;33m\u001b[0m\u001b[1;33m\u001b[0m\u001b[0m\n\u001b[1;32m--> 458\u001b[1;33m         \u001b[1;32mreturn\u001b[0m \u001b[0mload_function\u001b[0m\u001b[1;33m(\u001b[0m\u001b[1;33m*\u001b[0m\u001b[0margs\u001b[0m\u001b[1;33m,\u001b[0m \u001b[1;33m**\u001b[0m\u001b[0mkwargs\u001b[0m\u001b[1;33m)\u001b[0m\u001b[1;33m\u001b[0m\u001b[1;33m\u001b[0m\u001b[0m\n\u001b[0m\u001b[0;32m    459\u001b[0m \u001b[1;33m\u001b[0m\u001b[0m\n\u001b[0;32m    460\u001b[0m     \u001b[1;32mreturn\u001b[0m \u001b[0mload_wrapper\u001b[0m\u001b[1;33m\u001b[0m\u001b[1;33m\u001b[0m\u001b[0m\n",
      "\u001b[1;32m~\\Anaconda3\\envs\\AI\\lib\\site-packages\\keras-2.2.5-py3.7.egg\\keras\\engine\\saving.py\u001b[0m in \u001b[0;36mload_model\u001b[1;34m(filepath, custom_objects, compile)\u001b[0m\n\u001b[0;32m    547\u001b[0m \u001b[1;33m\u001b[0m\u001b[0m\n\u001b[0;32m    548\u001b[0m     \u001b[1;32mif\u001b[0m \u001b[0mH5Dict\u001b[0m\u001b[1;33m.\u001b[0m\u001b[0mis_supported_type\u001b[0m\u001b[1;33m(\u001b[0m\u001b[0mfilepath\u001b[0m\u001b[1;33m)\u001b[0m\u001b[1;33m:\u001b[0m\u001b[1;33m\u001b[0m\u001b[1;33m\u001b[0m\u001b[0m\n\u001b[1;32m--> 549\u001b[1;33m         \u001b[1;32mwith\u001b[0m \u001b[0mH5Dict\u001b[0m\u001b[1;33m(\u001b[0m\u001b[0mfilepath\u001b[0m\u001b[1;33m,\u001b[0m \u001b[0mmode\u001b[0m\u001b[1;33m=\u001b[0m\u001b[1;34m'r'\u001b[0m\u001b[1;33m)\u001b[0m \u001b[1;32mas\u001b[0m \u001b[0mh5dict\u001b[0m\u001b[1;33m:\u001b[0m\u001b[1;33m\u001b[0m\u001b[1;33m\u001b[0m\u001b[0m\n\u001b[0m\u001b[0;32m    550\u001b[0m             \u001b[0mmodel\u001b[0m \u001b[1;33m=\u001b[0m \u001b[0m_deserialize_model\u001b[0m\u001b[1;33m(\u001b[0m\u001b[0mh5dict\u001b[0m\u001b[1;33m,\u001b[0m \u001b[0mcustom_objects\u001b[0m\u001b[1;33m,\u001b[0m \u001b[0mcompile\u001b[0m\u001b[1;33m)\u001b[0m\u001b[1;33m\u001b[0m\u001b[1;33m\u001b[0m\u001b[0m\n\u001b[0;32m    551\u001b[0m     \u001b[1;32melif\u001b[0m \u001b[0mhasattr\u001b[0m\u001b[1;33m(\u001b[0m\u001b[0mfilepath\u001b[0m\u001b[1;33m,\u001b[0m \u001b[1;34m'write'\u001b[0m\u001b[1;33m)\u001b[0m \u001b[1;32mand\u001b[0m \u001b[0mcallable\u001b[0m\u001b[1;33m(\u001b[0m\u001b[0mfilepath\u001b[0m\u001b[1;33m.\u001b[0m\u001b[0mwrite\u001b[0m\u001b[1;33m)\u001b[0m\u001b[1;33m:\u001b[0m\u001b[1;33m\u001b[0m\u001b[1;33m\u001b[0m\u001b[0m\n",
      "\u001b[1;32m~\\Anaconda3\\envs\\AI\\lib\\site-packages\\keras-2.2.5-py3.7.egg\\keras\\utils\\io_utils.py\u001b[0m in \u001b[0;36m__init__\u001b[1;34m(self, path, mode)\u001b[0m\n\u001b[0;32m    189\u001b[0m             \u001b[0mself\u001b[0m\u001b[1;33m.\u001b[0m\u001b[0m_is_file\u001b[0m \u001b[1;33m=\u001b[0m \u001b[1;32mFalse\u001b[0m\u001b[1;33m\u001b[0m\u001b[1;33m\u001b[0m\u001b[0m\n\u001b[0;32m    190\u001b[0m         \u001b[1;32melif\u001b[0m \u001b[0misinstance\u001b[0m\u001b[1;33m(\u001b[0m\u001b[0mpath\u001b[0m\u001b[1;33m,\u001b[0m \u001b[0msix\u001b[0m\u001b[1;33m.\u001b[0m\u001b[0mstring_types\u001b[0m\u001b[1;33m)\u001b[0m \u001b[1;32mor\u001b[0m \u001b[0m_is_path_instance\u001b[0m\u001b[1;33m(\u001b[0m\u001b[0mpath\u001b[0m\u001b[1;33m)\u001b[0m\u001b[1;33m:\u001b[0m\u001b[1;33m\u001b[0m\u001b[1;33m\u001b[0m\u001b[0m\n\u001b[1;32m--> 191\u001b[1;33m             \u001b[0mself\u001b[0m\u001b[1;33m.\u001b[0m\u001b[0mdata\u001b[0m \u001b[1;33m=\u001b[0m \u001b[0mh5py\u001b[0m\u001b[1;33m.\u001b[0m\u001b[0mFile\u001b[0m\u001b[1;33m(\u001b[0m\u001b[0mpath\u001b[0m\u001b[1;33m,\u001b[0m \u001b[0mmode\u001b[0m\u001b[1;33m=\u001b[0m\u001b[0mmode\u001b[0m\u001b[1;33m)\u001b[0m\u001b[1;33m\u001b[0m\u001b[1;33m\u001b[0m\u001b[0m\n\u001b[0m\u001b[0;32m    192\u001b[0m             \u001b[0mself\u001b[0m\u001b[1;33m.\u001b[0m\u001b[0m_is_file\u001b[0m \u001b[1;33m=\u001b[0m \u001b[1;32mTrue\u001b[0m\u001b[1;33m\u001b[0m\u001b[1;33m\u001b[0m\u001b[0m\n\u001b[0;32m    193\u001b[0m         \u001b[1;32melif\u001b[0m \u001b[0misinstance\u001b[0m\u001b[1;33m(\u001b[0m\u001b[0mpath\u001b[0m\u001b[1;33m,\u001b[0m \u001b[0mdict\u001b[0m\u001b[1;33m)\u001b[0m\u001b[1;33m:\u001b[0m\u001b[1;33m\u001b[0m\u001b[1;33m\u001b[0m\u001b[0m\n",
      "\u001b[1;32m~\\Anaconda3\\envs\\AI\\lib\\site-packages\\h5py\\_hl\\files.py\u001b[0m in \u001b[0;36m__init__\u001b[1;34m(self, name, mode, driver, libver, userblock_size, swmr, rdcc_nslots, rdcc_nbytes, rdcc_w0, track_order, **kwds)\u001b[0m\n\u001b[0;32m    392\u001b[0m                 fid = make_fid(name, mode, userblock_size,\n\u001b[0;32m    393\u001b[0m                                \u001b[0mfapl\u001b[0m\u001b[1;33m,\u001b[0m \u001b[0mfcpl\u001b[0m\u001b[1;33m=\u001b[0m\u001b[0mmake_fcpl\u001b[0m\u001b[1;33m(\u001b[0m\u001b[0mtrack_order\u001b[0m\u001b[1;33m=\u001b[0m\u001b[0mtrack_order\u001b[0m\u001b[1;33m)\u001b[0m\u001b[1;33m,\u001b[0m\u001b[1;33m\u001b[0m\u001b[1;33m\u001b[0m\u001b[0m\n\u001b[1;32m--> 394\u001b[1;33m                                swmr=swmr)\n\u001b[0m\u001b[0;32m    395\u001b[0m \u001b[1;33m\u001b[0m\u001b[0m\n\u001b[0;32m    396\u001b[0m             \u001b[1;32mif\u001b[0m \u001b[0mswmr_support\u001b[0m\u001b[1;33m:\u001b[0m\u001b[1;33m\u001b[0m\u001b[1;33m\u001b[0m\u001b[0m\n",
      "\u001b[1;32m~\\Anaconda3\\envs\\AI\\lib\\site-packages\\h5py\\_hl\\files.py\u001b[0m in \u001b[0;36mmake_fid\u001b[1;34m(name, mode, userblock_size, fapl, fcpl, swmr)\u001b[0m\n\u001b[0;32m    168\u001b[0m         \u001b[1;32mif\u001b[0m \u001b[0mswmr\u001b[0m \u001b[1;32mand\u001b[0m \u001b[0mswmr_support\u001b[0m\u001b[1;33m:\u001b[0m\u001b[1;33m\u001b[0m\u001b[1;33m\u001b[0m\u001b[0m\n\u001b[0;32m    169\u001b[0m             \u001b[0mflags\u001b[0m \u001b[1;33m|=\u001b[0m \u001b[0mh5f\u001b[0m\u001b[1;33m.\u001b[0m\u001b[0mACC_SWMR_READ\u001b[0m\u001b[1;33m\u001b[0m\u001b[1;33m\u001b[0m\u001b[0m\n\u001b[1;32m--> 170\u001b[1;33m         \u001b[0mfid\u001b[0m \u001b[1;33m=\u001b[0m \u001b[0mh5f\u001b[0m\u001b[1;33m.\u001b[0m\u001b[0mopen\u001b[0m\u001b[1;33m(\u001b[0m\u001b[0mname\u001b[0m\u001b[1;33m,\u001b[0m \u001b[0mflags\u001b[0m\u001b[1;33m,\u001b[0m \u001b[0mfapl\u001b[0m\u001b[1;33m=\u001b[0m\u001b[0mfapl\u001b[0m\u001b[1;33m)\u001b[0m\u001b[1;33m\u001b[0m\u001b[1;33m\u001b[0m\u001b[0m\n\u001b[0m\u001b[0;32m    171\u001b[0m     \u001b[1;32melif\u001b[0m \u001b[0mmode\u001b[0m \u001b[1;33m==\u001b[0m \u001b[1;34m'r+'\u001b[0m\u001b[1;33m:\u001b[0m\u001b[1;33m\u001b[0m\u001b[1;33m\u001b[0m\u001b[0m\n\u001b[0;32m    172\u001b[0m         \u001b[0mfid\u001b[0m \u001b[1;33m=\u001b[0m \u001b[0mh5f\u001b[0m\u001b[1;33m.\u001b[0m\u001b[0mopen\u001b[0m\u001b[1;33m(\u001b[0m\u001b[0mname\u001b[0m\u001b[1;33m,\u001b[0m \u001b[0mh5f\u001b[0m\u001b[1;33m.\u001b[0m\u001b[0mACC_RDWR\u001b[0m\u001b[1;33m,\u001b[0m \u001b[0mfapl\u001b[0m\u001b[1;33m=\u001b[0m\u001b[0mfapl\u001b[0m\u001b[1;33m)\u001b[0m\u001b[1;33m\u001b[0m\u001b[1;33m\u001b[0m\u001b[0m\n",
      "\u001b[1;32mh5py\\_objects.pyx\u001b[0m in \u001b[0;36mh5py._objects.with_phil.wrapper\u001b[1;34m()\u001b[0m\n",
      "\u001b[1;32mh5py\\_objects.pyx\u001b[0m in \u001b[0;36mh5py._objects.with_phil.wrapper\u001b[1;34m()\u001b[0m\n",
      "\u001b[1;32mh5py\\h5f.pyx\u001b[0m in \u001b[0;36mh5py.h5f.open\u001b[1;34m()\u001b[0m\n",
      "\u001b[1;31mOSError\u001b[0m: Unable to open file (unable to open file: name = 'number_painting.h5', errno = 2, error message = 'No such file or directory', flags = 0, o_flags = 0)"
     ]
    }
   ],
   "source": [
    "import glob\n",
    "from PIL import Image\n",
    "from keras.preprocessing import image\n",
    "import numpy as np\n",
    "import matplotlib.pyplot as plt\n",
    "%matplotlib inline\n",
    "\n",
    "from keras import backend as K\n",
    "from keras.models import load_model\n",
    "model = load_model('number_painting.h5')\n",
    "\n",
    "test_generator = test_datagen.flow_from_directory(test_dir, #타깃 디렉터리\n",
    "                                                    target_size=(50,50), #모든 이미지 150X150으로 변경\n",
    "                                                    batch_size=32, #\n",
    "                                                    class_mode='categorical')\n",
    "filenames = test_generator.filenames\n",
    "nb_samples = len(filenames)\n",
    "\n",
    "predict = model.predict_generator(test_generator,steps = nb_samples)\n",
    "\n",
    "\n",
    "# img_path='정규화원본/test/0/normalizationSF61527.bmp'\n",
    "# img = image.load_img(img_path,target_size=(50,50))\n",
    "# plt.imshow(img)\n",
    "\n",
    "# x=image.img_to_array(img)\n",
    "# x=np.expand_dims(x,axis=0)\n",
    "# x=x/255.\n",
    "\n",
    "\n",
    "\n",
    "    \n",
    "# prediction =model.predict_classes(x)\n",
    "# #prediction =model.predict(x)\n",
    "# print(prediction)\n",
    "#np.set_printoptions(formatter={'float': lambda x: \"{0:0.3f}\".format(x)})"
   ]
  },
  {
   "cell_type": "code",
   "execution_count": 12,
   "metadata": {},
   "outputs": [
    {
     "name": "stdout",
     "output_type": "stream",
     "text": [
      "[[1.4805024e-12 1.1785224e-07 6.3136611e-09 ... 2.8993970e-08\n",
      "  9.0014958e-04 9.9857461e-01]\n",
      " [1.9701421e-20 1.5478572e-13 1.1277125e-08 ... 7.4333890e-14\n",
      "  2.8034918e-13 2.0277668e-09]\n",
      " [2.1695259e-08 1.2088515e-10 9.9999952e-01 ... 3.1641762e-12\n",
      "  8.7501579e-09 9.3021780e-12]\n",
      " ...\n",
      " [1.1762357e-08 6.4647296e-09 9.8120683e-01 ... 5.0785470e-15\n",
      "  1.4821206e-02 1.2623608e-10]\n",
      " [1.9819144e-12 4.4178825e-09 8.0529509e-07 ... 2.5734730e-18\n",
      "  3.7482283e-07 1.5394195e-14]\n",
      " [9.9963963e-01 2.8910181e-05 3.3125063e-04 ... 1.5962215e-07\n",
      "  1.7784911e-08 6.5505856e-12]]\n"
     ]
    }
   ],
   "source": [
    "print(predict)"
   ]
  },
  {
   "cell_type": "code",
   "execution_count": 18,
   "metadata": {},
   "outputs": [
    {
     "name": "stdout",
     "output_type": "stream",
     "text": [
      "Found 16000 images belonging to 10 classes.\n",
      "500/500 [==============================] - 45s 90ms/step\n"
     ]
    }
   ],
   "source": [
    "test_generator = test_datagen.flow_from_directory(test_dir, #타깃 디렉터리\n",
    "                                                    target_size=(70,70), #모든 이미지 150X150으로 변경\n",
    "                                                    batch_size=32, #\n",
    "                                                    class_mode='categorical')\n",
    "score=model.evaluate(test_generator)"
   ]
  },
  {
   "cell_type": "code",
   "execution_count": 19,
   "metadata": {},
   "outputs": [
    {
     "name": "stdout",
     "output_type": "stream",
     "text": [
      "[0.11039010291048544, 0.976]\n"
     ]
    }
   ],
   "source": [
    "print(score)"
   ]
  },
  {
   "cell_type": "code",
   "execution_count": null,
   "metadata": {},
   "outputs": [],
   "source": []
  }
 ],
 "metadata": {
  "kernelspec": {
   "display_name": "Python 3",
   "language": "python",
   "name": "python3"
  },
  "language_info": {
   "codemirror_mode": {
    "name": "ipython",
    "version": 3
   },
   "file_extension": ".py",
   "mimetype": "text/x-python",
   "name": "python",
   "nbconvert_exporter": "python",
   "pygments_lexer": "ipython3",
   "version": "3.7.4"
  }
 },
 "nbformat": 4,
 "nbformat_minor": 2
}
