{
 "cells": [
  {
   "cell_type": "code",
   "execution_count": 1,
   "metadata": {},
   "outputs": [],
   "source": [
    "from sklearn import linear_model # scitkit learn 모듈 내 linear_model 을 불러옴\n",
    "\n",
    "import numpy as np # numpy 모듈을 np로 이름 변경\n",
    "#파이썬 언어를 위한 행렬, 벡터 등의 수학 계산을 위한 자료구조와 계산 함수를 제공하는 패키지\n",
    "\n",
    "import pandas as pd # pandas 모듈을 pd로 이름 변경\n",
    "#데이터 분석, 가공, 처리 등을 쉽게 하기 위한 자료구조와 처리 함수들을 제공하는 패키지\n",
    "\n",
    "import matplotlib\n",
    "#플롯(그래프)를 그릴 때 주로 쓰이는 2D,3D 플롯팅 패키지\n",
    "\n",
    "import matplotlib.pyplot as plt\n",
    "#matplotlib의 서브 패키지로 Matlab 처럼 플롯을 그려주는 패키지\n",
    "\n",
    "from sklearn.metrics import mean_squared_error\n",
    "#sklearn 패키지에서 제공하는 MSE를 구하기 위한 모듈\n",
    "\n",
    "%matplotlib inline \n",
    "# matplotlib의 시각화 결과를 ipython notebook 내에서 출력하게 하는 함수\n",
    "matplotlib.style.use('ggplot') #matplotlib 패키지에서 제공하는 스타일 중 ggplot 을 지정"
   ]
  },
  {
   "cell_type": "code",
   "execution_count": 2,
   "metadata": {},
   "outputs": [
    {
     "data": {
      "text/html": [
       "<div>\n",
       "<style scoped>\n",
       "    .dataframe tbody tr th:only-of-type {\n",
       "        vertical-align: middle;\n",
       "    }\n",
       "\n",
       "    .dataframe tbody tr th {\n",
       "        vertical-align: top;\n",
       "    }\n",
       "\n",
       "    .dataframe thead th {\n",
       "        text-align: right;\n",
       "    }\n",
       "</style>\n",
       "<table border=\"1\" class=\"dataframe\">\n",
       "  <thead>\n",
       "    <tr style=\"text-align: right;\">\n",
       "      <th></th>\n",
       "      <th>x1</th>\n",
       "      <th>x2</th>\n",
       "      <th>y</th>\n",
       "    </tr>\n",
       "  </thead>\n",
       "  <tbody>\n",
       "    <tr>\n",
       "      <th>0</th>\n",
       "      <td>13</td>\n",
       "      <td>9</td>\n",
       "      <td>20</td>\n",
       "    </tr>\n",
       "    <tr>\n",
       "      <th>1</th>\n",
       "      <td>18</td>\n",
       "      <td>7</td>\n",
       "      <td>22</td>\n",
       "    </tr>\n",
       "    <tr>\n",
       "      <th>2</th>\n",
       "      <td>17</td>\n",
       "      <td>17</td>\n",
       "      <td>30</td>\n",
       "    </tr>\n",
       "    <tr>\n",
       "      <th>3</th>\n",
       "      <td>20</td>\n",
       "      <td>11</td>\n",
       "      <td>27</td>\n",
       "    </tr>\n",
       "    <tr>\n",
       "      <th>4</th>\n",
       "      <td>22</td>\n",
       "      <td>8</td>\n",
       "      <td>35</td>\n",
       "    </tr>\n",
       "    <tr>\n",
       "      <th>5</th>\n",
       "      <td>21</td>\n",
       "      <td>10</td>\n",
       "      <td>32</td>\n",
       "    </tr>\n",
       "  </tbody>\n",
       "</table>\n",
       "</div>"
      ],
      "text/plain": [
       "   x1  x2   y\n",
       "0  13   9  20\n",
       "1  18   7  22\n",
       "2  17  17  30\n",
       "3  20  11  27\n",
       "4  22   8  35\n",
       "5  21  10  32"
      ]
     },
     "execution_count": 2,
     "metadata": {},
     "output_type": "execute_result"
    }
   ],
   "source": [
    "data = {'x1' : [13, 18, 17, 20, 22, 21],\n",
    "        'x2' : [9, 7, 17, 11, 8, 10],\n",
    "        'y' :  [20, 22, 30, 27, 35, 32]}\n",
    "# data set 생성\n",
    "\n",
    "data=pd.DataFrame(data) # 컬럼 데이터 x를 pandas dataframe으로 적용함\n",
    "X = data[['x1','x2']]\n",
    "y = data['y']\n",
    "\n",
    "data"
   ]
  },
  {
   "cell_type": "code",
   "execution_count": 3,
   "metadata": {},
   "outputs": [
    {
     "name": "stdout",
     "output_type": "stream",
     "text": [
      "a value =  -7.35920177383591\n",
      "b value =  [1.5443459  0.62472284]\n"
     ]
    }
   ],
   "source": [
    "linear_regression = linear_model.LinearRegression() #선형회귀분석 모델을 저장\n",
    "linear_regression.fit(X=pd.DataFrame(X), y=y) # X와 y를 선형회귀분석 모델에 학습시킴\n",
    "prediction = linear_regression.predict(X=pd.DataFrame(X)) #X값에 따른 새로운 값을 예측하여 저장\n",
    "print('a value = ', linear_regression.intercept_)#선형회귀분석식의 a계수 출력\n",
    "print('b value = ', linear_regression.coef_)#선형회귀분석식의 b계수 출력\n",
    "\n",
    "# y= a + bX1 + bX2 + e\n",
    "\n",
    "#y는 특정 관측치(예상값)에 대한 종속변수의 실제값\n",
    "#X는 이미 알려진 독립변수의 값\n",
    "#a는 X값이 변해도 Y값에는 영향을 주지 않는 회귀 계수\n",
    "#b는 X의 영향력을 크기와 부호로 나타내 주는 회귀 계수, 독립변수X의 기울기\n",
    "#e는 특정 관측치(예상값)과 실제값의 오차항"
   ]
  },
  {
   "cell_type": "code",
   "execution_count": 4,
   "metadata": {},
   "outputs": [
    {
     "data": {
      "text/plain": [
       "count    6.000000e+00\n",
       "mean    -4.144833e-15\n",
       "std      2.622371e+00\n",
       "min     -3.399667e+00\n",
       "25%     -1.987805e+00\n",
       "50%      5.828714e-01\n",
       "75%      1.415327e+00\n",
       "max      3.385809e+00\n",
       "Name: y, dtype: float64"
      ]
     },
     "execution_count": 4,
     "metadata": {},
     "output_type": "execute_result"
    }
   ],
   "source": [
    "residuals = y - prediction # 실제 값에서 예측값을 뺀 잔차값을 저장\n",
    "residuals.describe() #잔차값들의 통계를 요약"
   ]
  },
  {
   "cell_type": "code",
   "execution_count": 6,
   "metadata": {},
   "outputs": [
    {
     "name": "stdout",
     "output_type": "stream",
     "text": [
      "R_sqiared =  0.7969440176685232\n"
     ]
    }
   ],
   "source": [
    "SSE = (residuals**2).sum()\n",
    "SST = ((y-y.mean())**2).sum()\n",
    "R_squared = 1 - (SSE/SST)\n",
    "print('R_sqiared = ', R_squared)#R의 제곱 즉 결정계수 제곱근 (1에 가까울수록 실제값을 예측하는 정확성 높아짐)\n",
    "\n",
    "#numpy.sum()\n",
    "#numpy.mean()\n",
    "\n",
    "#SSE = 오차 제곱 합 (각 오차(실제값-예측값)의 제곱들의 합), 즉 실제값과 예측값이 어느정도 오차가 있는지의 정도\n",
    "#SST = (실제값-실제평균값)의 제곱 합, 즉 실제값들이 실제평균으로부터 흩어진 정도\n",
    "#SSR = (예측치-실제평균값)의 제곱 합, 즉 예측값들이 실제평균으로부터 흩어진 정도\n",
    "#결정계수 R^2 = SSR/SST = 1 - (SSE/SST) "
   ]
  },
  {
   "cell_type": "code",
   "execution_count": 7,
   "metadata": {},
   "outputs": [
    {
     "name": "stdout",
     "output_type": "stream",
     "text": [
      "score =  0.7969440176685232\n",
      "Mean_squared_Error =  5.730691056910565\n",
      "RMSE =  2.393886182948255\n"
     ]
    }
   ],
   "source": [
    "#from sklearn.metrics import mean_squared_error\n",
    "print('score = ', linear_regression.score(X=pd.DataFrame(X),y=y))\n",
    "#2차원 X의 dataFrame 형태와 y로 지정하여 학습한 모델을 통해 성능 평가(결정계수)\n",
    "print('Mean_squared_Error = ', mean_squared_error(prediction, y))\n",
    "#학습한 모델을 통해 나온 예측값과 실제값의 평균제곱오차을 구함 \n",
    "print('RMSE = ', mean_squared_error(prediction, y)**0.5)\n",
    "#MSE를 루트 적용한 값 RMSE"
   ]
  },
  {
   "cell_type": "code",
   "execution_count": null,
   "metadata": {},
   "outputs": [],
   "source": []
  }
 ],
 "metadata": {
  "kernelspec": {
   "display_name": "Python 3",
   "language": "python",
   "name": "python3"
  },
  "language_info": {
   "codemirror_mode": {
    "name": "ipython",
    "version": 3
   },
   "file_extension": ".py",
   "mimetype": "text/x-python",
   "name": "python",
   "nbconvert_exporter": "python",
   "pygments_lexer": "ipython3",
   "version": "3.7.3"
  }
 },
 "nbformat": 4,
 "nbformat_minor": 2
}
