{
 "cells": [
  {
   "cell_type": "code",
   "execution_count": 15,
   "metadata": {},
   "outputs": [],
   "source": [
    "from sklearn import linear_model # scitkit learn 모듈 내 linear_model 을 불러옴\n",
    "\n",
    "import numpy as np # numpy 모듈을 np로 이름 변경\n",
    "#파이썬 언어를 위한 행렬, 벡터 등의 수학 계산을 위한 자료구조와 계산 함수를 제공하는 패키지\n",
    "\n",
    "import pandas as pd # pandas 모듈을 pd로 이름 변경\n",
    "#데이터 분석, 가공, 처리 등을 쉽게 하기 위한 자료구조와 처리 함수들을 제공하는 패키지\n",
    "\n",
    "import matplotlib\n",
    "#플롯(그래프)를 그릴 때 주로 쓰이는 2D,3D 플롯팅 패키지\n",
    "\n",
    "import matplotlib.pyplot as plt\n",
    "#matplotlib의 서브 패키지로 Matlab 처럼 플롯을 그려주는 패키지\n",
    "\n",
    "from sklearn.metrics import mean_squared_error\n",
    "#sklearn 패키지에서 제공하는 MSE를 구하기 위한 모듈\n",
    "\n",
    "%matplotlib inline \n",
    "# matplotlib의 시각화 결과를 ipython notebook 내에서 출력하게 하는 함수\n",
    "matplotlib.style.use('ggplot') #matplotlib 패키지에서 제공하는 스타일 중 ggplot 을 지정"
   ]
  },
  {
   "cell_type": "code",
   "execution_count": 16,
   "metadata": {},
   "outputs": [
    {
     "data": {
      "text/html": [
       "<div>\n",
       "<style scoped>\n",
       "    .dataframe tbody tr th:only-of-type {\n",
       "        vertical-align: middle;\n",
       "    }\n",
       "\n",
       "    .dataframe tbody tr th {\n",
       "        vertical-align: top;\n",
       "    }\n",
       "\n",
       "    .dataframe thead th {\n",
       "        text-align: right;\n",
       "    }\n",
       "</style>\n",
       "<table border=\"1\" class=\"dataframe\">\n",
       "  <thead>\n",
       "    <tr style=\"text-align: right;\">\n",
       "      <th></th>\n",
       "      <th>x</th>\n",
       "      <th>y</th>\n",
       "    </tr>\n",
       "  </thead>\n",
       "  <tbody>\n",
       "    <tr>\n",
       "      <th>0</th>\n",
       "      <td>13</td>\n",
       "      <td>40</td>\n",
       "    </tr>\n",
       "    <tr>\n",
       "      <th>1</th>\n",
       "      <td>19</td>\n",
       "      <td>83</td>\n",
       "    </tr>\n",
       "    <tr>\n",
       "      <th>2</th>\n",
       "      <td>16</td>\n",
       "      <td>62</td>\n",
       "    </tr>\n",
       "    <tr>\n",
       "      <th>3</th>\n",
       "      <td>14</td>\n",
       "      <td>48</td>\n",
       "    </tr>\n",
       "    <tr>\n",
       "      <th>4</th>\n",
       "      <td>15</td>\n",
       "      <td>58</td>\n",
       "    </tr>\n",
       "    <tr>\n",
       "      <th>5</th>\n",
       "      <td>14</td>\n",
       "      <td>43</td>\n",
       "    </tr>\n",
       "  </tbody>\n",
       "</table>\n",
       "</div>"
      ],
      "text/plain": [
       "    x   y\n",
       "0  13  40\n",
       "1  19  83\n",
       "2  16  62\n",
       "3  14  48\n",
       "4  15  58\n",
       "5  14  43"
      ]
     },
     "execution_count": 16,
     "metadata": {},
     "output_type": "execute_result"
    }
   ],
   "source": [
    "# 데이터 만들기\n",
    "data = { 'x' : [13, 19, 16, 14, 15, 14],\n",
    "         'y' : [40, 83, 62, 48, 58, 43]}\n",
    "# 리스트형식 데이터\n",
    "\n",
    "data = pd.DataFrame(data)\n",
    "#pandas.DataFrame() => 2차원의 수정 가능한 테이블 형태의 데이터 구조로 만드는 함수\n",
    "data"
   ]
  },
  {
   "cell_type": "code",
   "execution_count": 17,
   "metadata": {},
   "outputs": [
    {
     "data": {
      "text/plain": [
       "<matplotlib.axes._subplots.AxesSubplot at 0x1498518c5c0>"
      ]
     },
     "execution_count": 17,
     "metadata": {},
     "output_type": "execute_result"
    },
    {
     "data": {
      "image/png": "[encoded data removed]",
      "text/plain": [
       "<Figure size 360x360 with 1 Axes>"
      ]
     },
     "metadata": {},
     "output_type": "display_data"
    }
   ],
   "source": [
    "# 산점도로 나타내기\n",
    "data.plot(kind=\"scatter\", x='x', y='y', figsize=(5,5), color=\"blue\")\n",
    "#pyplot.plot() \n",
    "#kind => 산점도 혹은 기본 선 외 여러가지 플롯 스타일 입력 가능 pie, bar 등등\n",
    "#x,y => 한 열을 다른 열에 대해 플롯 하기 위해 사용( x=, y=입력 안해도 x,y 자리에 맞춰 그림)\n",
    "#figsize => 플롯의 크기 조정\n",
    "#color => 원하는 색상을 입력하여 조정"
   ]
  },
  {
   "cell_type": "code",
   "execution_count": 18,
   "metadata": {},
   "outputs": [
    {
     "name": "stdout",
     "output_type": "stream",
     "text": [
      "a value =  -55.48175182481753\n",
      "b value =  [7.32846715]\n"
     ]
    }
   ],
   "source": [
    "#데이터 학습시키기\n",
    "linear_regression = linear_model.LinearRegression() #선형회귀분석 모델 지정\n",
    "linear_regression.fit(X=pd.DataFrame(data[\"x\"]), y=data[\"y\"]) #선형회귀분석 모델에 맞게 학습하는 함수(단,독립변수 X값은 2차원 형태로 바꾸기위해 pd.DataFrame사용/ 종속변수 y는 기존형태)\n",
    "prediction = linear_regression.predict(X=pd.DataFrame(data[\"x\"])) #학습한 선형회귀분석 모델을 통해 새로운 값을 예측하는 함수 저장\n",
    "print('a value = ',linear_regression.intercept_) #선형회귀분석식의 a계수 출력\n",
    "print('b value = ', linear_regression.coef_) #선형회귀분석식의 b계수 출력\n",
    "\n",
    "# y= a+bX+e\n",
    "\n",
    "#y는 특정 관측치(예상값)에 대한 종속변수의 실제값\n",
    "#X는 이미 알려진 독립변수의 값\n",
    "#a는 X값이 변해도 Y값에는 영향을 주지 않는 회귀 계수\n",
    "#b는 X의 영향력을 크기와 부호로 나타내 주는 회귀 계수, 독립변수X의 기울기\n",
    "#e는 특정 관측치(예상값)과 실제값의 오차항"
   ]
  },
  {
   "cell_type": "code",
   "execution_count": 19,
   "metadata": {},
   "outputs": [
    {
     "data": {
      "text/plain": [
       "count    6.000000e+00\n",
       "mean     5.921189e-15\n",
       "std      2.491445e+00\n",
       "min     -4.116788e+00\n",
       "25%     -5.164234e-01\n",
       "50%      2.189781e-01\n",
       "75%      7.189781e-01\n",
       "max      3.554745e+00\n",
       "Name: y, dtype: float64"
      ]
     },
     "execution_count": 19,
     "metadata": {},
     "output_type": "execute_result"
    }
   ],
   "source": [
    "#적합도 검증\n",
    "residuals = data[\"y\"]-prediction #실제 y값에서 모델을 통해 예측한 y값을 빼 잔차를 저장\n",
    "residuals.describe() #다양한 요약 통계를 생성하는 함수(숫자형인경우 전체개수,평균,표준편차,최대값,최소값,백분위수)\n",
    "#Pandas.DataFrame.describe()\n"
   ]
  },
  {
   "cell_type": "code",
   "execution_count": 20,
   "metadata": {},
   "outputs": [
    {
     "name": "stdout",
     "output_type": "stream",
     "text": [
      "R_squared =  0.9753156179610034\n"
     ]
    }
   ],
   "source": [
    "#적합도 검증\n",
    "SSE = (residuals**2).sum()\n",
    "SST = ( (data[\"y\"]-data[\"y\"].mean() )**2).sum()\n",
    "R_squared = 1-(SSE/SST)\n",
    "print('R_squared = ', R_squared) #R의 제곱 즉 결정계수 제곱근\n",
    "\n",
    "#numpy.sum()\n",
    "#numpy.mean()\n",
    "\n",
    "#SSE = 오차 제곱 합 (각 오차(실제값-예측값)의 제곱들의 합), 즉 실제값과 예측값이 어느정도 오차가 있는지의 정도\n",
    "#SST = (실제값-실제평균값)의 제곱 합, 즉 실제값들이 실제평균으로부터 흩어진 정도\n",
    "#SSR = (예측치-실제평균값)의 제곱 합, 즉 예측값들이 실제평균으로부터 흩어진 정도\n",
    "#결정계수 R^2 = SSR/SST = 1 - (SSE/SST) "
   ]
  },
  {
   "cell_type": "code",
   "execution_count": 21,
   "metadata": {},
   "outputs": [
    {
     "data": {
      "text/plain": [
       "[<matplotlib.lines.Line2D at 0x149850281d0>]"
      ]
     },
     "execution_count": 21,
     "metadata": {},
     "output_type": "execute_result"
    },
    {
     "data": {
      "image/png": "[encoded data removed]",
      "text/plain": [
       "<Figure size 360x360 with 1 Axes>"
      ]
     },
     "metadata": {},
     "output_type": "display_data"
    }
   ],
   "source": [
    "#예측하여 회귀선 나타내기\n",
    "data.plot(kind=\"scatter\", x=\"x\", y=\"y\", figsize=(5,5), color=\"red\")#실제 값 점으로 찍기\n",
    "plt.plot(data[\"x\"], prediction, color=\"blue\")#x값들의 예측값 회귀선 그리기"
   ]
  },
  {
   "cell_type": "code",
   "execution_count": 22,
   "metadata": {},
   "outputs": [
    {
     "name": "stdout",
     "output_type": "stream",
     "text": [
      "score =  0.9753156179610034\n",
      "Mean_squared_Error =  5.172749391727503\n",
      "RMSE =  2.2743679103714736\n"
     ]
    }
   ],
   "source": [
    "#from sklearn.metrics import mean_squared_error\n",
    "print('score = ', linear_regression.score(X=pd.DataFrame(data[\"x\"]),y=data[\"y\"]))\n",
    "#2차원 X의 dataFrame 형태와 y로 지정하여 학습한 모델을 통해 성능 평가(결정계수)\n",
    "print('Mean_squared_Error = ', mean_squared_error(prediction, data['y']))\n",
    "#학습한 모델을 통해 나온 예측값과 실제값의 평균제곱오차을 구함 \n",
    "print('RMSE = ', mean_squared_error(prediction, data['y'])**0.5)\n",
    "#MSE를 루트 적용한 값 RMSE"
   ]
  },
  {
   "cell_type": "code",
   "execution_count": null,
   "metadata": {},
   "outputs": [],
   "source": []
  }
 ],
 "metadata": {
  "kernelspec": {
   "display_name": "Python 3",
   "language": "python",
   "name": "python3"
  },
  "language_info": {
   "codemirror_mode": {
    "name": "ipython",
    "version": 3
   },
   "file_extension": ".py",
   "mimetype": "text/x-python",
   "name": "python",
   "nbconvert_exporter": "python",
   "pygments_lexer": "ipython3",
   "version": "3.7.3"
  }
 },
 "nbformat": 4,
 "nbformat_minor": 2
}
